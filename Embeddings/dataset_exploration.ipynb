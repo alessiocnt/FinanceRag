{
 "cells": [
  {
   "cell_type": "markdown",
   "metadata": {},
   "source": [
    "# EMBEDDINGS"
   ]
  },
  {
   "cell_type": "markdown",
   "metadata": {},
   "source": [
    "The current state-of-the-art approach to natural language understanding is using pre-trained language models by fine-tuning them for specific (downstream) tasks such as question answering or sentiment analysis.We followed that recipe and developed FinBERT as a BERT-based language model with a deeper understanding of financial language and fine-tuned it for sentiment classification\n",
    "\n",
    "[Medium Blog of FinBERT](https://medium.com/prosus-ai-tech-blog/finbert-financial-sentiment-analysis-with-bert-b277a3607101)\n",
    "\n",
    "Praticamente è BERT, pre-trainato ancora però su un dataset finanziario e poi finetunato su un task specifico finanziario con le label per sentiment analysis.\n",
    "\"Bert sa parlare, FinBert sa parlare come un trader\"\n",
    "\n",
    "**Vocabolario**\n",
    "Vocabolario: insieme di tutte le parole o sub-token che il modello riconosce. Ogni parola o sub-token è associato a un ID numerico che il modello utilizza per riferirsi a quella parola.\n",
    "Bert si basa su WordPiece, se una parola non è nel vocabolario, viene suddivisa in sub-token che sono nel vocabolario.\n",
    "\n",
    "Il vocabolario di FinBERT è costruito sulla base del vocabolario di BERT base (con circa 30,000 parole e sub-token), ma con un'aggiunta di termini specifici del dominio finanziario. Che si sono aggiunti con il training sul dataset finanziario."
   ]
  },
  {
   "cell_type": "code",
   "execution_count": 25,
   "metadata": {},
   "outputs": [
    {
     "name": "stderr",
     "output_type": "stream",
     "text": [
      "Some weights of the model checkpoint at yiyanghkust/finbert-pretrain were not used when initializing BertModel: ['cls.seq_relationship.weight', 'cls.predictions.transform.LayerNorm.weight', 'cls.predictions.transform.dense.bias', 'cls.predictions.bias', 'cls.seq_relationship.bias', 'cls.predictions.transform.LayerNorm.bias', 'cls.predictions.transform.dense.weight', 'cls.predictions.decoder.weight']\n",
      "- This IS expected if you are initializing BertModel from the checkpoint of a model trained on another task or with another architecture (e.g. initializing a BertForSequenceClassification model from a BertForPreTraining model).\n",
      "- This IS NOT expected if you are initializing BertModel from the checkpoint of a model that you expect to be exactly identical (initializing a BertForSequenceClassification model from a BertForSequenceClassification model).\n"
     ]
    }
   ],
   "source": [
    "from transformers import AutoTokenizer, AutoModel\n",
    "import torch\n",
    "%load_ext autoreload\n",
    "%autoreload 2\n",
    "\n",
    "# Carica il modello FinBERT\n",
    "tokenizer = AutoTokenizer.from_pretrained(\"yiyanghkust/finbert-pretrain\")\n",
    "model = AutoModel.from_pretrained(\"yiyanghkust/finbert-pretrain\")"
   ]
  },
  {
   "cell_type": "markdown",
   "metadata": {},
   "source": [
    "Il token [CLS] è comunemente usato come rappresentazione aggregata dell'intera sequenza di testo, poiché è stato progettato per \"riassumere\" il significato complessivo della frase/testo.\n",
    "\n",
    "Estrarre il token [CLS] è una pratica standard per ottenere embedding a livello di frase o documento."
   ]
  },
  {
   "cell_type": "code",
   "execution_count": 24,
   "metadata": {},
   "outputs": [],
   "source": [
    "def get_finbert_embedding(model, text):\n",
    "    inputs = tokenizer(text, return_tensors=\"pt\", truncation=True, max_length=512)\n",
    "    with torch.no_grad():\n",
    "        outputs = model(**inputs, output_hidden_states=True)\n",
    "\n",
    "    # prende il CLS dell'ultimo layer\n",
    "    # embedding = outputs.last_hidden_state[:, 0, :].squeeze().numpy()    # (batch_size, seq_length, hidden_size)\n",
    "\n",
    "    # Ottieni gli ultimi 4 hidden states\n",
    "    hidden_states = outputs.hidden_states  # Lista di tensori (1 per ogni layer)\n",
    "    last_4_layers = hidden_states[-4:]     # Ultimi 4 layer\n",
    "    # Calcola la media dei 4 layer\n",
    "    stacked_layers = torch.stack(last_4_layers, dim=0)  # Forma: (4, batch_size, seq_length, hidden_size)\n",
    "    avg_last_4 = torch.mean(stacked_layers, dim=0)      # Forma: (batch_size, seq_length, hidden_size)\n",
    "    # Usa il token [CLS] (primo token) come rappresentazione del testo\n",
    "    embedding = avg_last_4[:, 0, :].squeeze().numpy()   # Forma: (hidden_size,)\n",
    "\n",
    "    return embedding"
   ]
  },
  {
   "cell_type": "markdown",
   "metadata": {},
   "source": [
    "Da quale layer prendere CLS? \n",
    "\n",
    "L'ultimo layer è quello che contiene la rappresentazione più contestualizzata del testo, in quanto incorpora informazioni di alto livello che derivano dai livelli precedenti. Pensando all'architettura dei transformer, ultimo livello vedere con self attention tutti gli altri prima. \n",
    "--> In BERT il vettore [CLS] nel layer finale è stato ottimizzato per compiti come la classificazione del sentiment, l'analisi di relazioni tra frasi, ecc.\n",
    "\n",
    "i layer intermedi possono fornire rappresentazioni migliori, poiché l'ultimo layer potrebbe essere troppo ottimizzato per compiti specifici (ad esempio, classificazione) e meno utile per compiti più generali.\n",
    "In BERT base, i layer 10, 11, 12 (su 12 totali) sono spesso usati per compiti generali."
   ]
  },
  {
   "cell_type": "markdown",
   "metadata": {},
   "source": [
    "Dimensione degli embeddings?\n",
    "\n",
    "hidden_size = 768 (BERT-base architecture)."
   ]
  },
  {
   "cell_type": "code",
   "execution_count": 28,
   "metadata": {},
   "outputs": [
    {
     "data": {
      "text/plain": [
       "array([-8.95898581e-01, -4.08190012e-01, -8.80250216e-01,  1.09812580e-01,\n",
       "        1.86102819e+00, -7.89009571e-01, -4.30659056e-02,  6.72866479e-02,\n",
       "       -1.20873183e-01,  2.02040672e-01,  8.44451070e-01, -1.98883131e-01,\n",
       "        1.08144486e+00,  6.01399004e-01,  5.93838811e-01,  4.51535322e-02,\n",
       "        9.57134843e-01, -3.71081293e-01,  5.04959345e-01, -4.63009059e-01,\n",
       "       -6.47842824e-01,  4.30272043e-01, -2.42120981e-01,  1.98430810e-02,\n",
       "        4.51584458e-01, -3.07340354e-01,  5.65959990e-01,  1.69821024e-01,\n",
       "        1.06975026e-02, -1.59236944e+00, -8.77703503e-02, -1.11272447e-01,\n",
       "        5.85861504e-04,  1.52525938e+00, -2.10227221e-01,  5.04345417e-01,\n",
       "        1.23004764e-01, -4.88566995e-01, -8.44560027e-01, -4.64759648e-01,\n",
       "       -1.32661968e-01,  4.15720940e-01, -8.16631690e-03, -4.54280287e-01,\n",
       "       -3.50854546e-01,  1.58479139e-01, -4.68695641e-01, -8.58201802e-01,\n",
       "        1.47375315e-01, -3.05427492e-01,  2.00828254e-01, -4.70515013e-01,\n",
       "        4.03940260e-01, -1.07745744e-01,  7.79215515e-01, -1.95662469e-01,\n",
       "       -5.10056376e-01,  4.44901019e-01,  4.26392078e-01, -2.37414688e-01,\n",
       "        2.12211937e-01, -2.90034801e-01, -1.95734277e-01,  3.81844372e-01,\n",
       "       -8.06300044e-01, -1.89409226e-01, -1.04393530e+00, -2.12046385e-01,\n",
       "       -1.17651463e+00, -4.92744565e-01,  4.33027804e-01,  1.45966902e-01,\n",
       "        6.98379427e-02,  8.75620067e-01,  7.99529403e-02, -5.63359559e-01,\n",
       "        7.70495772e-01,  7.85313249e-01, -1.03056145e+00, -7.90549994e-01,\n",
       "       -8.16298723e-01,  1.86837256e-01, -2.70843923e-01,  3.07413340e-01,\n",
       "       -8.15878212e-02, -5.17643243e-02,  3.70695233e-01,  2.89930940e-01,\n",
       "       -1.00228584e+00,  2.71678269e-02,  6.19300306e-01,  3.17650825e-01,\n",
       "        8.70416403e-01, -6.65375471e-01,  8.41502070e-01,  6.89030170e-01,\n",
       "        9.87296522e-01,  8.68355989e-01,  2.53864259e-01,  2.57710338e-01,\n",
       "       -1.15437484e+00, -2.26451576e-01, -6.83977902e-01,  7.45948628e-02,\n",
       "        7.69355178e-01, -6.36969864e-01, -2.49848917e-01, -3.82773101e-01,\n",
       "        2.28067964e-01, -1.12891197e+00, -1.18630004e+00,  1.55910039e-02,\n",
       "       -6.00266755e-01,  6.21596277e-01,  1.36383533e-01, -3.93235147e-01,\n",
       "        9.79613900e-01,  2.34541237e-01, -2.00163648e-01,  4.71487015e-01,\n",
       "        2.11923242e-01, -3.22654635e-01, -3.75859290e-01, -6.67074442e-01,\n",
       "       -1.70562959e+00,  7.53828883e-01, -1.15694284e+00,  7.64527440e-01,\n",
       "        1.12223530e+00, -1.33882642e+00,  8.90180945e-01,  8.80126476e-01,\n",
       "       -5.44126749e-01,  8.09559941e-01, -7.00374722e-01, -6.12094939e-01,\n",
       "        1.00285515e-01, -2.44949255e-02,  8.73100519e-01, -6.06461130e-02,\n",
       "       -1.78792965e+00, -2.76308358e-01,  2.92986721e-01,  2.89352357e-01,\n",
       "        5.81366956e-01,  3.59591305e-01, -8.60495508e-01, -8.55099559e-01,\n",
       "       -6.19962513e-01,  1.73357606e+00,  9.49198782e-01,  8.52926612e-01,\n",
       "        4.07839030e-01, -2.79519826e-01,  6.88929498e-01,  7.55125750e-03,\n",
       "        4.96427089e-01, -2.13708505e-01,  3.24395806e-01, -2.90475994e-01,\n",
       "        1.94319040e-01, -4.71974105e-01,  4.15520191e-01,  4.13733363e-01,\n",
       "        2.35564470e-01,  6.80082619e-01,  7.88807750e-01, -1.17712426e+00,\n",
       "       -3.03003669e-01, -5.68620324e-01,  3.10284823e-01, -8.69188666e-01,\n",
       "       -1.16325295e+00,  6.81245625e-01,  1.50890946e-01, -3.53789806e-01,\n",
       "       -3.33332390e-01,  5.17538965e-01,  8.69717717e-01, -5.72494805e-01,\n",
       "       -7.96955824e-01,  8.33077431e-01, -1.54692426e-01,  8.89643073e-01,\n",
       "       -3.25349092e-01,  6.40264690e-01, -1.47466525e-01,  1.39717972e+00,\n",
       "        5.07639885e-01, -1.16058558e-01,  1.74498945e-01,  6.01270914e-01,\n",
       "       -5.07469416e-01, -2.53948629e-01, -7.98864245e-01,  1.25940755e-01,\n",
       "        9.55981135e-01, -1.80734605e-01, -1.26082748e-02, -4.60124373e-01,\n",
       "        6.39767796e-02,  1.43496379e-01,  6.55887246e-01, -9.45838094e-02,\n",
       "       -3.46611142e-01, -8.62599671e-01,  5.22966504e-01,  1.69269472e-01,\n",
       "       -3.16917986e-01, -1.00409627e+00,  2.58219719e-01,  4.56832826e-01,\n",
       "        3.86131704e-01, -1.31101143e-02, -1.42913178e-01, -4.99928832e-01,\n",
       "        6.89660162e-02,  1.06510788e-01, -5.08760452e-01,  2.16505647e-01,\n",
       "        3.70525777e-01, -2.13741995e-02, -3.44105303e-01, -6.75312519e-01,\n",
       "       -7.67224431e-01, -1.24025568e-01, -1.06942701e+00,  7.35759974e-01,\n",
       "        1.45784095e-01, -3.08494717e-01, -5.18051147e-01,  4.53558862e-01,\n",
       "        1.70399576e-01, -1.26506662e+00,  1.51693970e-01,  5.13084233e-03,\n",
       "        3.09776038e-01,  3.25826347e-01,  1.54351369e-01,  1.11930639e-01,\n",
       "       -8.70159984e-01,  2.22195774e-01, -1.15685630e+00,  2.11874366e-01,\n",
       "       -2.10261673e-01,  4.03924227e-01, -9.50929970e-02,  5.49185157e-01,\n",
       "        7.22968161e-01, -4.16328192e-01, -9.74987626e-01, -2.22895652e-01,\n",
       "        6.18748784e-01,  5.67906022e-01,  2.13844150e-01,  6.48457468e-01,\n",
       "        6.02237046e-01,  6.45318151e-01,  5.69896922e-02,  5.37370920e-01,\n",
       "       -7.31705487e-01, -7.48066425e-01, -7.41162673e-02, -5.51481619e-02,\n",
       "        2.11169645e-01, -6.70772493e-01,  4.82256770e-01,  1.53490454e-01,\n",
       "       -2.65212744e-01, -5.56963444e-01, -1.91147864e-01,  1.37534052e-01,\n",
       "       -3.45887035e-01, -5.35194278e-01, -8.99590850e-01,  5.79139233e-01,\n",
       "        4.68504041e-01, -8.02351534e-01, -2.10710049e-01, -1.30271745e+00,\n",
       "       -3.57907951e-01,  6.08787388e-02,  8.08762491e-01,  2.03283161e-01,\n",
       "       -9.85240698e-01, -7.98166990e-01,  1.34201646e-02,  1.73116386e-01,\n",
       "        8.72050896e-02,  3.78472537e-01, -4.73588705e-04,  2.70821959e-01,\n",
       "       -3.22750837e-01,  7.62656987e-01, -2.27324292e-02, -7.20008612e-01,\n",
       "        7.95966625e-01,  3.33712250e-02,  7.30386227e-02, -2.10343868e-01,\n",
       "        2.35554025e-01,  1.94839180e-01, -3.47317666e-01,  9.57872123e-02,\n",
       "       -5.13370514e-01, -1.05008017e-02,  6.71740055e-01,  8.62978101e-01,\n",
       "       -2.03132687e+01, -8.37662876e-01, -4.63499606e-01,  5.33622086e-01,\n",
       "        5.49852848e-01,  6.39543310e-02, -8.84132087e-01, -2.94585764e-01,\n",
       "        9.12688375e-01,  7.34001398e-03, -1.25018001e-01,  2.38940999e-01,\n",
       "       -1.91428110e-01,  2.15134665e-01,  1.01797438e+00, -1.62136212e-01,\n",
       "       -4.43928510e-01, -3.18481982e-01, -3.93908732e-02,  3.33130807e-02,\n",
       "       -5.03581464e-01, -1.50878942e+00, -8.05030823e-01, -9.77813229e-02,\n",
       "       -5.93790412e-03,  4.59899455e-01, -1.38784535e-02,  1.61460268e+00,\n",
       "       -7.33606219e-01, -4.67645556e-01,  5.15536308e-01, -9.91556942e-02,\n",
       "        1.37253881e+00,  6.05261564e-01,  1.23709989e+00, -5.85733533e-01,\n",
       "       -3.36683869e-01, -4.31680351e-01,  3.18998933e-01,  1.02390718e+00,\n",
       "        5.11983037e-01,  3.06628533e-02,  7.00208485e-01, -9.62689936e-01,\n",
       "       -3.59346598e-01, -3.47233802e-01,  1.41665816e+00, -3.75108898e-01,\n",
       "        2.18247354e-01, -4.77378488e-01,  2.87166744e-01,  7.37222314e-01,\n",
       "        1.09040223e-01, -4.50022250e-01,  2.04155564e-01, -9.91637945e-01,\n",
       "        2.29954898e-01,  2.08081603e-01, -6.81979120e-01,  5.02698943e-02,\n",
       "        3.55332673e-01, -1.62187852e-02,  2.70032957e-02, -1.57705203e-01,\n",
       "        3.46087933e-01, -4.97764230e-01, -6.90429211e-01, -2.10273802e-01,\n",
       "       -7.07290173e-01, -2.47387603e-01, -1.69491619e-01,  5.00900865e-01,\n",
       "       -4.34651583e-01,  9.40744504e-02,  5.22456169e-01, -9.37485218e-01,\n",
       "        1.12654734e+00,  1.67847574e-01, -1.07051933e+00,  2.15129018e-01,\n",
       "        1.19007456e+00, -4.79774296e-01, -3.50198150e-01,  1.15504913e-01,\n",
       "        2.85726219e-01,  1.73816991e+00, -9.25278291e-03, -2.02685148e-01,\n",
       "        2.82527089e-01, -2.54728869e-02,  7.78208017e-01, -1.27086306e+00,\n",
       "        7.35293686e-01,  3.10043275e-01,  5.11447370e-01, -2.70627439e-01,\n",
       "       -5.79823494e-01, -7.82486722e-02, -5.20905375e-01,  3.41282219e-01,\n",
       "       -1.03848541e+00, -1.91686749e-01,  7.04556584e-01, -2.66064316e-01,\n",
       "        1.37857959e-01,  5.67028582e-01,  5.40701509e-01,  2.77376324e-01,\n",
       "       -2.74926484e-01,  7.85048246e-01,  7.04350114e-01,  8.19390297e-01,\n",
       "        8.97641122e-01,  1.31084681e-01, -5.22004902e-01, -1.04851532e+00,\n",
       "        6.30857766e-01, -2.98346490e-01, -8.33233953e-01, -3.37359190e-01,\n",
       "       -4.16002095e-01, -6.16441190e-01,  3.66452485e-01, -6.71376958e-02,\n",
       "       -1.30901217e-01, -5.91031194e-01, -2.66676545e-02, -8.04624081e-01,\n",
       "        1.85279280e-01,  9.31298792e-01,  6.07417226e-01,  3.68508548e-01,\n",
       "        6.51764989e-01, -9.64059681e-02,  3.24484289e-01,  1.03716433e+00,\n",
       "        5.39963320e-03, -4.59395617e-01, -1.50708973e-01,  5.79824984e-01,\n",
       "       -5.29002070e-01, -2.46723741e-03,  1.83402389e-01, -3.39414269e-01,\n",
       "        4.13369656e-01, -8.39572623e-02, -9.21672583e-03, -1.86065719e-01,\n",
       "        6.26711011e-01,  1.40946642e-01,  3.09463143e-01, -3.63270819e-01,\n",
       "       -2.70713359e-01,  1.37561619e-01,  7.87690163e-01,  8.61152411e-02,\n",
       "       -1.68180108e-01,  7.48401642e-01,  6.73900127e-01,  7.26660609e-01,\n",
       "        6.62285507e-01,  8.61115217e-01,  3.34922791e-01, -2.52140556e-02,\n",
       "       -9.18443441e-01, -6.76362455e-01,  3.58080417e-02,  4.33198690e-01,\n",
       "        3.07603985e-01, -7.20802665e-01,  1.00777352e+00, -1.43979713e-01,\n",
       "       -9.10293818e-01, -4.44122314e-01,  7.07774818e-01,  2.81202495e-01,\n",
       "        1.05423522e+00,  1.13487506e+00,  1.07365632e+00,  1.12308860e+00,\n",
       "       -1.00642622e+00, -3.75673413e-01,  8.94569576e-01,  1.34749264e-01,\n",
       "       -3.82284641e-01,  1.26032948e+00,  3.72519970e-01, -5.88739872e-01,\n",
       "        1.03888616e+00,  6.45365417e-02, -3.97889674e-01, -4.66389179e-01,\n",
       "       -2.63275921e-01, -1.09217680e+00,  4.78118300e-01, -9.23937380e-01,\n",
       "        7.07838416e-01,  1.99043632e-01,  4.84354943e-02,  1.34426200e+00,\n",
       "       -2.53759116e-01, -2.82730758e-01,  1.64389324e+00,  5.47004223e-01,\n",
       "       -4.73281801e-01,  2.32093222e-02, -6.41034171e-02, -6.66382134e-01,\n",
       "        9.75043178e-02, -7.53336549e-02,  9.40730393e-01,  2.35090375e-01,\n",
       "        4.59636003e-01, -2.42177136e-02,  6.69570148e-01,  1.03191996e+00,\n",
       "        7.98325539e-02,  1.54252023e-01,  7.06091076e-02,  8.55877638e-01,\n",
       "       -3.43707204e-03, -7.19348550e-01, -6.19384706e-01, -5.54375112e-01,\n",
       "        1.29660107e-02, -1.10158336e+00,  1.27727818e+00, -5.02893507e-01,\n",
       "        4.20504808e-01,  1.16919398e+00,  1.21713853e+00,  2.50095725e-01,\n",
       "       -8.41266811e-02,  3.08727026e-01, -7.67998934e-01,  5.06987095e-01,\n",
       "       -1.31674394e-01,  2.60338843e-01,  1.03959255e-01,  5.12457907e-01,\n",
       "        9.62590158e-01, -5.71448982e-01, -2.72730201e-01,  1.47259879e+00,\n",
       "        6.11501038e-02,  5.06464958e-01, -6.44195318e-01, -6.34551197e-02,\n",
       "       -1.88484266e-01,  3.31938386e-01,  2.13442147e-01,  2.88857281e-01,\n",
       "       -1.17648184e+00,  1.55257776e-01, -2.16584504e-01,  1.11219132e+00,\n",
       "        3.45839500e-01,  1.62417114e-01, -3.58066380e-01, -2.67842144e-01,\n",
       "       -6.31549418e-01,  7.63533711e-02, -2.38464162e-01,  4.43919823e-02,\n",
       "        5.46828061e-02, -5.62039435e-01, -2.43631393e-01,  5.81012368e-01,\n",
       "       -5.59756756e-02,  7.48874843e-02, -8.03139150e-01,  7.88049459e-01,\n",
       "       -4.43384141e-01, -1.00231695e+00, -5.88347316e-01,  4.64336783e-01,\n",
       "       -2.87895292e-01, -2.04336137e-01, -1.43326610e-01,  2.14362785e-01,\n",
       "        1.80294603e-01,  1.79732829e-01, -5.11380553e-01, -4.80215788e-01,\n",
       "       -2.03773171e-01, -3.08708817e-01, -1.23269701e+00, -3.20516825e-01,\n",
       "        8.44486728e-02,  2.85224199e-01, -6.00258112e-01, -8.85058403e-01,\n",
       "        1.03302908e+00,  5.87654591e-01,  2.87396759e-02,  5.96563578e-01,\n",
       "       -1.62727463e+00,  6.03777647e-01,  2.64213026e-01,  8.25319529e-01,\n",
       "        4.03855801e-01, -1.45011157e-01,  2.74878442e-01,  1.13957390e-01,\n",
       "       -3.72590810e-01, -5.29781058e-02, -6.26863360e-01, -2.59820282e-01,\n",
       "        4.65367079e-01, -2.01508209e-01, -4.69472930e-02,  1.84343502e-01,\n",
       "        1.06390810e+00,  7.11083174e-01, -1.25199527e-01,  3.50689530e-01,\n",
       "       -2.91324854e-02, -4.73217070e-01, -5.29073954e-01,  1.99552730e-01,\n",
       "        6.95888281e-01, -2.06986144e-02, -5.13834834e-01,  2.63872176e-01,\n",
       "       -7.52928495e-01,  3.52241486e-01, -1.13842994e-01,  5.69728315e-02,\n",
       "       -4.50442284e-02, -1.74501032e-01,  5.67131579e-01,  2.12392896e-01,\n",
       "       -1.33538294e+00, -4.57640104e-02,  3.56672108e-01,  2.93217041e-02,\n",
       "        1.17407888e-01,  3.14412475e-01,  3.61995846e-01, -5.45809984e-01,\n",
       "        7.72051871e-01, -5.58500588e-02,  5.35757363e-01,  3.37586701e-02,\n",
       "       -8.71511400e-02,  4.35523927e-01,  3.96923304e-01,  1.15683347e-01,\n",
       "        2.04483956e-01,  7.41736889e-01,  2.49949872e-01, -1.18415747e-02,\n",
       "       -7.89182246e-01,  4.44771528e-01,  2.01205835e-01, -1.21197224e+00,\n",
       "       -5.42355120e-01,  5.28160334e-01, -7.65716359e-02, -4.71690416e-01,\n",
       "       -7.75474906e-01, -3.74194831e-01,  3.43127787e-01, -3.49358380e-01,\n",
       "        3.23907197e-01,  3.48321825e-01,  5.72094977e-01,  8.26759160e-01,\n",
       "        2.70413935e-01,  5.21154284e-01, -8.83381963e-01,  1.00912952e+00,\n",
       "        9.79867697e-01,  1.15306032e+00,  2.71794051e-01, -7.66175687e-02,\n",
       "        9.53447670e-02,  4.90259916e-01,  7.66692519e-01,  6.47658944e-01,\n",
       "       -1.82699397e-01, -6.27812505e-01,  1.62136078e+00,  1.60214454e-02,\n",
       "        1.25129208e-01,  5.19221544e-01,  2.02597827e-01,  2.04705417e-01,\n",
       "       -5.83119690e-01,  1.58087015e+00, -2.30027229e-01, -4.88078475e-01,\n",
       "       -6.44984916e-02, -6.03180528e-02,  7.55400360e-02, -1.78675067e+00,\n",
       "       -2.63850242e-01, -9.03811157e-01, -2.44062319e-01, -4.93332058e-01,\n",
       "        2.60493159e-01,  2.69362897e-01,  7.85707712e-01, -1.25384319e+00,\n",
       "        6.92169368e-01,  1.62784562e-01,  4.79998350e-01, -5.82498491e-01,\n",
       "       -4.28590536e-01, -8.56903642e-02,  2.14052379e-01, -1.29325128e+00,\n",
       "       -9.15076807e-02, -3.92560601e-01, -5.32054663e-01,  4.90905017e-01,\n",
       "        6.11293554e-01, -7.32826352e-01, -9.24088299e-01,  1.72003910e-01,\n",
       "        4.24933970e-01, -6.56428218e-01, -5.75131178e-01,  1.35814637e-01,\n",
       "        5.21516681e-01,  3.35954010e-01,  3.00599426e-01,  7.91260123e-01,\n",
       "        5.86600780e-01, -5.52783251e-01, -5.80265760e-01,  5.45829386e-02,\n",
       "        5.08158982e-01, -6.47662520e-01, -2.81974018e-01, -1.47728086e-01,\n",
       "       -3.14015150e-01, -7.65931010e-02, -2.90160716e-01,  1.72614425e-01,\n",
       "       -8.43325853e-01,  2.36890286e-01, -8.05039704e-01, -1.18478394e+00,\n",
       "        1.14079610e-01, -5.84461331e-01,  6.80077076e-01,  8.50405037e-01,\n",
       "        6.69479221e-02,  8.93926203e-01,  4.12766635e-02,  2.25494146e-01,\n",
       "        1.59440309e-01, -2.02513874e-01, -4.89867359e-01,  1.08422697e-01,\n",
       "       -4.16651070e-01, -6.62435174e-01,  2.42984474e-01, -1.67374671e-01],\n",
       "      dtype=float32)"
      ]
     },
     "execution_count": 28,
     "metadata": {},
     "output_type": "execute_result"
    }
   ],
   "source": [
    "# Testa con una query\n",
    "query = \"I tassi di interesse influenzeranno il mercato azionario.\"\n",
    "embedding = get_finbert_embedding(model, query)\n",
    "embedding"
   ]
  },
  {
   "cell_type": "markdown",
   "metadata": {},
   "source": [
    "Utilizzo pratico per il nostro dataset"
   ]
  },
  {
   "cell_type": "code",
   "execution_count": 1,
   "metadata": {},
   "outputs": [
    {
     "name": "stdout",
     "output_type": "stream",
     "text": [
      "c:\\Users\\alice\\Desktop\\UNIBO\\2_Anno\\2_semestre\\NLP-torroni\\PW\\FinanceRag\n"
     ]
    }
   ],
   "source": [
    "import os\n",
    "os.chdir(\"..\")  # Torna alla directory principale del progetto\n",
    "current_directory = os.getcwd()\n",
    "print(current_directory)\n",
    "\n",
    "from src.dataset import FinanceRAGDataset"
   ]
  },
  {
   "cell_type": "code",
   "execution_count": 3,
   "metadata": {},
   "outputs": [
    {
     "name": "stdout",
     "output_type": "stream",
     "text": [
      "Available datasets: ['ConvFinQA', 'FinQA', 'MultiHeritt', 'TATQA']\n"
     ]
    }
   ],
   "source": [
    "dataset_manager = FinanceRAGDataset(\"data\")\n",
    "print(\"Available datasets:\", dataset_manager.list_datasets())"
   ]
  },
  {
   "cell_type": "markdown",
   "metadata": {},
   "source": [
    "# ConvFinQA"
   ]
  },
  {
   "cell_type": "markdown",
   "metadata": {},
   "source": [
    "No missing values\n",
    "\n",
    "corpus: 2066 \n",
    "queries: 421 \n",
    "\n",
    "column title is always blank \"\""
   ]
  },
  {
   "cell_type": "code",
   "execution_count": 23,
   "metadata": {},
   "outputs": [
    {
     "name": "stdout",
     "output_type": "stream",
     "text": [
      "Sample corpus entry: {'_id': 'dd4bff516', 'title': '', 'text': 'containerboard , kraft papers and saturating kraft .\\nkapstone also owns victory packaging , a packaging solutions distribution company with facilities in the u.s. , canada and mexico .\\nwe have included the financial results of kapstone in our corrugated packaging segment since the date of the acquisition .\\non september 4 , 2018 , we completed the acquisition ( the 201cschl fcter acquisition 201d ) of schl fcter print pharma packaging ( 201cschl fcter 201d ) .\\nschl fcter is a leading provider of differentiated paper and packaging solutions and a german-based supplier of a full range of leaflets and booklets .\\nthe schl fcter acquisition allowed us to further enhance our pharmaceutical and automotive platform and expand our geographical footprint in europe to better serve our customers .\\nwe have included the financial results of the acquired operations in our consumer packaging segment since the date of the acquisition .\\non january 5 , 2018 , we completed the acquisition ( the 201cplymouth packaging acquisition 201d ) of substantially all of the assets of plymouth packaging , inc .\\n( 201cplymouth 201d ) .\\nthe assets we acquired included plymouth 2019s 201cbox on demand 201d systems , which are manufactured by panotec , an italian manufacturer of packaging machines .\\nthe addition of the box on demand systems enhanced our platform , differentiation and innovation .\\nthese systems , which are located on customers 2019 sites under multi-year exclusive agreements , use fanfold corrugated to produce custom , on-demand corrugated packaging that is accurately sized for any product type according to the customer 2019s specifications .\\nfanfold corrugated is continuous corrugated board , folded periodically to form an accordion-like stack of corrugated material .\\nas part of the transaction , westrock acquired plymouth 2019s equity interest in panotec and plymouth 2019s exclusive right from panotec to distribute panotec 2019s equipment in the u.s .\\nand canada .\\nwe have fully integrated the approximately 60000 tons of containerboard used by plymouth annually .\\nwe have included the financial results of plymouth in our corrugated packaging segment since the date of the acquisition .\\nsee 201cnote 3 .\\nacquisitions and investment 201d of the notes to consolidated financial statements for additional information .\\nsee also item 1a .\\n201crisk factors 2014 we may be unsuccessful in making and integrating mergers , acquisitions and investments , and completing divestitures 201d .\\nbusiness .\\n\\n( in millions ) | year ended september 30 , 2019 | year ended september 30 , 2018\\n--------------- | ------------------------------ | ------------------------------\\nnet sales       | $ 18289.0                      | $ 16285.1                     \\nsegment income  | $ 1790.2                       | $ 1707.6                      \\n\\nin fiscal 2019 , we continued to pursue our strategy of offering differentiated paper and packaging solutions that help our customers win .\\nwe successfully executed this strategy in fiscal 2019 in a rapidly changing cost and price environment .\\nnet sales of $ 18289.0 million for fiscal 2019 increased $ 2003.9 million , or 12.3% ( 12.3 % ) , compared to fiscal 2018 .\\nthe increase was primarily due to the kapstone acquisition and higher selling price/mix in our corrugated packaging and consumer packaging segments .\\nthese increases were partially offset by the absence of recycling net sales in fiscal 2019 as a result of conducting the operations primarily as a procurement function beginning in the first quarter of fiscal 2019 , lower volumes , unfavorable foreign currency impacts across our segments compared to the prior year and decreased land and development net sales .\\nsegment income increased $ 82.6 million in fiscal 2019 compared to fiscal 2018 , primarily due to increased corrugated packaging segment income that was partially offset by lower consumer packaging and land and development segment income .\\nthe impact of the contribution from the acquired kapstone operations , higher selling price/mix across our segments and productivity improvements was largely offset by lower volumes across our segments , economic downtime , cost inflation , increased maintenance and scheduled strategic outage expense ( including projects at our mahrt , al and covington , va mills ) and lower land and development segment income due to the wind-down of sales .\\nwith respect to segment income , we experienced higher levels of cost inflation in both our corrugated packaging and consumer packaging segments during fiscal 2019 as compared to fiscal 2018 that were partially offset by recovered fiber deflation .\\nthe primary inflationary items were virgin fiber , freight , energy and wage and other costs .\\nwe generated $ 2310.2 million of net cash provided by operating activities in fiscal 2019 , compared to $ 1931.2 million in fiscal 2018 .\\nwe remained committed to our disciplined capital allocation strategy during fiscal '}\n",
      "Sample query entry: {'_id': 'qd4982518', 'title': '', 'text': 'what is the price of the s&p 500 index in 2015?'}\n",
      "\n",
      "Corpus DataFrame Info:\n",
      "(2066, 2)\n",
      "\n",
      "Queries DataFrame Info:\n",
      "(421, 2)\n"
     ]
    },
    {
     "data": {
      "text/html": [
       "<div>\n",
       "<style scoped>\n",
       "    .dataframe tbody tr th:only-of-type {\n",
       "        vertical-align: middle;\n",
       "    }\n",
       "\n",
       "    .dataframe tbody tr th {\n",
       "        vertical-align: top;\n",
       "    }\n",
       "\n",
       "    .dataframe thead th {\n",
       "        text-align: right;\n",
       "    }\n",
       "</style>\n",
       "<table border=\"1\" class=\"dataframe\">\n",
       "  <thead>\n",
       "    <tr style=\"text-align: right;\">\n",
       "      <th></th>\n",
       "      <th>_id</th>\n",
       "      <th>text</th>\n",
       "    </tr>\n",
       "  </thead>\n",
       "  <tbody>\n",
       "    <tr>\n",
       "      <th>0</th>\n",
       "      <td>dd4bff516</td>\n",
       "      <td>containerboard , kraft papers and saturating k...</td>\n",
       "    </tr>\n",
       "    <tr>\n",
       "      <th>1</th>\n",
       "      <td>dd4c55cc2</td>\n",
       "      <td>entergy mississippi , inc .\\nmanagement's fina...</td>\n",
       "    </tr>\n",
       "    <tr>\n",
       "      <th>2</th>\n",
       "      <td>dd4c5a718</td>\n",
       "      <td>we have a five year $ 1350 million revolving ,...</td>\n",
       "    </tr>\n",
       "    <tr>\n",
       "      <th>3</th>\n",
       "      <td>dd4be0184</td>\n",
       "      <td>the agreements that govern the indebtedness in...</td>\n",
       "    </tr>\n",
       "    <tr>\n",
       "      <th>4</th>\n",
       "      <td>dd4b93b5e</td>\n",
       "      <td>during 2005 , we amended our $ 1.0 billion uns...</td>\n",
       "    </tr>\n",
       "  </tbody>\n",
       "</table>\n",
       "</div>"
      ],
      "text/plain": [
       "         _id                                               text\n",
       "0  dd4bff516  containerboard , kraft papers and saturating k...\n",
       "1  dd4c55cc2  entergy mississippi , inc .\\nmanagement's fina...\n",
       "2  dd4c5a718  we have a five year $ 1350 million revolving ,...\n",
       "3  dd4be0184  the agreements that govern the indebtedness in...\n",
       "4  dd4b93b5e  during 2005 , we amended our $ 1.0 billion uns..."
      ]
     },
     "execution_count": 23,
     "metadata": {},
     "output_type": "execute_result"
    }
   ],
   "source": [
    "import pandas as pd\n",
    "# Load corpus and queries from a specific dataset\n",
    "convfinqa_corpus, convfinqa_queries, convfinqa_qrels = dataset_manager.load_dataset(\"ConvFinQA\")\n",
    "\n",
    "# Print sample entries\n",
    "print(\"Sample corpus entry:\", convfinqa_corpus[0])\n",
    "print(\"Sample query entry:\", convfinqa_queries[0])\n",
    "\n",
    "corpus_df = pd.DataFrame(convfinqa_corpus)\n",
    "queries_df = pd.DataFrame(convfinqa_queries)\n",
    "\n",
    "corpus_df.drop(columns=[\"title\"], inplace=True)\n",
    "queries_df.drop(columns=[\"title\"], inplace=True)\n",
    "\n",
    "print(\"\\nCorpus DataFrame Info:\")\n",
    "print(corpus_df.shape)\n",
    "print(\"\\nQueries DataFrame Info:\")\n",
    "print(queries_df.shape)"
   ]
  },
  {
   "cell_type": "markdown",
   "metadata": {},
   "source": [
    "### Analyze Text Lengths in Corpus"
   ]
  },
  {
   "cell_type": "code",
   "execution_count": 32,
   "metadata": {},
   "outputs": [
    {
     "name": "stdout",
     "output_type": "stream",
     "text": [
      "Max text length: 15092\n",
      "Average text length: 4409.56485963214\n"
     ]
    },
    {
     "data": {
      "image/png": "[encoded data removed]",
      "text/plain": [
       "<Figure size 1000x600 with 1 Axes>"
      ]
     },
     "metadata": {},
     "output_type": "display_data"
    }
   ],
   "source": [
    "import matplotlib.pyplot as plt\n",
    "\n",
    "# Calculate text lengths\n",
    "corpus_df['text_length'] = corpus_df['text'].apply(len)\n",
    "\n",
    "# Calculate max and average lengths\n",
    "max_length = corpus_df['text_length'].max()\n",
    "average_length = corpus_df['text_length'].mean()\n",
    "\n",
    "print(f\"Max text length: {max_length}\")\n",
    "print(f\"Average text length: {average_length}\")\n",
    "\n",
    "# Plot the distribution of text lengths\n",
    "plt.figure(figsize=(10, 6))\n",
    "plt.hist(corpus_df['text_length'], bins=50, color='blue', edgecolor='black')\n",
    "plt.title('Distribution of Text Lengths in Corpus')\n",
    "plt.xlabel('Text Length')\n",
    "plt.ylabel('Frequency')\n",
    "plt.show()"
   ]
  },
  {
   "cell_type": "code",
   "execution_count": 31,
   "metadata": {},
   "outputs": [
    {
     "name": "stdout",
     "output_type": "stream",
     "text": [
      "Max tokenized text length: 512\n",
      "Average tokenized text length: 501.10164569215874\n"
     ]
    },
    {
     "data": {
      "image/png": "[encoded data removed]",
      "text/plain": [
       "<Figure size 1000x600 with 1 Axes>"
      ]
     },
     "metadata": {},
     "output_type": "display_data"
    }
   ],
   "source": [
    "# Tokenizza i testi nel corpus\n",
    "corpus_df['tokenized_text'] = corpus_df['text'].apply(lambda x: tokenizer(x, truncation=True, max_length=512)['input_ids'])\n",
    "\n",
    "# Calcola la lunghezza dei testi tokenizzati\n",
    "corpus_df['tokenized_length'] = corpus_df['tokenized_text'].apply(len)\n",
    "\n",
    "# Calcola la lunghezza massima e media dei testi tokenizzati\n",
    "max_tokenized_length = corpus_df['tokenized_length'].max()\n",
    "average_tokenized_length = corpus_df['tokenized_length'].mean()\n",
    "\n",
    "print(f\"Max tokenized text length: {max_tokenized_length}\")\n",
    "print(f\"Average tokenized text length: {average_tokenized_length}\")\n",
    "\n",
    "# Plot della distribuzione delle lunghezze dei testi tokenizzati\n",
    "plt.figure(figsize=(10, 6))\n",
    "plt.hist(corpus_df['tokenized_length'], bins=50, color='blue', edgecolor='black')\n",
    "plt.title('Distribution of Tokenized Text Lengths in Corpus')\n",
    "plt.xlabel('Tokenized Text Length')\n",
    "plt.ylabel('Frequency')\n",
    "plt.show()"
   ]
  }
 ],
 "metadata": {
  "kernelspec": {
   "display_name": "Python 3",
   "language": "python",
   "name": "python3"
  },
  "language_info": {
   "codemirror_mode": {
    "name": "ipython",
    "version": 3
   },
   "file_extension": ".py",
   "mimetype": "text/x-python",
   "name": "python",
   "nbconvert_exporter": "python",
   "pygments_lexer": "ipython3",
   "version": "3.10.10"
  }
 },
 "nbformat": 4,
 "nbformat_minor": 2
}
