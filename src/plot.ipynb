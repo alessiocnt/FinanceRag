{
 "cells": [
  {
   "cell_type": "code",
   "execution_count": 2,
   "metadata": {},
   "outputs": [],
   "source": [
    "import pandas as pd\n",
    "import plotly.express as px\n",
    "import plotly.subplots as sp\n",
    "import plotly.graph_objects as go"
   ]
  },
  {
   "cell_type": "code",
   "execution_count": 3,
   "metadata": {},
   "outputs": [],
   "source": [
    "df_results_ns = pd.read_excel(\"df_results_ns.xlsx\")\n",
    "df_results_ss = pd.read_excel(\"df_results_ss.xlsx\")\n",
    "df_results_ls = pd.read_excel(\"df_results_ls.xlsx\")"
   ]
  },
  {
   "cell_type": "code",
   "execution_count": 7,
   "metadata": {},
   "outputs": [
    {
     "data": {
      "text/html": [
       "<div>\n",
       "<style scoped>\n",
       "    .dataframe tbody tr th:only-of-type {\n",
       "        vertical-align: middle;\n",
       "    }\n",
       "\n",
       "    .dataframe tbody tr th {\n",
       "        vertical-align: top;\n",
       "    }\n",
       "\n",
       "    .dataframe thead th {\n",
       "        text-align: right;\n",
       "    }\n",
       "</style>\n",
       "<table border=\"1\" class=\"dataframe\">\n",
       "  <thead>\n",
       "    <tr style=\"text-align: right;\">\n",
       "      <th></th>\n",
       "      <th>dataset</th>\n",
       "      <th>ndcg_5</th>\n",
       "      <th>ndcg_10</th>\n",
       "      <th>recall_5</th>\n",
       "      <th>recall_10</th>\n",
       "      <th>mrr_5</th>\n",
       "      <th>mrr_10</th>\n",
       "    </tr>\n",
       "  </thead>\n",
       "  <tbody>\n",
       "    <tr>\n",
       "      <th>0</th>\n",
       "      <td>ConvFinQA</td>\n",
       "      <td>0.7110</td>\n",
       "      <td>0.7348</td>\n",
       "      <td>0.8333</td>\n",
       "      <td>0.9048</td>\n",
       "      <td>0.6698</td>\n",
       "      <td>0.6801</td>\n",
       "    </tr>\n",
       "    <tr>\n",
       "      <th>1</th>\n",
       "      <td>FinQA</td>\n",
       "      <td>0.6020</td>\n",
       "      <td>0.6324</td>\n",
       "      <td>0.7180</td>\n",
       "      <td>0.8140</td>\n",
       "      <td>0.5630</td>\n",
       "      <td>0.5752</td>\n",
       "    </tr>\n",
       "    <tr>\n",
       "      <th>2</th>\n",
       "      <td>MultiHeritt</td>\n",
       "      <td>0.3976</td>\n",
       "      <td>0.4234</td>\n",
       "      <td>0.1348</td>\n",
       "      <td>0.1748</td>\n",
       "      <td>0.0965</td>\n",
       "      <td>0.1017</td>\n",
       "    </tr>\n",
       "    <tr>\n",
       "      <th>3</th>\n",
       "      <td>TATQA</td>\n",
       "      <td>0.5124</td>\n",
       "      <td>0.5489</td>\n",
       "      <td>0.6225</td>\n",
       "      <td>0.7369</td>\n",
       "      <td>0.4758</td>\n",
       "      <td>0.4906</td>\n",
       "    </tr>\n",
       "  </tbody>\n",
       "</table>\n",
       "</div>"
      ],
      "text/plain": [
       "       dataset  ndcg_5  ndcg_10  recall_5  recall_10   mrr_5  mrr_10\n",
       "0    ConvFinQA  0.7110   0.7348    0.8333     0.9048  0.6698  0.6801\n",
       "1        FinQA  0.6020   0.6324    0.7180     0.8140  0.5630  0.5752\n",
       "2  MultiHeritt  0.3976   0.4234    0.1348     0.1748  0.0965  0.1017\n",
       "3        TATQA  0.5124   0.5489    0.6225     0.7369  0.4758  0.4906"
      ]
     },
     "execution_count": 7,
     "metadata": {},
     "output_type": "execute_result"
    }
   ],
   "source": [
    "df_results_ls"
   ]
  },
  {
   "cell_type": "code",
   "execution_count": 59,
   "metadata": {},
   "outputs": [
    {
     "data": {
      "application/vnd.plotly.v1+json": {
       "config": {
        "plotlyServerURL": "https://plot.ly"
       },
       "data": [
        {
         "marker": {
          "color": "#fc6a03"
         },
         "name": "NDCG @5",
         "opacity": 0.6,
         "type": "bar",
         "x": [
          "NS"
         ],
         "xaxis": "x",
         "y": [
          0.6203
         ],
         "yaxis": "y"
        },
        {
         "marker": {
          "color": "#fc6a03"
         },
         "name": "NDCG @5",
         "opacity": 0.6,
         "type": "bar",
         "x": [
          "NS"
         ],
         "xaxis": "x2",
         "y": [
          0.5292
         ],
         "yaxis": "y2"
        },
        {
         "marker": {
          "color": "#fc6a03"
         },
         "name": "NDCG @5",
         "opacity": 0.6,
         "type": "bar",
         "x": [
          "NS"
         ],
         "xaxis": "x3",
         "y": [
          0.3549
         ],
         "yaxis": "y3"
        },
        {
         "marker": {
          "color": "#fc6a03"
         },
         "name": "NDCG @5",
         "opacity": 0.6,
         "type": "bar",
         "x": [
          "NS"
         ],
         "xaxis": "x4",
         "y": [
          0.4767
         ],
         "yaxis": "y4"
        },
        {
         "marker": {
          "color": "#fc6a03"
         },
         "name": "NDCG @10",
         "opacity": 0.6,
         "type": "bar",
         "x": [
          "NS"
         ],
         "xaxis": "x",
         "y": [
          0.6482
         ],
         "yaxis": "y"
        },
        {
         "marker": {
          "color": "#fc6a03"
         },
         "name": "NDCG @10",
         "opacity": 0.6,
         "type": "bar",
         "x": [
          "NS"
         ],
         "xaxis": "x2",
         "y": [
          0.565
         ],
         "yaxis": "y2"
        },
        {
         "marker": {
          "color": "#fc6a03"
         },
         "name": "NDCG @10",
         "opacity": 0.6,
         "type": "bar",
         "x": [
          "NS"
         ],
         "xaxis": "x3",
         "y": [
          0.3808
         ],
         "yaxis": "y3"
        },
        {
         "marker": {
          "color": "#fc6a03"
         },
         "name": "NDCG @10",
         "opacity": 0.6,
         "type": "bar",
         "x": [
          "NS"
         ],
         "xaxis": "x4",
         "y": [
          0.5106
         ],
         "yaxis": "y4"
        },
        {
         "marker": {
          "color": "#fc6a03"
         },
         "name": "RECALL @5",
         "opacity": 0.6,
         "type": "bar",
         "x": [
          "NS"
         ],
         "xaxis": "x5",
         "y": [
          0.754
         ],
         "yaxis": "y5"
        },
        {
         "marker": {
          "color": "#fc6a03"
         },
         "name": "RECALL @5",
         "opacity": 0.6,
         "type": "bar",
         "x": [
          "NS"
         ],
         "xaxis": "x6",
         "y": [
          0.6453
         ],
         "yaxis": "y6"
        },
        {
         "marker": {
          "color": "#fc6a03"
         },
         "name": "RECALL @5",
         "opacity": 0.6,
         "type": "bar",
         "x": [
          "NS"
         ],
         "xaxis": "x7",
         "y": [
          0.1228
         ],
         "yaxis": "y7"
        },
        {
         "marker": {
          "color": "#fc6a03"
         },
         "name": "RECALL @5",
         "opacity": 0.6,
         "type": "bar",
         "x": [
          "NS"
         ],
         "xaxis": "x8",
         "y": [
          0.5904
         ],
         "yaxis": "y8"
        },
        {
         "marker": {
          "color": "#fc6a03"
         },
         "name": "RECALL @10",
         "opacity": 0.6,
         "type": "bar",
         "x": [
          "NS"
         ],
         "xaxis": "x5",
         "y": [
          0.8413
         ],
         "yaxis": "y5"
        },
        {
         "marker": {
          "color": "#fc6a03"
         },
         "name": "RECALL @10",
         "opacity": 0.6,
         "type": "bar",
         "x": [
          "NS"
         ],
         "xaxis": "x6",
         "y": [
          0.7587
         ],
         "yaxis": "y6"
        },
        {
         "marker": {
          "color": "#fc6a03"
         },
         "name": "RECALL @10",
         "opacity": 0.6,
         "type": "bar",
         "x": [
          "NS"
         ],
         "xaxis": "x7",
         "y": [
          0.1602
         ],
         "yaxis": "y7"
        },
        {
         "marker": {
          "color": "#fc6a03"
         },
         "name": "RECALL @10",
         "opacity": 0.6,
         "type": "bar",
         "x": [
          "NS"
         ],
         "xaxis": "x8",
         "y": [
          0.6928
         ],
         "yaxis": "y8"
        },
        {
         "marker": {
          "color": "#fc6a03"
         },
         "name": "MRR @5",
         "opacity": 0.6,
         "type": "bar",
         "x": [
          "NS"
         ],
         "xaxis": "x9",
         "y": [
          0.5761
         ],
         "yaxis": "y9"
        },
        {
         "marker": {
          "color": "#fc6a03"
         },
         "name": "MRR @5",
         "opacity": 0.6,
         "type": "bar",
         "x": [
          "NS"
         ],
         "xaxis": "x10",
         "y": [
          0.4903
         ],
         "yaxis": "y10"
        },
        {
         "marker": {
          "color": "#fc6a03"
         },
         "name": "MRR @5",
         "opacity": 0.6,
         "type": "bar",
         "x": [
          "NS"
         ],
         "xaxis": "x11",
         "y": [
          0.0859
         ],
         "yaxis": "y11"
        },
        {
         "marker": {
          "color": "#fc6a03"
         },
         "name": "MRR @5",
         "opacity": 0.6,
         "type": "bar",
         "x": [
          "NS"
         ],
         "xaxis": "x12",
         "y": [
          0.4394
         ],
         "yaxis": "y12"
        },
        {
         "marker": {
          "color": "#fc6a03"
         },
         "name": "MRR @10",
         "opacity": 0.6,
         "type": "bar",
         "x": [
          "NS"
         ],
         "xaxis": "x9",
         "y": [
          0.5874
         ],
         "yaxis": "y9"
        },
        {
         "marker": {
          "color": "#fc6a03"
         },
         "name": "MRR @10",
         "opacity": 0.6,
         "type": "bar",
         "x": [
          "NS"
         ],
         "xaxis": "x10",
         "y": [
          0.5046
         ],
         "yaxis": "y10"
        },
        {
         "marker": {
          "color": "#fc6a03"
         },
         "name": "MRR @10",
         "opacity": 0.6,
         "type": "bar",
         "x": [
          "NS"
         ],
         "xaxis": "x11",
         "y": [
          0.0908
         ],
         "yaxis": "y11"
        },
        {
         "marker": {
          "color": "#fc6a03"
         },
         "name": "MRR @10",
         "opacity": 0.6,
         "type": "bar",
         "x": [
          "NS"
         ],
         "xaxis": "x12",
         "y": [
          0.4537
         ],
         "yaxis": "y12"
        },
        {
         "marker": {
          "color": "#55bebd "
         },
         "name": "NDCG @5",
         "opacity": 0.6,
         "type": "bar",
         "x": [
          "SS"
         ],
         "xaxis": "x",
         "y": [
          0.6936
         ],
         "yaxis": "y"
        },
        {
         "marker": {
          "color": "#55bebd "
         },
         "name": "NDCG @5",
         "opacity": 0.6,
         "type": "bar",
         "x": [
          "SS"
         ],
         "xaxis": "x2",
         "y": [
          0.6129
         ],
         "yaxis": "y2"
        },
        {
         "marker": {
          "color": "#55bebd "
         },
         "name": "NDCG @5",
         "opacity": 0.6,
         "type": "bar",
         "x": [
          "SS"
         ],
         "xaxis": "x3",
         "y": [
          0.384
         ],
         "yaxis": "y3"
        },
        {
         "marker": {
          "color": "#55bebd "
         },
         "name": "NDCG @5",
         "opacity": 0.6,
         "type": "bar",
         "x": [
          "SS"
         ],
         "xaxis": "x4",
         "y": [
          0.5032
         ],
         "yaxis": "y4"
        },
        {
         "marker": {
          "color": "#55bebd "
         },
         "name": "NDCG @10",
         "opacity": 0.6,
         "type": "bar",
         "x": [
          "SS"
         ],
         "xaxis": "x",
         "y": [
          0.7198
         ],
         "yaxis": "y"
        },
        {
         "marker": {
          "color": "#55bebd "
         },
         "name": "NDCG @10",
         "opacity": 0.6,
         "type": "bar",
         "x": [
          "SS"
         ],
         "xaxis": "x2",
         "y": [
          0.6418
         ],
         "yaxis": "y2"
        },
        {
         "marker": {
          "color": "#55bebd "
         },
         "name": "NDCG @10",
         "opacity": 0.6,
         "type": "bar",
         "x": [
          "SS"
         ],
         "xaxis": "x3",
         "y": [
          0.4109
         ],
         "yaxis": "y3"
        },
        {
         "marker": {
          "color": "#55bebd "
         },
         "name": "NDCG @10",
         "opacity": 0.6,
         "type": "bar",
         "x": [
          "SS"
         ],
         "xaxis": "x4",
         "y": [
          0.5391
         ],
         "yaxis": "y4"
        },
        {
         "marker": {
          "color": "#55bebd "
         },
         "name": "RECALL @5",
         "opacity": 0.6,
         "type": "bar",
         "x": [
          "SS"
         ],
         "xaxis": "x5",
         "y": [
          0.8175
         ],
         "yaxis": "y5"
        },
        {
         "marker": {
          "color": "#55bebd "
         },
         "name": "RECALL @5",
         "opacity": 0.6,
         "type": "bar",
         "x": [
          "SS"
         ],
         "xaxis": "x6",
         "y": [
          0.7238
         ],
         "yaxis": "y6"
        },
        {
         "marker": {
          "color": "#55bebd "
         },
         "name": "RECALL @5",
         "opacity": 0.6,
         "type": "bar",
         "x": [
          "SS"
         ],
         "xaxis": "x7",
         "y": [
          0.132
         ],
         "yaxis": "y7"
        },
        {
         "marker": {
          "color": "#55bebd "
         },
         "name": "RECALL @5",
         "opacity": 0.6,
         "type": "bar",
         "x": [
          "SS"
         ],
         "xaxis": "x8",
         "y": [
          0.6225
         ],
         "yaxis": "y8"
        },
        {
         "marker": {
          "color": "#55bebd "
         },
         "name": "RECALL @10",
         "opacity": 0.6,
         "type": "bar",
         "x": [
          "SS"
         ],
         "xaxis": "x5",
         "y": [
          0.8968
         ],
         "yaxis": "y5"
        },
        {
         "marker": {
          "color": "#55bebd "
         },
         "name": "RECALL @10",
         "opacity": 0.6,
         "type": "bar",
         "x": [
          "SS"
         ],
         "xaxis": "x6",
         "y": [
          0.814
         ],
         "yaxis": "y6"
        },
        {
         "marker": {
          "color": "#55bebd "
         },
         "name": "RECALL @10",
         "opacity": 0.6,
         "type": "bar",
         "x": [
          "SS"
         ],
         "xaxis": "x7",
         "y": [
          0.1677
         ],
         "yaxis": "y7"
        },
        {
         "marker": {
          "color": "#55bebd "
         },
         "name": "RECALL @10",
         "opacity": 0.6,
         "type": "bar",
         "x": [
          "SS"
         ],
         "xaxis": "x8",
         "y": [
          0.7329
         ],
         "yaxis": "y8"
        },
        {
         "marker": {
          "color": "#55bebd "
         },
         "name": "MRR @5",
         "opacity": 0.6,
         "type": "bar",
         "x": [
          "SS"
         ],
         "xaxis": "x9",
         "y": [
          0.652
         ],
         "yaxis": "y9"
        },
        {
         "marker": {
          "color": "#55bebd "
         },
         "name": "MRR @5",
         "opacity": 0.6,
         "type": "bar",
         "x": [
          "SS"
         ],
         "xaxis": "x10",
         "y": [
          0.5757
         ],
         "yaxis": "y10"
        },
        {
         "marker": {
          "color": "#55bebd "
         },
         "name": "MRR @5",
         "opacity": 0.6,
         "type": "bar",
         "x": [
          "SS"
         ],
         "xaxis": "x11",
         "y": [
          0.0919
         ],
         "yaxis": "y11"
        },
        {
         "marker": {
          "color": "#55bebd "
         },
         "name": "MRR @5",
         "opacity": 0.6,
         "type": "bar",
         "x": [
          "SS"
         ],
         "xaxis": "x12",
         "y": [
          0.4633
         ],
         "yaxis": "y12"
        },
        {
         "marker": {
          "color": "#55bebd "
         },
         "name": "MRR @10",
         "opacity": 0.6,
         "type": "bar",
         "x": [
          "SS"
         ],
         "xaxis": "x9",
         "y": [
          0.6631
         ],
         "yaxis": "y9"
        },
        {
         "marker": {
          "color": "#55bebd "
         },
         "name": "MRR @10",
         "opacity": 0.6,
         "type": "bar",
         "x": [
          "SS"
         ],
         "xaxis": "x10",
         "y": [
          0.5876
         ],
         "yaxis": "y10"
        },
        {
         "marker": {
          "color": "#55bebd "
         },
         "name": "MRR @10",
         "opacity": 0.6,
         "type": "bar",
         "x": [
          "SS"
         ],
         "xaxis": "x11",
         "y": [
          0.0966
         ],
         "yaxis": "y11"
        },
        {
         "marker": {
          "color": "#55bebd "
         },
         "name": "MRR @10",
         "opacity": 0.6,
         "type": "bar",
         "x": [
          "SS"
         ],
         "xaxis": "x12",
         "y": [
          0.4782
         ],
         "yaxis": "y12"
        },
        {
         "marker": {
          "color": "#e377c2"
         },
         "name": "NDCG @5",
         "opacity": 0.6,
         "type": "bar",
         "x": [
          "LS"
         ],
         "xaxis": "x",
         "y": [
          0.711
         ],
         "yaxis": "y"
        },
        {
         "marker": {
          "color": "#e377c2"
         },
         "name": "NDCG @5",
         "opacity": 0.6,
         "type": "bar",
         "x": [
          "LS"
         ],
         "xaxis": "x2",
         "y": [
          0.602
         ],
         "yaxis": "y2"
        },
        {
         "marker": {
          "color": "#e377c2"
         },
         "name": "NDCG @5",
         "opacity": 0.6,
         "type": "bar",
         "x": [
          "LS"
         ],
         "xaxis": "x3",
         "y": [
          0.3976
         ],
         "yaxis": "y3"
        },
        {
         "marker": {
          "color": "#e377c2"
         },
         "name": "NDCG @5",
         "opacity": 0.6,
         "type": "bar",
         "x": [
          "LS"
         ],
         "xaxis": "x4",
         "y": [
          0.5124
         ],
         "yaxis": "y4"
        },
        {
         "marker": {
          "color": "#e377c2"
         },
         "name": "NDCG @10",
         "opacity": 0.6,
         "type": "bar",
         "x": [
          "LS"
         ],
         "xaxis": "x",
         "y": [
          0.7348
         ],
         "yaxis": "y"
        },
        {
         "marker": {
          "color": "#e377c2"
         },
         "name": "NDCG @10",
         "opacity": 0.6,
         "type": "bar",
         "x": [
          "LS"
         ],
         "xaxis": "x2",
         "y": [
          0.6324
         ],
         "yaxis": "y2"
        },
        {
         "marker": {
          "color": "#e377c2"
         },
         "name": "NDCG @10",
         "opacity": 0.6,
         "type": "bar",
         "x": [
          "LS"
         ],
         "xaxis": "x3",
         "y": [
          0.4234
         ],
         "yaxis": "y3"
        },
        {
         "marker": {
          "color": "#e377c2"
         },
         "name": "NDCG @10",
         "opacity": 0.6,
         "type": "bar",
         "x": [
          "LS"
         ],
         "xaxis": "x4",
         "y": [
          0.5489
         ],
         "yaxis": "y4"
        },
        {
         "marker": {
          "color": "#e377c2"
         },
         "name": "RECALL @5",
         "opacity": 0.6,
         "type": "bar",
         "x": [
          "LS"
         ],
         "xaxis": "x5",
         "y": [
          0.8333
         ],
         "yaxis": "y5"
        },
        {
         "marker": {
          "color": "#e377c2"
         },
         "name": "RECALL @5",
         "opacity": 0.6,
         "type": "bar",
         "x": [
          "LS"
         ],
         "xaxis": "x6",
         "y": [
          0.718
         ],
         "yaxis": "y6"
        },
        {
         "marker": {
          "color": "#e377c2"
         },
         "name": "RECALL @5",
         "opacity": 0.6,
         "type": "bar",
         "x": [
          "LS"
         ],
         "xaxis": "x7",
         "y": [
          0.1348
         ],
         "yaxis": "y7"
        },
        {
         "marker": {
          "color": "#e377c2"
         },
         "name": "RECALL @5",
         "opacity": 0.6,
         "type": "bar",
         "x": [
          "LS"
         ],
         "xaxis": "x8",
         "y": [
          0.6225
         ],
         "yaxis": "y8"
        },
        {
         "marker": {
          "color": "#e377c2"
         },
         "name": "RECALL @10",
         "opacity": 0.6,
         "type": "bar",
         "x": [
          "LS"
         ],
         "xaxis": "x5",
         "y": [
          0.9048
         ],
         "yaxis": "y5"
        },
        {
         "marker": {
          "color": "#e377c2"
         },
         "name": "RECALL @10",
         "opacity": 0.6,
         "type": "bar",
         "x": [
          "LS"
         ],
         "xaxis": "x6",
         "y": [
          0.814
         ],
         "yaxis": "y6"
        },
        {
         "marker": {
          "color": "#e377c2"
         },
         "name": "RECALL @10",
         "opacity": 0.6,
         "type": "bar",
         "x": [
          "LS"
         ],
         "xaxis": "x7",
         "y": [
          0.1748
         ],
         "yaxis": "y7"
        },
        {
         "marker": {
          "color": "#e377c2"
         },
         "name": "RECALL @10",
         "opacity": 0.6,
         "type": "bar",
         "x": [
          "LS"
         ],
         "xaxis": "x8",
         "y": [
          0.7369
         ],
         "yaxis": "y8"
        },
        {
         "marker": {
          "color": "#e377c2"
         },
         "name": "MRR @5",
         "opacity": 0.6,
         "type": "bar",
         "x": [
          "LS"
         ],
         "xaxis": "x9",
         "y": [
          0.6698
         ],
         "yaxis": "y9"
        },
        {
         "marker": {
          "color": "#e377c2"
         },
         "name": "MRR @5",
         "opacity": 0.6,
         "type": "bar",
         "x": [
          "LS"
         ],
         "xaxis": "x10",
         "y": [
          0.563
         ],
         "yaxis": "y10"
        },
        {
         "marker": {
          "color": "#e377c2"
         },
         "name": "MRR @5",
         "opacity": 0.6,
         "type": "bar",
         "x": [
          "LS"
         ],
         "xaxis": "x11",
         "y": [
          0.0965
         ],
         "yaxis": "y11"
        },
        {
         "marker": {
          "color": "#e377c2"
         },
         "name": "MRR @5",
         "opacity": 0.6,
         "type": "bar",
         "x": [
          "LS"
         ],
         "xaxis": "x12",
         "y": [
          0.4758
         ],
         "yaxis": "y12"
        },
        {
         "marker": {
          "color": "#e377c2"
         },
         "name": "MRR @10",
         "opacity": 0.6,
         "type": "bar",
         "x": [
          "LS"
         ],
         "xaxis": "x9",
         "y": [
          0.6801
         ],
         "yaxis": "y9"
        },
        {
         "marker": {
          "color": "#e377c2"
         },
         "name": "MRR @10",
         "opacity": 0.6,
         "type": "bar",
         "x": [
          "LS"
         ],
         "xaxis": "x10",
         "y": [
          0.5752
         ],
         "yaxis": "y10"
        },
        {
         "marker": {
          "color": "#e377c2"
         },
         "name": "MRR @10",
         "opacity": 0.6,
         "type": "bar",
         "x": [
          "LS"
         ],
         "xaxis": "x11",
         "y": [
          0.1017
         ],
         "yaxis": "y11"
        },
        {
         "marker": {
          "color": "#e377c2"
         },
         "name": "MRR @10",
         "opacity": 0.6,
         "type": "bar",
         "x": [
          "LS"
         ],
         "xaxis": "x12",
         "y": [
          0.4906
         ],
         "yaxis": "y12"
        }
       ],
       "layout": {
        "annotations": [
         {
          "font": {
           "size": 16
          },
          "showarrow": false,
          "text": "ConvFinQA",
          "x": 0.10625,
          "xanchor": "center",
          "xref": "paper",
          "y": 1,
          "yanchor": "bottom",
          "yref": "paper"
         },
         {
          "font": {
           "size": 16
          },
          "showarrow": false,
          "text": "FinQA",
          "x": 0.36875,
          "xanchor": "center",
          "xref": "paper",
          "y": 1,
          "yanchor": "bottom",
          "yref": "paper"
         },
         {
          "font": {
           "size": 16
          },
          "showarrow": false,
          "text": "MultiHeritt",
          "x": 0.6312500000000001,
          "xanchor": "center",
          "xref": "paper",
          "y": 1,
          "yanchor": "bottom",
          "yref": "paper"
         },
         {
          "font": {
           "size": 16
          },
          "showarrow": false,
          "text": "TATQA",
          "x": 0.89375,
          "xanchor": "center",
          "xref": "paper",
          "y": 1,
          "yanchor": "bottom",
          "yref": "paper"
         },
         {
          "font": {
           "size": 16
          },
          "showarrow": false,
          "text": "ConvFinQA",
          "x": 0.10625,
          "xanchor": "center",
          "xref": "paper",
          "y": 0.6111111111111112,
          "yanchor": "bottom",
          "yref": "paper"
         },
         {
          "font": {
           "size": 16
          },
          "showarrow": false,
          "text": "FinQA",
          "x": 0.36875,
          "xanchor": "center",
          "xref": "paper",
          "y": 0.6111111111111112,
          "yanchor": "bottom",
          "yref": "paper"
         },
         {
          "font": {
           "size": 16
          },
          "showarrow": false,
          "text": "MultiHeritt",
          "x": 0.6312500000000001,
          "xanchor": "center",
          "xref": "paper",
          "y": 0.6111111111111112,
          "yanchor": "bottom",
          "yref": "paper"
         },
         {
          "font": {
           "size": 16
          },
          "showarrow": false,
          "text": "TATQA",
          "x": 0.89375,
          "xanchor": "center",
          "xref": "paper",
          "y": 0.6111111111111112,
          "yanchor": "bottom",
          "yref": "paper"
         },
         {
          "font": {
           "size": 16
          },
          "showarrow": false,
          "text": "ConvFinQA",
          "x": 0.10625,
          "xanchor": "center",
          "xref": "paper",
          "y": 0.22222222222222224,
          "yanchor": "bottom",
          "yref": "paper"
         },
         {
          "font": {
           "size": 16
          },
          "showarrow": false,
          "text": "FinQA",
          "x": 0.36875,
          "xanchor": "center",
          "xref": "paper",
          "y": 0.22222222222222224,
          "yanchor": "bottom",
          "yref": "paper"
         },
         {
          "font": {
           "size": 16
          },
          "showarrow": false,
          "text": "MultiHeritt",
          "x": 0.6312500000000001,
          "xanchor": "center",
          "xref": "paper",
          "y": 0.22222222222222224,
          "yanchor": "bottom",
          "yref": "paper"
         },
         {
          "font": {
           "size": 16
          },
          "showarrow": false,
          "text": "TATQA",
          "x": 0.89375,
          "xanchor": "center",
          "xref": "paper",
          "y": 0.22222222222222224,
          "yanchor": "bottom",
          "yref": "paper"
         }
        ],
        "barmode": "overlay",
        "height": 1000,
        "showlegend": false,
        "template": {
         "data": {
          "bar": [
           {
            "error_x": {
             "color": "#2a3f5f"
            },
            "error_y": {
             "color": "#2a3f5f"
            },
            "marker": {
             "line": {
              "color": "#E5ECF6",
              "width": 0.5
             },
             "pattern": {
              "fillmode": "overlay",
              "size": 10,
              "solidity": 0.2
             }
            },
            "type": "bar"
           }
          ],
          "barpolar": [
           {
            "marker": {
             "line": {
              "color": "#E5ECF6",
              "width": 0.5
             },
             "pattern": {
              "fillmode": "overlay",
              "size": 10,
              "solidity": 0.2
             }
            },
            "type": "barpolar"
           }
          ],
          "carpet": [
           {
            "aaxis": {
             "endlinecolor": "#2a3f5f",
             "gridcolor": "white",
             "linecolor": "white",
             "minorgridcolor": "white",
             "startlinecolor": "#2a3f5f"
            },
            "baxis": {
             "endlinecolor": "#2a3f5f",
             "gridcolor": "white",
             "linecolor": "white",
             "minorgridcolor": "white",
             "startlinecolor": "#2a3f5f"
            },
            "type": "carpet"
           }
          ],
          "choropleth": [
           {
            "colorbar": {
             "outlinewidth": 0,
             "ticks": ""
            },
            "type": "choropleth"
           }
          ],
          "contour": [
           {
            "colorbar": {
             "outlinewidth": 0,
             "ticks": ""
            },
            "colorscale": [
             [
              0,
              "#0d0887"
             ],
             [
              0.1111111111111111,
              "#46039f"
             ],
             [
              0.2222222222222222,
              "#7201a8"
             ],
             [
              0.3333333333333333,
              "#9c179e"
             ],
             [
              0.4444444444444444,
              "#bd3786"
             ],
             [
              0.5555555555555556,
              "#d8576b"
             ],
             [
              0.6666666666666666,
              "#ed7953"
             ],
             [
              0.7777777777777778,
              "#fb9f3a"
             ],
             [
              0.8888888888888888,
              "#fdca26"
             ],
             [
              1,
              "#f0f921"
             ]
            ],
            "type": "contour"
           }
          ],
          "contourcarpet": [
           {
            "colorbar": {
             "outlinewidth": 0,
             "ticks": ""
            },
            "type": "contourcarpet"
           }
          ],
          "heatmap": [
           {
            "colorbar": {
             "outlinewidth": 0,
             "ticks": ""
            },
            "colorscale": [
             [
              0,
              "#0d0887"
             ],
             [
              0.1111111111111111,
              "#46039f"
             ],
             [
              0.2222222222222222,
              "#7201a8"
             ],
             [
              0.3333333333333333,
              "#9c179e"
             ],
             [
              0.4444444444444444,
              "#bd3786"
             ],
             [
              0.5555555555555556,
              "#d8576b"
             ],
             [
              0.6666666666666666,
              "#ed7953"
             ],
             [
              0.7777777777777778,
              "#fb9f3a"
             ],
             [
              0.8888888888888888,
              "#fdca26"
             ],
             [
              1,
              "#f0f921"
             ]
            ],
            "type": "heatmap"
           }
          ],
          "histogram": [
           {
            "marker": {
             "pattern": {
              "fillmode": "overlay",
              "size": 10,
              "solidity": 0.2
             }
            },
            "type": "histogram"
           }
          ],
          "histogram2d": [
           {
            "colorbar": {
             "outlinewidth": 0,
             "ticks": ""
            },
            "colorscale": [
             [
              0,
              "#0d0887"
             ],
             [
              0.1111111111111111,
              "#46039f"
             ],
             [
              0.2222222222222222,
              "#7201a8"
             ],
             [
              0.3333333333333333,
              "#9c179e"
             ],
             [
              0.4444444444444444,
              "#bd3786"
             ],
             [
              0.5555555555555556,
              "#d8576b"
             ],
             [
              0.6666666666666666,
              "#ed7953"
             ],
             [
              0.7777777777777778,
              "#fb9f3a"
             ],
             [
              0.8888888888888888,
              "#fdca26"
             ],
             [
              1,
              "#f0f921"
             ]
            ],
            "type": "histogram2d"
           }
          ],
          "histogram2dcontour": [
           {
            "colorbar": {
             "outlinewidth": 0,
             "ticks": ""
            },
            "colorscale": [
             [
              0,
              "#0d0887"
             ],
             [
              0.1111111111111111,
              "#46039f"
             ],
             [
              0.2222222222222222,
              "#7201a8"
             ],
             [
              0.3333333333333333,
              "#9c179e"
             ],
             [
              0.4444444444444444,
              "#bd3786"
             ],
             [
              0.5555555555555556,
              "#d8576b"
             ],
             [
              0.6666666666666666,
              "#ed7953"
             ],
             [
              0.7777777777777778,
              "#fb9f3a"
             ],
             [
              0.8888888888888888,
              "#fdca26"
             ],
             [
              1,
              "#f0f921"
             ]
            ],
            "type": "histogram2dcontour"
           }
          ],
          "mesh3d": [
           {
            "colorbar": {
             "outlinewidth": 0,
             "ticks": ""
            },
            "type": "mesh3d"
           }
          ],
          "parcoords": [
           {
            "line": {
             "colorbar": {
              "outlinewidth": 0,
              "ticks": ""
             }
            },
            "type": "parcoords"
           }
          ],
          "pie": [
           {
            "automargin": true,
            "type": "pie"
           }
          ],
          "scatter": [
           {
            "fillpattern": {
             "fillmode": "overlay",
             "size": 10,
             "solidity": 0.2
            },
            "type": "scatter"
           }
          ],
          "scatter3d": [
           {
            "line": {
             "colorbar": {
              "outlinewidth": 0,
              "ticks": ""
             }
            },
            "marker": {
             "colorbar": {
              "outlinewidth": 0,
              "ticks": ""
             }
            },
            "type": "scatter3d"
           }
          ],
          "scattercarpet": [
           {
            "marker": {
             "colorbar": {
              "outlinewidth": 0,
              "ticks": ""
             }
            },
            "type": "scattercarpet"
           }
          ],
          "scattergeo": [
           {
            "marker": {
             "colorbar": {
              "outlinewidth": 0,
              "ticks": ""
             }
            },
            "type": "scattergeo"
           }
          ],
          "scattergl": [
           {
            "marker": {
             "colorbar": {
              "outlinewidth": 0,
              "ticks": ""
             }
            },
            "type": "scattergl"
           }
          ],
          "scattermap": [
           {
            "marker": {
             "colorbar": {
              "outlinewidth": 0,
              "ticks": ""
             }
            },
            "type": "scattermap"
           }
          ],
          "scattermapbox": [
           {
            "marker": {
             "colorbar": {
              "outlinewidth": 0,
              "ticks": ""
             }
            },
            "type": "scattermapbox"
           }
          ],
          "scatterpolar": [
           {
            "marker": {
             "colorbar": {
              "outlinewidth": 0,
              "ticks": ""
             }
            },
            "type": "scatterpolar"
           }
          ],
          "scatterpolargl": [
           {
            "marker": {
             "colorbar": {
              "outlinewidth": 0,
              "ticks": ""
             }
            },
            "type": "scatterpolargl"
           }
          ],
          "scatterternary": [
           {
            "marker": {
             "colorbar": {
              "outlinewidth": 0,
              "ticks": ""
             }
            },
            "type": "scatterternary"
           }
          ],
          "surface": [
           {
            "colorbar": {
             "outlinewidth": 0,
             "ticks": ""
            },
            "colorscale": [
             [
              0,
              "#0d0887"
             ],
             [
              0.1111111111111111,
              "#46039f"
             ],
             [
              0.2222222222222222,
              "#7201a8"
             ],
             [
              0.3333333333333333,
              "#9c179e"
             ],
             [
              0.4444444444444444,
              "#bd3786"
             ],
             [
              0.5555555555555556,
              "#d8576b"
             ],
             [
              0.6666666666666666,
              "#ed7953"
             ],
             [
              0.7777777777777778,
              "#fb9f3a"
             ],
             [
              0.8888888888888888,
              "#fdca26"
             ],
             [
              1,
              "#f0f921"
             ]
            ],
            "type": "surface"
           }
          ],
          "table": [
           {
            "cells": {
             "fill": {
              "color": "#EBF0F8"
             },
             "line": {
              "color": "white"
             }
            },
            "header": {
             "fill": {
              "color": "#C8D4E3"
             },
             "line": {
              "color": "white"
             }
            },
            "type": "table"
           }
          ]
         },
         "layout": {
          "annotationdefaults": {
           "arrowcolor": "#2a3f5f",
           "arrowhead": 0,
           "arrowwidth": 1
          },
          "autotypenumbers": "strict",
          "coloraxis": {
           "colorbar": {
            "outlinewidth": 0,
            "ticks": ""
           }
          },
          "colorscale": {
           "diverging": [
            [
             0,
             "#8e0152"
            ],
            [
             0.1,
             "#c51b7d"
            ],
            [
             0.2,
             "#de77ae"
            ],
            [
             0.3,
             "#f1b6da"
            ],
            [
             0.4,
             "#fde0ef"
            ],
            [
             0.5,
             "#f7f7f7"
            ],
            [
             0.6,
             "#e6f5d0"
            ],
            [
             0.7,
             "#b8e186"
            ],
            [
             0.8,
             "#7fbc41"
            ],
            [
             0.9,
             "#4d9221"
            ],
            [
             1,
             "#276419"
            ]
           ],
           "sequential": [
            [
             0,
             "#0d0887"
            ],
            [
             0.1111111111111111,
             "#46039f"
            ],
            [
             0.2222222222222222,
             "#7201a8"
            ],
            [
             0.3333333333333333,
             "#9c179e"
            ],
            [
             0.4444444444444444,
             "#bd3786"
            ],
            [
             0.5555555555555556,
             "#d8576b"
            ],
            [
             0.6666666666666666,
             "#ed7953"
            ],
            [
             0.7777777777777778,
             "#fb9f3a"
            ],
            [
             0.8888888888888888,
             "#fdca26"
            ],
            [
             1,
             "#f0f921"
            ]
           ],
           "sequentialminus": [
            [
             0,
             "#0d0887"
            ],
            [
             0.1111111111111111,
             "#46039f"
            ],
            [
             0.2222222222222222,
             "#7201a8"
            ],
            [
             0.3333333333333333,
             "#9c179e"
            ],
            [
             0.4444444444444444,
             "#bd3786"
            ],
            [
             0.5555555555555556,
             "#d8576b"
            ],
            [
             0.6666666666666666,
             "#ed7953"
            ],
            [
             0.7777777777777778,
             "#fb9f3a"
            ],
            [
             0.8888888888888888,
             "#fdca26"
            ],
            [
             1,
             "#f0f921"
            ]
           ]
          },
          "colorway": [
           "#636efa",
           "#EF553B",
           "#00cc96",
           "#ab63fa",
           "#FFA15A",
           "#19d3f3",
           "#FF6692",
           "#B6E880",
           "#FF97FF",
           "#FECB52"
          ],
          "font": {
           "color": "#2a3f5f"
          },
          "geo": {
           "bgcolor": "white",
           "lakecolor": "white",
           "landcolor": "#E5ECF6",
           "showlakes": true,
           "showland": true,
           "subunitcolor": "white"
          },
          "hoverlabel": {
           "align": "left"
          },
          "hovermode": "closest",
          "mapbox": {
           "style": "light"
          },
          "paper_bgcolor": "white",
          "plot_bgcolor": "#E5ECF6",
          "polar": {
           "angularaxis": {
            "gridcolor": "white",
            "linecolor": "white",
            "ticks": ""
           },
           "bgcolor": "#E5ECF6",
           "radialaxis": {
            "gridcolor": "white",
            "linecolor": "white",
            "ticks": ""
           }
          },
          "scene": {
           "xaxis": {
            "backgroundcolor": "#E5ECF6",
            "gridcolor": "white",
            "gridwidth": 2,
            "linecolor": "white",
            "showbackground": true,
            "ticks": "",
            "zerolinecolor": "white"
           },
           "yaxis": {
            "backgroundcolor": "#E5ECF6",
            "gridcolor": "white",
            "gridwidth": 2,
            "linecolor": "white",
            "showbackground": true,
            "ticks": "",
            "zerolinecolor": "white"
           },
           "zaxis": {
            "backgroundcolor": "#E5ECF6",
            "gridcolor": "white",
            "gridwidth": 2,
            "linecolor": "white",
            "showbackground": true,
            "ticks": "",
            "zerolinecolor": "white"
           }
          },
          "shapedefaults": {
           "line": {
            "color": "#2a3f5f"
           }
          },
          "ternary": {
           "aaxis": {
            "gridcolor": "white",
            "linecolor": "white",
            "ticks": ""
           },
           "baxis": {
            "gridcolor": "white",
            "linecolor": "white",
            "ticks": ""
           },
           "bgcolor": "#E5ECF6",
           "caxis": {
            "gridcolor": "white",
            "linecolor": "white",
            "ticks": ""
           }
          },
          "title": {
           "x": 0.05
          },
          "xaxis": {
           "automargin": true,
           "gridcolor": "white",
           "linecolor": "white",
           "ticks": "",
           "title": {
            "standoff": 15
           },
           "zerolinecolor": "white",
           "zerolinewidth": 2
          },
          "yaxis": {
           "automargin": true,
           "gridcolor": "white",
           "linecolor": "white",
           "ticks": "",
           "title": {
            "standoff": 15
           },
           "zerolinecolor": "white",
           "zerolinewidth": 2
          }
         }
        },
        "title": {
         "text": "Comparison of Approaches per Dataset and Metric"
        },
        "width": 1400,
        "xaxis": {
         "anchor": "y",
         "domain": [
          0,
          0.2125
         ],
         "title": {
          "text": "Approach"
         }
        },
        "xaxis10": {
         "anchor": "y10",
         "domain": [
          0.2625,
          0.475
         ]
        },
        "xaxis11": {
         "anchor": "y11",
         "domain": [
          0.525,
          0.7375
         ]
        },
        "xaxis12": {
         "anchor": "y12",
         "domain": [
          0.7875,
          1
         ]
        },
        "xaxis2": {
         "anchor": "y2",
         "domain": [
          0.2625,
          0.475
         ]
        },
        "xaxis3": {
         "anchor": "y3",
         "domain": [
          0.525,
          0.7375
         ]
        },
        "xaxis4": {
         "anchor": "y4",
         "domain": [
          0.7875,
          1
         ]
        },
        "xaxis5": {
         "anchor": "y5",
         "domain": [
          0,
          0.2125
         ]
        },
        "xaxis6": {
         "anchor": "y6",
         "domain": [
          0.2625,
          0.475
         ]
        },
        "xaxis7": {
         "anchor": "y7",
         "domain": [
          0.525,
          0.7375
         ]
        },
        "xaxis8": {
         "anchor": "y8",
         "domain": [
          0.7875,
          1
         ]
        },
        "xaxis9": {
         "anchor": "y9",
         "domain": [
          0,
          0.2125
         ]
        },
        "yaxis": {
         "anchor": "x",
         "domain": [
          0.7777777777777778,
          1
         ],
         "title": {
          "text": "NDCG Score"
         },
         "type": "log"
        },
        "yaxis10": {
         "anchor": "x10",
         "domain": [
          0,
          0.22222222222222224
         ],
         "matches": "y9",
         "showticklabels": false
        },
        "yaxis11": {
         "anchor": "x11",
         "domain": [
          0,
          0.22222222222222224
         ],
         "matches": "y9",
         "showticklabels": false
        },
        "yaxis12": {
         "anchor": "x12",
         "domain": [
          0,
          0.22222222222222224
         ],
         "matches": "y9",
         "showticklabels": false
        },
        "yaxis2": {
         "anchor": "x2",
         "domain": [
          0.7777777777777778,
          1
         ],
         "matches": "y",
         "showticklabels": false
        },
        "yaxis3": {
         "anchor": "x3",
         "domain": [
          0.7777777777777778,
          1
         ],
         "matches": "y",
         "showticklabels": false
        },
        "yaxis4": {
         "anchor": "x4",
         "domain": [
          0.7777777777777778,
          1
         ],
         "matches": "y",
         "showticklabels": false
        },
        "yaxis5": {
         "anchor": "x5",
         "domain": [
          0.3888888888888889,
          0.6111111111111112
         ],
         "title": {
          "text": "RECALL Score"
         },
         "type": "log"
        },
        "yaxis6": {
         "anchor": "x6",
         "domain": [
          0.3888888888888889,
          0.6111111111111112
         ],
         "matches": "y5",
         "showticklabels": false
        },
        "yaxis7": {
         "anchor": "x7",
         "domain": [
          0.3888888888888889,
          0.6111111111111112
         ],
         "matches": "y5",
         "showticklabels": false
        },
        "yaxis8": {
         "anchor": "x8",
         "domain": [
          0.3888888888888889,
          0.6111111111111112
         ],
         "matches": "y5",
         "showticklabels": false
        },
        "yaxis9": {
         "anchor": "x9",
         "domain": [
          0,
          0.22222222222222224
         ],
         "title": {
          "text": "MRR Score"
         },
         "type": "log"
        }
       }
      }
     },
     "metadata": {},
     "output_type": "display_data"
    }
   ],
   "source": [
    "import pandas as pd\n",
    "import plotly.graph_objects as go\n",
    "import plotly.subplots as sp\n",
    "\n",
    "# Read the three dataframes\n",
    "df_results_ns = pd.read_excel(\"df_results_ns.xlsx\")\n",
    "df_results_ss = pd.read_excel(\"df_results_ss.xlsx\")\n",
    "df_results_ls = pd.read_excel(\"df_results_ls.xlsx\")\n",
    "\n",
    "# Melt data for easy processing and add the approach labels\n",
    "df_ns_long = pd.melt(df_results_ns, id_vars=['dataset'], var_name='metric', value_name='value')\n",
    "df_ss_long = pd.melt(df_results_ss, id_vars=['dataset'], var_name='metric', value_name='value')\n",
    "df_ls_long = pd.melt(df_results_ls, id_vars=['dataset'], var_name='metric', value_name='value')\n",
    "\n",
    "df_ns_long['approach'] = 'NS'\n",
    "df_ss_long['approach'] = 'SS'\n",
    "df_ls_long['approach'] = 'LS'\n",
    "\n",
    "# Combine all data\n",
    "df_long = pd.concat([df_ns_long, df_ss_long, df_ls_long])\n",
    "\n",
    "# Extract metric base (ndcg, recall, mrr) and type (@5, @10)\n",
    "df_long[\"metric_base\"] = df_long[\"metric\"].str.replace(r'_5|_10', '', regex=True)\n",
    "df_long[\"metric_type\"] = df_long[\"metric\"].str.extract(r'(5|10)').astype(int)\n",
    "\n",
    "# Define colors for each approach\n",
    "approach_colors = {\n",
    "    'NS': '#fc6a03',  # Red for NS\n",
    "    'SS': '#55bebd ',  # Green for SS\n",
    "    'LS': '#e377c2'   # Blue for LS\n",
    "}\n",
    "\n",
    "# Define datasets and metrics\n",
    "datasets = df_results_ls['dataset'].unique()\n",
    "metrics = ['ndcg', 'recall', 'mrr']\n",
    "\n",
    "# Create subplots: 3 rows (metrics) × 4 columns (datasets)\n",
    "fig = sp.make_subplots(\n",
    "    rows=3, cols=4,\n",
    "    subplot_titles=[f\"{dataset}\" for metric in metrics for dataset in datasets],\n",
    "    shared_yaxes=True\n",
    ")\n",
    "\n",
    "# Mapping for subplot placement\n",
    "metric_positions = {'ndcg': 1, 'recall': 2, 'mrr': 3}\n",
    "dataset_positions = {dataset: i+1 for i, dataset in enumerate(datasets)}\n",
    "\n",
    "# Plot data\n",
    "for _, row in df_long.iterrows():\n",
    "    dataset = row['dataset']\n",
    "    metric = row['metric_base']\n",
    "    metric_type = row['metric_type']\n",
    "    approach = row['approach']\n",
    "    value = row['value']\n",
    "    \n",
    "    row_idx = metric_positions[metric]  # Metrics define the row\n",
    "    col_idx = dataset_positions[dataset]  # Datasets define the column\n",
    "\n",
    "    fig.add_trace(\n",
    "        go.Bar(\n",
    "            x=[approach],  # Group bars by approach\n",
    "            y=[value], \n",
    "            name=f\"{metric.upper()} @{metric_type}\",\n",
    "            marker=dict(color=approach_colors[approach]),  # Color by approach\n",
    "            # opacity=0.2 if metric_type == '5' else 0.6,\n",
    "            opacity=0.6,\n",
    "        ),\n",
    "        row=row_idx, col=col_idx\n",
    "    )\n",
    "\n",
    "\n",
    "# Update layout\n",
    "fig.update_layout(\n",
    "    title=\"Comparison of Approaches per Dataset and Metric\",\n",
    "    height=1000, width=1400,\n",
    "    barmode=\"overlay\",\n",
    "    xaxis_title=\"Approach\",\n",
    "    yaxis_title=\"Metric Score\",\n",
    "    showlegend=False,\n",
    ")\n",
    "\n",
    "# Update axis titles per row (corrected for metric names)\n",
    "for metric, row in metric_positions.items():\n",
    "    fig.update_yaxes(title_text=f\"{metric.upper()} Score\", row=row, col=1, type='log')\n",
    "\n",
    "fig.show()\n"
   ]
  },
  {
   "cell_type": "code",
   "execution_count": 4,
   "metadata": {},
   "outputs": [
    {
     "data": {
      "application/vnd.plotly.v1+json": {
       "config": {
        "plotlyServerURL": "https://plot.ly"
       },
       "data": [
        {
         "marker": {
          "color": "#fc6a03"
         },
         "name": "NDCG @5",
         "opacity": 0.6,
         "textposition": "outside",
         "type": "bar",
         "x": [
          "NS"
         ],
         "xaxis": "x",
         "y": [
          0.3545
         ],
         "yaxis": "y"
        },
        {
         "marker": {
          "color": "#fc6a03"
         },
         "name": "NDCG @5",
         "opacity": 0.6,
         "textposition": "outside",
         "type": "bar",
         "x": [
          "NS"
         ],
         "xaxis": "x2",
         "y": [
          0.2338
         ],
         "yaxis": "y2"
        },
        {
         "marker": {
          "color": "#fc6a03"
         },
         "name": "NDCG @5",
         "opacity": 0.6,
         "textposition": "outside",
         "type": "bar",
         "x": [
          "NS"
         ],
         "xaxis": "x3",
         "y": [
          0.156
         ],
         "yaxis": "y3"
        },
        {
         "marker": {
          "color": "#fc6a03"
         },
         "name": "NDCG @5",
         "opacity": 0.6,
         "textposition": "outside",
         "type": "bar",
         "x": [
          "NS"
         ],
         "xaxis": "x4",
         "y": [
          0.2636
         ],
         "yaxis": "y4"
        },
        {
         "marker": {
          "color": "#fc6a03"
         },
         "name": "NDCG @10",
         "opacity": 0.6,
         "text": [
          "0.37"
         ],
         "textposition": "outside",
         "type": "bar",
         "x": [
          "NS"
         ],
         "xaxis": "x",
         "y": [
          0.37
         ],
         "yaxis": "y"
        },
        {
         "marker": {
          "color": "#fc6a03"
         },
         "name": "NDCG @10",
         "opacity": 0.6,
         "text": [
          "0.2611"
         ],
         "textposition": "outside",
         "type": "bar",
         "x": [
          "NS"
         ],
         "xaxis": "x2",
         "y": [
          0.2611
         ],
         "yaxis": "y2"
        },
        {
         "marker": {
          "color": "#fc6a03"
         },
         "name": "NDCG @10",
         "opacity": 0.6,
         "text": [
          "0.1735"
         ],
         "textposition": "outside",
         "type": "bar",
         "x": [
          "NS"
         ],
         "xaxis": "x3",
         "y": [
          0.1735
         ],
         "yaxis": "y3"
        },
        {
         "marker": {
          "color": "#fc6a03"
         },
         "name": "NDCG @10",
         "opacity": 0.6,
         "text": [
          "0.2897"
         ],
         "textposition": "outside",
         "type": "bar",
         "x": [
          "NS"
         ],
         "xaxis": "x4",
         "y": [
          0.2897
         ],
         "yaxis": "y4"
        },
        {
         "marker": {
          "color": "#fc6a03"
         },
         "name": "RECALL @5",
         "opacity": 0.6,
         "textposition": "outside",
         "type": "bar",
         "x": [
          "NS"
         ],
         "xaxis": "x5",
         "y": [
          0.4444
         ],
         "yaxis": "y5"
        },
        {
         "marker": {
          "color": "#fc6a03"
         },
         "name": "RECALL @5",
         "opacity": 0.6,
         "textposition": "outside",
         "type": "bar",
         "x": [
          "NS"
         ],
         "xaxis": "x6",
         "y": [
          0.282
         ],
         "yaxis": "y6"
        },
        {
         "marker": {
          "color": "#fc6a03"
         },
         "name": "RECALL @5",
         "opacity": 0.6,
         "textposition": "outside",
         "type": "bar",
         "x": [
          "NS"
         ],
         "xaxis": "x7",
         "y": [
          0.0484
         ],
         "yaxis": "y7"
        },
        {
         "marker": {
          "color": "#fc6a03"
         },
         "name": "RECALL @5",
         "opacity": 0.6,
         "textposition": "outside",
         "type": "bar",
         "x": [
          "NS"
         ],
         "xaxis": "x8",
         "y": [
          0.3394
         ],
         "yaxis": "y8"
        },
        {
         "marker": {
          "color": "#fc6a03"
         },
         "name": "RECALL @10",
         "opacity": 0.6,
         "text": [
          "0.4921"
         ],
         "textposition": "outside",
         "type": "bar",
         "x": [
          "NS"
         ],
         "xaxis": "x5",
         "y": [
          0.4921
         ],
         "yaxis": "y5"
        },
        {
         "marker": {
          "color": "#fc6a03"
         },
         "name": "RECALL @10",
         "opacity": 0.6,
         "text": [
          "0.3663"
         ],
         "textposition": "outside",
         "type": "bar",
         "x": [
          "NS"
         ],
         "xaxis": "x6",
         "y": [
          0.3663
         ],
         "yaxis": "y6"
        },
        {
         "marker": {
          "color": "#fc6a03"
         },
         "name": "RECALL @10",
         "opacity": 0.6,
         "text": [
          "0.0679"
         ],
         "textposition": "outside",
         "type": "bar",
         "x": [
          "NS"
         ],
         "xaxis": "x7",
         "y": [
          0.0679
         ],
         "yaxis": "y7"
        },
        {
         "marker": {
          "color": "#fc6a03"
         },
         "name": "RECALL @10",
         "opacity": 0.6,
         "text": [
          "0.4197"
         ],
         "textposition": "outside",
         "type": "bar",
         "x": [
          "NS"
         ],
         "xaxis": "x8",
         "y": [
          0.4197
         ],
         "yaxis": "y8"
        },
        {
         "marker": {
          "color": "#fc6a03"
         },
         "name": "MRR @5",
         "opacity": 0.6,
         "textposition": "outside",
         "type": "bar",
         "x": [
          "NS"
         ],
         "xaxis": "x9",
         "y": [
          0.3246
         ],
         "yaxis": "y9"
        },
        {
         "marker": {
          "color": "#fc6a03"
         },
         "name": "MRR @5",
         "opacity": 0.6,
         "textposition": "outside",
         "type": "bar",
         "x": [
          "NS"
         ],
         "xaxis": "x10",
         "y": [
          0.2177
         ],
         "yaxis": "y10"
        },
        {
         "marker": {
          "color": "#fc6a03"
         },
         "name": "MRR @5",
         "opacity": 0.6,
         "textposition": "outside",
         "type": "bar",
         "x": [
          "NS"
         ],
         "xaxis": "x11",
         "y": [
          0.0305
         ],
         "yaxis": "y11"
        },
        {
         "marker": {
          "color": "#fc6a03"
         },
         "name": "MRR @5",
         "opacity": 0.6,
         "textposition": "outside",
         "type": "bar",
         "x": [
          "NS"
         ],
         "xaxis": "x12",
         "y": [
          0.2383
         ],
         "yaxis": "y12"
        },
        {
         "marker": {
          "color": "#fc6a03"
         },
         "name": "MRR @10",
         "opacity": 0.6,
         "text": [
          "0.3311"
         ],
         "textposition": "outside",
         "type": "bar",
         "x": [
          "NS"
         ],
         "xaxis": "x9",
         "y": [
          0.3311
         ],
         "yaxis": "y9"
        },
        {
         "marker": {
          "color": "#fc6a03"
         },
         "name": "MRR @10",
         "opacity": 0.6,
         "text": [
          "0.229"
         ],
         "textposition": "outside",
         "type": "bar",
         "x": [
          "NS"
         ],
         "xaxis": "x10",
         "y": [
          0.229
         ],
         "yaxis": "y10"
        },
        {
         "marker": {
          "color": "#fc6a03"
         },
         "name": "MRR @10",
         "opacity": 0.6,
         "text": [
          "0.033"
         ],
         "textposition": "outside",
         "type": "bar",
         "x": [
          "NS"
         ],
         "xaxis": "x11",
         "y": [
          0.033
         ],
         "yaxis": "y11"
        },
        {
         "marker": {
          "color": "#fc6a03"
         },
         "name": "MRR @10",
         "opacity": 0.6,
         "text": [
          "0.2492"
         ],
         "textposition": "outside",
         "type": "bar",
         "x": [
          "NS"
         ],
         "xaxis": "x12",
         "y": [
          0.2492
         ],
         "yaxis": "y12"
        },
        {
         "marker": {
          "color": "#55bebd "
         },
         "name": "NDCG @5",
         "opacity": 0.6,
         "textposition": "outside",
         "type": "bar",
         "x": [
          "SS"
         ],
         "xaxis": "x",
         "y": [
          0.6936
         ],
         "yaxis": "y"
        },
        {
         "marker": {
          "color": "#55bebd "
         },
         "name": "NDCG @5",
         "opacity": 0.6,
         "textposition": "outside",
         "type": "bar",
         "x": [
          "SS"
         ],
         "xaxis": "x2",
         "y": [
          0.6129
         ],
         "yaxis": "y2"
        },
        {
         "marker": {
          "color": "#55bebd "
         },
         "name": "NDCG @5",
         "opacity": 0.6,
         "textposition": "outside",
         "type": "bar",
         "x": [
          "SS"
         ],
         "xaxis": "x3",
         "y": [
          0.384
         ],
         "yaxis": "y3"
        },
        {
         "marker": {
          "color": "#55bebd "
         },
         "name": "NDCG @5",
         "opacity": 0.6,
         "textposition": "outside",
         "type": "bar",
         "x": [
          "SS"
         ],
         "xaxis": "x4",
         "y": [
          0.5032
         ],
         "yaxis": "y4"
        },
        {
         "marker": {
          "color": "#55bebd "
         },
         "name": "NDCG @10",
         "opacity": 0.6,
         "text": [
          "0.7198"
         ],
         "textposition": "outside",
         "type": "bar",
         "x": [
          "SS"
         ],
         "xaxis": "x",
         "y": [
          0.7198
         ],
         "yaxis": "y"
        },
        {
         "marker": {
          "color": "#55bebd "
         },
         "name": "NDCG @10",
         "opacity": 0.6,
         "text": [
          "0.6418"
         ],
         "textposition": "outside",
         "type": "bar",
         "x": [
          "SS"
         ],
         "xaxis": "x2",
         "y": [
          0.6418
         ],
         "yaxis": "y2"
        },
        {
         "marker": {
          "color": "#55bebd "
         },
         "name": "NDCG @10",
         "opacity": 0.6,
         "text": [
          "0.4109"
         ],
         "textposition": "outside",
         "type": "bar",
         "x": [
          "SS"
         ],
         "xaxis": "x3",
         "y": [
          0.4109
         ],
         "yaxis": "y3"
        },
        {
         "marker": {
          "color": "#55bebd "
         },
         "name": "NDCG @10",
         "opacity": 0.6,
         "text": [
          "0.5391"
         ],
         "textposition": "outside",
         "type": "bar",
         "x": [
          "SS"
         ],
         "xaxis": "x4",
         "y": [
          0.5391
         ],
         "yaxis": "y4"
        },
        {
         "marker": {
          "color": "#55bebd "
         },
         "name": "RECALL @5",
         "opacity": 0.6,
         "textposition": "outside",
         "type": "bar",
         "x": [
          "SS"
         ],
         "xaxis": "x5",
         "y": [
          0.8175
         ],
         "yaxis": "y5"
        },
        {
         "marker": {
          "color": "#55bebd "
         },
         "name": "RECALL @5",
         "opacity": 0.6,
         "textposition": "outside",
         "type": "bar",
         "x": [
          "SS"
         ],
         "xaxis": "x6",
         "y": [
          0.7238
         ],
         "yaxis": "y6"
        },
        {
         "marker": {
          "color": "#55bebd "
         },
         "name": "RECALL @5",
         "opacity": 0.6,
         "textposition": "outside",
         "type": "bar",
         "x": [
          "SS"
         ],
         "xaxis": "x7",
         "y": [
          0.132
         ],
         "yaxis": "y7"
        },
        {
         "marker": {
          "color": "#55bebd "
         },
         "name": "RECALL @5",
         "opacity": 0.6,
         "textposition": "outside",
         "type": "bar",
         "x": [
          "SS"
         ],
         "xaxis": "x8",
         "y": [
          0.6225
         ],
         "yaxis": "y8"
        },
        {
         "marker": {
          "color": "#55bebd "
         },
         "name": "RECALL @10",
         "opacity": 0.6,
         "text": [
          "0.8968"
         ],
         "textposition": "outside",
         "type": "bar",
         "x": [
          "SS"
         ],
         "xaxis": "x5",
         "y": [
          0.8968
         ],
         "yaxis": "y5"
        },
        {
         "marker": {
          "color": "#55bebd "
         },
         "name": "RECALL @10",
         "opacity": 0.6,
         "text": [
          "0.814"
         ],
         "textposition": "outside",
         "type": "bar",
         "x": [
          "SS"
         ],
         "xaxis": "x6",
         "y": [
          0.814
         ],
         "yaxis": "y6"
        },
        {
         "marker": {
          "color": "#55bebd "
         },
         "name": "RECALL @10",
         "opacity": 0.6,
         "text": [
          "0.1677"
         ],
         "textposition": "outside",
         "type": "bar",
         "x": [
          "SS"
         ],
         "xaxis": "x7",
         "y": [
          0.1677
         ],
         "yaxis": "y7"
        },
        {
         "marker": {
          "color": "#55bebd "
         },
         "name": "RECALL @10",
         "opacity": 0.6,
         "text": [
          "0.7329"
         ],
         "textposition": "outside",
         "type": "bar",
         "x": [
          "SS"
         ],
         "xaxis": "x8",
         "y": [
          0.7329
         ],
         "yaxis": "y8"
        },
        {
         "marker": {
          "color": "#55bebd "
         },
         "name": "MRR @5",
         "opacity": 0.6,
         "textposition": "outside",
         "type": "bar",
         "x": [
          "SS"
         ],
         "xaxis": "x9",
         "y": [
          0.652
         ],
         "yaxis": "y9"
        },
        {
         "marker": {
          "color": "#55bebd "
         },
         "name": "MRR @5",
         "opacity": 0.6,
         "textposition": "outside",
         "type": "bar",
         "x": [
          "SS"
         ],
         "xaxis": "x10",
         "y": [
          0.5757
         ],
         "yaxis": "y10"
        },
        {
         "marker": {
          "color": "#55bebd "
         },
         "name": "MRR @5",
         "opacity": 0.6,
         "textposition": "outside",
         "type": "bar",
         "x": [
          "SS"
         ],
         "xaxis": "x11",
         "y": [
          0.0919
         ],
         "yaxis": "y11"
        },
        {
         "marker": {
          "color": "#55bebd "
         },
         "name": "MRR @5",
         "opacity": 0.6,
         "textposition": "outside",
         "type": "bar",
         "x": [
          "SS"
         ],
         "xaxis": "x12",
         "y": [
          0.4633
         ],
         "yaxis": "y12"
        },
        {
         "marker": {
          "color": "#55bebd "
         },
         "name": "MRR @10",
         "opacity": 0.6,
         "text": [
          "0.6631"
         ],
         "textposition": "outside",
         "type": "bar",
         "x": [
          "SS"
         ],
         "xaxis": "x9",
         "y": [
          0.6631
         ],
         "yaxis": "y9"
        },
        {
         "marker": {
          "color": "#55bebd "
         },
         "name": "MRR @10",
         "opacity": 0.6,
         "text": [
          "0.5876"
         ],
         "textposition": "outside",
         "type": "bar",
         "x": [
          "SS"
         ],
         "xaxis": "x10",
         "y": [
          0.5876
         ],
         "yaxis": "y10"
        },
        {
         "marker": {
          "color": "#55bebd "
         },
         "name": "MRR @10",
         "opacity": 0.6,
         "text": [
          "0.0966"
         ],
         "textposition": "outside",
         "type": "bar",
         "x": [
          "SS"
         ],
         "xaxis": "x11",
         "y": [
          0.0966
         ],
         "yaxis": "y11"
        },
        {
         "marker": {
          "color": "#55bebd "
         },
         "name": "MRR @10",
         "opacity": 0.6,
         "text": [
          "0.4782"
         ],
         "textposition": "outside",
         "type": "bar",
         "x": [
          "SS"
         ],
         "xaxis": "x12",
         "y": [
          0.4782
         ],
         "yaxis": "y12"
        },
        {
         "marker": {
          "color": "#e377c2"
         },
         "name": "NDCG @5",
         "opacity": 0.6,
         "textposition": "outside",
         "type": "bar",
         "x": [
          "LS"
         ],
         "xaxis": "x",
         "y": [
          0.711
         ],
         "yaxis": "y"
        },
        {
         "marker": {
          "color": "#e377c2"
         },
         "name": "NDCG @5",
         "opacity": 0.6,
         "textposition": "outside",
         "type": "bar",
         "x": [
          "LS"
         ],
         "xaxis": "x2",
         "y": [
          0.602
         ],
         "yaxis": "y2"
        },
        {
         "marker": {
          "color": "#e377c2"
         },
         "name": "NDCG @5",
         "opacity": 0.6,
         "textposition": "outside",
         "type": "bar",
         "x": [
          "LS"
         ],
         "xaxis": "x3",
         "y": [
          0.3976
         ],
         "yaxis": "y3"
        },
        {
         "marker": {
          "color": "#e377c2"
         },
         "name": "NDCG @5",
         "opacity": 0.6,
         "textposition": "outside",
         "type": "bar",
         "x": [
          "LS"
         ],
         "xaxis": "x4",
         "y": [
          0.5124
         ],
         "yaxis": "y4"
        },
        {
         "marker": {
          "color": "#e377c2"
         },
         "name": "NDCG @10",
         "opacity": 0.6,
         "text": [
          "0.7348"
         ],
         "textposition": "outside",
         "type": "bar",
         "x": [
          "LS"
         ],
         "xaxis": "x",
         "y": [
          0.7348
         ],
         "yaxis": "y"
        },
        {
         "marker": {
          "color": "#e377c2"
         },
         "name": "NDCG @10",
         "opacity": 0.6,
         "text": [
          "0.6324"
         ],
         "textposition": "outside",
         "type": "bar",
         "x": [
          "LS"
         ],
         "xaxis": "x2",
         "y": [
          0.6324
         ],
         "yaxis": "y2"
        },
        {
         "marker": {
          "color": "#e377c2"
         },
         "name": "NDCG @10",
         "opacity": 0.6,
         "text": [
          "0.4234"
         ],
         "textposition": "outside",
         "type": "bar",
         "x": [
          "LS"
         ],
         "xaxis": "x3",
         "y": [
          0.4234
         ],
         "yaxis": "y3"
        },
        {
         "marker": {
          "color": "#e377c2"
         },
         "name": "NDCG @10",
         "opacity": 0.6,
         "text": [
          "0.5489"
         ],
         "textposition": "outside",
         "type": "bar",
         "x": [
          "LS"
         ],
         "xaxis": "x4",
         "y": [
          0.5489
         ],
         "yaxis": "y4"
        },
        {
         "marker": {
          "color": "#e377c2"
         },
         "name": "RECALL @5",
         "opacity": 0.6,
         "textposition": "outside",
         "type": "bar",
         "x": [
          "LS"
         ],
         "xaxis": "x5",
         "y": [
          0.8333
         ],
         "yaxis": "y5"
        },
        {
         "marker": {
          "color": "#e377c2"
         },
         "name": "RECALL @5",
         "opacity": 0.6,
         "textposition": "outside",
         "type": "bar",
         "x": [
          "LS"
         ],
         "xaxis": "x6",
         "y": [
          0.718
         ],
         "yaxis": "y6"
        },
        {
         "marker": {
          "color": "#e377c2"
         },
         "name": "RECALL @5",
         "opacity": 0.6,
         "textposition": "outside",
         "type": "bar",
         "x": [
          "LS"
         ],
         "xaxis": "x7",
         "y": [
          0.1348
         ],
         "yaxis": "y7"
        },
        {
         "marker": {
          "color": "#e377c2"
         },
         "name": "RECALL @5",
         "opacity": 0.6,
         "textposition": "outside",
         "type": "bar",
         "x": [
          "LS"
         ],
         "xaxis": "x8",
         "y": [
          0.6225
         ],
         "yaxis": "y8"
        },
        {
         "marker": {
          "color": "#e377c2"
         },
         "name": "RECALL @10",
         "opacity": 0.6,
         "text": [
          "0.9048"
         ],
         "textposition": "outside",
         "type": "bar",
         "x": [
          "LS"
         ],
         "xaxis": "x5",
         "y": [
          0.9048
         ],
         "yaxis": "y5"
        },
        {
         "marker": {
          "color": "#e377c2"
         },
         "name": "RECALL @10",
         "opacity": 0.6,
         "text": [
          "0.814"
         ],
         "textposition": "outside",
         "type": "bar",
         "x": [
          "LS"
         ],
         "xaxis": "x6",
         "y": [
          0.814
         ],
         "yaxis": "y6"
        },
        {
         "marker": {
          "color": "#e377c2"
         },
         "name": "RECALL @10",
         "opacity": 0.6,
         "text": [
          "0.1748"
         ],
         "textposition": "outside",
         "type": "bar",
         "x": [
          "LS"
         ],
         "xaxis": "x7",
         "y": [
          0.1748
         ],
         "yaxis": "y7"
        },
        {
         "marker": {
          "color": "#e377c2"
         },
         "name": "RECALL @10",
         "opacity": 0.6,
         "text": [
          "0.7369"
         ],
         "textposition": "outside",
         "type": "bar",
         "x": [
          "LS"
         ],
         "xaxis": "x8",
         "y": [
          0.7369
         ],
         "yaxis": "y8"
        },
        {
         "marker": {
          "color": "#e377c2"
         },
         "name": "MRR @5",
         "opacity": 0.6,
         "textposition": "outside",
         "type": "bar",
         "x": [
          "LS"
         ],
         "xaxis": "x9",
         "y": [
          0.6698
         ],
         "yaxis": "y9"
        },
        {
         "marker": {
          "color": "#e377c2"
         },
         "name": "MRR @5",
         "opacity": 0.6,
         "textposition": "outside",
         "type": "bar",
         "x": [
          "LS"
         ],
         "xaxis": "x10",
         "y": [
          0.563
         ],
         "yaxis": "y10"
        },
        {
         "marker": {
          "color": "#e377c2"
         },
         "name": "MRR @5",
         "opacity": 0.6,
         "textposition": "outside",
         "type": "bar",
         "x": [
          "LS"
         ],
         "xaxis": "x11",
         "y": [
          0.0965
         ],
         "yaxis": "y11"
        },
        {
         "marker": {
          "color": "#e377c2"
         },
         "name": "MRR @5",
         "opacity": 0.6,
         "textposition": "outside",
         "type": "bar",
         "x": [
          "LS"
         ],
         "xaxis": "x12",
         "y": [
          0.4758
         ],
         "yaxis": "y12"
        },
        {
         "marker": {
          "color": "#e377c2"
         },
         "name": "MRR @10",
         "opacity": 0.6,
         "text": [
          "0.6801"
         ],
         "textposition": "outside",
         "type": "bar",
         "x": [
          "LS"
         ],
         "xaxis": "x9",
         "y": [
          0.6801
         ],
         "yaxis": "y9"
        },
        {
         "marker": {
          "color": "#e377c2"
         },
         "name": "MRR @10",
         "opacity": 0.6,
         "text": [
          "0.5752"
         ],
         "textposition": "outside",
         "type": "bar",
         "x": [
          "LS"
         ],
         "xaxis": "x10",
         "y": [
          0.5752
         ],
         "yaxis": "y10"
        },
        {
         "marker": {
          "color": "#e377c2"
         },
         "name": "MRR @10",
         "opacity": 0.6,
         "text": [
          "0.1017"
         ],
         "textposition": "outside",
         "type": "bar",
         "x": [
          "LS"
         ],
         "xaxis": "x11",
         "y": [
          0.1017
         ],
         "yaxis": "y11"
        },
        {
         "marker": {
          "color": "#e377c2"
         },
         "name": "MRR @10",
         "opacity": 0.6,
         "text": [
          "0.4906"
         ],
         "textposition": "outside",
         "type": "bar",
         "x": [
          "LS"
         ],
         "xaxis": "x12",
         "y": [
          0.4906
         ],
         "yaxis": "y12"
        }
       ],
       "layout": {
        "annotations": [
         {
          "font": {
           "size": 16
          },
          "showarrow": false,
          "text": "ConvFinQA",
          "x": 0.10625,
          "xanchor": "center",
          "xref": "paper",
          "y": 1,
          "yanchor": "bottom",
          "yref": "paper"
         },
         {
          "font": {
           "size": 16
          },
          "showarrow": false,
          "text": "FinQA",
          "x": 0.36875,
          "xanchor": "center",
          "xref": "paper",
          "y": 1,
          "yanchor": "bottom",
          "yref": "paper"
         },
         {
          "font": {
           "size": 16
          },
          "showarrow": false,
          "text": "MultiHeritt",
          "x": 0.6312500000000001,
          "xanchor": "center",
          "xref": "paper",
          "y": 1,
          "yanchor": "bottom",
          "yref": "paper"
         },
         {
          "font": {
           "size": 16
          },
          "showarrow": false,
          "text": "TATQA",
          "x": 0.89375,
          "xanchor": "center",
          "xref": "paper",
          "y": 1,
          "yanchor": "bottom",
          "yref": "paper"
         },
         {
          "font": {
           "size": 16
          },
          "showarrow": false,
          "text": "ConvFinQA",
          "x": 0.10625,
          "xanchor": "center",
          "xref": "paper",
          "y": 0.6111111111111112,
          "yanchor": "bottom",
          "yref": "paper"
         },
         {
          "font": {
           "size": 16
          },
          "showarrow": false,
          "text": "FinQA",
          "x": 0.36875,
          "xanchor": "center",
          "xref": "paper",
          "y": 0.6111111111111112,
          "yanchor": "bottom",
          "yref": "paper"
         },
         {
          "font": {
           "size": 16
          },
          "showarrow": false,
          "text": "MultiHeritt",
          "x": 0.6312500000000001,
          "xanchor": "center",
          "xref": "paper",
          "y": 0.6111111111111112,
          "yanchor": "bottom",
          "yref": "paper"
         },
         {
          "font": {
           "size": 16
          },
          "showarrow": false,
          "text": "TATQA",
          "x": 0.89375,
          "xanchor": "center",
          "xref": "paper",
          "y": 0.6111111111111112,
          "yanchor": "bottom",
          "yref": "paper"
         },
         {
          "font": {
           "size": 16
          },
          "showarrow": false,
          "text": "ConvFinQA",
          "x": 0.10625,
          "xanchor": "center",
          "xref": "paper",
          "y": 0.22222222222222224,
          "yanchor": "bottom",
          "yref": "paper"
         },
         {
          "font": {
           "size": 16
          },
          "showarrow": false,
          "text": "FinQA",
          "x": 0.36875,
          "xanchor": "center",
          "xref": "paper",
          "y": 0.22222222222222224,
          "yanchor": "bottom",
          "yref": "paper"
         },
         {
          "font": {
           "size": 16
          },
          "showarrow": false,
          "text": "MultiHeritt",
          "x": 0.6312500000000001,
          "xanchor": "center",
          "xref": "paper",
          "y": 0.22222222222222224,
          "yanchor": "bottom",
          "yref": "paper"
         },
         {
          "font": {
           "size": 16
          },
          "showarrow": false,
          "text": "TATQA",
          "x": 0.89375,
          "xanchor": "center",
          "xref": "paper",
          "y": 0.22222222222222224,
          "yanchor": "bottom",
          "yref": "paper"
         }
        ],
        "bargap": 0.1,
        "barmode": "overlay",
        "height": 1400,
        "showlegend": false,
        "template": {
         "data": {
          "bar": [
           {
            "error_x": {
             "color": "#2a3f5f"
            },
            "error_y": {
             "color": "#2a3f5f"
            },
            "marker": {
             "line": {
              "color": "#E5ECF6",
              "width": 0.5
             },
             "pattern": {
              "fillmode": "overlay",
              "size": 10,
              "solidity": 0.2
             }
            },
            "type": "bar"
           }
          ],
          "barpolar": [
           {
            "marker": {
             "line": {
              "color": "#E5ECF6",
              "width": 0.5
             },
             "pattern": {
              "fillmode": "overlay",
              "size": 10,
              "solidity": 0.2
             }
            },
            "type": "barpolar"
           }
          ],
          "carpet": [
           {
            "aaxis": {
             "endlinecolor": "#2a3f5f",
             "gridcolor": "white",
             "linecolor": "white",
             "minorgridcolor": "white",
             "startlinecolor": "#2a3f5f"
            },
            "baxis": {
             "endlinecolor": "#2a3f5f",
             "gridcolor": "white",
             "linecolor": "white",
             "minorgridcolor": "white",
             "startlinecolor": "#2a3f5f"
            },
            "type": "carpet"
           }
          ],
          "choropleth": [
           {
            "colorbar": {
             "outlinewidth": 0,
             "ticks": ""
            },
            "type": "choropleth"
           }
          ],
          "contour": [
           {
            "colorbar": {
             "outlinewidth": 0,
             "ticks": ""
            },
            "colorscale": [
             [
              0,
              "#0d0887"
             ],
             [
              0.1111111111111111,
              "#46039f"
             ],
             [
              0.2222222222222222,
              "#7201a8"
             ],
             [
              0.3333333333333333,
              "#9c179e"
             ],
             [
              0.4444444444444444,
              "#bd3786"
             ],
             [
              0.5555555555555556,
              "#d8576b"
             ],
             [
              0.6666666666666666,
              "#ed7953"
             ],
             [
              0.7777777777777778,
              "#fb9f3a"
             ],
             [
              0.8888888888888888,
              "#fdca26"
             ],
             [
              1,
              "#f0f921"
             ]
            ],
            "type": "contour"
           }
          ],
          "contourcarpet": [
           {
            "colorbar": {
             "outlinewidth": 0,
             "ticks": ""
            },
            "type": "contourcarpet"
           }
          ],
          "heatmap": [
           {
            "colorbar": {
             "outlinewidth": 0,
             "ticks": ""
            },
            "colorscale": [
             [
              0,
              "#0d0887"
             ],
             [
              0.1111111111111111,
              "#46039f"
             ],
             [
              0.2222222222222222,
              "#7201a8"
             ],
             [
              0.3333333333333333,
              "#9c179e"
             ],
             [
              0.4444444444444444,
              "#bd3786"
             ],
             [
              0.5555555555555556,
              "#d8576b"
             ],
             [
              0.6666666666666666,
              "#ed7953"
             ],
             [
              0.7777777777777778,
              "#fb9f3a"
             ],
             [
              0.8888888888888888,
              "#fdca26"
             ],
             [
              1,
              "#f0f921"
             ]
            ],
            "type": "heatmap"
           }
          ],
          "histogram": [
           {
            "marker": {
             "pattern": {
              "fillmode": "overlay",
              "size": 10,
              "solidity": 0.2
             }
            },
            "type": "histogram"
           }
          ],
          "histogram2d": [
           {
            "colorbar": {
             "outlinewidth": 0,
             "ticks": ""
            },
            "colorscale": [
             [
              0,
              "#0d0887"
             ],
             [
              0.1111111111111111,
              "#46039f"
             ],
             [
              0.2222222222222222,
              "#7201a8"
             ],
             [
              0.3333333333333333,
              "#9c179e"
             ],
             [
              0.4444444444444444,
              "#bd3786"
             ],
             [
              0.5555555555555556,
              "#d8576b"
             ],
             [
              0.6666666666666666,
              "#ed7953"
             ],
             [
              0.7777777777777778,
              "#fb9f3a"
             ],
             [
              0.8888888888888888,
              "#fdca26"
             ],
             [
              1,
              "#f0f921"
             ]
            ],
            "type": "histogram2d"
           }
          ],
          "histogram2dcontour": [
           {
            "colorbar": {
             "outlinewidth": 0,
             "ticks": ""
            },
            "colorscale": [
             [
              0,
              "#0d0887"
             ],
             [
              0.1111111111111111,
              "#46039f"
             ],
             [
              0.2222222222222222,
              "#7201a8"
             ],
             [
              0.3333333333333333,
              "#9c179e"
             ],
             [
              0.4444444444444444,
              "#bd3786"
             ],
             [
              0.5555555555555556,
              "#d8576b"
             ],
             [
              0.6666666666666666,
              "#ed7953"
             ],
             [
              0.7777777777777778,
              "#fb9f3a"
             ],
             [
              0.8888888888888888,
              "#fdca26"
             ],
             [
              1,
              "#f0f921"
             ]
            ],
            "type": "histogram2dcontour"
           }
          ],
          "mesh3d": [
           {
            "colorbar": {
             "outlinewidth": 0,
             "ticks": ""
            },
            "type": "mesh3d"
           }
          ],
          "parcoords": [
           {
            "line": {
             "colorbar": {
              "outlinewidth": 0,
              "ticks": ""
             }
            },
            "type": "parcoords"
           }
          ],
          "pie": [
           {
            "automargin": true,
            "type": "pie"
           }
          ],
          "scatter": [
           {
            "fillpattern": {
             "fillmode": "overlay",
             "size": 10,
             "solidity": 0.2
            },
            "type": "scatter"
           }
          ],
          "scatter3d": [
           {
            "line": {
             "colorbar": {
              "outlinewidth": 0,
              "ticks": ""
             }
            },
            "marker": {
             "colorbar": {
              "outlinewidth": 0,
              "ticks": ""
             }
            },
            "type": "scatter3d"
           }
          ],
          "scattercarpet": [
           {
            "marker": {
             "colorbar": {
              "outlinewidth": 0,
              "ticks": ""
             }
            },
            "type": "scattercarpet"
           }
          ],
          "scattergeo": [
           {
            "marker": {
             "colorbar": {
              "outlinewidth": 0,
              "ticks": ""
             }
            },
            "type": "scattergeo"
           }
          ],
          "scattergl": [
           {
            "marker": {
             "colorbar": {
              "outlinewidth": 0,
              "ticks": ""
             }
            },
            "type": "scattergl"
           }
          ],
          "scattermap": [
           {
            "marker": {
             "colorbar": {
              "outlinewidth": 0,
              "ticks": ""
             }
            },
            "type": "scattermap"
           }
          ],
          "scattermapbox": [
           {
            "marker": {
             "colorbar": {
              "outlinewidth": 0,
              "ticks": ""
             }
            },
            "type": "scattermapbox"
           }
          ],
          "scatterpolar": [
           {
            "marker": {
             "colorbar": {
              "outlinewidth": 0,
              "ticks": ""
             }
            },
            "type": "scatterpolar"
           }
          ],
          "scatterpolargl": [
           {
            "marker": {
             "colorbar": {
              "outlinewidth": 0,
              "ticks": ""
             }
            },
            "type": "scatterpolargl"
           }
          ],
          "scatterternary": [
           {
            "marker": {
             "colorbar": {
              "outlinewidth": 0,
              "ticks": ""
             }
            },
            "type": "scatterternary"
           }
          ],
          "surface": [
           {
            "colorbar": {
             "outlinewidth": 0,
             "ticks": ""
            },
            "colorscale": [
             [
              0,
              "#0d0887"
             ],
             [
              0.1111111111111111,
              "#46039f"
             ],
             [
              0.2222222222222222,
              "#7201a8"
             ],
             [
              0.3333333333333333,
              "#9c179e"
             ],
             [
              0.4444444444444444,
              "#bd3786"
             ],
             [
              0.5555555555555556,
              "#d8576b"
             ],
             [
              0.6666666666666666,
              "#ed7953"
             ],
             [
              0.7777777777777778,
              "#fb9f3a"
             ],
             [
              0.8888888888888888,
              "#fdca26"
             ],
             [
              1,
              "#f0f921"
             ]
            ],
            "type": "surface"
           }
          ],
          "table": [
           {
            "cells": {
             "fill": {
              "color": "#EBF0F8"
             },
             "line": {
              "color": "white"
             }
            },
            "header": {
             "fill": {
              "color": "#C8D4E3"
             },
             "line": {
              "color": "white"
             }
            },
            "type": "table"
           }
          ]
         },
         "layout": {
          "annotationdefaults": {
           "arrowcolor": "#2a3f5f",
           "arrowhead": 0,
           "arrowwidth": 1
          },
          "autotypenumbers": "strict",
          "coloraxis": {
           "colorbar": {
            "outlinewidth": 0,
            "ticks": ""
           }
          },
          "colorscale": {
           "diverging": [
            [
             0,
             "#8e0152"
            ],
            [
             0.1,
             "#c51b7d"
            ],
            [
             0.2,
             "#de77ae"
            ],
            [
             0.3,
             "#f1b6da"
            ],
            [
             0.4,
             "#fde0ef"
            ],
            [
             0.5,
             "#f7f7f7"
            ],
            [
             0.6,
             "#e6f5d0"
            ],
            [
             0.7,
             "#b8e186"
            ],
            [
             0.8,
             "#7fbc41"
            ],
            [
             0.9,
             "#4d9221"
            ],
            [
             1,
             "#276419"
            ]
           ],
           "sequential": [
            [
             0,
             "#0d0887"
            ],
            [
             0.1111111111111111,
             "#46039f"
            ],
            [
             0.2222222222222222,
             "#7201a8"
            ],
            [
             0.3333333333333333,
             "#9c179e"
            ],
            [
             0.4444444444444444,
             "#bd3786"
            ],
            [
             0.5555555555555556,
             "#d8576b"
            ],
            [
             0.6666666666666666,
             "#ed7953"
            ],
            [
             0.7777777777777778,
             "#fb9f3a"
            ],
            [
             0.8888888888888888,
             "#fdca26"
            ],
            [
             1,
             "#f0f921"
            ]
           ],
           "sequentialminus": [
            [
             0,
             "#0d0887"
            ],
            [
             0.1111111111111111,
             "#46039f"
            ],
            [
             0.2222222222222222,
             "#7201a8"
            ],
            [
             0.3333333333333333,
             "#9c179e"
            ],
            [
             0.4444444444444444,
             "#bd3786"
            ],
            [
             0.5555555555555556,
             "#d8576b"
            ],
            [
             0.6666666666666666,
             "#ed7953"
            ],
            [
             0.7777777777777778,
             "#fb9f3a"
            ],
            [
             0.8888888888888888,
             "#fdca26"
            ],
            [
             1,
             "#f0f921"
            ]
           ]
          },
          "colorway": [
           "#636efa",
           "#EF553B",
           "#00cc96",
           "#ab63fa",
           "#FFA15A",
           "#19d3f3",
           "#FF6692",
           "#B6E880",
           "#FF97FF",
           "#FECB52"
          ],
          "font": {
           "color": "#2a3f5f"
          },
          "geo": {
           "bgcolor": "white",
           "lakecolor": "white",
           "landcolor": "#E5ECF6",
           "showlakes": true,
           "showland": true,
           "subunitcolor": "white"
          },
          "hoverlabel": {
           "align": "left"
          },
          "hovermode": "closest",
          "mapbox": {
           "style": "light"
          },
          "paper_bgcolor": "white",
          "plot_bgcolor": "#E5ECF6",
          "polar": {
           "angularaxis": {
            "gridcolor": "white",
            "linecolor": "white",
            "ticks": ""
           },
           "bgcolor": "#E5ECF6",
           "radialaxis": {
            "gridcolor": "white",
            "linecolor": "white",
            "ticks": ""
           }
          },
          "scene": {
           "xaxis": {
            "backgroundcolor": "#E5ECF6",
            "gridcolor": "white",
            "gridwidth": 2,
            "linecolor": "white",
            "showbackground": true,
            "ticks": "",
            "zerolinecolor": "white"
           },
           "yaxis": {
            "backgroundcolor": "#E5ECF6",
            "gridcolor": "white",
            "gridwidth": 2,
            "linecolor": "white",
            "showbackground": true,
            "ticks": "",
            "zerolinecolor": "white"
           },
           "zaxis": {
            "backgroundcolor": "#E5ECF6",
            "gridcolor": "white",
            "gridwidth": 2,
            "linecolor": "white",
            "showbackground": true,
            "ticks": "",
            "zerolinecolor": "white"
           }
          },
          "shapedefaults": {
           "line": {
            "color": "#2a3f5f"
           }
          },
          "ternary": {
           "aaxis": {
            "gridcolor": "white",
            "linecolor": "white",
            "ticks": ""
           },
           "baxis": {
            "gridcolor": "white",
            "linecolor": "white",
            "ticks": ""
           },
           "bgcolor": "#E5ECF6",
           "caxis": {
            "gridcolor": "white",
            "linecolor": "white",
            "ticks": ""
           }
          },
          "title": {
           "x": 0.05
          },
          "xaxis": {
           "automargin": true,
           "gridcolor": "white",
           "linecolor": "white",
           "ticks": "",
           "title": {
            "standoff": 15
           },
           "zerolinecolor": "white",
           "zerolinewidth": 2
          },
          "yaxis": {
           "automargin": true,
           "gridcolor": "white",
           "linecolor": "white",
           "ticks": "",
           "title": {
            "standoff": 15
           },
           "zerolinecolor": "white",
           "zerolinewidth": 2
          }
         }
        },
        "title": {
         "text": "Comparison of Approaches per Dataset and Metric"
        },
        "width": 1400,
        "xaxis": {
         "anchor": "y",
         "domain": [
          0,
          0.2125
         ],
         "title": {
          "text": "Approaches"
         }
        },
        "xaxis10": {
         "anchor": "y10",
         "domain": [
          0.2625,
          0.475
         ],
         "title": {
          "text": "Approaches"
         }
        },
        "xaxis11": {
         "anchor": "y11",
         "domain": [
          0.525,
          0.7375
         ],
         "title": {
          "text": "Approaches"
         }
        },
        "xaxis12": {
         "anchor": "y12",
         "domain": [
          0.7875,
          1
         ],
         "title": {
          "text": "Approaches"
         }
        },
        "xaxis2": {
         "anchor": "y2",
         "domain": [
          0.2625,
          0.475
         ],
         "title": {
          "text": "Approaches"
         }
        },
        "xaxis3": {
         "anchor": "y3",
         "domain": [
          0.525,
          0.7375
         ],
         "title": {
          "text": "Approaches"
         }
        },
        "xaxis4": {
         "anchor": "y4",
         "domain": [
          0.7875,
          1
         ],
         "title": {
          "text": "Approaches"
         }
        },
        "xaxis5": {
         "anchor": "y5",
         "domain": [
          0,
          0.2125
         ],
         "title": {
          "text": "Approaches"
         }
        },
        "xaxis6": {
         "anchor": "y6",
         "domain": [
          0.2625,
          0.475
         ],
         "title": {
          "text": "Approaches"
         }
        },
        "xaxis7": {
         "anchor": "y7",
         "domain": [
          0.525,
          0.7375
         ],
         "title": {
          "text": "Approaches"
         }
        },
        "xaxis8": {
         "anchor": "y8",
         "domain": [
          0.7875,
          1
         ],
         "title": {
          "text": "Approaches"
         }
        },
        "xaxis9": {
         "anchor": "y9",
         "domain": [
          0,
          0.2125
         ],
         "title": {
          "text": "Approaches"
         }
        },
        "yaxis": {
         "anchor": "x",
         "domain": [
          0.7777777777777778,
          1
         ],
         "range": [
          0,
          0.9
         ],
         "title": {
          "text": "NDCG Score"
         }
        },
        "yaxis10": {
         "anchor": "x10",
         "domain": [
          0,
          0.22222222222222224
         ],
         "range": [
          0,
          0.8
         ]
        },
        "yaxis11": {
         "anchor": "x11",
         "domain": [
          0,
          0.22222222222222224
         ],
         "range": [
          0,
          0.8
         ]
        },
        "yaxis12": {
         "anchor": "x12",
         "domain": [
          0,
          0.22222222222222224
         ],
         "range": [
          0,
          0.8
         ]
        },
        "yaxis2": {
         "anchor": "x2",
         "domain": [
          0.7777777777777778,
          1
         ],
         "range": [
          0,
          0.9
         ]
        },
        "yaxis3": {
         "anchor": "x3",
         "domain": [
          0.7777777777777778,
          1
         ],
         "range": [
          0,
          0.9
         ]
        },
        "yaxis4": {
         "anchor": "x4",
         "domain": [
          0.7777777777777778,
          1
         ],
         "range": [
          0,
          0.9
         ]
        },
        "yaxis5": {
         "anchor": "x5",
         "domain": [
          0.3888888888888889,
          0.6111111111111112
         ],
         "range": [
          0,
          1
         ],
         "title": {
          "text": "RECALL Score"
         }
        },
        "yaxis6": {
         "anchor": "x6",
         "domain": [
          0.3888888888888889,
          0.6111111111111112
         ],
         "range": [
          0,
          1
         ]
        },
        "yaxis7": {
         "anchor": "x7",
         "domain": [
          0.3888888888888889,
          0.6111111111111112
         ],
         "range": [
          0,
          1
         ]
        },
        "yaxis8": {
         "anchor": "x8",
         "domain": [
          0.3888888888888889,
          0.6111111111111112
         ],
         "range": [
          0,
          1
         ]
        },
        "yaxis9": {
         "anchor": "x9",
         "domain": [
          0,
          0.22222222222222224
         ],
         "range": [
          0,
          0.8
         ],
         "title": {
          "text": "MRR Score"
         }
        }
       }
      }
     },
     "metadata": {},
     "output_type": "display_data"
    }
   ],
   "source": [
    "import pandas as pd\n",
    "import plotly.graph_objects as go\n",
    "import plotly.subplots as sp\n",
    "\n",
    "# Read the three dataframes\n",
    "df_results_ns = pd.read_excel(\"df_results_ns.xlsx\")\n",
    "df_results_ss = pd.read_excel(\"df_results_ss.xlsx\")\n",
    "df_results_ls = pd.read_excel(\"df_results_ls.xlsx\")\n",
    "\n",
    "# Melt data for easy processing and add the approach labels\n",
    "df_ns_long = pd.melt(df_results_ns, id_vars=['dataset'], var_name='metric', value_name='value')\n",
    "df_ss_long = pd.melt(df_results_ss, id_vars=['dataset'], var_name='metric', value_name='value')\n",
    "df_ls_long = pd.melt(df_results_ls, id_vars=['dataset'], var_name='metric', value_name='value')\n",
    "\n",
    "df_ns_long['approach'] = 'NS'\n",
    "df_ss_long['approach'] = 'SS'\n",
    "df_ls_long['approach'] = 'LS'\n",
    "\n",
    "# Combine all data\n",
    "df_long = pd.concat([df_ns_long, df_ss_long, df_ls_long])\n",
    "\n",
    "# Extract metric base (ndcg, recall, mrr) and type (@5, @10)\n",
    "df_long[\"metric_base\"] = df_long[\"metric\"].str.replace(r'_5|_10', '', regex=True)\n",
    "df_long[\"metric_type\"] = df_long[\"metric\"].str.extract(r'(5|10)').astype(int)\n",
    "\n",
    "# Define colors for each approach\n",
    "approach_colors = {\n",
    "    'NS': '#fc6a03',  # Red for NS\n",
    "    'SS': '#55bebd ',  # Green for SS\n",
    "    'LS': '#e377c2'   # Blue for LS\n",
    "}\n",
    "\n",
    "# Define datasets and metrics\n",
    "datasets = df_results_ls['dataset'].unique()\n",
    "metrics = ['ndcg', 'recall', 'mrr']\n",
    "\n",
    "# Create subplots: 3 rows (metrics) × 4 columns (datasets)\n",
    "fig = sp.make_subplots(\n",
    "    rows=3, cols=4,\n",
    "    subplot_titles=[f\"{dataset}\" for metric in metrics for dataset in datasets],\n",
    "    shared_yaxes=False\n",
    ")\n",
    "\n",
    "# Mapping for subplot placement\n",
    "metric_positions = {'ndcg': 1, 'recall': 2, 'mrr': 3}\n",
    "dataset_positions = {dataset: i+1 for i, dataset in enumerate(datasets)}\n",
    "\n",
    "# Plot data\n",
    "for _, row in df_long.iterrows():\n",
    "    dataset = row['dataset']\n",
    "    metric = row['metric_base']\n",
    "    metric_type = row['metric_type']\n",
    "    approach = row['approach']\n",
    "    value = row['value']\n",
    "    \n",
    "    row_idx = metric_positions[metric]  # Metrics define the row\n",
    "    col_idx = dataset_positions[dataset]  # Datasets define the column\n",
    "\n",
    "    if metric_type == 10:\n",
    "        fig.add_trace(\n",
    "            go.Bar(\n",
    "            x=[approach],  \n",
    "            y=[value], \n",
    "            name=f\"{metric.upper()} @{metric_type}\",\n",
    "            marker=dict(color=approach_colors[approach]),  # Color by approach\n",
    "            opacity=0.6,\n",
    "            textposition='outside',\n",
    "            text=[value]  # Add the value as text on the bar\n",
    "            ),\n",
    "            row=row_idx, col=col_idx\n",
    "        )\n",
    "    else:\n",
    "        fig.add_trace(\n",
    "            go.Bar(\n",
    "                x=[approach],  \n",
    "                y=[value], \n",
    "                name=f\"{metric.upper()} @{metric_type}\",\n",
    "                marker=dict(color=approach_colors[approach]),  # Color by approach\n",
    "                opacity=0.6,\n",
    "                textposition='outside'  # Position text outside the bar\n",
    "            ),\n",
    "            row=row_idx, col=col_idx\n",
    "        )\n",
    "\n",
    "# Update layout\n",
    "fig.update_layout(\n",
    "    title=\"Comparison of Approaches per Dataset and Metric\",\n",
    "    height=1400, width=1400,\n",
    "    bargap=0.1,  # Increase gap between bars to make them narrower\n",
    "    barmode=\"overlay\",\n",
    "    xaxis_title=\"Approaches\",\n",
    "    yaxis_title=\"Metric Score\",\n",
    "    showlegend=False\n",
    ")\n",
    "\n",
    "# Update axis titles per row (corrected for metric names)\n",
    "for metric, row in metric_positions.items():\n",
    "    fig.update_yaxes(title_text=f\"{metric.upper()} Score\", range=[0, 1], row=row, col=1)\n",
    "    for col in range(1, len(datasets) + 1): \n",
    "        fig.update_xaxes(title_text=\"Approaches\", row=row, col=col)\n",
    "\n",
    "# for metric, row in metric_positions.items():\n",
    "#     for col in range(1, len(datasets) + 1):  # Iterate over all dataset columns\n",
    "#         fig.update_yaxes(title_text=f\"{metric.upper()} Score\", range=[0, 1], row=row, col=col)\n",
    "\n",
    "for col in range(1, len(datasets) + 1): \n",
    "    fig.update_yaxes(range=[0, 0.9], row=1, col=col)\n",
    "    fig.update_yaxes(range=[0, 1], row=2, col=col)\n",
    "    fig.update_yaxes(range=[0, 0.8], row=3, col=col)\n",
    "\n",
    "fig.show()\n"
   ]
  },
  {
   "cell_type": "markdown",
   "metadata": {},
   "source": [
    "Fissato l'approccio migliore mostra le performance sui diversi dataset"
   ]
  },
  {
   "cell_type": "code",
   "execution_count": 60,
   "metadata": {},
   "outputs": [
    {
     "data": {
      "application/vnd.plotly.v1+json": {
       "config": {
        "plotlyServerURL": "https://plot.ly"
       },
       "data": [
        {
         "marker": {
          "color": "#fc6a03"
         },
         "opacity": 0.6,
         "type": "bar",
         "x": [
          "ndcg"
         ],
         "xaxis": "x",
         "y": [
          0.711
         ],
         "yaxis": "y"
        },
        {
         "marker": {
          "color": "#fc6a03"
         },
         "opacity": 0.6,
         "type": "bar",
         "x": [
          "ndcg"
         ],
         "xaxis": "x2",
         "y": [
          0.602
         ],
         "yaxis": "y2"
        },
        {
         "marker": {
          "color": "#fc6a03"
         },
         "opacity": 0.6,
         "type": "bar",
         "x": [
          "ndcg"
         ],
         "xaxis": "x3",
         "y": [
          0.3976
         ],
         "yaxis": "y3"
        },
        {
         "marker": {
          "color": "#fc6a03"
         },
         "opacity": 0.6,
         "type": "bar",
         "x": [
          "ndcg"
         ],
         "xaxis": "x4",
         "y": [
          0.5124
         ],
         "yaxis": "y4"
        },
        {
         "marker": {
          "color": "#fc6a03"
         },
         "opacity": 0.4,
         "type": "bar",
         "x": [
          "ndcg"
         ],
         "xaxis": "x",
         "y": [
          0.7348
         ],
         "yaxis": "y"
        },
        {
         "marker": {
          "color": "#fc6a03"
         },
         "opacity": 0.4,
         "type": "bar",
         "x": [
          "ndcg"
         ],
         "xaxis": "x2",
         "y": [
          0.6324
         ],
         "yaxis": "y2"
        },
        {
         "marker": {
          "color": "#fc6a03"
         },
         "opacity": 0.4,
         "type": "bar",
         "x": [
          "ndcg"
         ],
         "xaxis": "x3",
         "y": [
          0.4234
         ],
         "yaxis": "y3"
        },
        {
         "marker": {
          "color": "#fc6a03"
         },
         "opacity": 0.4,
         "type": "bar",
         "x": [
          "ndcg"
         ],
         "xaxis": "x4",
         "y": [
          0.5489
         ],
         "yaxis": "y4"
        },
        {
         "marker": {
          "color": "#55bebd"
         },
         "opacity": 0.6,
         "type": "bar",
         "x": [
          "recall"
         ],
         "xaxis": "x",
         "y": [
          0.8333
         ],
         "yaxis": "y"
        },
        {
         "marker": {
          "color": "#55bebd"
         },
         "opacity": 0.6,
         "type": "bar",
         "x": [
          "recall"
         ],
         "xaxis": "x2",
         "y": [
          0.718
         ],
         "yaxis": "y2"
        },
        {
         "marker": {
          "color": "#55bebd"
         },
         "opacity": 0.6,
         "type": "bar",
         "x": [
          "recall"
         ],
         "xaxis": "x3",
         "y": [
          0.1348
         ],
         "yaxis": "y3"
        },
        {
         "marker": {
          "color": "#55bebd"
         },
         "opacity": 0.6,
         "type": "bar",
         "x": [
          "recall"
         ],
         "xaxis": "x4",
         "y": [
          0.6225
         ],
         "yaxis": "y4"
        },
        {
         "marker": {
          "color": "#55bebd"
         },
         "opacity": 0.4,
         "type": "bar",
         "x": [
          "recall"
         ],
         "xaxis": "x",
         "y": [
          0.9048
         ],
         "yaxis": "y"
        },
        {
         "marker": {
          "color": "#55bebd"
         },
         "opacity": 0.4,
         "type": "bar",
         "x": [
          "recall"
         ],
         "xaxis": "x2",
         "y": [
          0.814
         ],
         "yaxis": "y2"
        },
        {
         "marker": {
          "color": "#55bebd"
         },
         "opacity": 0.4,
         "type": "bar",
         "x": [
          "recall"
         ],
         "xaxis": "x3",
         "y": [
          0.1748
         ],
         "yaxis": "y3"
        },
        {
         "marker": {
          "color": "#55bebd"
         },
         "opacity": 0.4,
         "type": "bar",
         "x": [
          "recall"
         ],
         "xaxis": "x4",
         "y": [
          0.7369
         ],
         "yaxis": "y4"
        },
        {
         "marker": {
          "color": "#e377c2"
         },
         "opacity": 0.6,
         "type": "bar",
         "x": [
          "mrr"
         ],
         "xaxis": "x",
         "y": [
          0.6698
         ],
         "yaxis": "y"
        },
        {
         "marker": {
          "color": "#e377c2"
         },
         "opacity": 0.6,
         "type": "bar",
         "x": [
          "mrr"
         ],
         "xaxis": "x2",
         "y": [
          0.563
         ],
         "yaxis": "y2"
        },
        {
         "marker": {
          "color": "#e377c2"
         },
         "opacity": 0.6,
         "type": "bar",
         "x": [
          "mrr"
         ],
         "xaxis": "x3",
         "y": [
          0.0965
         ],
         "yaxis": "y3"
        },
        {
         "marker": {
          "color": "#e377c2"
         },
         "opacity": 0.6,
         "type": "bar",
         "x": [
          "mrr"
         ],
         "xaxis": "x4",
         "y": [
          0.4758
         ],
         "yaxis": "y4"
        },
        {
         "marker": {
          "color": "#e377c2"
         },
         "opacity": 0.4,
         "type": "bar",
         "x": [
          "mrr"
         ],
         "xaxis": "x",
         "y": [
          0.6801
         ],
         "yaxis": "y"
        },
        {
         "marker": {
          "color": "#e377c2"
         },
         "opacity": 0.4,
         "type": "bar",
         "x": [
          "mrr"
         ],
         "xaxis": "x2",
         "y": [
          0.5752
         ],
         "yaxis": "y2"
        },
        {
         "marker": {
          "color": "#e377c2"
         },
         "opacity": 0.4,
         "type": "bar",
         "x": [
          "mrr"
         ],
         "xaxis": "x3",
         "y": [
          0.1017
         ],
         "yaxis": "y3"
        },
        {
         "marker": {
          "color": "#e377c2"
         },
         "opacity": 0.4,
         "type": "bar",
         "x": [
          "mrr"
         ],
         "xaxis": "x4",
         "y": [
          0.4906
         ],
         "yaxis": "y4"
        }
       ],
       "layout": {
        "annotations": [
         {
          "font": {
           "size": 16
          },
          "showarrow": false,
          "text": "ConvFinQA",
          "x": 0.10625,
          "xanchor": "center",
          "xref": "paper",
          "y": 1,
          "yanchor": "bottom",
          "yref": "paper"
         },
         {
          "font": {
           "size": 16
          },
          "showarrow": false,
          "text": "FinQA",
          "x": 0.36875,
          "xanchor": "center",
          "xref": "paper",
          "y": 1,
          "yanchor": "bottom",
          "yref": "paper"
         },
         {
          "font": {
           "size": 16
          },
          "showarrow": false,
          "text": "MultiHeritt",
          "x": 0.6312500000000001,
          "xanchor": "center",
          "xref": "paper",
          "y": 1,
          "yanchor": "bottom",
          "yref": "paper"
         },
         {
          "font": {
           "size": 16
          },
          "showarrow": false,
          "text": "TATQA",
          "x": 0.89375,
          "xanchor": "center",
          "xref": "paper",
          "y": 1,
          "yanchor": "bottom",
          "yref": "paper"
         }
        ],
        "barmode": "overlay",
        "height": 400,
        "showlegend": false,
        "template": {
         "data": {
          "bar": [
           {
            "error_x": {
             "color": "#2a3f5f"
            },
            "error_y": {
             "color": "#2a3f5f"
            },
            "marker": {
             "line": {
              "color": "#E5ECF6",
              "width": 0.5
             },
             "pattern": {
              "fillmode": "overlay",
              "size": 10,
              "solidity": 0.2
             }
            },
            "type": "bar"
           }
          ],
          "barpolar": [
           {
            "marker": {
             "line": {
              "color": "#E5ECF6",
              "width": 0.5
             },
             "pattern": {
              "fillmode": "overlay",
              "size": 10,
              "solidity": 0.2
             }
            },
            "type": "barpolar"
           }
          ],
          "carpet": [
           {
            "aaxis": {
             "endlinecolor": "#2a3f5f",
             "gridcolor": "white",
             "linecolor": "white",
             "minorgridcolor": "white",
             "startlinecolor": "#2a3f5f"
            },
            "baxis": {
             "endlinecolor": "#2a3f5f",
             "gridcolor": "white",
             "linecolor": "white",
             "minorgridcolor": "white",
             "startlinecolor": "#2a3f5f"
            },
            "type": "carpet"
           }
          ],
          "choropleth": [
           {
            "colorbar": {
             "outlinewidth": 0,
             "ticks": ""
            },
            "type": "choropleth"
           }
          ],
          "contour": [
           {
            "colorbar": {
             "outlinewidth": 0,
             "ticks": ""
            },
            "colorscale": [
             [
              0,
              "#0d0887"
             ],
             [
              0.1111111111111111,
              "#46039f"
             ],
             [
              0.2222222222222222,
              "#7201a8"
             ],
             [
              0.3333333333333333,
              "#9c179e"
             ],
             [
              0.4444444444444444,
              "#bd3786"
             ],
             [
              0.5555555555555556,
              "#d8576b"
             ],
             [
              0.6666666666666666,
              "#ed7953"
             ],
             [
              0.7777777777777778,
              "#fb9f3a"
             ],
             [
              0.8888888888888888,
              "#fdca26"
             ],
             [
              1,
              "#f0f921"
             ]
            ],
            "type": "contour"
           }
          ],
          "contourcarpet": [
           {
            "colorbar": {
             "outlinewidth": 0,
             "ticks": ""
            },
            "type": "contourcarpet"
           }
          ],
          "heatmap": [
           {
            "colorbar": {
             "outlinewidth": 0,
             "ticks": ""
            },
            "colorscale": [
             [
              0,
              "#0d0887"
             ],
             [
              0.1111111111111111,
              "#46039f"
             ],
             [
              0.2222222222222222,
              "#7201a8"
             ],
             [
              0.3333333333333333,
              "#9c179e"
             ],
             [
              0.4444444444444444,
              "#bd3786"
             ],
             [
              0.5555555555555556,
              "#d8576b"
             ],
             [
              0.6666666666666666,
              "#ed7953"
             ],
             [
              0.7777777777777778,
              "#fb9f3a"
             ],
             [
              0.8888888888888888,
              "#fdca26"
             ],
             [
              1,
              "#f0f921"
             ]
            ],
            "type": "heatmap"
           }
          ],
          "histogram": [
           {
            "marker": {
             "pattern": {
              "fillmode": "overlay",
              "size": 10,
              "solidity": 0.2
             }
            },
            "type": "histogram"
           }
          ],
          "histogram2d": [
           {
            "colorbar": {
             "outlinewidth": 0,
             "ticks": ""
            },
            "colorscale": [
             [
              0,
              "#0d0887"
             ],
             [
              0.1111111111111111,
              "#46039f"
             ],
             [
              0.2222222222222222,
              "#7201a8"
             ],
             [
              0.3333333333333333,
              "#9c179e"
             ],
             [
              0.4444444444444444,
              "#bd3786"
             ],
             [
              0.5555555555555556,
              "#d8576b"
             ],
             [
              0.6666666666666666,
              "#ed7953"
             ],
             [
              0.7777777777777778,
              "#fb9f3a"
             ],
             [
              0.8888888888888888,
              "#fdca26"
             ],
             [
              1,
              "#f0f921"
             ]
            ],
            "type": "histogram2d"
           }
          ],
          "histogram2dcontour": [
           {
            "colorbar": {
             "outlinewidth": 0,
             "ticks": ""
            },
            "colorscale": [
             [
              0,
              "#0d0887"
             ],
             [
              0.1111111111111111,
              "#46039f"
             ],
             [
              0.2222222222222222,
              "#7201a8"
             ],
             [
              0.3333333333333333,
              "#9c179e"
             ],
             [
              0.4444444444444444,
              "#bd3786"
             ],
             [
              0.5555555555555556,
              "#d8576b"
             ],
             [
              0.6666666666666666,
              "#ed7953"
             ],
             [
              0.7777777777777778,
              "#fb9f3a"
             ],
             [
              0.8888888888888888,
              "#fdca26"
             ],
             [
              1,
              "#f0f921"
             ]
            ],
            "type": "histogram2dcontour"
           }
          ],
          "mesh3d": [
           {
            "colorbar": {
             "outlinewidth": 0,
             "ticks": ""
            },
            "type": "mesh3d"
           }
          ],
          "parcoords": [
           {
            "line": {
             "colorbar": {
              "outlinewidth": 0,
              "ticks": ""
             }
            },
            "type": "parcoords"
           }
          ],
          "pie": [
           {
            "automargin": true,
            "type": "pie"
           }
          ],
          "scatter": [
           {
            "fillpattern": {
             "fillmode": "overlay",
             "size": 10,
             "solidity": 0.2
            },
            "type": "scatter"
           }
          ],
          "scatter3d": [
           {
            "line": {
             "colorbar": {
              "outlinewidth": 0,
              "ticks": ""
             }
            },
            "marker": {
             "colorbar": {
              "outlinewidth": 0,
              "ticks": ""
             }
            },
            "type": "scatter3d"
           }
          ],
          "scattercarpet": [
           {
            "marker": {
             "colorbar": {
              "outlinewidth": 0,
              "ticks": ""
             }
            },
            "type": "scattercarpet"
           }
          ],
          "scattergeo": [
           {
            "marker": {
             "colorbar": {
              "outlinewidth": 0,
              "ticks": ""
             }
            },
            "type": "scattergeo"
           }
          ],
          "scattergl": [
           {
            "marker": {
             "colorbar": {
              "outlinewidth": 0,
              "ticks": ""
             }
            },
            "type": "scattergl"
           }
          ],
          "scattermap": [
           {
            "marker": {
             "colorbar": {
              "outlinewidth": 0,
              "ticks": ""
             }
            },
            "type": "scattermap"
           }
          ],
          "scattermapbox": [
           {
            "marker": {
             "colorbar": {
              "outlinewidth": 0,
              "ticks": ""
             }
            },
            "type": "scattermapbox"
           }
          ],
          "scatterpolar": [
           {
            "marker": {
             "colorbar": {
              "outlinewidth": 0,
              "ticks": ""
             }
            },
            "type": "scatterpolar"
           }
          ],
          "scatterpolargl": [
           {
            "marker": {
             "colorbar": {
              "outlinewidth": 0,
              "ticks": ""
             }
            },
            "type": "scatterpolargl"
           }
          ],
          "scatterternary": [
           {
            "marker": {
             "colorbar": {
              "outlinewidth": 0,
              "ticks": ""
             }
            },
            "type": "scatterternary"
           }
          ],
          "surface": [
           {
            "colorbar": {
             "outlinewidth": 0,
             "ticks": ""
            },
            "colorscale": [
             [
              0,
              "#0d0887"
             ],
             [
              0.1111111111111111,
              "#46039f"
             ],
             [
              0.2222222222222222,
              "#7201a8"
             ],
             [
              0.3333333333333333,
              "#9c179e"
             ],
             [
              0.4444444444444444,
              "#bd3786"
             ],
             [
              0.5555555555555556,
              "#d8576b"
             ],
             [
              0.6666666666666666,
              "#ed7953"
             ],
             [
              0.7777777777777778,
              "#fb9f3a"
             ],
             [
              0.8888888888888888,
              "#fdca26"
             ],
             [
              1,
              "#f0f921"
             ]
            ],
            "type": "surface"
           }
          ],
          "table": [
           {
            "cells": {
             "fill": {
              "color": "#EBF0F8"
             },
             "line": {
              "color": "white"
             }
            },
            "header": {
             "fill": {
              "color": "#C8D4E3"
             },
             "line": {
              "color": "white"
             }
            },
            "type": "table"
           }
          ]
         },
         "layout": {
          "annotationdefaults": {
           "arrowcolor": "#2a3f5f",
           "arrowhead": 0,
           "arrowwidth": 1
          },
          "autotypenumbers": "strict",
          "coloraxis": {
           "colorbar": {
            "outlinewidth": 0,
            "ticks": ""
           }
          },
          "colorscale": {
           "diverging": [
            [
             0,
             "#8e0152"
            ],
            [
             0.1,
             "#c51b7d"
            ],
            [
             0.2,
             "#de77ae"
            ],
            [
             0.3,
             "#f1b6da"
            ],
            [
             0.4,
             "#fde0ef"
            ],
            [
             0.5,
             "#f7f7f7"
            ],
            [
             0.6,
             "#e6f5d0"
            ],
            [
             0.7,
             "#b8e186"
            ],
            [
             0.8,
             "#7fbc41"
            ],
            [
             0.9,
             "#4d9221"
            ],
            [
             1,
             "#276419"
            ]
           ],
           "sequential": [
            [
             0,
             "#0d0887"
            ],
            [
             0.1111111111111111,
             "#46039f"
            ],
            [
             0.2222222222222222,
             "#7201a8"
            ],
            [
             0.3333333333333333,
             "#9c179e"
            ],
            [
             0.4444444444444444,
             "#bd3786"
            ],
            [
             0.5555555555555556,
             "#d8576b"
            ],
            [
             0.6666666666666666,
             "#ed7953"
            ],
            [
             0.7777777777777778,
             "#fb9f3a"
            ],
            [
             0.8888888888888888,
             "#fdca26"
            ],
            [
             1,
             "#f0f921"
            ]
           ],
           "sequentialminus": [
            [
             0,
             "#0d0887"
            ],
            [
             0.1111111111111111,
             "#46039f"
            ],
            [
             0.2222222222222222,
             "#7201a8"
            ],
            [
             0.3333333333333333,
             "#9c179e"
            ],
            [
             0.4444444444444444,
             "#bd3786"
            ],
            [
             0.5555555555555556,
             "#d8576b"
            ],
            [
             0.6666666666666666,
             "#ed7953"
            ],
            [
             0.7777777777777778,
             "#fb9f3a"
            ],
            [
             0.8888888888888888,
             "#fdca26"
            ],
            [
             1,
             "#f0f921"
            ]
           ]
          },
          "colorway": [
           "#636efa",
           "#EF553B",
           "#00cc96",
           "#ab63fa",
           "#FFA15A",
           "#19d3f3",
           "#FF6692",
           "#B6E880",
           "#FF97FF",
           "#FECB52"
          ],
          "font": {
           "color": "#2a3f5f"
          },
          "geo": {
           "bgcolor": "white",
           "lakecolor": "white",
           "landcolor": "#E5ECF6",
           "showlakes": true,
           "showland": true,
           "subunitcolor": "white"
          },
          "hoverlabel": {
           "align": "left"
          },
          "hovermode": "closest",
          "mapbox": {
           "style": "light"
          },
          "paper_bgcolor": "white",
          "plot_bgcolor": "#E5ECF6",
          "polar": {
           "angularaxis": {
            "gridcolor": "white",
            "linecolor": "white",
            "ticks": ""
           },
           "bgcolor": "#E5ECF6",
           "radialaxis": {
            "gridcolor": "white",
            "linecolor": "white",
            "ticks": ""
           }
          },
          "scene": {
           "xaxis": {
            "backgroundcolor": "#E5ECF6",
            "gridcolor": "white",
            "gridwidth": 2,
            "linecolor": "white",
            "showbackground": true,
            "ticks": "",
            "zerolinecolor": "white"
           },
           "yaxis": {
            "backgroundcolor": "#E5ECF6",
            "gridcolor": "white",
            "gridwidth": 2,
            "linecolor": "white",
            "showbackground": true,
            "ticks": "",
            "zerolinecolor": "white"
           },
           "zaxis": {
            "backgroundcolor": "#E5ECF6",
            "gridcolor": "white",
            "gridwidth": 2,
            "linecolor": "white",
            "showbackground": true,
            "ticks": "",
            "zerolinecolor": "white"
           }
          },
          "shapedefaults": {
           "line": {
            "color": "#2a3f5f"
           }
          },
          "ternary": {
           "aaxis": {
            "gridcolor": "white",
            "linecolor": "white",
            "ticks": ""
           },
           "baxis": {
            "gridcolor": "white",
            "linecolor": "white",
            "ticks": ""
           },
           "bgcolor": "#E5ECF6",
           "caxis": {
            "gridcolor": "white",
            "linecolor": "white",
            "ticks": ""
           }
          },
          "title": {
           "x": 0.05
          },
          "xaxis": {
           "automargin": true,
           "gridcolor": "white",
           "linecolor": "white",
           "ticks": "",
           "title": {
            "standoff": 15
           },
           "zerolinecolor": "white",
           "zerolinewidth": 2
          },
          "yaxis": {
           "automargin": true,
           "gridcolor": "white",
           "linecolor": "white",
           "ticks": "",
           "title": {
            "standoff": 15
           },
           "zerolinecolor": "white",
           "zerolinewidth": 2
          }
         }
        },
        "title": {
         "text": "Metrics across Datasets for the best approach: Long Summary"
        },
        "width": 1300,
        "xaxis": {
         "anchor": "y",
         "domain": [
          0,
          0.2125
         ]
        },
        "xaxis2": {
         "anchor": "y2",
         "domain": [
          0.2625,
          0.475
         ]
        },
        "xaxis3": {
         "anchor": "y3",
         "domain": [
          0.525,
          0.7375
         ]
        },
        "xaxis4": {
         "anchor": "y4",
         "domain": [
          0.7875,
          1
         ]
        },
        "yaxis": {
         "anchor": "x",
         "domain": [
          0,
          1
         ]
        },
        "yaxis2": {
         "anchor": "x2",
         "domain": [
          0,
          1
         ],
         "matches": "y",
         "showticklabels": false
        },
        "yaxis3": {
         "anchor": "x3",
         "domain": [
          0,
          1
         ],
         "matches": "y",
         "showticklabels": false
        },
        "yaxis4": {
         "anchor": "x4",
         "domain": [
          0,
          1
         ],
         "matches": "y",
         "showticklabels": false
        }
       }
      }
     },
     "metadata": {},
     "output_type": "display_data"
    }
   ],
   "source": [
    "import pandas as pd\n",
    "import plotly.graph_objects as go\n",
    "import plotly.subplots as sp\n",
    "\n",
    "# Load data\n",
    "df_results_ls = pd.read_excel(\"df_results_ls.xlsx\")\n",
    "\n",
    "# Convert to long format\n",
    "df_ls_long = pd.melt(df_results_ls, id_vars=['dataset'], var_name='metric', value_name='value')\n",
    "df_ls_long['approach'] = 'Approach LS'\n",
    "\n",
    "# Extract metric base (ndcg, recall, mrr) and type (@5, @10)\n",
    "df_ls_long[\"metric_base\"] = df_ls_long[\"metric\"].str.replace(r'_5|_10', '', regex=True)\n",
    "df_ls_long[\"metric_type\"] = df_ls_long[\"metric\"].str.extract(r'(5|10)')\n",
    "\n",
    "# Define colors for each metric\n",
    "metric_colors = {'ndcg': '#fc6a03', 'recall': '#55bebd', 'mrr': '#e377c2'}\n",
    "\n",
    "# Define unique datasets and their subplot positions\n",
    "datasets = df_results_ls['dataset'].unique()\n",
    "num_datasets = len(datasets)\n",
    "\n",
    "# Create subplots: 1 row, 4 columns (one per dataset)\n",
    "fig = sp.make_subplots(\n",
    "    rows=1, cols=num_datasets,\n",
    "    subplot_titles=[f\"{dataset}\" for dataset in datasets],\n",
    "    shared_yaxes=True\n",
    ")\n",
    "\n",
    "# Mapping dataset positions to subplot columns\n",
    "dataset_positions = {dataset: i+1 for i, dataset in enumerate(datasets)}\n",
    "\n",
    "# Plot data with overlapping bars for @5 and @10\n",
    "for _, row in df_ls_long.iterrows():\n",
    "    dataset = row['dataset']\n",
    "    metric = row['metric_base']\n",
    "    metric_type = row['metric_type']\n",
    "    value = row['value']\n",
    "    \n",
    "    col_idx = dataset_positions[dataset]  # Assign dataset to correct column\n",
    "    color = metric_colors[metric]\n",
    "\n",
    "    # Opacity for overlapping effect\n",
    "    opacity = 0.6 if metric_type == '5' else 0.4  \n",
    "\n",
    "    fig.add_trace(\n",
    "        go.Bar(\n",
    "            x=[metric],  # Group bars by metric\n",
    "            y=[value], \n",
    "            marker=dict(color=color),\n",
    "            opacity=opacity\n",
    "        ),\n",
    "        row=1, col=col_idx\n",
    "    )\n",
    "\n",
    "# Update layout\n",
    "fig.update_layout(\n",
    "    title=\"Metrics across Datasets for the best approach: Long Summary\",\n",
    "    height=400, width=1300,\n",
    "    showlegend=False,  # No legend\n",
    "    barmode=\"overlay\"\n",
    ")\n",
    "\n",
    "fig.show()\n"
   ]
  },
  {
   "cell_type": "code",
   "execution_count": 44,
   "metadata": {},
   "outputs": [
    {
     "data": {
      "application/vnd.plotly.v1+json": {
       "config": {
        "plotlyServerURL": "https://plot.ly"
       },
       "data": [
        {
         "coloraxis": "coloraxis",
         "hovertemplate": "Dataset: %{x}<br>Metric: %{y}<br>Performance: %{z}<extra></extra>",
         "name": "0",
         "type": "heatmap",
         "x": [
          "ConvFinQA",
          "FinQA",
          "MultiHeritt",
          "TATQA"
         ],
         "xaxis": "x",
         "y": [
          "f1",
          "map",
          "mrr",
          "ndcg",
          "precision",
          "recall"
         ],
         "yaxis": "y",
         "z": {
          "bdata": "ylTBqKROzD9EaW/whcnIP0YldQKaCLs/QmDl0CLbxT8o7Q2+MJnlP0rqBDQRNuI/fvs6cM6Iuj8+V1uxv+zePyjtDb4wmeU/SuoENBE24j8Cmggbnl65Pz5XW7G/7N4/p+hILv8h5z8c6+I2GsDjPxKDwMqhRdo/tOpztRX74D8Bb4EExY/dP02EDU+vlNk/lkOLbOf7uT/XNO84RUfWP7+fGi/dJOE/hslUwaik3j+k374OnDPCP+LHmLuWkNs/",
          "dtype": "f8",
          "shape": "6, 4"
         }
        }
       ],
       "layout": {
        "coloraxis": {
         "colorbar": {
          "title": {
           "text": "Performance"
          }
         },
         "colorscale": [
          [
           0,
           "#0d0887"
          ],
          [
           0.1111111111111111,
           "#46039f"
          ],
          [
           0.2222222222222222,
           "#7201a8"
          ],
          [
           0.3333333333333333,
           "#9c179e"
          ],
          [
           0.4444444444444444,
           "#bd3786"
          ],
          [
           0.5555555555555556,
           "#d8576b"
          ],
          [
           0.6666666666666666,
           "#ed7953"
          ],
          [
           0.7777777777777778,
           "#fb9f3a"
          ],
          [
           0.8888888888888888,
           "#fdca26"
          ],
          [
           1,
           "#f0f921"
          ]
         ]
        },
        "height": 600,
        "margin": {
         "t": 60
        },
        "template": {
         "data": {
          "bar": [
           {
            "error_x": {
             "color": "#2a3f5f"
            },
            "error_y": {
             "color": "#2a3f5f"
            },
            "marker": {
             "line": {
              "color": "#E5ECF6",
              "width": 0.5
             },
             "pattern": {
              "fillmode": "overlay",
              "size": 10,
              "solidity": 0.2
             }
            },
            "type": "bar"
           }
          ],
          "barpolar": [
           {
            "marker": {
             "line": {
              "color": "#E5ECF6",
              "width": 0.5
             },
             "pattern": {
              "fillmode": "overlay",
              "size": 10,
              "solidity": 0.2
             }
            },
            "type": "barpolar"
           }
          ],
          "carpet": [
           {
            "aaxis": {
             "endlinecolor": "#2a3f5f",
             "gridcolor": "white",
             "linecolor": "white",
             "minorgridcolor": "white",
             "startlinecolor": "#2a3f5f"
            },
            "baxis": {
             "endlinecolor": "#2a3f5f",
             "gridcolor": "white",
             "linecolor": "white",
             "minorgridcolor": "white",
             "startlinecolor": "#2a3f5f"
            },
            "type": "carpet"
           }
          ],
          "choropleth": [
           {
            "colorbar": {
             "outlinewidth": 0,
             "ticks": ""
            },
            "type": "choropleth"
           }
          ],
          "contour": [
           {
            "colorbar": {
             "outlinewidth": 0,
             "ticks": ""
            },
            "colorscale": [
             [
              0,
              "#0d0887"
             ],
             [
              0.1111111111111111,
              "#46039f"
             ],
             [
              0.2222222222222222,
              "#7201a8"
             ],
             [
              0.3333333333333333,
              "#9c179e"
             ],
             [
              0.4444444444444444,
              "#bd3786"
             ],
             [
              0.5555555555555556,
              "#d8576b"
             ],
             [
              0.6666666666666666,
              "#ed7953"
             ],
             [
              0.7777777777777778,
              "#fb9f3a"
             ],
             [
              0.8888888888888888,
              "#fdca26"
             ],
             [
              1,
              "#f0f921"
             ]
            ],
            "type": "contour"
           }
          ],
          "contourcarpet": [
           {
            "colorbar": {
             "outlinewidth": 0,
             "ticks": ""
            },
            "type": "contourcarpet"
           }
          ],
          "heatmap": [
           {
            "colorbar": {
             "outlinewidth": 0,
             "ticks": ""
            },
            "colorscale": [
             [
              0,
              "#0d0887"
             ],
             [
              0.1111111111111111,
              "#46039f"
             ],
             [
              0.2222222222222222,
              "#7201a8"
             ],
             [
              0.3333333333333333,
              "#9c179e"
             ],
             [
              0.4444444444444444,
              "#bd3786"
             ],
             [
              0.5555555555555556,
              "#d8576b"
             ],
             [
              0.6666666666666666,
              "#ed7953"
             ],
             [
              0.7777777777777778,
              "#fb9f3a"
             ],
             [
              0.8888888888888888,
              "#fdca26"
             ],
             [
              1,
              "#f0f921"
             ]
            ],
            "type": "heatmap"
           }
          ],
          "histogram": [
           {
            "marker": {
             "pattern": {
              "fillmode": "overlay",
              "size": 10,
              "solidity": 0.2
             }
            },
            "type": "histogram"
           }
          ],
          "histogram2d": [
           {
            "colorbar": {
             "outlinewidth": 0,
             "ticks": ""
            },
            "colorscale": [
             [
              0,
              "#0d0887"
             ],
             [
              0.1111111111111111,
              "#46039f"
             ],
             [
              0.2222222222222222,
              "#7201a8"
             ],
             [
              0.3333333333333333,
              "#9c179e"
             ],
             [
              0.4444444444444444,
              "#bd3786"
             ],
             [
              0.5555555555555556,
              "#d8576b"
             ],
             [
              0.6666666666666666,
              "#ed7953"
             ],
             [
              0.7777777777777778,
              "#fb9f3a"
             ],
             [
              0.8888888888888888,
              "#fdca26"
             ],
             [
              1,
              "#f0f921"
             ]
            ],
            "type": "histogram2d"
           }
          ],
          "histogram2dcontour": [
           {
            "colorbar": {
             "outlinewidth": 0,
             "ticks": ""
            },
            "colorscale": [
             [
              0,
              "#0d0887"
             ],
             [
              0.1111111111111111,
              "#46039f"
             ],
             [
              0.2222222222222222,
              "#7201a8"
             ],
             [
              0.3333333333333333,
              "#9c179e"
             ],
             [
              0.4444444444444444,
              "#bd3786"
             ],
             [
              0.5555555555555556,
              "#d8576b"
             ],
             [
              0.6666666666666666,
              "#ed7953"
             ],
             [
              0.7777777777777778,
              "#fb9f3a"
             ],
             [
              0.8888888888888888,
              "#fdca26"
             ],
             [
              1,
              "#f0f921"
             ]
            ],
            "type": "histogram2dcontour"
           }
          ],
          "mesh3d": [
           {
            "colorbar": {
             "outlinewidth": 0,
             "ticks": ""
            },
            "type": "mesh3d"
           }
          ],
          "parcoords": [
           {
            "line": {
             "colorbar": {
              "outlinewidth": 0,
              "ticks": ""
             }
            },
            "type": "parcoords"
           }
          ],
          "pie": [
           {
            "automargin": true,
            "type": "pie"
           }
          ],
          "scatter": [
           {
            "fillpattern": {
             "fillmode": "overlay",
             "size": 10,
             "solidity": 0.2
            },
            "type": "scatter"
           }
          ],
          "scatter3d": [
           {
            "line": {
             "colorbar": {
              "outlinewidth": 0,
              "ticks": ""
             }
            },
            "marker": {
             "colorbar": {
              "outlinewidth": 0,
              "ticks": ""
             }
            },
            "type": "scatter3d"
           }
          ],
          "scattercarpet": [
           {
            "marker": {
             "colorbar": {
              "outlinewidth": 0,
              "ticks": ""
             }
            },
            "type": "scattercarpet"
           }
          ],
          "scattergeo": [
           {
            "marker": {
             "colorbar": {
              "outlinewidth": 0,
              "ticks": ""
             }
            },
            "type": "scattergeo"
           }
          ],
          "scattergl": [
           {
            "marker": {
             "colorbar": {
              "outlinewidth": 0,
              "ticks": ""
             }
            },
            "type": "scattergl"
           }
          ],
          "scattermap": [
           {
            "marker": {
             "colorbar": {
              "outlinewidth": 0,
              "ticks": ""
             }
            },
            "type": "scattermap"
           }
          ],
          "scattermapbox": [
           {
            "marker": {
             "colorbar": {
              "outlinewidth": 0,
              "ticks": ""
             }
            },
            "type": "scattermapbox"
           }
          ],
          "scatterpolar": [
           {
            "marker": {
             "colorbar": {
              "outlinewidth": 0,
              "ticks": ""
             }
            },
            "type": "scatterpolar"
           }
          ],
          "scatterpolargl": [
           {
            "marker": {
             "colorbar": {
              "outlinewidth": 0,
              "ticks": ""
             }
            },
            "type": "scatterpolargl"
           }
          ],
          "scatterternary": [
           {
            "marker": {
             "colorbar": {
              "outlinewidth": 0,
              "ticks": ""
             }
            },
            "type": "scatterternary"
           }
          ],
          "surface": [
           {
            "colorbar": {
             "outlinewidth": 0,
             "ticks": ""
            },
            "colorscale": [
             [
              0,
              "#0d0887"
             ],
             [
              0.1111111111111111,
              "#46039f"
             ],
             [
              0.2222222222222222,
              "#7201a8"
             ],
             [
              0.3333333333333333,
              "#9c179e"
             ],
             [
              0.4444444444444444,
              "#bd3786"
             ],
             [
              0.5555555555555556,
              "#d8576b"
             ],
             [
              0.6666666666666666,
              "#ed7953"
             ],
             [
              0.7777777777777778,
              "#fb9f3a"
             ],
             [
              0.8888888888888888,
              "#fdca26"
             ],
             [
              1,
              "#f0f921"
             ]
            ],
            "type": "surface"
           }
          ],
          "table": [
           {
            "cells": {
             "fill": {
              "color": "#EBF0F8"
             },
             "line": {
              "color": "white"
             }
            },
            "header": {
             "fill": {
              "color": "#C8D4E3"
             },
             "line": {
              "color": "white"
             }
            },
            "type": "table"
           }
          ]
         },
         "layout": {
          "annotationdefaults": {
           "arrowcolor": "#2a3f5f",
           "arrowhead": 0,
           "arrowwidth": 1
          },
          "autotypenumbers": "strict",
          "coloraxis": {
           "colorbar": {
            "outlinewidth": 0,
            "ticks": ""
           }
          },
          "colorscale": {
           "diverging": [
            [
             0,
             "#8e0152"
            ],
            [
             0.1,
             "#c51b7d"
            ],
            [
             0.2,
             "#de77ae"
            ],
            [
             0.3,
             "#f1b6da"
            ],
            [
             0.4,
             "#fde0ef"
            ],
            [
             0.5,
             "#f7f7f7"
            ],
            [
             0.6,
             "#e6f5d0"
            ],
            [
             0.7,
             "#b8e186"
            ],
            [
             0.8,
             "#7fbc41"
            ],
            [
             0.9,
             "#4d9221"
            ],
            [
             1,
             "#276419"
            ]
           ],
           "sequential": [
            [
             0,
             "#0d0887"
            ],
            [
             0.1111111111111111,
             "#46039f"
            ],
            [
             0.2222222222222222,
             "#7201a8"
            ],
            [
             0.3333333333333333,
             "#9c179e"
            ],
            [
             0.4444444444444444,
             "#bd3786"
            ],
            [
             0.5555555555555556,
             "#d8576b"
            ],
            [
             0.6666666666666666,
             "#ed7953"
            ],
            [
             0.7777777777777778,
             "#fb9f3a"
            ],
            [
             0.8888888888888888,
             "#fdca26"
            ],
            [
             1,
             "#f0f921"
            ]
           ],
           "sequentialminus": [
            [
             0,
             "#0d0887"
            ],
            [
             0.1111111111111111,
             "#46039f"
            ],
            [
             0.2222222222222222,
             "#7201a8"
            ],
            [
             0.3333333333333333,
             "#9c179e"
            ],
            [
             0.4444444444444444,
             "#bd3786"
            ],
            [
             0.5555555555555556,
             "#d8576b"
            ],
            [
             0.6666666666666666,
             "#ed7953"
            ],
            [
             0.7777777777777778,
             "#fb9f3a"
            ],
            [
             0.8888888888888888,
             "#fdca26"
            ],
            [
             1,
             "#f0f921"
            ]
           ]
          },
          "colorway": [
           "#636efa",
           "#EF553B",
           "#00cc96",
           "#ab63fa",
           "#FFA15A",
           "#19d3f3",
           "#FF6692",
           "#B6E880",
           "#FF97FF",
           "#FECB52"
          ],
          "font": {
           "color": "#2a3f5f"
          },
          "geo": {
           "bgcolor": "white",
           "lakecolor": "white",
           "landcolor": "#E5ECF6",
           "showlakes": true,
           "showland": true,
           "subunitcolor": "white"
          },
          "hoverlabel": {
           "align": "left"
          },
          "hovermode": "closest",
          "mapbox": {
           "style": "light"
          },
          "paper_bgcolor": "white",
          "plot_bgcolor": "#E5ECF6",
          "polar": {
           "angularaxis": {
            "gridcolor": "white",
            "linecolor": "white",
            "ticks": ""
           },
           "bgcolor": "#E5ECF6",
           "radialaxis": {
            "gridcolor": "white",
            "linecolor": "white",
            "ticks": ""
           }
          },
          "scene": {
           "xaxis": {
            "backgroundcolor": "#E5ECF6",
            "gridcolor": "white",
            "gridwidth": 2,
            "linecolor": "white",
            "showbackground": true,
            "ticks": "",
            "zerolinecolor": "white"
           },
           "yaxis": {
            "backgroundcolor": "#E5ECF6",
            "gridcolor": "white",
            "gridwidth": 2,
            "linecolor": "white",
            "showbackground": true,
            "ticks": "",
            "zerolinecolor": "white"
           },
           "zaxis": {
            "backgroundcolor": "#E5ECF6",
            "gridcolor": "white",
            "gridwidth": 2,
            "linecolor": "white",
            "showbackground": true,
            "ticks": "",
            "zerolinecolor": "white"
           }
          },
          "shapedefaults": {
           "line": {
            "color": "#2a3f5f"
           }
          },
          "ternary": {
           "aaxis": {
            "gridcolor": "white",
            "linecolor": "white",
            "ticks": ""
           },
           "baxis": {
            "gridcolor": "white",
            "linecolor": "white",
            "ticks": ""
           },
           "bgcolor": "#E5ECF6",
           "caxis": {
            "gridcolor": "white",
            "linecolor": "white",
            "ticks": ""
           }
          },
          "title": {
           "x": 0.05
          },
          "xaxis": {
           "automargin": true,
           "gridcolor": "white",
           "linecolor": "white",
           "ticks": "",
           "title": {
            "standoff": 15
           },
           "zerolinecolor": "white",
           "zerolinewidth": 2
          },
          "yaxis": {
           "automargin": true,
           "gridcolor": "white",
           "linecolor": "white",
           "ticks": "",
           "title": {
            "standoff": 15
           },
           "zerolinecolor": "white",
           "zerolinewidth": 2
          }
         }
        },
        "title": {
         "text": "Heatmap of Metrics Across Datasets"
        },
        "width": 600,
        "xaxis": {
         "anchor": "y",
         "constrain": "domain",
         "domain": [
          0,
          1
         ],
         "scaleanchor": "y",
         "title": {
          "text": "Dataset"
         }
        },
        "yaxis": {
         "anchor": "x",
         "autorange": "reversed",
         "constrain": "domain",
         "domain": [
          0,
          1
         ],
         "title": {
          "text": "Metric"
         }
        }
       }
      }
     },
     "metadata": {},
     "output_type": "display_data"
    }
   ],
   "source": [
    "import plotly.express as px\n",
    "import pandas as pd\n",
    "\n",
    "# Aggregate the values (e.g., mean) for duplicate entries\n",
    "df_aggregated = df_long.groupby(['metric_base', 'dataset'], as_index=False)['value'].mean()\n",
    "\n",
    "# Pivot the dataframe so that metrics are rows, datasets are columns, and values are the metric values\n",
    "heatmap_data = df_aggregated.pivot(index='metric_base', columns='dataset', values='value')\n",
    "\n",
    "# Create the heatmap\n",
    "fig = px.imshow(heatmap_data,\n",
    "                labels={'x': 'Dataset', 'y': 'Metric', 'color': 'Performance'},\n",
    "                color_continuous_scale='Plasma')  # You can choose any color scale like 'Cividis', 'Plasma', etc.\n",
    "\n",
    "# Add title and adjust layout\n",
    "fig.update_layout(title=\"Heatmap of Metrics Across Datasets\", \n",
    "                  height=600, width=600,  # Set both height and width to the same value\n",
    "                  xaxis_title=\"Dataset\", \n",
    "                  yaxis_title=\"Metric\")\n",
    "\n",
    "# Show the heatmap\n",
    "fig.show()\n"
   ]
  }
 ],
 "metadata": {
  "kernelspec": {
   "display_name": "financerag-KfjOAeNI-py3.10",
   "language": "python",
   "name": "python3"
  },
  "language_info": {
   "codemirror_mode": {
    "name": "ipython",
    "version": 3
   },
   "file_extension": ".py",
   "mimetype": "text/x-python",
   "name": "python",
   "nbconvert_exporter": "python",
   "pygments_lexer": "ipython3",
   "version": "3.10.10"
  }
 },
 "nbformat": 4,
 "nbformat_minor": 2
}
