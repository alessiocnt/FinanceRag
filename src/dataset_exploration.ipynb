{
 "cells": [
  {
   "cell_type": "code",
   "execution_count": 5,
   "metadata": {},
   "outputs": [
    {
     "name": "stdout",
     "output_type": "stream",
     "text": [
      "The autoreload extension is already loaded. To reload it, use:\n",
      "  %reload_ext autoreload\n"
     ]
    }
   ],
   "source": [
    "%load_ext autoreload\n",
    "%autoreload 2\n",
    "import matplotlib.pyplot as plt\n",
    "import pandas as pd\n",
    "import numpy as np\n",
    "from transformers import AutoTokenizer, AutoModel\n",
    "from sentence_transformers import SentenceTransformer\n",
    "import torch\n",
    "from dataset import *\n",
    "from data_handler import *\n",
    "from embeddings import *\n",
    "from vector_store import *\n",
    "from RAG_pipeline import *"
   ]
  },
  {
   "cell_type": "code",
   "execution_count": 6,
   "metadata": {},
   "outputs": [
    {
     "name": "stdout",
     "output_type": "stream",
     "text": [
      "Available datasets: ['ConvFinQA', 'FinQA', 'MultiHeritt', 'TATQA']\n"
     ]
    }
   ],
   "source": [
    "dataset_manager = FinanceRAGDataset(\"../data\")\n",
    "print(\"Available datasets:\", dataset_manager.list_datasets())"
   ]
  },
  {
   "cell_type": "code",
   "execution_count": 7,
   "metadata": {},
   "outputs": [
    {
     "name": "stdout",
     "output_type": "stream",
     "text": [
      "Number of unique query IDs: 126 of out a total of 126\n"
     ]
    }
   ],
   "source": [
    "qrels = dataset_manager.load_qrels(\"ConvFinQA\")\n",
    "unique_query_ids = qrels['query_id'].nunique()\n",
    "print(f\"Number of unique query IDs: {unique_query_ids} of out a total of {qrels.shape[0]}\")"
   ]
  },
  {
   "cell_type": "code",
   "execution_count": 9,
   "metadata": {},
   "outputs": [],
   "source": [
    "def get_random_sample(corpus_df):\n",
    "    random_corpus = corpus_df.sample(n=1)\n",
    "    pd.set_option('display.max_colwidth', None)\n",
    "    return random_corpus['text'].values[0]"
   ]
  },
  {
   "cell_type": "markdown",
   "metadata": {},
   "source": [
    "## Check how many tables per dataset"
   ]
  },
  {
   "cell_type": "code",
   "execution_count": 10,
   "metadata": {},
   "outputs": [
    {
     "name": "stdout",
     "output_type": "stream",
     "text": [
      "Dataset: ConvFinQA has 101 documents in corpus\n",
      "\t101 documents with 1 table\n",
      "          0 documents with 2 tables\n",
      "          0 documents with 3 tables\n",
      "          0 documents with 4 tables \n",
      "          0 documents with more than 4 tables\n",
      "\n",
      "Dataset: FinQA has 247 documents in corpus\n",
      "\t247 documents with 1 table\n",
      "          0 documents with 2 tables\n",
      "          0 documents with 3 tables\n",
      "          0 documents with 4 tables \n",
      "          0 documents with more than 4 tables\n",
      "\n",
      "Dataset: MultiHeritt has 876 documents in corpus\n",
      "\t491 documents with 1 table\n",
      "          46 documents with 2 tables\n",
      "          7 documents with 3 tables\n",
      "          6 documents with 4 tables \n",
      "          1 documents with more than 4 tables\n",
      "\n",
      "Dataset: TATQA has 248 documents in corpus\n",
      "\t248 documents with 1 table\n",
      "          0 documents with 2 tables\n",
      "          0 documents with 3 tables\n",
      "          0 documents with 4 tables \n",
      "          0 documents with more than 4 tables\n",
      "\n"
     ]
    }
   ],
   "source": [
    "for DATASET_NAME in dataset_manager.list_datasets():\n",
    "    corpus, queries, qrels = dataset_manager.load_dataset(DATASET_NAME)\n",
    "    corpus, queries = reduce_dataset_size(corpus, queries, qrels)\n",
    "    print(f\"Dataset: {DATASET_NAME} has {len(corpus)} documents in corpus\")\n",
    "\n",
    "    multi_table_docs = {'1': 0, '2': 0, '3': 0, '4': 0, '+':0}  # Initialize the keys with 0\n",
    "    for k,v in corpus.items():\n",
    "        text = v[0]\n",
    "        tables = extract_tables(v[0])\n",
    "        if tables:\n",
    "            if len(tables)==1:\n",
    "                multi_table_docs['1'] += 1\n",
    "            if len(tables)==2:\n",
    "                multi_table_docs['2'] += 1\n",
    "            if len(tables)==3:\n",
    "                multi_table_docs['3'] += 1\n",
    "            if len(tables)==4:\n",
    "                multi_table_docs['4'] += 1\n",
    "            if len(tables)>4:\n",
    "                multi_table_docs['+'] += 1\n",
    "\n",
    "    # unique print with all the information\n",
    "    print(f\"\"\"\\t{multi_table_docs['1']} documents with 1 table\n",
    "          {multi_table_docs['2']} documents with 2 tables\n",
    "          {multi_table_docs['3']} documents with 3 tables\n",
    "          {multi_table_docs['4']} documents with 4 tables \n",
    "          {multi_table_docs['+']} documents with more than 4 tables\\n\"\"\")\n"
   ]
  },
  {
   "cell_type": "markdown",
   "metadata": {},
   "source": [
    "## Check how long are these tables"
   ]
  },
  {
   "cell_type": "code",
   "execution_count": 11,
   "metadata": {},
   "outputs": [
    {
     "name": "stdout",
     "output_type": "stream",
     "text": [
      "Dataset: ConvFinQA has 101 documents in corpus\n",
      "Average length of tables: 471\n",
      "Average length of text without tables: 3821\n",
      "\n",
      "Dataset: FinQA has 247 documents in corpus\n",
      "Average length of tables: 462\n",
      "Average length of text without tables: 3823\n",
      "\n",
      "Dataset: MultiHeritt has 876 documents in corpus\n",
      "Average length of tables: 722\n",
      "Average length of text without tables: 2350\n",
      "\n",
      "Dataset: TATQA has 248 documents in corpus\n",
      "Average length of tables: 491\n",
      "Average length of text without tables: 1766\n",
      "\n"
     ]
    }
   ],
   "source": [
    "for DATASET_NAME in dataset_manager.list_datasets():\n",
    "    corpus, queries, qrels = dataset_manager.load_dataset(DATASET_NAME)\n",
    "    corpus, queries = reduce_dataset_size(corpus, queries, qrels)\n",
    "    print(f\"Dataset: {DATASET_NAME} has {len(corpus)} documents in corpus\")\n",
    "\n",
    "    tables_len = []\n",
    "    text_with_tables_len = []\n",
    "    for k,v in corpus.items():\n",
    "        text = v[0]\n",
    "        len_text = len(text)\n",
    "        tables = extract_tables(v[0])\n",
    "        sum_len_table = 0\n",
    "        if tables:\n",
    "            for table in tables:\n",
    "                tables_len.append(len(table))\n",
    "                sum_len_table += len(table)\n",
    "        text_with_tables_len.append(len_text - sum_len_table)\n",
    "    # average length of tables\n",
    "    print(f\"Average length of tables: {int(np.mean(tables_len))}\")\n",
    "    # average length of text without tables\n",
    "    print(f\"Average length of text without tables: {int(np.mean(text_with_tables_len))}\")\n",
    "    print()"
   ]
  },
  {
   "cell_type": "markdown",
   "metadata": {},
   "source": [
    "## check how many chunks there are per corpus per dataset"
   ]
  },
  {
   "cell_type": "code",
   "execution_count": 12,
   "metadata": {},
   "outputs": [],
   "source": [
    "text_processor = DataHandler(Tokenizer(AutoTokenizer.from_pretrained(\"sentence-transformers/all-MiniLM-L6-v2\")),\n",
    "                             Embedder(AutoModel.from_pretrained(\"sentence-transformers/all-MiniLM-L6-v2\")))\n",
    "EMBEDDING_DIM = 384\n",
    "MODEL_INPUT_SIZE = 256"
   ]
  },
  {
   "cell_type": "code",
   "execution_count": 13,
   "metadata": {},
   "outputs": [
    {
     "name": "stderr",
     "output_type": "stream",
     "text": [
      "Token indices sequence length is longer than the specified maximum sequence length for this model (1801 > 512). Running this sequence through the model will result in indexing errors\n"
     ]
    },
    {
     "name": "stdout",
     "output_type": "stream",
     "text": [
      "Dataset: ConvFinQA \tNumber of queries: 126\t Number of documents: 101\n",
      "Average number of chunks: 2.3564\n",
      "\n",
      "Dataset: FinQA \tNumber of queries: 344\t Number of documents: 247\n",
      "Average number of chunks: 2.3684\n",
      "\n",
      "Dataset: MultiHeritt \tNumber of queries: 292\t Number of documents: 876\n",
      "Average number of chunks: 1.8265\n",
      "\n",
      "Dataset: TATQA \tNumber of queries: 498\t Number of documents: 248\n",
      "Average number of chunks: 1.4637\n",
      "\n"
     ]
    }
   ],
   "source": [
    "for DATASET_NAME in dataset_manager.list_datasets():\n",
    "    corpus, queries, qrels = dataset_manager.load_dataset(DATASET_NAME)\n",
    "    corpus, queries = reduce_dataset_size(corpus, queries, qrels)\n",
    "    print(f\"Dataset: {DATASET_NAME} \\tNumber of queries: {len(queries)}\\t Number of documents: {len(corpus)}\")\n",
    "\n",
    "    pipeline = RAGPipeline(corpus, queries, qrels, text_processor)\n",
    "    num_chunks = []\n",
    "    for idx, text in corpus.items():\n",
    "        data_obj = text_processor.load_data(text)\n",
    "        data_obj = text_processor.tokenize()\n",
    "        chunks = chunker(data_obj.data, max_length=512, padding_value=0, overlap_percent=15)\n",
    "        num_chunks.append(len(chunks))\n",
    "    \n",
    "    print(f\"Average number of chunks: {round(np.mean(num_chunks),4)}\\n\")"
   ]
  },
  {
   "cell_type": "code",
   "execution_count": 21,
   "metadata": {},
   "outputs": [],
   "source": [
    "import plotly.graph_objects as go\n",
    "import plotly.subplots as sp\n",
    "\n",
    "def plot_count_words(corpus_df, queries_df):\n",
    "    # Calculate text lengths based on word count\n",
    "    corpus_df['word_count'] = corpus_df['text'].apply(lambda x: len(x.split()))\n",
    "    queries_df['word_count'] = queries_df['text'].apply(lambda x: len(x.split()))\n",
    "\n",
    "    # Calculate max and average word counts\n",
    "    max_word_count_corpus = corpus_df['word_count'].max()\n",
    "    average_word_count_corpus = round(corpus_df['word_count'].mean(), 2)\n",
    "    max_word_count_queries = queries_df['word_count'].max()\n",
    "    average_word_count_queries = round(queries_df['word_count'].mean(), 2)\n",
    "\n",
    "    print(f\"Max word count: {max_word_count_corpus}\")\n",
    "    print(f\"Average word count: {average_word_count_corpus}\")\n",
    "    print(f\"Max word count in queries: {max_word_count_queries}\")\n",
    "    print(f\"Average word count in queries: {average_word_count_queries}\")\n",
    "\n",
    "    # Create subplots\n",
    "    fig = sp.make_subplots(rows=1, cols=2, subplot_titles=(\"Corpus Word Count Distribution\", \"Queries Word Count Distribution\"))\n",
    "\n",
    "    # Histogram for corpus\n",
    "    fig.add_trace(go.Histogram(\n",
    "        x=corpus_df['word_count'],\n",
    "        nbinsx=50,\n",
    "        marker_color='blue',\n",
    "        name=\"Corpus Word Count\"\n",
    "    ), row=1, col=1)\n",
    "\n",
    "    # Histogram for queries\n",
    "    fig.add_trace(go.Histogram(\n",
    "        x=queries_df['word_count'],\n",
    "        nbinsx=50,\n",
    "        marker_color='green',\n",
    "        name=\"Queries Word Count\"\n",
    "    ), row=1, col=2)\n",
    "\n",
    "    # Update layout\n",
    "    fig.update_layout(\n",
    "        title_text=\"Word Count Distribution in Corpus and Queries\",\n",
    "        showlegend=False,\n",
    "        height=400,\n",
    "        width=800\n",
    "    )\n",
    "\n",
    "    fig.update_xaxes(title_text=\"Word Count\")\n",
    "    fig.update_yaxes(title_text=\"Frequency\")\n",
    "\n",
    "    fig.show()"
   ]
  },
  {
   "cell_type": "markdown",
   "metadata": {},
   "source": [
    "## Word count in the datasets"
   ]
  },
  {
   "cell_type": "code",
   "execution_count": 22,
   "metadata": {},
   "outputs": [
    {
     "name": "stdout",
     "output_type": "stream",
     "text": [
      "========= DATASET: ConvFinQA  =========\n",
      "\n",
      "Starting number of documents: 2066 and number of queries: 421\n",
      "After reducing: number of documents: 101 and number of queries: 126\n",
      "\n",
      "Max word count: 1586\n",
      "Average word count: 685.39\n",
      "Max word count in queries: 35\n",
      "Average word count in queries: 13.89\n"
     ]
    },
    {
     "data": {
      "application/vnd.plotly.v1+json": {
       "config": {
        "plotlyServerURL": "https://plot.ly"
       },
       "data": [
        {
         "marker": {
          "color": "blue"
         },
         "name": "Corpus Word Count",
         "nbinsx": 50,
         "type": "histogram",
         "x": {
          "bdata": "0wRtAsgDAwOGAwgCggN4AngD/QKXAgYBVgHEBfsC5QGFBFYDiwMpA7wA3AK5AjIG+QO0AUYDAwQlA4EDUQI3A7ICwwJbA9EBgQLTA0QBqwHZArgDBAPlA8UCxALyAmECcQEKBecD9gKTA+MB6AB/AwYDYQIIAvwDOgGJAukBDwIpAXUC4QN8AfMANgISA10BuwIyAUQDlwBbAaEChgItAQMDagF3ApcBawI0AbcCBgF1ASgEKwOFAjQBnAHtAtoCRAP6AywCqwMkAw==",
          "dtype": "i2"
         },
         "xaxis": "x",
         "yaxis": "y"
        },
        {
         "marker": {
          "color": "green"
         },
         "name": "Queries Word Count",
         "nbinsx": 50,
         "type": "histogram",
         "x": {
          "bdata": "CggMCgwIDg4KDwkRCwoLDRAJDAwPGRkQCRILCBILDQ0NEAYIDxAKDAsTHhcFDAgYDA4OCw4JBggNEBAKCxYJERAJEg0HDxoLDw4KDCAPBwcOEA8PFBAOGRAQDxEPChEMDA4PDA4FFBQKEBAODA0UCgwMBhISCAcQEQ4RIxAG",
          "dtype": "i1"
         },
         "xaxis": "x2",
         "yaxis": "y2"
        }
       ],
       "layout": {
        "annotations": [
         {
          "font": {
           "size": 16
          },
          "showarrow": false,
          "text": "Corpus Word Count Distribution",
          "x": 0.225,
          "xanchor": "center",
          "xref": "paper",
          "y": 1,
          "yanchor": "bottom",
          "yref": "paper"
         },
         {
          "font": {
           "size": 16
          },
          "showarrow": false,
          "text": "Queries Word Count Distribution",
          "x": 0.775,
          "xanchor": "center",
          "xref": "paper",
          "y": 1,
          "yanchor": "bottom",
          "yref": "paper"
         }
        ],
        "height": 400,
        "showlegend": false,
        "template": {
         "data": {
          "bar": [
           {
            "error_x": {
             "color": "#2a3f5f"
            },
            "error_y": {
             "color": "#2a3f5f"
            },
            "marker": {
             "line": {
              "color": "#E5ECF6",
              "width": 0.5
             },
             "pattern": {
              "fillmode": "overlay",
              "size": 10,
              "solidity": 0.2
             }
            },
            "type": "bar"
           }
          ],
          "barpolar": [
           {
            "marker": {
             "line": {
              "color": "#E5ECF6",
              "width": 0.5
             },
             "pattern": {
              "fillmode": "overlay",
              "size": 10,
              "solidity": 0.2
             }
            },
            "type": "barpolar"
           }
          ],
          "carpet": [
           {
            "aaxis": {
             "endlinecolor": "#2a3f5f",
             "gridcolor": "white",
             "linecolor": "white",
             "minorgridcolor": "white",
             "startlinecolor": "#2a3f5f"
            },
            "baxis": {
             "endlinecolor": "#2a3f5f",
             "gridcolor": "white",
             "linecolor": "white",
             "minorgridcolor": "white",
             "startlinecolor": "#2a3f5f"
            },
            "type": "carpet"
           }
          ],
          "choropleth": [
           {
            "colorbar": {
             "outlinewidth": 0,
             "ticks": ""
            },
            "type": "choropleth"
           }
          ],
          "contour": [
           {
            "colorbar": {
             "outlinewidth": 0,
             "ticks": ""
            },
            "colorscale": [
             [
              0,
              "#0d0887"
             ],
             [
              0.1111111111111111,
              "#46039f"
             ],
             [
              0.2222222222222222,
              "#7201a8"
             ],
             [
              0.3333333333333333,
              "#9c179e"
             ],
             [
              0.4444444444444444,
              "#bd3786"
             ],
             [
              0.5555555555555556,
              "#d8576b"
             ],
             [
              0.6666666666666666,
              "#ed7953"
             ],
             [
              0.7777777777777778,
              "#fb9f3a"
             ],
             [
              0.8888888888888888,
              "#fdca26"
             ],
             [
              1,
              "#f0f921"
             ]
            ],
            "type": "contour"
           }
          ],
          "contourcarpet": [
           {
            "colorbar": {
             "outlinewidth": 0,
             "ticks": ""
            },
            "type": "contourcarpet"
           }
          ],
          "heatmap": [
           {
            "colorbar": {
             "outlinewidth": 0,
             "ticks": ""
            },
            "colorscale": [
             [
              0,
              "#0d0887"
             ],
             [
              0.1111111111111111,
              "#46039f"
             ],
             [
              0.2222222222222222,
              "#7201a8"
             ],
             [
              0.3333333333333333,
              "#9c179e"
             ],
             [
              0.4444444444444444,
              "#bd3786"
             ],
             [
              0.5555555555555556,
              "#d8576b"
             ],
             [
              0.6666666666666666,
              "#ed7953"
             ],
             [
              0.7777777777777778,
              "#fb9f3a"
             ],
             [
              0.8888888888888888,
              "#fdca26"
             ],
             [
              1,
              "#f0f921"
             ]
            ],
            "type": "heatmap"
           }
          ],
          "histogram": [
           {
            "marker": {
             "pattern": {
              "fillmode": "overlay",
              "size": 10,
              "solidity": 0.2
             }
            },
            "type": "histogram"
           }
          ],
          "histogram2d": [
           {
            "colorbar": {
             "outlinewidth": 0,
             "ticks": ""
            },
            "colorscale": [
             [
              0,
              "#0d0887"
             ],
             [
              0.1111111111111111,
              "#46039f"
             ],
             [
              0.2222222222222222,
              "#7201a8"
             ],
             [
              0.3333333333333333,
              "#9c179e"
             ],
             [
              0.4444444444444444,
              "#bd3786"
             ],
             [
              0.5555555555555556,
              "#d8576b"
             ],
             [
              0.6666666666666666,
              "#ed7953"
             ],
             [
              0.7777777777777778,
              "#fb9f3a"
             ],
             [
              0.8888888888888888,
              "#fdca26"
             ],
             [
              1,
              "#f0f921"
             ]
            ],
            "type": "histogram2d"
           }
          ],
          "histogram2dcontour": [
           {
            "colorbar": {
             "outlinewidth": 0,
             "ticks": ""
            },
            "colorscale": [
             [
              0,
              "#0d0887"
             ],
             [
              0.1111111111111111,
              "#46039f"
             ],
             [
              0.2222222222222222,
              "#7201a8"
             ],
             [
              0.3333333333333333,
              "#9c179e"
             ],
             [
              0.4444444444444444,
              "#bd3786"
             ],
             [
              0.5555555555555556,
              "#d8576b"
             ],
             [
              0.6666666666666666,
              "#ed7953"
             ],
             [
              0.7777777777777778,
              "#fb9f3a"
             ],
             [
              0.8888888888888888,
              "#fdca26"
             ],
             [
              1,
              "#f0f921"
             ]
            ],
            "type": "histogram2dcontour"
           }
          ],
          "mesh3d": [
           {
            "colorbar": {
             "outlinewidth": 0,
             "ticks": ""
            },
            "type": "mesh3d"
           }
          ],
          "parcoords": [
           {
            "line": {
             "colorbar": {
              "outlinewidth": 0,
              "ticks": ""
             }
            },
            "type": "parcoords"
           }
          ],
          "pie": [
           {
            "automargin": true,
            "type": "pie"
           }
          ],
          "scatter": [
           {
            "fillpattern": {
             "fillmode": "overlay",
             "size": 10,
             "solidity": 0.2
            },
            "type": "scatter"
           }
          ],
          "scatter3d": [
           {
            "line": {
             "colorbar": {
              "outlinewidth": 0,
              "ticks": ""
             }
            },
            "marker": {
             "colorbar": {
              "outlinewidth": 0,
              "ticks": ""
             }
            },
            "type": "scatter3d"
           }
          ],
          "scattercarpet": [
           {
            "marker": {
             "colorbar": {
              "outlinewidth": 0,
              "ticks": ""
             }
            },
            "type": "scattercarpet"
           }
          ],
          "scattergeo": [
           {
            "marker": {
             "colorbar": {
              "outlinewidth": 0,
              "ticks": ""
             }
            },
            "type": "scattergeo"
           }
          ],
          "scattergl": [
           {
            "marker": {
             "colorbar": {
              "outlinewidth": 0,
              "ticks": ""
             }
            },
            "type": "scattergl"
           }
          ],
          "scattermap": [
           {
            "marker": {
             "colorbar": {
              "outlinewidth": 0,
              "ticks": ""
             }
            },
            "type": "scattermap"
           }
          ],
          "scattermapbox": [
           {
            "marker": {
             "colorbar": {
              "outlinewidth": 0,
              "ticks": ""
             }
            },
            "type": "scattermapbox"
           }
          ],
          "scatterpolar": [
           {
            "marker": {
             "colorbar": {
              "outlinewidth": 0,
              "ticks": ""
             }
            },
            "type": "scatterpolar"
           }
          ],
          "scatterpolargl": [
           {
            "marker": {
             "colorbar": {
              "outlinewidth": 0,
              "ticks": ""
             }
            },
            "type": "scatterpolargl"
           }
          ],
          "scatterternary": [
           {
            "marker": {
             "colorbar": {
              "outlinewidth": 0,
              "ticks": ""
             }
            },
            "type": "scatterternary"
           }
          ],
          "surface": [
           {
            "colorbar": {
             "outlinewidth": 0,
             "ticks": ""
            },
            "colorscale": [
             [
              0,
              "#0d0887"
             ],
             [
              0.1111111111111111,
              "#46039f"
             ],
             [
              0.2222222222222222,
              "#7201a8"
             ],
             [
              0.3333333333333333,
              "#9c179e"
             ],
             [
              0.4444444444444444,
              "#bd3786"
             ],
             [
              0.5555555555555556,
              "#d8576b"
             ],
             [
              0.6666666666666666,
              "#ed7953"
             ],
             [
              0.7777777777777778,
              "#fb9f3a"
             ],
             [
              0.8888888888888888,
              "#fdca26"
             ],
             [
              1,
              "#f0f921"
             ]
            ],
            "type": "surface"
           }
          ],
          "table": [
           {
            "cells": {
             "fill": {
              "color": "#EBF0F8"
             },
             "line": {
              "color": "white"
             }
            },
            "header": {
             "fill": {
              "color": "#C8D4E3"
             },
             "line": {
              "color": "white"
             }
            },
            "type": "table"
           }
          ]
         },
         "layout": {
          "annotationdefaults": {
           "arrowcolor": "#2a3f5f",
           "arrowhead": 0,
           "arrowwidth": 1
          },
          "autotypenumbers": "strict",
          "coloraxis": {
           "colorbar": {
            "outlinewidth": 0,
            "ticks": ""
           }
          },
          "colorscale": {
           "diverging": [
            [
             0,
             "#8e0152"
            ],
            [
             0.1,
             "#c51b7d"
            ],
            [
             0.2,
             "#de77ae"
            ],
            [
             0.3,
             "#f1b6da"
            ],
            [
             0.4,
             "#fde0ef"
            ],
            [
             0.5,
             "#f7f7f7"
            ],
            [
             0.6,
             "#e6f5d0"
            ],
            [
             0.7,
             "#b8e186"
            ],
            [
             0.8,
             "#7fbc41"
            ],
            [
             0.9,
             "#4d9221"
            ],
            [
             1,
             "#276419"
            ]
           ],
           "sequential": [
            [
             0,
             "#0d0887"
            ],
            [
             0.1111111111111111,
             "#46039f"
            ],
            [
             0.2222222222222222,
             "#7201a8"
            ],
            [
             0.3333333333333333,
             "#9c179e"
            ],
            [
             0.4444444444444444,
             "#bd3786"
            ],
            [
             0.5555555555555556,
             "#d8576b"
            ],
            [
             0.6666666666666666,
             "#ed7953"
            ],
            [
             0.7777777777777778,
             "#fb9f3a"
            ],
            [
             0.8888888888888888,
             "#fdca26"
            ],
            [
             1,
             "#f0f921"
            ]
           ],
           "sequentialminus": [
            [
             0,
             "#0d0887"
            ],
            [
             0.1111111111111111,
             "#46039f"
            ],
            [
             0.2222222222222222,
             "#7201a8"
            ],
            [
             0.3333333333333333,
             "#9c179e"
            ],
            [
             0.4444444444444444,
             "#bd3786"
            ],
            [
             0.5555555555555556,
             "#d8576b"
            ],
            [
             0.6666666666666666,
             "#ed7953"
            ],
            [
             0.7777777777777778,
             "#fb9f3a"
            ],
            [
             0.8888888888888888,
             "#fdca26"
            ],
            [
             1,
             "#f0f921"
            ]
           ]
          },
          "colorway": [
           "#636efa",
           "#EF553B",
           "#00cc96",
           "#ab63fa",
           "#FFA15A",
           "#19d3f3",
           "#FF6692",
           "#B6E880",
           "#FF97FF",
           "#FECB52"
          ],
          "font": {
           "color": "#2a3f5f"
          },
          "geo": {
           "bgcolor": "white",
           "lakecolor": "white",
           "landcolor": "#E5ECF6",
           "showlakes": true,
           "showland": true,
           "subunitcolor": "white"
          },
          "hoverlabel": {
           "align": "left"
          },
          "hovermode": "closest",
          "mapbox": {
           "style": "light"
          },
          "paper_bgcolor": "white",
          "plot_bgcolor": "#E5ECF6",
          "polar": {
           "angularaxis": {
            "gridcolor": "white",
            "linecolor": "white",
            "ticks": ""
           },
           "bgcolor": "#E5ECF6",
           "radialaxis": {
            "gridcolor": "white",
            "linecolor": "white",
            "ticks": ""
           }
          },
          "scene": {
           "xaxis": {
            "backgroundcolor": "#E5ECF6",
            "gridcolor": "white",
            "gridwidth": 2,
            "linecolor": "white",
            "showbackground": true,
            "ticks": "",
            "zerolinecolor": "white"
           },
           "yaxis": {
            "backgroundcolor": "#E5ECF6",
            "gridcolor": "white",
            "gridwidth": 2,
            "linecolor": "white",
            "showbackground": true,
            "ticks": "",
            "zerolinecolor": "white"
           },
           "zaxis": {
            "backgroundcolor": "#E5ECF6",
            "gridcolor": "white",
            "gridwidth": 2,
            "linecolor": "white",
            "showbackground": true,
            "ticks": "",
            "zerolinecolor": "white"
           }
          },
          "shapedefaults": {
           "line": {
            "color": "#2a3f5f"
           }
          },
          "ternary": {
           "aaxis": {
            "gridcolor": "white",
            "linecolor": "white",
            "ticks": ""
           },
           "baxis": {
            "gridcolor": "white",
            "linecolor": "white",
            "ticks": ""
           },
           "bgcolor": "#E5ECF6",
           "caxis": {
            "gridcolor": "white",
            "linecolor": "white",
            "ticks": ""
           }
          },
          "title": {
           "x": 0.05
          },
          "xaxis": {
           "automargin": true,
           "gridcolor": "white",
           "linecolor": "white",
           "ticks": "",
           "title": {
            "standoff": 15
           },
           "zerolinecolor": "white",
           "zerolinewidth": 2
          },
          "yaxis": {
           "automargin": true,
           "gridcolor": "white",
           "linecolor": "white",
           "ticks": "",
           "title": {
            "standoff": 15
           },
           "zerolinecolor": "white",
           "zerolinewidth": 2
          }
         }
        },
        "title": {
         "text": "Word Count Distribution in Corpus and Queries"
        },
        "width": 800,
        "xaxis": {
         "anchor": "y",
         "domain": [
          0,
          0.45
         ],
         "title": {
          "text": "Word Count"
         }
        },
        "xaxis2": {
         "anchor": "y2",
         "domain": [
          0.55,
          1
         ],
         "title": {
          "text": "Word Count"
         }
        },
        "yaxis": {
         "anchor": "x",
         "domain": [
          0,
          1
         ],
         "title": {
          "text": "Frequency"
         }
        },
        "yaxis2": {
         "anchor": "x2",
         "domain": [
          0,
          1
         ],
         "title": {
          "text": "Frequency"
         }
        }
       }
      }
     },
     "metadata": {},
     "output_type": "display_data"
    },
    {
     "name": "stdout",
     "output_type": "stream",
     "text": [
      "\n",
      "========= DATASET: FinQA  =========\n",
      "\n",
      "Starting number of documents: 2789 and number of queries: 1147\n",
      "After reducing: number of documents: 247 and number of queries: 344\n",
      "\n",
      "Max word count: 1661\n",
      "Average word count: 685.09\n",
      "Max word count in queries: 43\n",
      "Average word count in queries: 16.71\n"
     ]
    },
    {
     "data": {
      "application/vnd.plotly.v1+json": {
       "config": {
        "plotlyServerURL": "https://plot.ly"
       },
       "data": [
        {
         "marker": {
          "color": "blue"
         },
         "name": "Corpus Word Count",
         "nbinsx": 50,
         "type": "histogram",
         "x": {
          "bdata": "WQAUA4IB+AORAKUCnQIUAwgCDQPFAgoESgKTAxMBSgShARoC6AL3AkoDfwN5AgUBDQNeAocBTQFwA5AD0QEcA/EDrASwA0UCjQIsAp8E3QLqAf8BRwIvAX8DBwKxAUcDagLDAkYD+wN5AzUC8wKYBKwCswPAAqECzwFGBKUCJALfAqgB7QJNAnME7AJHAnkC7QIwAT4D/wMvAlIC7QKjApACEwKKAgcEnQNNAvEC6gE4A9sDqgJHAikDWAOaARQDAQO7AmQCZgT3AncDHgKdAd0BNAGIBHkDewIhAoUBmANnAxkCAQJ8AvED8gICBIsCvwJiAX8ClwM1AisD8gMBA4cDdAXLAfkBcAGTAoADIgKJAiUD7AI8AqIChwLQAm4CogI+A6kB3ABmAscACQF5AiUDFARLAsMBKwNhAKcCbgPTAiwCzgLVA0wDngJ9Bl4EowPiA9gCvQI5A4kC3QIeBDADOwNnBH4CvwIFAmYCYAPVA0gC+wFZA+MCLANoA/UCbALpAXwA4gFfA/ICSwMhAaADFALwAgwCLgEcAaAD/QG4ApgDOwNAA5UCRQMXA8oBxwBRAfQAKgJ6ApUBAwKYAsgDlwMAAiUBZAL2AtMBhgKEAp8DTQHlAvkAOANbAG8BBwN+AisC/wFjArQC7AI=",
          "dtype": "i2"
         },
         "xaxis": "x",
         "yaxis": "y"
        },
        {
         "marker": {
          "color": "green"
         },
         "name": "Queries Word Count",
         "nbinsx": 50,
         "type": "histogram",
         "x": {
          "bdata": "DQkSDBYVDwsgCRodEQsSGhEUFAsQEhAaGg8LDgwQGAwfERseGRMPFRkZDREOEQwPCisRDRAQERIJJg8JERYRFhgQEBEOERINEQ0QDBIJDwsYFAwNFRAKCg4PChIXDhAWDxAJDhgSDw0jBg4WECASDhUmDREODw8NDBQSEQwTEQ0ODA8UDQofEAoQDhEUCxEQERETGhQPDw4PEA4XER4LDgwQEQwRCA8WDh4NKQ8RFA4QDAwTCgoUDA0ODxYPCRIVDwoTEwwKHRsLFxEZEA4KDRQUDBEPGhEOGBEMEAwGDxMPDRIJDw4aEw0MDQwWFhEODBkbDhoVEg4TEhIMEAoTDQwRCxwPEgwPFgkMDxUUEBQJDw0OFRANDQkPFA8ODQsiCQ8UDhYPDg0cEBQUEhgOEw0KCw0YEQ4VFw4RDgsKDQ8UFA8MDBITDg0OERMNCwoRERYNCggODgo=",
          "dtype": "i1"
         },
         "xaxis": "x2",
         "yaxis": "y2"
        }
       ],
       "layout": {
        "annotations": [
         {
          "font": {
           "size": 16
          },
          "showarrow": false,
          "text": "Corpus Word Count Distribution",
          "x": 0.225,
          "xanchor": "center",
          "xref": "paper",
          "y": 1,
          "yanchor": "bottom",
          "yref": "paper"
         },
         {
          "font": {
           "size": 16
          },
          "showarrow": false,
          "text": "Queries Word Count Distribution",
          "x": 0.775,
          "xanchor": "center",
          "xref": "paper",
          "y": 1,
          "yanchor": "bottom",
          "yref": "paper"
         }
        ],
        "height": 400,
        "showlegend": false,
        "template": {
         "data": {
          "bar": [
           {
            "error_x": {
             "color": "#2a3f5f"
            },
            "error_y": {
             "color": "#2a3f5f"
            },
            "marker": {
             "line": {
              "color": "#E5ECF6",
              "width": 0.5
             },
             "pattern": {
              "fillmode": "overlay",
              "size": 10,
              "solidity": 0.2
             }
            },
            "type": "bar"
           }
          ],
          "barpolar": [
           {
            "marker": {
             "line": {
              "color": "#E5ECF6",
              "width": 0.5
             },
             "pattern": {
              "fillmode": "overlay",
              "size": 10,
              "solidity": 0.2
             }
            },
            "type": "barpolar"
           }
          ],
          "carpet": [
           {
            "aaxis": {
             "endlinecolor": "#2a3f5f",
             "gridcolor": "white",
             "linecolor": "white",
             "minorgridcolor": "white",
             "startlinecolor": "#2a3f5f"
            },
            "baxis": {
             "endlinecolor": "#2a3f5f",
             "gridcolor": "white",
             "linecolor": "white",
             "minorgridcolor": "white",
             "startlinecolor": "#2a3f5f"
            },
            "type": "carpet"
           }
          ],
          "choropleth": [
           {
            "colorbar": {
             "outlinewidth": 0,
             "ticks": ""
            },
            "type": "choropleth"
           }
          ],
          "contour": [
           {
            "colorbar": {
             "outlinewidth": 0,
             "ticks": ""
            },
            "colorscale": [
             [
              0,
              "#0d0887"
             ],
             [
              0.1111111111111111,
              "#46039f"
             ],
             [
              0.2222222222222222,
              "#7201a8"
             ],
             [
              0.3333333333333333,
              "#9c179e"
             ],
             [
              0.4444444444444444,
              "#bd3786"
             ],
             [
              0.5555555555555556,
              "#d8576b"
             ],
             [
              0.6666666666666666,
              "#ed7953"
             ],
             [
              0.7777777777777778,
              "#fb9f3a"
             ],
             [
              0.8888888888888888,
              "#fdca26"
             ],
             [
              1,
              "#f0f921"
             ]
            ],
            "type": "contour"
           }
          ],
          "contourcarpet": [
           {
            "colorbar": {
             "outlinewidth": 0,
             "ticks": ""
            },
            "type": "contourcarpet"
           }
          ],
          "heatmap": [
           {
            "colorbar": {
             "outlinewidth": 0,
             "ticks": ""
            },
            "colorscale": [
             [
              0,
              "#0d0887"
             ],
             [
              0.1111111111111111,
              "#46039f"
             ],
             [
              0.2222222222222222,
              "#7201a8"
             ],
             [
              0.3333333333333333,
              "#9c179e"
             ],
             [
              0.4444444444444444,
              "#bd3786"
             ],
             [
              0.5555555555555556,
              "#d8576b"
             ],
             [
              0.6666666666666666,
              "#ed7953"
             ],
             [
              0.7777777777777778,
              "#fb9f3a"
             ],
             [
              0.8888888888888888,
              "#fdca26"
             ],
             [
              1,
              "#f0f921"
             ]
            ],
            "type": "heatmap"
           }
          ],
          "histogram": [
           {
            "marker": {
             "pattern": {
              "fillmode": "overlay",
              "size": 10,
              "solidity": 0.2
             }
            },
            "type": "histogram"
           }
          ],
          "histogram2d": [
           {
            "colorbar": {
             "outlinewidth": 0,
             "ticks": ""
            },
            "colorscale": [
             [
              0,
              "#0d0887"
             ],
             [
              0.1111111111111111,
              "#46039f"
             ],
             [
              0.2222222222222222,
              "#7201a8"
             ],
             [
              0.3333333333333333,
              "#9c179e"
             ],
             [
              0.4444444444444444,
              "#bd3786"
             ],
             [
              0.5555555555555556,
              "#d8576b"
             ],
             [
              0.6666666666666666,
              "#ed7953"
             ],
             [
              0.7777777777777778,
              "#fb9f3a"
             ],
             [
              0.8888888888888888,
              "#fdca26"
             ],
             [
              1,
              "#f0f921"
             ]
            ],
            "type": "histogram2d"
           }
          ],
          "histogram2dcontour": [
           {
            "colorbar": {
             "outlinewidth": 0,
             "ticks": ""
            },
            "colorscale": [
             [
              0,
              "#0d0887"
             ],
             [
              0.1111111111111111,
              "#46039f"
             ],
             [
              0.2222222222222222,
              "#7201a8"
             ],
             [
              0.3333333333333333,
              "#9c179e"
             ],
             [
              0.4444444444444444,
              "#bd3786"
             ],
             [
              0.5555555555555556,
              "#d8576b"
             ],
             [
              0.6666666666666666,
              "#ed7953"
             ],
             [
              0.7777777777777778,
              "#fb9f3a"
             ],
             [
              0.8888888888888888,
              "#fdca26"
             ],
             [
              1,
              "#f0f921"
             ]
            ],
            "type": "histogram2dcontour"
           }
          ],
          "mesh3d": [
           {
            "colorbar": {
             "outlinewidth": 0,
             "ticks": ""
            },
            "type": "mesh3d"
           }
          ],
          "parcoords": [
           {
            "line": {
             "colorbar": {
              "outlinewidth": 0,
              "ticks": ""
             }
            },
            "type": "parcoords"
           }
          ],
          "pie": [
           {
            "automargin": true,
            "type": "pie"
           }
          ],
          "scatter": [
           {
            "fillpattern": {
             "fillmode": "overlay",
             "size": 10,
             "solidity": 0.2
            },
            "type": "scatter"
           }
          ],
          "scatter3d": [
           {
            "line": {
             "colorbar": {
              "outlinewidth": 0,
              "ticks": ""
             }
            },
            "marker": {
             "colorbar": {
              "outlinewidth": 0,
              "ticks": ""
             }
            },
            "type": "scatter3d"
           }
          ],
          "scattercarpet": [
           {
            "marker": {
             "colorbar": {
              "outlinewidth": 0,
              "ticks": ""
             }
            },
            "type": "scattercarpet"
           }
          ],
          "scattergeo": [
           {
            "marker": {
             "colorbar": {
              "outlinewidth": 0,
              "ticks": ""
             }
            },
            "type": "scattergeo"
           }
          ],
          "scattergl": [
           {
            "marker": {
             "colorbar": {
              "outlinewidth": 0,
              "ticks": ""
             }
            },
            "type": "scattergl"
           }
          ],
          "scattermap": [
           {
            "marker": {
             "colorbar": {
              "outlinewidth": 0,
              "ticks": ""
             }
            },
            "type": "scattermap"
           }
          ],
          "scattermapbox": [
           {
            "marker": {
             "colorbar": {
              "outlinewidth": 0,
              "ticks": ""
             }
            },
            "type": "scattermapbox"
           }
          ],
          "scatterpolar": [
           {
            "marker": {
             "colorbar": {
              "outlinewidth": 0,
              "ticks": ""
             }
            },
            "type": "scatterpolar"
           }
          ],
          "scatterpolargl": [
           {
            "marker": {
             "colorbar": {
              "outlinewidth": 0,
              "ticks": ""
             }
            },
            "type": "scatterpolargl"
           }
          ],
          "scatterternary": [
           {
            "marker": {
             "colorbar": {
              "outlinewidth": 0,
              "ticks": ""
             }
            },
            "type": "scatterternary"
           }
          ],
          "surface": [
           {
            "colorbar": {
             "outlinewidth": 0,
             "ticks": ""
            },
            "colorscale": [
             [
              0,
              "#0d0887"
             ],
             [
              0.1111111111111111,
              "#46039f"
             ],
             [
              0.2222222222222222,
              "#7201a8"
             ],
             [
              0.3333333333333333,
              "#9c179e"
             ],
             [
              0.4444444444444444,
              "#bd3786"
             ],
             [
              0.5555555555555556,
              "#d8576b"
             ],
             [
              0.6666666666666666,
              "#ed7953"
             ],
             [
              0.7777777777777778,
              "#fb9f3a"
             ],
             [
              0.8888888888888888,
              "#fdca26"
             ],
             [
              1,
              "#f0f921"
             ]
            ],
            "type": "surface"
           }
          ],
          "table": [
           {
            "cells": {
             "fill": {
              "color": "#EBF0F8"
             },
             "line": {
              "color": "white"
             }
            },
            "header": {
             "fill": {
              "color": "#C8D4E3"
             },
             "line": {
              "color": "white"
             }
            },
            "type": "table"
           }
          ]
         },
         "layout": {
          "annotationdefaults": {
           "arrowcolor": "#2a3f5f",
           "arrowhead": 0,
           "arrowwidth": 1
          },
          "autotypenumbers": "strict",
          "coloraxis": {
           "colorbar": {
            "outlinewidth": 0,
            "ticks": ""
           }
          },
          "colorscale": {
           "diverging": [
            [
             0,
             "#8e0152"
            ],
            [
             0.1,
             "#c51b7d"
            ],
            [
             0.2,
             "#de77ae"
            ],
            [
             0.3,
             "#f1b6da"
            ],
            [
             0.4,
             "#fde0ef"
            ],
            [
             0.5,
             "#f7f7f7"
            ],
            [
             0.6,
             "#e6f5d0"
            ],
            [
             0.7,
             "#b8e186"
            ],
            [
             0.8,
             "#7fbc41"
            ],
            [
             0.9,
             "#4d9221"
            ],
            [
             1,
             "#276419"
            ]
           ],
           "sequential": [
            [
             0,
             "#0d0887"
            ],
            [
             0.1111111111111111,
             "#46039f"
            ],
            [
             0.2222222222222222,
             "#7201a8"
            ],
            [
             0.3333333333333333,
             "#9c179e"
            ],
            [
             0.4444444444444444,
             "#bd3786"
            ],
            [
             0.5555555555555556,
             "#d8576b"
            ],
            [
             0.6666666666666666,
             "#ed7953"
            ],
            [
             0.7777777777777778,
             "#fb9f3a"
            ],
            [
             0.8888888888888888,
             "#fdca26"
            ],
            [
             1,
             "#f0f921"
            ]
           ],
           "sequentialminus": [
            [
             0,
             "#0d0887"
            ],
            [
             0.1111111111111111,
             "#46039f"
            ],
            [
             0.2222222222222222,
             "#7201a8"
            ],
            [
             0.3333333333333333,
             "#9c179e"
            ],
            [
             0.4444444444444444,
             "#bd3786"
            ],
            [
             0.5555555555555556,
             "#d8576b"
            ],
            [
             0.6666666666666666,
             "#ed7953"
            ],
            [
             0.7777777777777778,
             "#fb9f3a"
            ],
            [
             0.8888888888888888,
             "#fdca26"
            ],
            [
             1,
             "#f0f921"
            ]
           ]
          },
          "colorway": [
           "#636efa",
           "#EF553B",
           "#00cc96",
           "#ab63fa",
           "#FFA15A",
           "#19d3f3",
           "#FF6692",
           "#B6E880",
           "#FF97FF",
           "#FECB52"
          ],
          "font": {
           "color": "#2a3f5f"
          },
          "geo": {
           "bgcolor": "white",
           "lakecolor": "white",
           "landcolor": "#E5ECF6",
           "showlakes": true,
           "showland": true,
           "subunitcolor": "white"
          },
          "hoverlabel": {
           "align": "left"
          },
          "hovermode": "closest",
          "mapbox": {
           "style": "light"
          },
          "paper_bgcolor": "white",
          "plot_bgcolor": "#E5ECF6",
          "polar": {
           "angularaxis": {
            "gridcolor": "white",
            "linecolor": "white",
            "ticks": ""
           },
           "bgcolor": "#E5ECF6",
           "radialaxis": {
            "gridcolor": "white",
            "linecolor": "white",
            "ticks": ""
           }
          },
          "scene": {
           "xaxis": {
            "backgroundcolor": "#E5ECF6",
            "gridcolor": "white",
            "gridwidth": 2,
            "linecolor": "white",
            "showbackground": true,
            "ticks": "",
            "zerolinecolor": "white"
           },
           "yaxis": {
            "backgroundcolor": "#E5ECF6",
            "gridcolor": "white",
            "gridwidth": 2,
            "linecolor": "white",
            "showbackground": true,
            "ticks": "",
            "zerolinecolor": "white"
           },
           "zaxis": {
            "backgroundcolor": "#E5ECF6",
            "gridcolor": "white",
            "gridwidth": 2,
            "linecolor": "white",
            "showbackground": true,
            "ticks": "",
            "zerolinecolor": "white"
           }
          },
          "shapedefaults": {
           "line": {
            "color": "#2a3f5f"
           }
          },
          "ternary": {
           "aaxis": {
            "gridcolor": "white",
            "linecolor": "white",
            "ticks": ""
           },
           "baxis": {
            "gridcolor": "white",
            "linecolor": "white",
            "ticks": ""
           },
           "bgcolor": "#E5ECF6",
           "caxis": {
            "gridcolor": "white",
            "linecolor": "white",
            "ticks": ""
           }
          },
          "title": {
           "x": 0.05
          },
          "xaxis": {
           "automargin": true,
           "gridcolor": "white",
           "linecolor": "white",
           "ticks": "",
           "title": {
            "standoff": 15
           },
           "zerolinecolor": "white",
           "zerolinewidth": 2
          },
          "yaxis": {
           "automargin": true,
           "gridcolor": "white",
           "linecolor": "white",
           "ticks": "",
           "title": {
            "standoff": 15
           },
           "zerolinecolor": "white",
           "zerolinewidth": 2
          }
         }
        },
        "title": {
         "text": "Word Count Distribution in Corpus and Queries"
        },
        "width": 800,
        "xaxis": {
         "anchor": "y",
         "domain": [
          0,
          0.45
         ],
         "title": {
          "text": "Word Count"
         }
        },
        "xaxis2": {
         "anchor": "y2",
         "domain": [
          0.55,
          1
         ],
         "title": {
          "text": "Word Count"
         }
        },
        "yaxis": {
         "anchor": "x",
         "domain": [
          0,
          1
         ],
         "title": {
          "text": "Frequency"
         }
        },
        "yaxis2": {
         "anchor": "x2",
         "domain": [
          0,
          1
         ],
         "title": {
          "text": "Frequency"
         }
        }
       }
      }
     },
     "metadata": {},
     "output_type": "display_data"
    },
    {
     "name": "stdout",
     "output_type": "stream",
     "text": [
      "\n",
      "========= DATASET: MultiHeritt  =========\n",
      "\n",
      "Starting number of documents: 10475 and number of queries: 974\n",
      "After reducing: number of documents: 876 and number of queries: 292\n",
      "\n",
      "Max word count: 2654\n",
      "Average word count: 474.03\n",
      "Max word count in queries: 46\n",
      "Average word count in queries: 17.97\n"
     ]
    },
    {
     "data": {
      "application/vnd.plotly.v1+json": {
       "config": {
        "plotlyServerURL": "https://plot.ly"
       },
       "data": [
        {
         "marker": {
          "color": "blue"
         },
         "name": "Corpus Word Count",
         "nbinsx": 50,
         "type": "histogram",
         "x": {
          "bdata": "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",
          "dtype": "i2"
         },
         "xaxis": "x",
         "yaxis": "y"
        },
        {
         "marker": {
          "color": "green"
         },
         "name": "Queries Word Count",
         "nbinsx": 50,
         "type": "histogram",
         "x": {
          "bdata": "EhAMExANExQRFhcJGQwXFRYWCxgODRAWEg8RCgwUFxQXCxIaDxcRDhUQEBUKGRMMEhISFhUVERITChcPGBEKDxQREAwREQ4WDxgTChcPCgoVEAkdGBgPDw4VFQ0QDBQPExYZDh0TDg0bCxcMFAkVLhYZEhQWDRcSEh0SCx0OCg0KEgoVDQ4WGRAXCxUSDBUMEh0VEhYbFBIYFBkbDBATDg0QFA0RFxAdCQkYEBUaGREPFRIREhIRGxESEBYOFg0PDRMTDRwVCwsSEg4TEBUJFBYUHBcXGAwNFRAVEBcVChsOCQ8WFg8RGhsSEwwKDA4SFxkSEw0TCggQEA0LGhcRDQ4VEwkUFhQOFxIKFA0SEhMTEQ0SEhUWDxILExYUDBwJEhMPEA==",
          "dtype": "i1"
         },
         "xaxis": "x2",
         "yaxis": "y2"
        }
       ],
       "layout": {
        "annotations": [
         {
          "font": {
           "size": 16
          },
          "showarrow": false,
          "text": "Corpus Word Count Distribution",
          "x": 0.225,
          "xanchor": "center",
          "xref": "paper",
          "y": 1,
          "yanchor": "bottom",
          "yref": "paper"
         },
         {
          "font": {
           "size": 16
          },
          "showarrow": false,
          "text": "Queries Word Count Distribution",
          "x": 0.775,
          "xanchor": "center",
          "xref": "paper",
          "y": 1,
          "yanchor": "bottom",
          "yref": "paper"
         }
        ],
        "height": 400,
        "showlegend": false,
        "template": {
         "data": {
          "bar": [
           {
            "error_x": {
             "color": "#2a3f5f"
            },
            "error_y": {
             "color": "#2a3f5f"
            },
            "marker": {
             "line": {
              "color": "#E5ECF6",
              "width": 0.5
             },
             "pattern": {
              "fillmode": "overlay",
              "size": 10,
              "solidity": 0.2
             }
            },
            "type": "bar"
           }
          ],
          "barpolar": [
           {
            "marker": {
             "line": {
              "color": "#E5ECF6",
              "width": 0.5
             },
             "pattern": {
              "fillmode": "overlay",
              "size": 10,
              "solidity": 0.2
             }
            },
            "type": "barpolar"
           }
          ],
          "carpet": [
           {
            "aaxis": {
             "endlinecolor": "#2a3f5f",
             "gridcolor": "white",
             "linecolor": "white",
             "minorgridcolor": "white",
             "startlinecolor": "#2a3f5f"
            },
            "baxis": {
             "endlinecolor": "#2a3f5f",
             "gridcolor": "white",
             "linecolor": "white",
             "minorgridcolor": "white",
             "startlinecolor": "#2a3f5f"
            },
            "type": "carpet"
           }
          ],
          "choropleth": [
           {
            "colorbar": {
             "outlinewidth": 0,
             "ticks": ""
            },
            "type": "choropleth"
           }
          ],
          "contour": [
           {
            "colorbar": {
             "outlinewidth": 0,
             "ticks": ""
            },
            "colorscale": [
             [
              0,
              "#0d0887"
             ],
             [
              0.1111111111111111,
              "#46039f"
             ],
             [
              0.2222222222222222,
              "#7201a8"
             ],
             [
              0.3333333333333333,
              "#9c179e"
             ],
             [
              0.4444444444444444,
              "#bd3786"
             ],
             [
              0.5555555555555556,
              "#d8576b"
             ],
             [
              0.6666666666666666,
              "#ed7953"
             ],
             [
              0.7777777777777778,
              "#fb9f3a"
             ],
             [
              0.8888888888888888,
              "#fdca26"
             ],
             [
              1,
              "#f0f921"
             ]
            ],
            "type": "contour"
           }
          ],
          "contourcarpet": [
           {
            "colorbar": {
             "outlinewidth": 0,
             "ticks": ""
            },
            "type": "contourcarpet"
           }
          ],
          "heatmap": [
           {
            "colorbar": {
             "outlinewidth": 0,
             "ticks": ""
            },
            "colorscale": [
             [
              0,
              "#0d0887"
             ],
             [
              0.1111111111111111,
              "#46039f"
             ],
             [
              0.2222222222222222,
              "#7201a8"
             ],
             [
              0.3333333333333333,
              "#9c179e"
             ],
             [
              0.4444444444444444,
              "#bd3786"
             ],
             [
              0.5555555555555556,
              "#d8576b"
             ],
             [
              0.6666666666666666,
              "#ed7953"
             ],
             [
              0.7777777777777778,
              "#fb9f3a"
             ],
             [
              0.8888888888888888,
              "#fdca26"
             ],
             [
              1,
              "#f0f921"
             ]
            ],
            "type": "heatmap"
           }
          ],
          "histogram": [
           {
            "marker": {
             "pattern": {
              "fillmode": "overlay",
              "size": 10,
              "solidity": 0.2
             }
            },
            "type": "histogram"
           }
          ],
          "histogram2d": [
           {
            "colorbar": {
             "outlinewidth": 0,
             "ticks": ""
            },
            "colorscale": [
             [
              0,
              "#0d0887"
             ],
             [
              0.1111111111111111,
              "#46039f"
             ],
             [
              0.2222222222222222,
              "#7201a8"
             ],
             [
              0.3333333333333333,
              "#9c179e"
             ],
             [
              0.4444444444444444,
              "#bd3786"
             ],
             [
              0.5555555555555556,
              "#d8576b"
             ],
             [
              0.6666666666666666,
              "#ed7953"
             ],
             [
              0.7777777777777778,
              "#fb9f3a"
             ],
             [
              0.8888888888888888,
              "#fdca26"
             ],
             [
              1,
              "#f0f921"
             ]
            ],
            "type": "histogram2d"
           }
          ],
          "histogram2dcontour": [
           {
            "colorbar": {
             "outlinewidth": 0,
             "ticks": ""
            },
            "colorscale": [
             [
              0,
              "#0d0887"
             ],
             [
              0.1111111111111111,
              "#46039f"
             ],
             [
              0.2222222222222222,
              "#7201a8"
             ],
             [
              0.3333333333333333,
              "#9c179e"
             ],
             [
              0.4444444444444444,
              "#bd3786"
             ],
             [
              0.5555555555555556,
              "#d8576b"
             ],
             [
              0.6666666666666666,
              "#ed7953"
             ],
             [
              0.7777777777777778,
              "#fb9f3a"
             ],
             [
              0.8888888888888888,
              "#fdca26"
             ],
             [
              1,
              "#f0f921"
             ]
            ],
            "type": "histogram2dcontour"
           }
          ],
          "mesh3d": [
           {
            "colorbar": {
             "outlinewidth": 0,
             "ticks": ""
            },
            "type": "mesh3d"
           }
          ],
          "parcoords": [
           {
            "line": {
             "colorbar": {
              "outlinewidth": 0,
              "ticks": ""
             }
            },
            "type": "parcoords"
           }
          ],
          "pie": [
           {
            "automargin": true,
            "type": "pie"
           }
          ],
          "scatter": [
           {
            "fillpattern": {
             "fillmode": "overlay",
             "size": 10,
             "solidity": 0.2
            },
            "type": "scatter"
           }
          ],
          "scatter3d": [
           {
            "line": {
             "colorbar": {
              "outlinewidth": 0,
              "ticks": ""
             }
            },
            "marker": {
             "colorbar": {
              "outlinewidth": 0,
              "ticks": ""
             }
            },
            "type": "scatter3d"
           }
          ],
          "scattercarpet": [
           {
            "marker": {
             "colorbar": {
              "outlinewidth": 0,
              "ticks": ""
             }
            },
            "type": "scattercarpet"
           }
          ],
          "scattergeo": [
           {
            "marker": {
             "colorbar": {
              "outlinewidth": 0,
              "ticks": ""
             }
            },
            "type": "scattergeo"
           }
          ],
          "scattergl": [
           {
            "marker": {
             "colorbar": {
              "outlinewidth": 0,
              "ticks": ""
             }
            },
            "type": "scattergl"
           }
          ],
          "scattermap": [
           {
            "marker": {
             "colorbar": {
              "outlinewidth": 0,
              "ticks": ""
             }
            },
            "type": "scattermap"
           }
          ],
          "scattermapbox": [
           {
            "marker": {
             "colorbar": {
              "outlinewidth": 0,
              "ticks": ""
             }
            },
            "type": "scattermapbox"
           }
          ],
          "scatterpolar": [
           {
            "marker": {
             "colorbar": {
              "outlinewidth": 0,
              "ticks": ""
             }
            },
            "type": "scatterpolar"
           }
          ],
          "scatterpolargl": [
           {
            "marker": {
             "colorbar": {
              "outlinewidth": 0,
              "ticks": ""
             }
            },
            "type": "scatterpolargl"
           }
          ],
          "scatterternary": [
           {
            "marker": {
             "colorbar": {
              "outlinewidth": 0,
              "ticks": ""
             }
            },
            "type": "scatterternary"
           }
          ],
          "surface": [
           {
            "colorbar": {
             "outlinewidth": 0,
             "ticks": ""
            },
            "colorscale": [
             [
              0,
              "#0d0887"
             ],
             [
              0.1111111111111111,
              "#46039f"
             ],
             [
              0.2222222222222222,
              "#7201a8"
             ],
             [
              0.3333333333333333,
              "#9c179e"
             ],
             [
              0.4444444444444444,
              "#bd3786"
             ],
             [
              0.5555555555555556,
              "#d8576b"
             ],
             [
              0.6666666666666666,
              "#ed7953"
             ],
             [
              0.7777777777777778,
              "#fb9f3a"
             ],
             [
              0.8888888888888888,
              "#fdca26"
             ],
             [
              1,
              "#f0f921"
             ]
            ],
            "type": "surface"
           }
          ],
          "table": [
           {
            "cells": {
             "fill": {
              "color": "#EBF0F8"
             },
             "line": {
              "color": "white"
             }
            },
            "header": {
             "fill": {
              "color": "#C8D4E3"
             },
             "line": {
              "color": "white"
             }
            },
            "type": "table"
           }
          ]
         },
         "layout": {
          "annotationdefaults": {
           "arrowcolor": "#2a3f5f",
           "arrowhead": 0,
           "arrowwidth": 1
          },
          "autotypenumbers": "strict",
          "coloraxis": {
           "colorbar": {
            "outlinewidth": 0,
            "ticks": ""
           }
          },
          "colorscale": {
           "diverging": [
            [
             0,
             "#8e0152"
            ],
            [
             0.1,
             "#c51b7d"
            ],
            [
             0.2,
             "#de77ae"
            ],
            [
             0.3,
             "#f1b6da"
            ],
            [
             0.4,
             "#fde0ef"
            ],
            [
             0.5,
             "#f7f7f7"
            ],
            [
             0.6,
             "#e6f5d0"
            ],
            [
             0.7,
             "#b8e186"
            ],
            [
             0.8,
             "#7fbc41"
            ],
            [
             0.9,
             "#4d9221"
            ],
            [
             1,
             "#276419"
            ]
           ],
           "sequential": [
            [
             0,
             "#0d0887"
            ],
            [
             0.1111111111111111,
             "#46039f"
            ],
            [
             0.2222222222222222,
             "#7201a8"
            ],
            [
             0.3333333333333333,
             "#9c179e"
            ],
            [
             0.4444444444444444,
             "#bd3786"
            ],
            [
             0.5555555555555556,
             "#d8576b"
            ],
            [
             0.6666666666666666,
             "#ed7953"
            ],
            [
             0.7777777777777778,
             "#fb9f3a"
            ],
            [
             0.8888888888888888,
             "#fdca26"
            ],
            [
             1,
             "#f0f921"
            ]
           ],
           "sequentialminus": [
            [
             0,
             "#0d0887"
            ],
            [
             0.1111111111111111,
             "#46039f"
            ],
            [
             0.2222222222222222,
             "#7201a8"
            ],
            [
             0.3333333333333333,
             "#9c179e"
            ],
            [
             0.4444444444444444,
             "#bd3786"
            ],
            [
             0.5555555555555556,
             "#d8576b"
            ],
            [
             0.6666666666666666,
             "#ed7953"
            ],
            [
             0.7777777777777778,
             "#fb9f3a"
            ],
            [
             0.8888888888888888,
             "#fdca26"
            ],
            [
             1,
             "#f0f921"
            ]
           ]
          },
          "colorway": [
           "#636efa",
           "#EF553B",
           "#00cc96",
           "#ab63fa",
           "#FFA15A",
           "#19d3f3",
           "#FF6692",
           "#B6E880",
           "#FF97FF",
           "#FECB52"
          ],
          "font": {
           "color": "#2a3f5f"
          },
          "geo": {
           "bgcolor": "white",
           "lakecolor": "white",
           "landcolor": "#E5ECF6",
           "showlakes": true,
           "showland": true,
           "subunitcolor": "white"
          },
          "hoverlabel": {
           "align": "left"
          },
          "hovermode": "closest",
          "mapbox": {
           "style": "light"
          },
          "paper_bgcolor": "white",
          "plot_bgcolor": "#E5ECF6",
          "polar": {
           "angularaxis": {
            "gridcolor": "white",
            "linecolor": "white",
            "ticks": ""
           },
           "bgcolor": "#E5ECF6",
           "radialaxis": {
            "gridcolor": "white",
            "linecolor": "white",
            "ticks": ""
           }
          },
          "scene": {
           "xaxis": {
            "backgroundcolor": "#E5ECF6",
            "gridcolor": "white",
            "gridwidth": 2,
            "linecolor": "white",
            "showbackground": true,
            "ticks": "",
            "zerolinecolor": "white"
           },
           "yaxis": {
            "backgroundcolor": "#E5ECF6",
            "gridcolor": "white",
            "gridwidth": 2,
            "linecolor": "white",
            "showbackground": true,
            "ticks": "",
            "zerolinecolor": "white"
           },
           "zaxis": {
            "backgroundcolor": "#E5ECF6",
            "gridcolor": "white",
            "gridwidth": 2,
            "linecolor": "white",
            "showbackground": true,
            "ticks": "",
            "zerolinecolor": "white"
           }
          },
          "shapedefaults": {
           "line": {
            "color": "#2a3f5f"
           }
          },
          "ternary": {
           "aaxis": {
            "gridcolor": "white",
            "linecolor": "white",
            "ticks": ""
           },
           "baxis": {
            "gridcolor": "white",
            "linecolor": "white",
            "ticks": ""
           },
           "bgcolor": "#E5ECF6",
           "caxis": {
            "gridcolor": "white",
            "linecolor": "white",
            "ticks": ""
           }
          },
          "title": {
           "x": 0.05
          },
          "xaxis": {
           "automargin": true,
           "gridcolor": "white",
           "linecolor": "white",
           "ticks": "",
           "title": {
            "standoff": 15
           },
           "zerolinecolor": "white",
           "zerolinewidth": 2
          },
          "yaxis": {
           "automargin": true,
           "gridcolor": "white",
           "linecolor": "white",
           "ticks": "",
           "title": {
            "standoff": 15
           },
           "zerolinecolor": "white",
           "zerolinewidth": 2
          }
         }
        },
        "title": {
         "text": "Word Count Distribution in Corpus and Queries"
        },
        "width": 800,
        "xaxis": {
         "anchor": "y",
         "domain": [
          0,
          0.45
         ],
         "title": {
          "text": "Word Count"
         }
        },
        "xaxis2": {
         "anchor": "y2",
         "domain": [
          0.55,
          1
         ],
         "title": {
          "text": "Word Count"
         }
        },
        "yaxis": {
         "anchor": "x",
         "domain": [
          0,
          1
         ],
         "title": {
          "text": "Frequency"
         }
        },
        "yaxis2": {
         "anchor": "x2",
         "domain": [
          0,
          1
         ],
         "title": {
          "text": "Frequency"
         }
        }
       }
      }
     },
     "metadata": {},
     "output_type": "display_data"
    },
    {
     "name": "stdout",
     "output_type": "stream",
     "text": [
      "\n",
      "========= DATASET: TATQA  =========\n",
      "\n",
      "Starting number of documents: 2756 and number of queries: 1663\n",
      "After reducing: number of documents: 248 and number of queries: 498\n",
      "\n",
      "Max word count: 1100\n",
      "Average word count: 287.44\n",
      "Max word count in queries: 32\n",
      "Average word count in queries: 12.35\n"
     ]
    },
    {
     "data": {
      "application/vnd.plotly.v1+json": {
       "config": {
        "plotlyServerURL": "https://plot.ly"
       },
       "data": [
        {
         "marker": {
          "color": "blue"
         },
         "name": "Corpus Word Count",
         "nbinsx": 50,
         "type": "histogram",
         "x": {
          "bdata": "wgD7ANgB1wBmAIEApwBqAKkAQwJfAYoA9wClAAoBtABvAIsABQHFAH4AagB9AFMBZQDRANIB7gC0AFoB8gEFAksBTABpAYAAlQDuA5UBpgC1AaMAhAKLAIwAhgDGAHEAegKxAO8A4wA5ADcBnwHAAPcArwCdAV8AwwEeAR4BrgD4AX8BhQAEAUIBDAMjAfgAxwFBANoB8gCuAWgAbABkAb4AsAPEACkDUwL+A8sAmgC8AJUAsgHfAGQAWAH+AYoA8gEgAdIA+wFwAVMARACmACkBZQDwALMAVgCjAWoBqQDKADIDXACMAAkBoABgAsAAkwCmAEoAVQCOAFQA0wB4AHQBqwDrAVAC8wDSACcBbwDmAOgA/ABjAPkApwAiAYEAPwAtAHsAhwDlAFkBpAAAATkAOgGEAVkAKgFJARgBEAHCAYsAHQH5AXUBmAAFAjABiADBAPoAugEnAVcBewBqAIYBggA0BCkBRAJ+AEEAgwHWAKQCZgDvAVACRgGiAOgBDwFYAnwAIAHOANMAyADcABMBrQDoAKgADAF8AEoAsgDXAAsCygFwAScBGQFlAYcBdgDkANgAbQFjAUEBLAGgAsMB9QCkAucAagCFAcgAOQH0AUwEhwH+AeoAiwC4AJQAAgLFAO4A6gIJAdEA1wDTAA==",
          "dtype": "i2"
         },
         "xaxis": "x",
         "yaxis": "y"
        },
        {
         "marker": {
          "color": "green"
         },
         "name": "Queries Word Count",
         "nbinsx": 50,
         "type": "histogram",
         "x": {
          "bdata": "DhAQDA0KCgoRBg8JCgkGDw4KDBEOCwwOBQsXCBANBw8ODAkNCCAODAsKCxAMCg8HHw4QCwgLBg0KEA8RDgsLCBcPCQ4IDBEHCwoSBgcLEgoJCAkJCwsMCgYTCAsLDAsOEQ0LChAHBgsMDAsNBgsNBQ8IDA0JCQ8MEAoPDRIIFQcMDwsNDRAMBhQMDAkSCQ0MCBANEAoGCwwWCQ4KCQYFCxIIDhQLFhIKCQoKDg0QDxAKDg0MEgcNCQYLCw8IChYLDQkHCxELDxQNCwcNGAoFCBQKCxEMHA4NCw8JCAwKCQkPDBELEA0JEQwREhMHCAwKCggIEQwKDBALDQsHDwgLCRANBQsMCwgJDwwMChsKCQ8LCw4KDAoLEBYFEQgMCQkMEwUPDhMKCgsNCQ4UCQUcCQ8QDxEeCggKBRAPDgcLDRYKCAsQDQkJDQgNDg8JCwoLDg0KCgkNEAsJCw0JDAUQCA4HDA8GDBgNCgkODw0QDQwJCwYSCgkMChEWFAcICggXDA4PCgkPGg4XBgsODQkIDwkKDgoMBwsMEQoJDQwMCg8ODhAODBINCw0KCwsVGhQOCwkNEw4RBw0OCA4LCAgOCQoHBw0VCQoSEggJDQ4MCQgJCwgMEggJDQ8MFg0JChQTCwkIBQ4GCQgQCg8PCQwQDw4U",
          "dtype": "i1"
         },
         "xaxis": "x2",
         "yaxis": "y2"
        }
       ],
       "layout": {
        "annotations": [
         {
          "font": {
           "size": 16
          },
          "showarrow": false,
          "text": "Corpus Word Count Distribution",
          "x": 0.225,
          "xanchor": "center",
          "xref": "paper",
          "y": 1,
          "yanchor": "bottom",
          "yref": "paper"
         },
         {
          "font": {
           "size": 16
          },
          "showarrow": false,
          "text": "Queries Word Count Distribution",
          "x": 0.775,
          "xanchor": "center",
          "xref": "paper",
          "y": 1,
          "yanchor": "bottom",
          "yref": "paper"
         }
        ],
        "height": 400,
        "showlegend": false,
        "template": {
         "data": {
          "bar": [
           {
            "error_x": {
             "color": "#2a3f5f"
            },
            "error_y": {
             "color": "#2a3f5f"
            },
            "marker": {
             "line": {
              "color": "#E5ECF6",
              "width": 0.5
             },
             "pattern": {
              "fillmode": "overlay",
              "size": 10,
              "solidity": 0.2
             }
            },
            "type": "bar"
           }
          ],
          "barpolar": [
           {
            "marker": {
             "line": {
              "color": "#E5ECF6",
              "width": 0.5
             },
             "pattern": {
              "fillmode": "overlay",
              "size": 10,
              "solidity": 0.2
             }
            },
            "type": "barpolar"
           }
          ],
          "carpet": [
           {
            "aaxis": {
             "endlinecolor": "#2a3f5f",
             "gridcolor": "white",
             "linecolor": "white",
             "minorgridcolor": "white",
             "startlinecolor": "#2a3f5f"
            },
            "baxis": {
             "endlinecolor": "#2a3f5f",
             "gridcolor": "white",
             "linecolor": "white",
             "minorgridcolor": "white",
             "startlinecolor": "#2a3f5f"
            },
            "type": "carpet"
           }
          ],
          "choropleth": [
           {
            "colorbar": {
             "outlinewidth": 0,
             "ticks": ""
            },
            "type": "choropleth"
           }
          ],
          "contour": [
           {
            "colorbar": {
             "outlinewidth": 0,
             "ticks": ""
            },
            "colorscale": [
             [
              0,
              "#0d0887"
             ],
             [
              0.1111111111111111,
              "#46039f"
             ],
             [
              0.2222222222222222,
              "#7201a8"
             ],
             [
              0.3333333333333333,
              "#9c179e"
             ],
             [
              0.4444444444444444,
              "#bd3786"
             ],
             [
              0.5555555555555556,
              "#d8576b"
             ],
             [
              0.6666666666666666,
              "#ed7953"
             ],
             [
              0.7777777777777778,
              "#fb9f3a"
             ],
             [
              0.8888888888888888,
              "#fdca26"
             ],
             [
              1,
              "#f0f921"
             ]
            ],
            "type": "contour"
           }
          ],
          "contourcarpet": [
           {
            "colorbar": {
             "outlinewidth": 0,
             "ticks": ""
            },
            "type": "contourcarpet"
           }
          ],
          "heatmap": [
           {
            "colorbar": {
             "outlinewidth": 0,
             "ticks": ""
            },
            "colorscale": [
             [
              0,
              "#0d0887"
             ],
             [
              0.1111111111111111,
              "#46039f"
             ],
             [
              0.2222222222222222,
              "#7201a8"
             ],
             [
              0.3333333333333333,
              "#9c179e"
             ],
             [
              0.4444444444444444,
              "#bd3786"
             ],
             [
              0.5555555555555556,
              "#d8576b"
             ],
             [
              0.6666666666666666,
              "#ed7953"
             ],
             [
              0.7777777777777778,
              "#fb9f3a"
             ],
             [
              0.8888888888888888,
              "#fdca26"
             ],
             [
              1,
              "#f0f921"
             ]
            ],
            "type": "heatmap"
           }
          ],
          "histogram": [
           {
            "marker": {
             "pattern": {
              "fillmode": "overlay",
              "size": 10,
              "solidity": 0.2
             }
            },
            "type": "histogram"
           }
          ],
          "histogram2d": [
           {
            "colorbar": {
             "outlinewidth": 0,
             "ticks": ""
            },
            "colorscale": [
             [
              0,
              "#0d0887"
             ],
             [
              0.1111111111111111,
              "#46039f"
             ],
             [
              0.2222222222222222,
              "#7201a8"
             ],
             [
              0.3333333333333333,
              "#9c179e"
             ],
             [
              0.4444444444444444,
              "#bd3786"
             ],
             [
              0.5555555555555556,
              "#d8576b"
             ],
             [
              0.6666666666666666,
              "#ed7953"
             ],
             [
              0.7777777777777778,
              "#fb9f3a"
             ],
             [
              0.8888888888888888,
              "#fdca26"
             ],
             [
              1,
              "#f0f921"
             ]
            ],
            "type": "histogram2d"
           }
          ],
          "histogram2dcontour": [
           {
            "colorbar": {
             "outlinewidth": 0,
             "ticks": ""
            },
            "colorscale": [
             [
              0,
              "#0d0887"
             ],
             [
              0.1111111111111111,
              "#46039f"
             ],
             [
              0.2222222222222222,
              "#7201a8"
             ],
             [
              0.3333333333333333,
              "#9c179e"
             ],
             [
              0.4444444444444444,
              "#bd3786"
             ],
             [
              0.5555555555555556,
              "#d8576b"
             ],
             [
              0.6666666666666666,
              "#ed7953"
             ],
             [
              0.7777777777777778,
              "#fb9f3a"
             ],
             [
              0.8888888888888888,
              "#fdca26"
             ],
             [
              1,
              "#f0f921"
             ]
            ],
            "type": "histogram2dcontour"
           }
          ],
          "mesh3d": [
           {
            "colorbar": {
             "outlinewidth": 0,
             "ticks": ""
            },
            "type": "mesh3d"
           }
          ],
          "parcoords": [
           {
            "line": {
             "colorbar": {
              "outlinewidth": 0,
              "ticks": ""
             }
            },
            "type": "parcoords"
           }
          ],
          "pie": [
           {
            "automargin": true,
            "type": "pie"
           }
          ],
          "scatter": [
           {
            "fillpattern": {
             "fillmode": "overlay",
             "size": 10,
             "solidity": 0.2
            },
            "type": "scatter"
           }
          ],
          "scatter3d": [
           {
            "line": {
             "colorbar": {
              "outlinewidth": 0,
              "ticks": ""
             }
            },
            "marker": {
             "colorbar": {
              "outlinewidth": 0,
              "ticks": ""
             }
            },
            "type": "scatter3d"
           }
          ],
          "scattercarpet": [
           {
            "marker": {
             "colorbar": {
              "outlinewidth": 0,
              "ticks": ""
             }
            },
            "type": "scattercarpet"
           }
          ],
          "scattergeo": [
           {
            "marker": {
             "colorbar": {
              "outlinewidth": 0,
              "ticks": ""
             }
            },
            "type": "scattergeo"
           }
          ],
          "scattergl": [
           {
            "marker": {
             "colorbar": {
              "outlinewidth": 0,
              "ticks": ""
             }
            },
            "type": "scattergl"
           }
          ],
          "scattermap": [
           {
            "marker": {
             "colorbar": {
              "outlinewidth": 0,
              "ticks": ""
             }
            },
            "type": "scattermap"
           }
          ],
          "scattermapbox": [
           {
            "marker": {
             "colorbar": {
              "outlinewidth": 0,
              "ticks": ""
             }
            },
            "type": "scattermapbox"
           }
          ],
          "scatterpolar": [
           {
            "marker": {
             "colorbar": {
              "outlinewidth": 0,
              "ticks": ""
             }
            },
            "type": "scatterpolar"
           }
          ],
          "scatterpolargl": [
           {
            "marker": {
             "colorbar": {
              "outlinewidth": 0,
              "ticks": ""
             }
            },
            "type": "scatterpolargl"
           }
          ],
          "scatterternary": [
           {
            "marker": {
             "colorbar": {
              "outlinewidth": 0,
              "ticks": ""
             }
            },
            "type": "scatterternary"
           }
          ],
          "surface": [
           {
            "colorbar": {
             "outlinewidth": 0,
             "ticks": ""
            },
            "colorscale": [
             [
              0,
              "#0d0887"
             ],
             [
              0.1111111111111111,
              "#46039f"
             ],
             [
              0.2222222222222222,
              "#7201a8"
             ],
             [
              0.3333333333333333,
              "#9c179e"
             ],
             [
              0.4444444444444444,
              "#bd3786"
             ],
             [
              0.5555555555555556,
              "#d8576b"
             ],
             [
              0.6666666666666666,
              "#ed7953"
             ],
             [
              0.7777777777777778,
              "#fb9f3a"
             ],
             [
              0.8888888888888888,
              "#fdca26"
             ],
             [
              1,
              "#f0f921"
             ]
            ],
            "type": "surface"
           }
          ],
          "table": [
           {
            "cells": {
             "fill": {
              "color": "#EBF0F8"
             },
             "line": {
              "color": "white"
             }
            },
            "header": {
             "fill": {
              "color": "#C8D4E3"
             },
             "line": {
              "color": "white"
             }
            },
            "type": "table"
           }
          ]
         },
         "layout": {
          "annotationdefaults": {
           "arrowcolor": "#2a3f5f",
           "arrowhead": 0,
           "arrowwidth": 1
          },
          "autotypenumbers": "strict",
          "coloraxis": {
           "colorbar": {
            "outlinewidth": 0,
            "ticks": ""
           }
          },
          "colorscale": {
           "diverging": [
            [
             0,
             "#8e0152"
            ],
            [
             0.1,
             "#c51b7d"
            ],
            [
             0.2,
             "#de77ae"
            ],
            [
             0.3,
             "#f1b6da"
            ],
            [
             0.4,
             "#fde0ef"
            ],
            [
             0.5,
             "#f7f7f7"
            ],
            [
             0.6,
             "#e6f5d0"
            ],
            [
             0.7,
             "#b8e186"
            ],
            [
             0.8,
             "#7fbc41"
            ],
            [
             0.9,
             "#4d9221"
            ],
            [
             1,
             "#276419"
            ]
           ],
           "sequential": [
            [
             0,
             "#0d0887"
            ],
            [
             0.1111111111111111,
             "#46039f"
            ],
            [
             0.2222222222222222,
             "#7201a8"
            ],
            [
             0.3333333333333333,
             "#9c179e"
            ],
            [
             0.4444444444444444,
             "#bd3786"
            ],
            [
             0.5555555555555556,
             "#d8576b"
            ],
            [
             0.6666666666666666,
             "#ed7953"
            ],
            [
             0.7777777777777778,
             "#fb9f3a"
            ],
            [
             0.8888888888888888,
             "#fdca26"
            ],
            [
             1,
             "#f0f921"
            ]
           ],
           "sequentialminus": [
            [
             0,
             "#0d0887"
            ],
            [
             0.1111111111111111,
             "#46039f"
            ],
            [
             0.2222222222222222,
             "#7201a8"
            ],
            [
             0.3333333333333333,
             "#9c179e"
            ],
            [
             0.4444444444444444,
             "#bd3786"
            ],
            [
             0.5555555555555556,
             "#d8576b"
            ],
            [
             0.6666666666666666,
             "#ed7953"
            ],
            [
             0.7777777777777778,
             "#fb9f3a"
            ],
            [
             0.8888888888888888,
             "#fdca26"
            ],
            [
             1,
             "#f0f921"
            ]
           ]
          },
          "colorway": [
           "#636efa",
           "#EF553B",
           "#00cc96",
           "#ab63fa",
           "#FFA15A",
           "#19d3f3",
           "#FF6692",
           "#B6E880",
           "#FF97FF",
           "#FECB52"
          ],
          "font": {
           "color": "#2a3f5f"
          },
          "geo": {
           "bgcolor": "white",
           "lakecolor": "white",
           "landcolor": "#E5ECF6",
           "showlakes": true,
           "showland": true,
           "subunitcolor": "white"
          },
          "hoverlabel": {
           "align": "left"
          },
          "hovermode": "closest",
          "mapbox": {
           "style": "light"
          },
          "paper_bgcolor": "white",
          "plot_bgcolor": "#E5ECF6",
          "polar": {
           "angularaxis": {
            "gridcolor": "white",
            "linecolor": "white",
            "ticks": ""
           },
           "bgcolor": "#E5ECF6",
           "radialaxis": {
            "gridcolor": "white",
            "linecolor": "white",
            "ticks": ""
           }
          },
          "scene": {
           "xaxis": {
            "backgroundcolor": "#E5ECF6",
            "gridcolor": "white",
            "gridwidth": 2,
            "linecolor": "white",
            "showbackground": true,
            "ticks": "",
            "zerolinecolor": "white"
           },
           "yaxis": {
            "backgroundcolor": "#E5ECF6",
            "gridcolor": "white",
            "gridwidth": 2,
            "linecolor": "white",
            "showbackground": true,
            "ticks": "",
            "zerolinecolor": "white"
           },
           "zaxis": {
            "backgroundcolor": "#E5ECF6",
            "gridcolor": "white",
            "gridwidth": 2,
            "linecolor": "white",
            "showbackground": true,
            "ticks": "",
            "zerolinecolor": "white"
           }
          },
          "shapedefaults": {
           "line": {
            "color": "#2a3f5f"
           }
          },
          "ternary": {
           "aaxis": {
            "gridcolor": "white",
            "linecolor": "white",
            "ticks": ""
           },
           "baxis": {
            "gridcolor": "white",
            "linecolor": "white",
            "ticks": ""
           },
           "bgcolor": "#E5ECF6",
           "caxis": {
            "gridcolor": "white",
            "linecolor": "white",
            "ticks": ""
           }
          },
          "title": {
           "x": 0.05
          },
          "xaxis": {
           "automargin": true,
           "gridcolor": "white",
           "linecolor": "white",
           "ticks": "",
           "title": {
            "standoff": 15
           },
           "zerolinecolor": "white",
           "zerolinewidth": 2
          },
          "yaxis": {
           "automargin": true,
           "gridcolor": "white",
           "linecolor": "white",
           "ticks": "",
           "title": {
            "standoff": 15
           },
           "zerolinecolor": "white",
           "zerolinewidth": 2
          }
         }
        },
        "title": {
         "text": "Word Count Distribution in Corpus and Queries"
        },
        "width": 800,
        "xaxis": {
         "anchor": "y",
         "domain": [
          0,
          0.45
         ],
         "title": {
          "text": "Word Count"
         }
        },
        "xaxis2": {
         "anchor": "y2",
         "domain": [
          0.55,
          1
         ],
         "title": {
          "text": "Word Count"
         }
        },
        "yaxis": {
         "anchor": "x",
         "domain": [
          0,
          1
         ],
         "title": {
          "text": "Frequency"
         }
        },
        "yaxis2": {
         "anchor": "x2",
         "domain": [
          0,
          1
         ],
         "title": {
          "text": "Frequency"
         }
        }
       }
      }
     },
     "metadata": {},
     "output_type": "display_data"
    },
    {
     "name": "stdout",
     "output_type": "stream",
     "text": [
      "\n"
     ]
    }
   ],
   "source": [
    "for DATASET_NAME in dataset_manager.list_datasets():\n",
    "    print(\"========= DATASET:\", DATASET_NAME, \" =========\\n\")\n",
    "    corpus, queries, qrels = dataset_manager.load_dataset(DATASET_NAME)\n",
    "    print(f\"Starting number of documents: {len(corpus)} and number of queries: {len(queries)}\")\n",
    "\n",
    "    corpus, queries = reduce_dataset_size(corpus, queries, qrels)\n",
    "    print(f\"After reducing: number of documents: {len(corpus)} and number of queries: {len(queries)}\\n\")\n",
    "\n",
    "    corpus_df = pd.DataFrame(list(corpus.items()), columns=[\"id\", \"text\"])\n",
    "    corpus_df[\"text\"] = corpus_df[\"text\"].apply(lambda x: x[0] if isinstance(x, list) and len(x) > 0 else \"\")\n",
    "    queries_df = pd.DataFrame(list(queries.items()), columns=[\"id\", \"text\"])\n",
    "    plot_count_words(corpus_df, queries_df)"
   ]
  },
  {
   "cell_type": "markdown",
   "metadata": {},
   "source": [
    "## check the summaries of the tables"
   ]
  },
  {
   "cell_type": "code",
   "execution_count": 41,
   "metadata": {},
   "outputs": [],
   "source": [
    "import re\n",
    "import pandas as pd\n",
    "\n",
    "def get_table(text):\n",
    "    \"\"\"Estrae le tabelle da un testo e le formatta in modo leggibile.\"\"\"\n",
    "    table_pattern = r'(?:(?:\\n|\\A)([^\\n]+\\|[^\\n]+\\n)((?:[-]+\\|[-]+\\n)?)((?:[^\\n]+\\|[^\\n]+\\n)+))'\n",
    "    matches = re.findall(table_pattern, text)\n",
    "\n",
    "    formatted_tables = []\n",
    "    for match in matches:\n",
    "        header, separator, rows = match\n",
    "        columns = header.strip().split(\"|\")  # Estrai colonne\n",
    "        rows = [row.strip().split(\"|\") for row in rows.strip().split(\"\\n\")]  # Estrai righe\n",
    "\n",
    "        # Pulizia degli spazi\n",
    "        columns = [col.strip() for col in columns]\n",
    "        rows = [[cell.strip() for cell in row] for row in rows]\n",
    "\n",
    "        # Creazione DataFrame\n",
    "        df = pd.DataFrame(rows, columns=columns)\n",
    "        \n",
    "        # Aggiungi tabella formattata alla lista\n",
    "        formatted_tables.append(df.to_markdown(index=False))\n",
    "\n",
    "    return \"\\n\\n\".join(formatted_tables)  # Unisce le tabelle con spazi tra loro\n"
   ]
  },
  {
   "cell_type": "code",
   "execution_count": 49,
   "metadata": {},
   "outputs": [
    {
     "name": "stdout",
     "output_type": "stream",
     "text": [
      "========= DATASET: ConvFinQA  =========\n",
      "Selected Document ID: dd497774e\n",
      "Table in text:\n",
      "( in millions )                                                                        | for the years ended december 31 , 2017 | for the years ended december 31 , 2016 | for the years ended december 31 , 2015\n",
      "-------------------------------------------------------------------------------------- | -------------------------------------- | -------------------------------------- | --------------------------------------\n",
      "net earnings attributable to pmi                                                       | $ 6035                                 | $ 6967                                 | $ 6873                                \n",
      "less distributed and undistributed earnings attributable to share-based payment awards | 14                                     | 19                                     | 24                                    \n",
      "net earnings for basic and diluted eps                                                 | $ 6021                                 | $ 6948                                 | $ 6849                                \n",
      "weighted-average shares for basic eps                                                  | 1552                                   | 1551                                   | 1549                                  \n",
      "plus contingently issuable performance stock units ( psus )                            | 1                                      | 2014                                   | 2014                                  \n",
      "weighted-average shares for diluted eps                                                | 1553                                   | 1551                                   | 1549\n",
      "\n",
      "Table extracted:\n",
      "['Columns: ( in millions ) | for the years ended december 31 , 2017 | for the years ended december 31 , 2016 | for the years ended december 31 , 2015\\nRows:\\n-------------------------------------------------------------------------------------- | -------------------------------------- | -------------------------------------- | --------------------------------------\\nnet earnings attributable to pmi | $ 6035 | $ 6967 | $ 6873\\nless distributed and undistributed earnings attributable to share-based payment awards | 14 | 19 | 24\\nnet earnings for basic and diluted eps | $ 6021 | $ 6948 | $ 6849\\nweighted-average shares for basic eps | 1552 | 1551 | 1549\\nplus contingently issuable performance stock units ( psus ) | 1 | 2014 | 2014\\nweighted-average shares for diluted eps | 1553 | 1551 | 1549\\n']\n",
      "\n",
      "Short summary in 15.79 seconds:\n",
      "\tNet Earnings and EPS for PMI. This table shows the net earnings and EPS for PMI for the years 2015, 2016, and 2017. Key trends include a decrease in net earnings and EPS from 2016 to 2017, and an increase in the number of contingently issuable performance stock units (PSUs) from 2015 to 2016. net earnings,  'EPS,  'PMI,  '2015,  '2016,  '2017,  'contingently issuable performance stock units,  'PSUs\n",
      "\n",
      "Long summary in 27.46 seconds: \n",
      "\tNet Earnings and Earnings Per Share (EPS) for PMI. The table presents the net earnings and earnings per share (EPS) for PMI for the years ended December 31, 2017, 2016, and 2015. Net earnings attributable to PMI decreased from $6967 million in 2016 to $6035 million in 2017, while the net earnings for basic and diluted EPS followed a similar trend, decreasing from $6948 million and $6849 million in 2016 to $6021 million and $6035 million in 2017, respectively. The weighted-average shares for basic EPS slightly decreased from 1551 to 1552, while the weighted-average shares for diluted EPS remained constant at 1553. Contingently issuable performance stock units (PSUs) were 2014 in 2015 and 2016, but not issued in 2017. net earnings,  'PMI,  'EPS,  'weighted-average shares,  'controlling interest,  'performance stock units,  'decrease,  'increase\n"
     ]
    }
   ],
   "source": [
    "import random\n",
    "\n",
    "for DATASET_NAME in dataset_manager.list_datasets():\n",
    "    print(\"========= DATASET:\", DATASET_NAME, \" =========\")\n",
    "    corpus, queries, qrels = dataset_manager.load_dataset(DATASET_NAME)\n",
    "    corpus, queries = reduce_dataset_size(corpus, queries, qrels)\n",
    "\n",
    "    extracted_tables = np.load(f\"../data/{DATASET_NAME}/extracted_tables_{DATASET_NAME}.npy\", allow_pickle=True).item()\n",
    "    summaries_short = np.load(f\"../data/{DATASET_NAME}/table_summaries_{DATASET_NAME}_short.npy\", allow_pickle=True).item()\n",
    "    timing_short = np.load(f\"../data/{DATASET_NAME}/Timing_{DATASET_NAME}_short.npy\", allow_pickle=True).item()\n",
    "    summaries_long = np.load(f\"../data/{DATASET_NAME}/table_summaries_{DATASET_NAME}_long.npy\", allow_pickle=True).item()\n",
    "    timing_long = np.load(f\"../data/{DATASET_NAME}/Timing_{DATASET_NAME}_long.npy\", allow_pickle=True).item()\n",
    "\n",
    "    # Seleziona casualmente una chiave\n",
    "    random_key = random.choice(list(extracted_tables.keys()))\n",
    "    print(f\"Selected Document ID: {random_key}\")\n",
    "\n",
    "    # Cerca il documento nel corpus con la chiave\n",
    "    text = corpus[random_key][0]\n",
    "    table = get_table(text)\n",
    "\n",
    "    print(f\"Table in text:\\n{table[0] if table else 'No table found'}\\n\")\n",
    "    print(f\"Table extracted:\\n{extracted_tables[random_key]}\\n\")\n",
    "\n",
    "    print(f\"Short summary in {timing_short.get(random_key, 'N/A')} seconds:\\n\\t{summaries_short.get(random_key, 'N/A')}\\n\")\n",
    "    print(f\"Long summary in {timing_long.get(random_key, 'N/A')} seconds: \\n\\t{summaries_long.get(random_key, 'N/A')}\")\n",
    "\n",
    "    break  # Esci dopo aver stampato un solo documento\n"
   ]
  }
 ],
 "metadata": {
  "kernelspec": {
   "display_name": "financerag-KfjOAeNI-py3.10",
   "language": "python",
   "name": "python3"
  },
  "language_info": {
   "codemirror_mode": {
    "name": "ipython",
    "version": 3
   },
   "file_extension": ".py",
   "mimetype": "text/x-python",
   "name": "python",
   "nbconvert_exporter": "python",
   "pygments_lexer": "ipython3",
   "version": "3.10.10"
  }
 },
 "nbformat": 4,
 "nbformat_minor": 2
}
