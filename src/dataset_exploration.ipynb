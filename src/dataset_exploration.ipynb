{
 "cells": [
  {
   "cell_type": "code",
   "execution_count": 2,
   "metadata": {},
   "outputs": [
    {
     "name": "stdout",
     "output_type": "stream",
     "text": [
      "The autoreload extension is already loaded. To reload it, use:\n",
      "  %reload_ext autoreload\n"
     ]
    }
   ],
   "source": [
    "%load_ext autoreload\n",
    "%autoreload 2\n",
    "import matplotlib.pyplot as plt\n",
    "import pandas as pd\n",
    "import numpy as np\n",
    "from transformers import AutoTokenizer, AutoModel\n",
    "from sentence_transformers import SentenceTransformer\n",
    "import torch\n",
    "from lib.dataset import *   \n",
    "from lib.data_handler import *\n",
    "from lib.embeddings import *\n",
    "from lib.vector_store import *\n",
    "from lib.RAG_pipeline import *\n",
    "from lib.utils import *"
   ]
  },
  {
   "cell_type": "code",
   "execution_count": 3,
   "metadata": {},
   "outputs": [
    {
     "name": "stdout",
     "output_type": "stream",
     "text": [
      "Available datasets: ['ConvFinQA', 'FinQA', 'MultiHeritt', 'TATQA']\n"
     ]
    }
   ],
   "source": [
    "dataset_manager = FinanceRAGDataset(\"../data\")\n",
    "print(\"Available datasets:\", dataset_manager.list_datasets())"
   ]
  },
  {
   "cell_type": "code",
   "execution_count": 4,
   "metadata": {},
   "outputs": [],
   "source": [
    "def get_random_sample(corpus_df):\n",
    "    random_corpus = corpus_df.sample(n=1)\n",
    "    pd.set_option('display.max_colwidth', None)\n",
    "    return random_corpus['text'].values[0]"
   ]
  },
  {
   "cell_type": "markdown",
   "metadata": {},
   "source": [
    "## Timing "
   ]
  },
  {
   "cell_type": "code",
   "execution_count": 5,
   "metadata": {},
   "outputs": [
    {
     "name": "stdout",
     "output_type": "stream",
     "text": [
      "Length of timing_ConvFinQA_rephrase: 506\n",
      "\t14.0514\n",
      "Length of timing_FinQA_rephrase: 547\n",
      "\t13.7588\n",
      "Length of timing_MultiHeritt_rephrase: 292\n",
      "\t14.434\n",
      "Length of timing_TATQA_rephrase: 498\n",
      "\t13.4923\n"
     ]
    }
   ],
   "source": [
    "for DATASET_NAME in dataset_manager.list_datasets():\n",
    "    what = \"rephrase\"\n",
    "    timing_data = np.load(rf\"C:\\Users\\alice\\Desktop\\UNIBO\\2_Anno\\2_semestre\\NLP-torroni\\PW\\FinanceRag\\data\\{DATASET_NAME}\\timing\\timing_queries_{DATASET_NAME}_{what}.npy\", allow_pickle=True).item()\n",
    "    print(f\"Length of timing_{DATASET_NAME}_{what}:\", len(timing_data))\n",
    "    average_time = np.mean(list(timing_data.values()))\n",
    "    print(f\"\\t{round(average_time, 4)}\")\n",
    "    # print(timing_data)"
   ]
  },
  {
   "cell_type": "markdown",
   "metadata": {},
   "source": [
    "## Save npy of all query to expand"
   ]
  },
  {
   "cell_type": "code",
   "execution_count": 6,
   "metadata": {},
   "outputs": [
    {
     "name": "stdout",
     "output_type": "stream",
     "text": [
      "Dataset: ConvFinQA\n",
      "Done (126) queries\n",
      "\n",
      "Dataset: FinQA\n",
      "Done (344) queries\n",
      "\n",
      "Dataset: MultiHeritt\n",
      "Done (292) queries\n",
      "\n",
      "Dataset: TATQA\n",
      "Done (498) queries\n",
      "\n"
     ]
    }
   ],
   "source": [
    "for DATASET_NAME in dataset_manager.list_datasets():\n",
    "    corpus, queries, qrels = dataset_manager.load_dataset(DATASET_NAME)\n",
    "    corpus, queries = reduce_dataset_size(corpus, queries, qrels)\n",
    "    print(\"Dataset:\", DATASET_NAME)\n",
    "\n",
    "    all_queries = {}\n",
    "    for id_query, query in queries.items():\n",
    "        all_queries[id_query] = query\n",
    "\n",
    "    # Save all queries for the dataset in one .npy file\n",
    "    np.save(f\"../data/{DATASET_NAME}/extracted_queries_{DATASET_NAME}.npy\", all_queries)\n",
    "\n",
    "    print(f\"Done ({len(all_queries)}) queries\\n\")"
   ]
  },
  {
   "cell_type": "markdown",
   "metadata": {},
   "source": [
    "## Get a random query, with relative corpus target"
   ]
  },
  {
   "cell_type": "code",
   "execution_count": 7,
   "metadata": {},
   "outputs": [
    {
     "name": "stdout",
     "output_type": "stream",
     "text": [
      "Dataset: ConvFinQA \n",
      "\n",
      "Query id: qd496f102\t Query: what was the average revenue from discontinued operations in 2013?\n",
      "\n",
      "Answer doc: id dd496f152\n",
      "dish network corporation notes to consolidated financial statements - continued 9 .\n",
      "acquisitions dbsd north america and terrestar transactions on march 2 , 2012 , the fcc approved the transfer of 40 mhz of aws-4 wireless spectrum licenses held by dbsd north america and terrestar to us .\n",
      "on march 9 , 2012 , we completed the dbsd transaction and the terrestar transaction , pursuant to which we acquired , among other things , certain satellite assets and wireless spectrum licenses held by dbsd north america and terrestar .\n",
      "in addition , during the fourth quarter 2011 , we and sprint entered into a mutual release and settlement agreement ( the 201csprint settlement agreement 201d ) pursuant to which all issues then being disputed relating to the dbsd transaction and the terrestar transaction were resolved between us and sprint , including , but not limited to , issues relating to costs allegedly incurred by sprint to relocate users from the spectrum then licensed to dbsd north america and terrestar .\n",
      "the total consideration to acquire the dbsd north america and terrestar assets was approximately $ 2.860 billion .\n",
      "this amount includes $ 1.364 billion for the dbsd transaction , $ 1.382 billion for the terrestar transaction , and the net payment of $ 114 million to sprint pursuant to the sprint settlement agreement .\n",
      "see note 16 for further information .\n",
      "as a result of these acquisitions , we recognized the acquired assets and assumed liabilities based on our estimates of fair value at their acquisition date , including $ 102 million in an uncertain tax position in 201clong-term deferred revenue , distribution and carriage payments and other long-term liabilities 201d on our consolidated balance sheets .\n",
      "subsequently , in the third quarter 2013 , this uncertain tax position was resolved and $ 102 million was reversed and recorded as a decrease in 201cincome tax ( provision ) benefit , net 201d on our consolidated statements of operations and comprehensive income ( loss ) for the year ended december 31 , 2013 .\n",
      "10 .\n",
      "discontinued operations as of december 31 , 2013 , blockbuster had ceased all material operations .\n",
      "accordingly , our consolidated balance sheets , consolidated statements of operations and comprehensive income ( loss ) and consolidated statements of cash flows have been recast to present blockbuster as discontinued operations for all periods presented and the amounts presented in the notes to our consolidated financial statements relate only to our continuing operations , unless otherwise noted .\n",
      "during the years ended december 31 , 2013 , 2012 and 2011 , the revenue from our discontinued operations was $ 503 million , $ 1.085 billion and $ 974 million , respectively .\n",
      "201cincome ( loss ) from discontinued operations , before income taxes 201d for the same periods was a loss of $ 54 million , $ 62 million and $ 3 million , respectively .\n",
      "in addition , 201cincome ( loss ) from discontinued operations , net of tax 201d for the same periods was a loss of $ 47 million , $ 37 million and $ 7 million , respectively .\n",
      "as of december 31 , 2013 , the net assets from our discontinued operations consisted of the following : december 31 , 2013 ( in thousands ) .\n",
      "\n",
      "                                                   | as of december 31 2013 ( in thousands )\n",
      "-------------------------------------------------- | ---------------------------------------\n",
      "current assets from discontinued operations        | $ 68239                                \n",
      "noncurrent assets from discontinued operations     | 9965                                   \n",
      "current liabilities from discontinued operations   | -49471 ( 49471 )                       \n",
      "long-term liabilities from discontinued operations | -19804 ( 19804 )                       \n",
      "net assets from discontinued operations            | $ 8929                                 \n"
     ]
    }
   ],
   "source": [
    "for DATASET_NAME in dataset_manager.list_datasets():\n",
    "    corpus, queries, qrels = dataset_manager.load_dataset(DATASET_NAME)\n",
    "    corpus, queries = reduce_dataset_size(corpus, queries, qrels)\n",
    "    print(\"Dataset:\", DATASET_NAME, \"\\n\")\n",
    "\n",
    "    # print(queries)\n",
    "    for id_query, query in queries.items():\n",
    "        print(f\"Query id: {id_query}\\t Query: {query}\")\n",
    "                \n",
    "        answer_doc_id = qrels[qrels['query_id'] == id_query]['corpus_id'].tolist()[0]\n",
    "\n",
    "        answer_doc = corpus[answer_doc_id][0]\n",
    "        print(f\"\\nAnswer doc: id {answer_doc_id}\\n{answer_doc}\")\n",
    "\n",
    "        break\n",
    "    break"
   ]
  },
  {
   "cell_type": "markdown",
   "metadata": {},
   "source": [
    "See the query and the query expansions"
   ]
  },
  {
   "cell_type": "code",
   "execution_count": 17,
   "metadata": {},
   "outputs": [
    {
     "name": "stdout",
     "output_type": "stream",
     "text": [
      "Dataset: ConvFinQA \n",
      "\n",
      "Query id: qd4975fb6\t Query: what is the sum of the weighted average common shares outstanding for diluted computations in 2017 and 2016?\n",
      "\n",
      "Rephrase query: What is the sum of the weighted average number of common shares outstanding for diluted computations, taking into account all potential shares that could be issued in the future, for the years 2017 and 2016? This calculation should consider the potential impact of all share options, warrants, convertible securities, and other similar instruments that could increase the number of shares outstanding, and should be based on the actual number of shares issued during these years.\n",
      "\n",
      "Query to documents: 'The sum of the weighted average common shares outstanding for diluted computations in 2017 and 2016 refers to the calculation of the number of shares that a company would have if all its potential shares were issued and outstanding. This calculation takes into account the effect of stock options, warrants, convertible bonds, and other securities that could potentially be converted into common stock. The weighted average common shares outstanding for diluted computations is used to calculate earnings per share (EPS) on a diluted basis, which is a measure of a company's profitability that takes into account the potential dilution of earnings per share due to the conversion of outstanding convertible securities. In 2017 and 2016, the weighted average common shares outstanding for diluted computations would have been calculated separately for each year, and then summed to provide a total for the two-year period.'\n",
      "\n",
      "\n",
      "\n",
      "\n",
      "Dataset: FinQA \n",
      "\n",
      "Query id: q6166035c\t Query: what is the percentage increase in the fair value of option granted from 2013 to 2014?\n",
      "\n",
      "Rephrase query: What was the percentage change in the fair market value of options granted to employees or other recipients in the year 2014 compared to the year 2013? Specifically, I am looking for the difference between the fair market value of the options granted in 2014 and the fair market value of the same options granted in 2013, expressed as a percentage of the initial fair market value in 2013.\n",
      "\n",
      "Query to documents: The percentage increase in the fair value of an option granted from 2013 to 2014 can be calculated by subtracting the fair value of the option in 2013 from the fair value of the option in 2014, then dividing the result by the fair value in 2013 and multiplying by 100. This calculation assumes that the fair value of the option follows a consistent model, such as the Black-Scholes model, and that the underlying asset's characteristics remain constant over the period.\n",
      "\n",
      "\n",
      "\n",
      "\n",
      "Dataset: MultiHeritt \n",
      "\n",
      "Query id: q848826d2\t Query: In the year with largest amount of Net credit losses, what's the amount of Revenues, net of interest expense and Total operating expenses? (in million)\n",
      "\n",
      "Rephrase query: What was the net income (revenues minus expenses) in the year that recorded the highest net credit losses, in millions of dollars?\n",
      "\n",
      "Query to documents: In the year with the largest amount of Net credit losses, the amount of Revenues, net of interest expense and Total operating expenses is the total revenues minus the interest expense and total operating expenses. This amount is usually reported in millions in financial statements. During the year with the largest amount of Net credit losses, the specific amount of Revenues, net of interest expense and Total operating expenses would depend on the specific financial institution and its performance during that year.\n",
      "\n",
      "\n",
      "\n",
      "\n",
      "Dataset: TATQA \n",
      "\n",
      "Query id: q1a71415c\t Query: In which year was the share of net earnings in Golar Partners higher?\n",
      "\n",
      "Rephrase query: What was the year in which the net earnings of Golar Partners, a company that specializes in the ownership, operation, and management of floating liquefied natural gas (FLNG) vessels, had a higher share compared to other years? Specifically, I am looking for the year in which the net earnings as a percentage of total revenue or total assets was greater than in other years.\n",
      "\n",
      "Query to documents: The share of net earnings in Golar Partners may have been higher in different years compared to others, but without specific data, it is not possible to definitively state which year had a higher share of net earnings. To find this information, one would need to analyze the financial statements of Golar Partners for various years.\n",
      "\n",
      "\n",
      "\n",
      "\n"
     ]
    }
   ],
   "source": [
    "import random\n",
    "\n",
    "for DATASET_NAME in dataset_manager.list_datasets():\n",
    "    corpus, queries, qrels = dataset_manager.load_dataset(DATASET_NAME)\n",
    "    corpus, queries = reduce_dataset_size(corpus, queries, qrels)\n",
    "    print(\"Dataset:\", DATASET_NAME, \"\\n\")\n",
    "    \n",
    "    qr = np.load(f\"../data/{DATASET_NAME}/queries_expanded_{DATASET_NAME}_rephrase.npy\", allow_pickle=True).item()\n",
    "    q2d = np.load(f\"../data/{DATASET_NAME}/queries_expanded_{DATASET_NAME}_Q2D.npy\", allow_pickle=True).item()\n",
    "\n",
    "    random_key = random.choice(list(queries.keys()))\n",
    "\n",
    "    print(f\"Query id: {random_key}\\t Query: {queries[random_key]}\\n\")\n",
    "    print(f\"Rephrase query: {qr[random_key]}\\n\")\n",
    "    print(f\"Query to documents: {q2d[random_key]}\\n\")\n",
    "    print(\"\\n\\n\")"
   ]
  },
  {
   "cell_type": "markdown",
   "metadata": {},
   "source": [
    "## Check how many tables per dataset"
   ]
  },
  {
   "cell_type": "code",
   "execution_count": 8,
   "metadata": {},
   "outputs": [
    {
     "name": "stdout",
     "output_type": "stream",
     "text": [
      "Dataset: ConvFinQA has 101 documents in corpus\n",
      "\t101 documents with 1 table\n",
      "          0 documents with 2 tables\n",
      "          0 documents with 3 tables\n",
      "          0 documents with 4 tables \n",
      "          0 documents with more than 4 tables\n",
      "\n",
      "Dataset: FinQA has 247 documents in corpus\n",
      "\t247 documents with 1 table\n",
      "          0 documents with 2 tables\n",
      "          0 documents with 3 tables\n",
      "          0 documents with 4 tables \n",
      "          0 documents with more than 4 tables\n",
      "\n",
      "Dataset: MultiHeritt has 876 documents in corpus\n",
      "\t491 documents with 1 table\n",
      "          46 documents with 2 tables\n",
      "          7 documents with 3 tables\n",
      "          6 documents with 4 tables \n",
      "          1 documents with more than 4 tables\n",
      "\n",
      "Dataset: TATQA has 248 documents in corpus\n",
      "\t248 documents with 1 table\n",
      "          0 documents with 2 tables\n",
      "          0 documents with 3 tables\n",
      "          0 documents with 4 tables \n",
      "          0 documents with more than 4 tables\n",
      "\n"
     ]
    }
   ],
   "source": [
    "for DATASET_NAME in dataset_manager.list_datasets():\n",
    "    corpus, queries, qrels = dataset_manager.load_dataset(DATASET_NAME)\n",
    "    corpus, queries = reduce_dataset_size(corpus, queries, qrels)\n",
    "    print(f\"Dataset: {DATASET_NAME} has {len(corpus)} documents in corpus\")\n",
    "\n",
    "    multi_table_docs = {'1': 0, '2': 0, '3': 0, '4': 0, '+':0}  # Initialize the keys with 0\n",
    "    for k,v in corpus.items():\n",
    "        text = v[0]\n",
    "        tables = extract_tables(v[0])\n",
    "        if tables:\n",
    "            if len(tables)==1:\n",
    "                multi_table_docs['1'] += 1\n",
    "            if len(tables)==2:\n",
    "                multi_table_docs['2'] += 1\n",
    "            if len(tables)==3:\n",
    "                multi_table_docs['3'] += 1\n",
    "            if len(tables)==4:\n",
    "                multi_table_docs['4'] += 1\n",
    "            if len(tables)>4:\n",
    "                multi_table_docs['+'] += 1\n",
    "\n",
    "    # unique print with all the information\n",
    "    print(f\"\"\"\\t{multi_table_docs['1']} documents with 1 table\n",
    "          {multi_table_docs['2']} documents with 2 tables\n",
    "          {multi_table_docs['3']} documents with 3 tables\n",
    "          {multi_table_docs['4']} documents with 4 tables \n",
    "          {multi_table_docs['+']} documents with more than 4 tables\\n\"\"\")\n"
   ]
  },
  {
   "cell_type": "markdown",
   "metadata": {},
   "source": [
    "## Check how long are these tables"
   ]
  },
  {
   "cell_type": "code",
   "execution_count": 9,
   "metadata": {},
   "outputs": [
    {
     "name": "stdout",
     "output_type": "stream",
     "text": [
      "Dataset: ConvFinQA has 101 documents in corpus and 126 queries\n",
      "Average length of tables: 471\n",
      "Average length of text without tables: 3821\n",
      "12.334825731430525\n",
      "Average percentage of table out of the total without the tables: 15.7%\n",
      "\n",
      "Dataset: FinQA has 247 documents in corpus and 344 queries\n",
      "Average length of tables: 462\n",
      "Average length of text without tables: 3823\n",
      "12.091663481259749\n",
      "Average percentage of table out of the total without the tables: 16.21%\n",
      "\n",
      "Dataset: MultiHeritt has 876 documents in corpus and 292 queries\n",
      "Average length of tables: 722\n",
      "Average length of text without tables: 2350\n",
      "30.75461852148205\n",
      "Average percentage of table out of the total without the tables: 51.76%\n",
      "\n",
      "Dataset: TATQA has 248 documents in corpus and 498 queries\n",
      "Average length of tables: 491\n",
      "Average length of text without tables: 1766\n",
      "27.83001961066327\n",
      "Average percentage of table out of the total without the tables: 36.07%\n",
      "\n"
     ]
    }
   ],
   "source": [
    "for DATASET_NAME in dataset_manager.list_datasets():\n",
    "    corpus, queries, qrels = dataset_manager.load_dataset(DATASET_NAME)\n",
    "    corpus, queries = reduce_dataset_size(corpus, queries, qrels)\n",
    "    print(f\"Dataset: {DATASET_NAME} has {len(corpus)} documents in corpus and {len(queries)} queries\")\n",
    "\n",
    "    tables_len = []\n",
    "    text_with_tables_len = []\n",
    "    percentages = []\n",
    "    for k, v in corpus.items():\n",
    "        text = v[0]\n",
    "        len_text = len(text)\n",
    "        tables = extract_tables(v[0])\n",
    "        sum_len_table = 0\n",
    "        if tables:\n",
    "            for table in tables:\n",
    "                tables_len.append(len(table))\n",
    "                sum_len_table += len(table)\n",
    "        text_without_tables_len = len_text - sum_len_table\n",
    "        text_with_tables_len.append(text_without_tables_len)\n",
    "        if text_without_tables_len > 0:\n",
    "            percentages.append((sum_len_table / text_without_tables_len) * 100)\n",
    "    \n",
    "    len_table = np.mean(tables_len)\n",
    "    print(f\"Average length of tables: {int(len_table)}\")\n",
    "    text = np.mean(text_with_tables_len)\n",
    "    print(f\"Average length of text without tables: {int(text)}\")\n",
    "    print((len_table / text)*100)\n",
    "    \n",
    "    # average percentage of table out of the total without the tables\n",
    "    print(f\"Average percentage of table out of the total without the tables: {round(np.mean(percentages), 2)}%\")\n",
    "    print()"
   ]
  },
  {
   "cell_type": "markdown",
   "metadata": {},
   "source": [
    "## check how many chunks there are per corpus per dataset"
   ]
  },
  {
   "cell_type": "code",
   "execution_count": 10,
   "metadata": {},
   "outputs": [],
   "source": [
    "text_processor = DataHandler(Tokenizer(AutoTokenizer.from_pretrained(\"sentence-transformers/all-MiniLM-L6-v2\")),\n",
    "                             Embedder(AutoModel.from_pretrained(\"sentence-transformers/all-MiniLM-L6-v2\")))\n",
    "EMBEDDING_DIM = 384\n",
    "MODEL_INPUT_SIZE = 256"
   ]
  },
  {
   "cell_type": "code",
   "execution_count": 11,
   "metadata": {},
   "outputs": [
    {
     "name": "stderr",
     "output_type": "stream",
     "text": [
      "Token indices sequence length is longer than the specified maximum sequence length for this model (1801 > 512). Running this sequence through the model will result in indexing errors\n"
     ]
    },
    {
     "name": "stdout",
     "output_type": "stream",
     "text": [
      "Dataset: ConvFinQA \tNumber of queries: 126\t Number of documents: 101\n",
      "Average number of chunks: 4.4752\n",
      "\n",
      "Dataset: FinQA \tNumber of queries: 344\t Number of documents: 247\n",
      "Average number of chunks: 4.4291\n",
      "\n",
      "Dataset: MultiHeritt \tNumber of queries: 292\t Number of documents: 876\n",
      "Average number of chunks: 3.3105\n",
      "\n",
      "Dataset: TATQA \tNumber of queries: 498\t Number of documents: 248\n",
      "Average number of chunks: 2.621\n",
      "\n"
     ]
    }
   ],
   "source": [
    "for DATASET_NAME in dataset_manager.list_datasets():\n",
    "    corpus, queries, qrels = dataset_manager.load_dataset(DATASET_NAME)\n",
    "    corpus, queries = reduce_dataset_size(corpus, queries, qrels)\n",
    "    print(f\"Dataset: {DATASET_NAME} \\tNumber of queries: {len(queries)}\\t Number of documents: {len(corpus)}\")\n",
    "\n",
    "    pipeline = RAGPipeline(corpus, queries, qrels, text_processor)\n",
    "    num_chunks = []\n",
    "    for idx, text in corpus.items():\n",
    "        data_obj = text_processor.load_data(text)\n",
    "        data_obj = text_processor.tokenize()\n",
    "        chunks = chunker(data_obj.data, max_length=MODEL_INPUT_SIZE, padding_value=0, overlap_percent=15)\n",
    "        num_chunks.append(len(chunks))\n",
    "    \n",
    "    print(f\"Average number of chunks: {round(np.mean(num_chunks),4)}\\n\")"
   ]
  },
  {
   "cell_type": "code",
   "execution_count": 12,
   "metadata": {},
   "outputs": [],
   "source": [
    "import plotly.graph_objects as go\n",
    "import plotly.subplots as sp\n",
    "\n",
    "def plot_count_words(corpus_df, queries_df):\n",
    "    # Calculate text lengths based on word count\n",
    "    corpus_df['word_count'] = corpus_df['text'].apply(lambda x: len(x.split()))\n",
    "    queries_df['word_count'] = queries_df['text'].apply(lambda x: len(x.split()))\n",
    "\n",
    "    # Calculate max and average word counts\n",
    "    max_word_count_corpus = corpus_df['word_count'].max()\n",
    "    average_word_count_corpus = round(corpus_df['word_count'].mean(), 2)\n",
    "    max_word_count_queries = queries_df['word_count'].max()\n",
    "    average_word_count_queries = round(queries_df['word_count'].mean(), 2)\n",
    "\n",
    "    print(f\"Max word count: {max_word_count_corpus}\")\n",
    "    print(f\"Average word count: {average_word_count_corpus}\")\n",
    "    print(f\"Max word count in queries: {max_word_count_queries}\")\n",
    "    print(f\"Average word count in queries: {average_word_count_queries}\")\n",
    "\n",
    "    # Create subplots\n",
    "    fig = sp.make_subplots(rows=1, cols=2, subplot_titles=(\"Corpus Word Count Distribution\", \"Queries Word Count Distribution\"))\n",
    "\n",
    "    # Histogram for corpus\n",
    "    fig.add_trace(go.Histogram(\n",
    "        x=corpus_df['word_count'],\n",
    "        nbinsx=50,\n",
    "        marker_color='blue',\n",
    "        name=\"Corpus Word Count\"\n",
    "    ), row=1, col=1)\n",
    "\n",
    "    # Histogram for queries\n",
    "    fig.add_trace(go.Histogram(\n",
    "        x=queries_df['word_count'],\n",
    "        nbinsx=50,\n",
    "        marker_color='green',\n",
    "        name=\"Queries Word Count\"\n",
    "    ), row=1, col=2)\n",
    "\n",
    "    # Update layout\n",
    "    fig.update_layout(\n",
    "        title_text=\"Word Count Distribution in Corpus and Queries\",\n",
    "        showlegend=False,\n",
    "        height=400,\n",
    "        width=800\n",
    "    )\n",
    "\n",
    "    fig.update_xaxes(title_text=\"Word Count\")\n",
    "    fig.update_yaxes(title_text=\"Frequency\")\n",
    "\n",
    "    fig.show()"
   ]
  },
  {
   "cell_type": "markdown",
   "metadata": {},
   "source": [
    "## Word count in the datasets"
   ]
  },
  {
   "cell_type": "code",
   "execution_count": 13,
   "metadata": {},
   "outputs": [
    {
     "name": "stdout",
     "output_type": "stream",
     "text": [
      "========= DATASET: ConvFinQA  =========\n",
      "\n",
      "Starting number of documents: 2066 and number of queries: 421\n",
      "After reducing: number of documents: 101 and number of queries: 126\n",
      "\n",
      "Max word count: 1586\n",
      "Average word count: 685.39\n",
      "Max word count in queries: 35\n",
      "Average word count in queries: 13.89\n"
     ]
    },
    {
     "data": {
      "application/vnd.plotly.v1+json": {
       "config": {
        "plotlyServerURL": "https://plot.ly"
       },
       "data": [
        {
         "marker": {
          "color": "blue"
         },
         "name": "Corpus Word Count",
         "nbinsx": 50,
         "type": "histogram",
         "x": {
          "bdata": "0wRtAsgDAwOGAwgCggN4AngD/QKXAgYBVgHEBfsC5QGFBFYDiwMpA7wA3AK5AjIG+QO0AUYDAwQlA4EDUQI3A7ICwwJbA9EBgQLTA0QBqwHZArgDBAPlA8UCxALyAmECcQEKBecD9gKTA+MB6AB/AwYDYQIIAvwDOgGJAukBDwIpAXUC4QN8AfMANgISA10BuwIyAUQDlwBbAaEChgItAQMDagF3ApcBawI0AbcCBgF1ASgEKwOFAjQBnAHtAtoCRAP6AywCqwMkAw==",
          "dtype": "i2"
         },
         "xaxis": "x",
         "yaxis": "y"
        },
        {
         "marker": {
          "color": "green"
         },
         "name": "Queries Word Count",
         "nbinsx": 50,
         "type": "histogram",
         "x": {
          "bdata": "CggMCgwIDg4KDwkRCwoLDRAJDAwPGRkQCRILCBILDQ0NEAYIDxAKDAsTHhcFDAgYDA4OCw4JBggNEBAKCxYJERAJEg0HDxoLDw4KDCAPBwcOEA8PFBAOGRAQDxEPChEMDA4PDA4FFBQKEBAODA0UCgwMBhISCAcQEQ4RIxAG",
          "dtype": "i1"
         },
         "xaxis": "x2",
         "yaxis": "y2"
        }
       ],
       "layout": {
        "annotations": [
         {
          "font": {
           "size": 16
          },
          "showarrow": false,
          "text": "Corpus Word Count Distribution",
          "x": 0.225,
          "xanchor": "center",
          "xref": "paper",
          "y": 1,
          "yanchor": "bottom",
          "yref": "paper"
         },
         {
          "font": {
           "size": 16
          },
          "showarrow": false,
          "text": "Queries Word Count Distribution",
          "x": 0.775,
          "xanchor": "center",
          "xref": "paper",
          "y": 1,
          "yanchor": "bottom",
          "yref": "paper"
         }
        ],
        "height": 400,
        "showlegend": false,
        "template": {
         "data": {
          "bar": [
           {
            "error_x": {
             "color": "#2a3f5f"
            },
            "error_y": {
             "color": "#2a3f5f"
            },
            "marker": {
             "line": {
              "color": "#E5ECF6",
              "width": 0.5
             },
             "pattern": {
              "fillmode": "overlay",
              "size": 10,
              "solidity": 0.2
             }
            },
            "type": "bar"
           }
          ],
          "barpolar": [
           {
            "marker": {
             "line": {
              "color": "#E5ECF6",
              "width": 0.5
             },
             "pattern": {
              "fillmode": "overlay",
              "size": 10,
              "solidity": 0.2
             }
            },
            "type": "barpolar"
           }
          ],
          "carpet": [
           {
            "aaxis": {
             "endlinecolor": "#2a3f5f",
             "gridcolor": "white",
             "linecolor": "white",
             "minorgridcolor": "white",
             "startlinecolor": "#2a3f5f"
            },
            "baxis": {
             "endlinecolor": "#2a3f5f",
             "gridcolor": "white",
             "linecolor": "white",
             "minorgridcolor": "white",
             "startlinecolor": "#2a3f5f"
            },
            "type": "carpet"
           }
          ],
          "choropleth": [
           {
            "colorbar": {
             "outlinewidth": 0,
             "ticks": ""
            },
            "type": "choropleth"
           }
          ],
          "contour": [
           {
            "colorbar": {
             "outlinewidth": 0,
             "ticks": ""
            },
            "colorscale": [
             [
              0,
              "#0d0887"
             ],
             [
              0.1111111111111111,
              "#46039f"
             ],
             [
              0.2222222222222222,
              "#7201a8"
             ],
             [
              0.3333333333333333,
              "#9c179e"
             ],
             [
              0.4444444444444444,
              "#bd3786"
             ],
             [
              0.5555555555555556,
              "#d8576b"
             ],
             [
              0.6666666666666666,
              "#ed7953"
             ],
             [
              0.7777777777777778,
              "#fb9f3a"
             ],
             [
              0.8888888888888888,
              "#fdca26"
             ],
             [
              1,
              "#f0f921"
             ]
            ],
            "type": "contour"
           }
          ],
          "contourcarpet": [
           {
            "colorbar": {
             "outlinewidth": 0,
             "ticks": ""
            },
            "type": "contourcarpet"
           }
          ],
          "heatmap": [
           {
            "colorbar": {
             "outlinewidth": 0,
             "ticks": ""
            },
            "colorscale": [
             [
              0,
              "#0d0887"
             ],
             [
              0.1111111111111111,
              "#46039f"
             ],
             [
              0.2222222222222222,
              "#7201a8"
             ],
             [
              0.3333333333333333,
              "#9c179e"
             ],
             [
              0.4444444444444444,
              "#bd3786"
             ],
             [
              0.5555555555555556,
              "#d8576b"
             ],
             [
              0.6666666666666666,
              "#ed7953"
             ],
             [
              0.7777777777777778,
              "#fb9f3a"
             ],
             [
              0.8888888888888888,
              "#fdca26"
             ],
             [
              1,
              "#f0f921"
             ]
            ],
            "type": "heatmap"
           }
          ],
          "histogram": [
           {
            "marker": {
             "pattern": {
              "fillmode": "overlay",
              "size": 10,
              "solidity": 0.2
             }
            },
            "type": "histogram"
           }
          ],
          "histogram2d": [
           {
            "colorbar": {
             "outlinewidth": 0,
             "ticks": ""
            },
            "colorscale": [
             [
              0,
              "#0d0887"
             ],
             [
              0.1111111111111111,
              "#46039f"
             ],
             [
              0.2222222222222222,
              "#7201a8"
             ],
             [
              0.3333333333333333,
              "#9c179e"
             ],
             [
              0.4444444444444444,
              "#bd3786"
             ],
             [
              0.5555555555555556,
              "#d8576b"
             ],
             [
              0.6666666666666666,
              "#ed7953"
             ],
             [
              0.7777777777777778,
              "#fb9f3a"
             ],
             [
              0.8888888888888888,
              "#fdca26"
             ],
             [
              1,
              "#f0f921"
             ]
            ],
            "type": "histogram2d"
           }
          ],
          "histogram2dcontour": [
           {
            "colorbar": {
             "outlinewidth": 0,
             "ticks": ""
            },
            "colorscale": [
             [
              0,
              "#0d0887"
             ],
             [
              0.1111111111111111,
              "#46039f"
             ],
             [
              0.2222222222222222,
              "#7201a8"
             ],
             [
              0.3333333333333333,
              "#9c179e"
             ],
             [
              0.4444444444444444,
              "#bd3786"
             ],
             [
              0.5555555555555556,
              "#d8576b"
             ],
             [
              0.6666666666666666,
              "#ed7953"
             ],
             [
              0.7777777777777778,
              "#fb9f3a"
             ],
             [
              0.8888888888888888,
              "#fdca26"
             ],
             [
              1,
              "#f0f921"
             ]
            ],
            "type": "histogram2dcontour"
           }
          ],
          "mesh3d": [
           {
            "colorbar": {
             "outlinewidth": 0,
             "ticks": ""
            },
            "type": "mesh3d"
           }
          ],
          "parcoords": [
           {
            "line": {
             "colorbar": {
              "outlinewidth": 0,
              "ticks": ""
             }
            },
            "type": "parcoords"
           }
          ],
          "pie": [
           {
            "automargin": true,
            "type": "pie"
           }
          ],
          "scatter": [
           {
            "fillpattern": {
             "fillmode": "overlay",
             "size": 10,
             "solidity": 0.2
            },
            "type": "scatter"
           }
          ],
          "scatter3d": [
           {
            "line": {
             "colorbar": {
              "outlinewidth": 0,
              "ticks": ""
             }
            },
            "marker": {
             "colorbar": {
              "outlinewidth": 0,
              "ticks": ""
             }
            },
            "type": "scatter3d"
           }
          ],
          "scattercarpet": [
           {
            "marker": {
             "colorbar": {
              "outlinewidth": 0,
              "ticks": ""
             }
            },
            "type": "scattercarpet"
           }
          ],
          "scattergeo": [
           {
            "marker": {
             "colorbar": {
              "outlinewidth": 0,
              "ticks": ""
             }
            },
            "type": "scattergeo"
           }
          ],
          "scattergl": [
           {
            "marker": {
             "colorbar": {
              "outlinewidth": 0,
              "ticks": ""
             }
            },
            "type": "scattergl"
           }
          ],
          "scattermap": [
           {
            "marker": {
             "colorbar": {
              "outlinewidth": 0,
              "ticks": ""
             }
            },
            "type": "scattermap"
           }
          ],
          "scattermapbox": [
           {
            "marker": {
             "colorbar": {
              "outlinewidth": 0,
              "ticks": ""
             }
            },
            "type": "scattermapbox"
           }
          ],
          "scatterpolar": [
           {
            "marker": {
             "colorbar": {
              "outlinewidth": 0,
              "ticks": ""
             }
            },
            "type": "scatterpolar"
           }
          ],
          "scatterpolargl": [
           {
            "marker": {
             "colorbar": {
              "outlinewidth": 0,
              "ticks": ""
             }
            },
            "type": "scatterpolargl"
           }
          ],
          "scatterternary": [
           {
            "marker": {
             "colorbar": {
              "outlinewidth": 0,
              "ticks": ""
             }
            },
            "type": "scatterternary"
           }
          ],
          "surface": [
           {
            "colorbar": {
             "outlinewidth": 0,
             "ticks": ""
            },
            "colorscale": [
             [
              0,
              "#0d0887"
             ],
             [
              0.1111111111111111,
              "#46039f"
             ],
             [
              0.2222222222222222,
              "#7201a8"
             ],
             [
              0.3333333333333333,
              "#9c179e"
             ],
             [
              0.4444444444444444,
              "#bd3786"
             ],
             [
              0.5555555555555556,
              "#d8576b"
             ],
             [
              0.6666666666666666,
              "#ed7953"
             ],
             [
              0.7777777777777778,
              "#fb9f3a"
             ],
             [
              0.8888888888888888,
              "#fdca26"
             ],
             [
              1,
              "#f0f921"
             ]
            ],
            "type": "surface"
           }
          ],
          "table": [
           {
            "cells": {
             "fill": {
              "color": "#EBF0F8"
             },
             "line": {
              "color": "white"
             }
            },
            "header": {
             "fill": {
              "color": "#C8D4E3"
             },
             "line": {
              "color": "white"
             }
            },
            "type": "table"
           }
          ]
         },
         "layout": {
          "annotationdefaults": {
           "arrowcolor": "#2a3f5f",
           "arrowhead": 0,
           "arrowwidth": 1
          },
          "autotypenumbers": "strict",
          "coloraxis": {
           "colorbar": {
            "outlinewidth": 0,
            "ticks": ""
           }
          },
          "colorscale": {
           "diverging": [
            [
             0,
             "#8e0152"
            ],
            [
             0.1,
             "#c51b7d"
            ],
            [
             0.2,
             "#de77ae"
            ],
            [
             0.3,
             "#f1b6da"
            ],
            [
             0.4,
             "#fde0ef"
            ],
            [
             0.5,
             "#f7f7f7"
            ],
            [
             0.6,
             "#e6f5d0"
            ],
            [
             0.7,
             "#b8e186"
            ],
            [
             0.8,
             "#7fbc41"
            ],
            [
             0.9,
             "#4d9221"
            ],
            [
             1,
             "#276419"
            ]
           ],
           "sequential": [
            [
             0,
             "#0d0887"
            ],
            [
             0.1111111111111111,
             "#46039f"
            ],
            [
             0.2222222222222222,
             "#7201a8"
            ],
            [
             0.3333333333333333,
             "#9c179e"
            ],
            [
             0.4444444444444444,
             "#bd3786"
            ],
            [
             0.5555555555555556,
             "#d8576b"
            ],
            [
             0.6666666666666666,
             "#ed7953"
            ],
            [
             0.7777777777777778,
             "#fb9f3a"
            ],
            [
             0.8888888888888888,
             "#fdca26"
            ],
            [
             1,
             "#f0f921"
            ]
           ],
           "sequentialminus": [
            [
             0,
             "#0d0887"
            ],
            [
             0.1111111111111111,
             "#46039f"
            ],
            [
             0.2222222222222222,
             "#7201a8"
            ],
            [
             0.3333333333333333,
             "#9c179e"
            ],
            [
             0.4444444444444444,
             "#bd3786"
            ],
            [
             0.5555555555555556,
             "#d8576b"
            ],
            [
             0.6666666666666666,
             "#ed7953"
            ],
            [
             0.7777777777777778,
             "#fb9f3a"
            ],
            [
             0.8888888888888888,
             "#fdca26"
            ],
            [
             1,
             "#f0f921"
            ]
           ]
          },
          "colorway": [
           "#636efa",
           "#EF553B",
           "#00cc96",
           "#ab63fa",
           "#FFA15A",
           "#19d3f3",
           "#FF6692",
           "#B6E880",
           "#FF97FF",
           "#FECB52"
          ],
          "font": {
           "color": "#2a3f5f"
          },
          "geo": {
           "bgcolor": "white",
           "lakecolor": "white",
           "landcolor": "#E5ECF6",
           "showlakes": true,
           "showland": true,
           "subunitcolor": "white"
          },
          "hoverlabel": {
           "align": "left"
          },
          "hovermode": "closest",
          "mapbox": {
           "style": "light"
          },
          "paper_bgcolor": "white",
          "plot_bgcolor": "#E5ECF6",
          "polar": {
           "angularaxis": {
            "gridcolor": "white",
            "linecolor": "white",
            "ticks": ""
           },
           "bgcolor": "#E5ECF6",
           "radialaxis": {
            "gridcolor": "white",
            "linecolor": "white",
            "ticks": ""
           }
          },
          "scene": {
           "xaxis": {
            "backgroundcolor": "#E5ECF6",
            "gridcolor": "white",
            "gridwidth": 2,
            "linecolor": "white",
            "showbackground": true,
            "ticks": "",
            "zerolinecolor": "white"
           },
           "yaxis": {
            "backgroundcolor": "#E5ECF6",
            "gridcolor": "white",
            "gridwidth": 2,
            "linecolor": "white",
            "showbackground": true,
            "ticks": "",
            "zerolinecolor": "white"
           },
           "zaxis": {
            "backgroundcolor": "#E5ECF6",
            "gridcolor": "white",
            "gridwidth": 2,
            "linecolor": "white",
            "showbackground": true,
            "ticks": "",
            "zerolinecolor": "white"
           }
          },
          "shapedefaults": {
           "line": {
            "color": "#2a3f5f"
           }
          },
          "ternary": {
           "aaxis": {
            "gridcolor": "white",
            "linecolor": "white",
            "ticks": ""
           },
           "baxis": {
            "gridcolor": "white",
            "linecolor": "white",
            "ticks": ""
           },
           "bgcolor": "#E5ECF6",
           "caxis": {
            "gridcolor": "white",
            "linecolor": "white",
            "ticks": ""
           }
          },
          "title": {
           "x": 0.05
          },
          "xaxis": {
           "automargin": true,
           "gridcolor": "white",
           "linecolor": "white",
           "ticks": "",
           "title": {
            "standoff": 15
           },
           "zerolinecolor": "white",
           "zerolinewidth": 2
          },
          "yaxis": {
           "automargin": true,
           "gridcolor": "white",
           "linecolor": "white",
           "ticks": "",
           "title": {
            "standoff": 15
           },
           "zerolinecolor": "white",
           "zerolinewidth": 2
          }
         }
        },
        "title": {
         "text": "Word Count Distribution in Corpus and Queries"
        },
        "width": 800,
        "xaxis": {
         "anchor": "y",
         "domain": [
          0,
          0.45
         ],
         "title": {
          "text": "Word Count"
         }
        },
        "xaxis2": {
         "anchor": "y2",
         "domain": [
          0.55,
          1
         ],
         "title": {
          "text": "Word Count"
         }
        },
        "yaxis": {
         "anchor": "x",
         "domain": [
          0,
          1
         ],
         "title": {
          "text": "Frequency"
         }
        },
        "yaxis2": {
         "anchor": "x2",
         "domain": [
          0,
          1
         ],
         "title": {
          "text": "Frequency"
         }
        }
       }
      }
     },
     "metadata": {},
     "output_type": "display_data"
    },
    {
     "name": "stdout",
     "output_type": "stream",
     "text": [
      "========= DATASET: FinQA  =========\n",
      "\n",
      "Starting number of documents: 2789 and number of queries: 1147\n",
      "After reducing: number of documents: 247 and number of queries: 344\n",
      "\n",
      "Max word count: 1661\n",
      "Average word count: 685.09\n",
      "Max word count in queries: 43\n",
      "Average word count in queries: 16.71\n"
     ]
    },
    {
     "data": {
      "application/vnd.plotly.v1+json": {
       "config": {
        "plotlyServerURL": "https://plot.ly"
       },
       "data": [
        {
         "marker": {
          "color": "blue"
         },
         "name": "Corpus Word Count",
         "nbinsx": 50,
         "type": "histogram",
         "x": {
          "bdata": "WQAUA4IB+AORAKUCnQIUAwgCDQPFAgoESgKTAxMBSgShARoC6AL3AkoDfwN5AgUBDQNeAocBTQFwA5AD0QEcA/EDrASwA0UCjQIsAp8E3QLqAf8BRwIvAX8DBwKxAUcDagLDAkYD+wN5AzUC8wKYBKwCswPAAqECzwFGBKUCJALfAqgB7QJNAnME7AJHAnkC7QIwAT4D/wMvAlIC7QKjApACEwKKAgcEnQNNAvEC6gE4A9sDqgJHAikDWAOaARQDAQO7AmQCZgT3AncDHgKdAd0BNAGIBHkDewIhAoUBmANnAxkCAQJ8AvED8gICBIsCvwJiAX8ClwM1AisD8gMBA4cDdAXLAfkBcAGTAoADIgKJAiUD7AI8AqIChwLQAm4CogI+A6kB3ABmAscACQF5AiUDFARLAsMBKwNhAKcCbgPTAiwCzgLVA0wDngJ9Bl4EowPiA9gCvQI5A4kC3QIeBDADOwNnBH4CvwIFAmYCYAPVA0gC+wFZA+MCLANoA/UCbALpAXwA4gFfA/ICSwMhAaADFALwAgwCLgEcAaAD/QG4ApgDOwNAA5UCRQMXA8oBxwBRAfQAKgJ6ApUBAwKYAsgDlwMAAiUBZAL2AtMBhgKEAp8DTQHlAvkAOANbAG8BBwN+AisC/wFjArQC7AI=",
          "dtype": "i2"
         },
         "xaxis": "x",
         "yaxis": "y"
        },
        {
         "marker": {
          "color": "green"
         },
         "name": "Queries Word Count",
         "nbinsx": 50,
         "type": "histogram",
         "x": {
          "bdata": "DQkSDBYVDwsgCRodEQsSGhEUFAsQEhAaGg8LDgwQGAwfERseGRMPFRkZDREOEQwPCisRDRAQERIJJg8JERYRFhgQEBEOERINEQ0QDBIJDwsYFAwNFRAKCg4PChIXDhAWDxAJDhgSDw0jBg4WECASDhUmDREODw8NDBQSEQwTEQ0ODA8UDQofEAoQDhEUCxEQERETGhQPDw4PEA4XER4LDgwQEQwRCA8WDh4NKQ8RFA4QDAwTCgoUDA0ODxYPCRIVDwoTEwwKHRsLFxEZEA4KDRQUDBEPGhEOGBEMEAwGDxMPDRIJDw4aEw0MDQwWFhEODBkbDhoVEg4TEhIMEAoTDQwRCxwPEgwPFgkMDxUUEBQJDw0OFRANDQkPFA8ODQsiCQ8UDhYPDg0cEBQUEhgOEw0KCw0YEQ4VFw4RDgsKDQ8UFA8MDBITDg0OERMNCwoRERYNCggODgo=",
          "dtype": "i1"
         },
         "xaxis": "x2",
         "yaxis": "y2"
        }
       ],
       "layout": {
        "annotations": [
         {
          "font": {
           "size": 16
          },
          "showarrow": false,
          "text": "Corpus Word Count Distribution",
          "x": 0.225,
          "xanchor": "center",
          "xref": "paper",
          "y": 1,
          "yanchor": "bottom",
          "yref": "paper"
         },
         {
          "font": {
           "size": 16
          },
          "showarrow": false,
          "text": "Queries Word Count Distribution",
          "x": 0.775,
          "xanchor": "center",
          "xref": "paper",
          "y": 1,
          "yanchor": "bottom",
          "yref": "paper"
         }
        ],
        "height": 400,
        "showlegend": false,
        "template": {
         "data": {
          "bar": [
           {
            "error_x": {
             "color": "#2a3f5f"
            },
            "error_y": {
             "color": "#2a3f5f"
            },
            "marker": {
             "line": {
              "color": "#E5ECF6",
              "width": 0.5
             },
             "pattern": {
              "fillmode": "overlay",
              "size": 10,
              "solidity": 0.2
             }
            },
            "type": "bar"
           }
          ],
          "barpolar": [
           {
            "marker": {
             "line": {
              "color": "#E5ECF6",
              "width": 0.5
             },
             "pattern": {
              "fillmode": "overlay",
              "size": 10,
              "solidity": 0.2
             }
            },
            "type": "barpolar"
           }
          ],
          "carpet": [
           {
            "aaxis": {
             "endlinecolor": "#2a3f5f",
             "gridcolor": "white",
             "linecolor": "white",
             "minorgridcolor": "white",
             "startlinecolor": "#2a3f5f"
            },
            "baxis": {
             "endlinecolor": "#2a3f5f",
             "gridcolor": "white",
             "linecolor": "white",
             "minorgridcolor": "white",
             "startlinecolor": "#2a3f5f"
            },
            "type": "carpet"
           }
          ],
          "choropleth": [
           {
            "colorbar": {
             "outlinewidth": 0,
             "ticks": ""
            },
            "type": "choropleth"
           }
          ],
          "contour": [
           {
            "colorbar": {
             "outlinewidth": 0,
             "ticks": ""
            },
            "colorscale": [
             [
              0,
              "#0d0887"
             ],
             [
              0.1111111111111111,
              "#46039f"
             ],
             [
              0.2222222222222222,
              "#7201a8"
             ],
             [
              0.3333333333333333,
              "#9c179e"
             ],
             [
              0.4444444444444444,
              "#bd3786"
             ],
             [
              0.5555555555555556,
              "#d8576b"
             ],
             [
              0.6666666666666666,
              "#ed7953"
             ],
             [
              0.7777777777777778,
              "#fb9f3a"
             ],
             [
              0.8888888888888888,
              "#fdca26"
             ],
             [
              1,
              "#f0f921"
             ]
            ],
            "type": "contour"
           }
          ],
          "contourcarpet": [
           {
            "colorbar": {
             "outlinewidth": 0,
             "ticks": ""
            },
            "type": "contourcarpet"
           }
          ],
          "heatmap": [
           {
            "colorbar": {
             "outlinewidth": 0,
             "ticks": ""
            },
            "colorscale": [
             [
              0,
              "#0d0887"
             ],
             [
              0.1111111111111111,
              "#46039f"
             ],
             [
              0.2222222222222222,
              "#7201a8"
             ],
             [
              0.3333333333333333,
              "#9c179e"
             ],
             [
              0.4444444444444444,
              "#bd3786"
             ],
             [
              0.5555555555555556,
              "#d8576b"
             ],
             [
              0.6666666666666666,
              "#ed7953"
             ],
             [
              0.7777777777777778,
              "#fb9f3a"
             ],
             [
              0.8888888888888888,
              "#fdca26"
             ],
             [
              1,
              "#f0f921"
             ]
            ],
            "type": "heatmap"
           }
          ],
          "histogram": [
           {
            "marker": {
             "pattern": {
              "fillmode": "overlay",
              "size": 10,
              "solidity": 0.2
             }
            },
            "type": "histogram"
           }
          ],
          "histogram2d": [
           {
            "colorbar": {
             "outlinewidth": 0,
             "ticks": ""
            },
            "colorscale": [
             [
              0,
              "#0d0887"
             ],
             [
              0.1111111111111111,
              "#46039f"
             ],
             [
              0.2222222222222222,
              "#7201a8"
             ],
             [
              0.3333333333333333,
              "#9c179e"
             ],
             [
              0.4444444444444444,
              "#bd3786"
             ],
             [
              0.5555555555555556,
              "#d8576b"
             ],
             [
              0.6666666666666666,
              "#ed7953"
             ],
             [
              0.7777777777777778,
              "#fb9f3a"
             ],
             [
              0.8888888888888888,
              "#fdca26"
             ],
             [
              1,
              "#f0f921"
             ]
            ],
            "type": "histogram2d"
           }
          ],
          "histogram2dcontour": [
           {
            "colorbar": {
             "outlinewidth": 0,
             "ticks": ""
            },
            "colorscale": [
             [
              0,
              "#0d0887"
             ],
             [
              0.1111111111111111,
              "#46039f"
             ],
             [
              0.2222222222222222,
              "#7201a8"
             ],
             [
              0.3333333333333333,
              "#9c179e"
             ],
             [
              0.4444444444444444,
              "#bd3786"
             ],
             [
              0.5555555555555556,
              "#d8576b"
             ],
             [
              0.6666666666666666,
              "#ed7953"
             ],
             [
              0.7777777777777778,
              "#fb9f3a"
             ],
             [
              0.8888888888888888,
              "#fdca26"
             ],
             [
              1,
              "#f0f921"
             ]
            ],
            "type": "histogram2dcontour"
           }
          ],
          "mesh3d": [
           {
            "colorbar": {
             "outlinewidth": 0,
             "ticks": ""
            },
            "type": "mesh3d"
           }
          ],
          "parcoords": [
           {
            "line": {
             "colorbar": {
              "outlinewidth": 0,
              "ticks": ""
             }
            },
            "type": "parcoords"
           }
          ],
          "pie": [
           {
            "automargin": true,
            "type": "pie"
           }
          ],
          "scatter": [
           {
            "fillpattern": {
             "fillmode": "overlay",
             "size": 10,
             "solidity": 0.2
            },
            "type": "scatter"
           }
          ],
          "scatter3d": [
           {
            "line": {
             "colorbar": {
              "outlinewidth": 0,
              "ticks": ""
             }
            },
            "marker": {
             "colorbar": {
              "outlinewidth": 0,
              "ticks": ""
             }
            },
            "type": "scatter3d"
           }
          ],
          "scattercarpet": [
           {
            "marker": {
             "colorbar": {
              "outlinewidth": 0,
              "ticks": ""
             }
            },
            "type": "scattercarpet"
           }
          ],
          "scattergeo": [
           {
            "marker": {
             "colorbar": {
              "outlinewidth": 0,
              "ticks": ""
             }
            },
            "type": "scattergeo"
           }
          ],
          "scattergl": [
           {
            "marker": {
             "colorbar": {
              "outlinewidth": 0,
              "ticks": ""
             }
            },
            "type": "scattergl"
           }
          ],
          "scattermap": [
           {
            "marker": {
             "colorbar": {
              "outlinewidth": 0,
              "ticks": ""
             }
            },
            "type": "scattermap"
           }
          ],
          "scattermapbox": [
           {
            "marker": {
             "colorbar": {
              "outlinewidth": 0,
              "ticks": ""
             }
            },
            "type": "scattermapbox"
           }
          ],
          "scatterpolar": [
           {
            "marker": {
             "colorbar": {
              "outlinewidth": 0,
              "ticks": ""
             }
            },
            "type": "scatterpolar"
           }
          ],
          "scatterpolargl": [
           {
            "marker": {
             "colorbar": {
              "outlinewidth": 0,
              "ticks": ""
             }
            },
            "type": "scatterpolargl"
           }
          ],
          "scatterternary": [
           {
            "marker": {
             "colorbar": {
              "outlinewidth": 0,
              "ticks": ""
             }
            },
            "type": "scatterternary"
           }
          ],
          "surface": [
           {
            "colorbar": {
             "outlinewidth": 0,
             "ticks": ""
            },
            "colorscale": [
             [
              0,
              "#0d0887"
             ],
             [
              0.1111111111111111,
              "#46039f"
             ],
             [
              0.2222222222222222,
              "#7201a8"
             ],
             [
              0.3333333333333333,
              "#9c179e"
             ],
             [
              0.4444444444444444,
              "#bd3786"
             ],
             [
              0.5555555555555556,
              "#d8576b"
             ],
             [
              0.6666666666666666,
              "#ed7953"
             ],
             [
              0.7777777777777778,
              "#fb9f3a"
             ],
             [
              0.8888888888888888,
              "#fdca26"
             ],
             [
              1,
              "#f0f921"
             ]
            ],
            "type": "surface"
           }
          ],
          "table": [
           {
            "cells": {
             "fill": {
              "color": "#EBF0F8"
             },
             "line": {
              "color": "white"
             }
            },
            "header": {
             "fill": {
              "color": "#C8D4E3"
             },
             "line": {
              "color": "white"
             }
            },
            "type": "table"
           }
          ]
         },
         "layout": {
          "annotationdefaults": {
           "arrowcolor": "#2a3f5f",
           "arrowhead": 0,
           "arrowwidth": 1
          },
          "autotypenumbers": "strict",
          "coloraxis": {
           "colorbar": {
            "outlinewidth": 0,
            "ticks": ""
           }
          },
          "colorscale": {
           "diverging": [
            [
             0,
             "#8e0152"
            ],
            [
             0.1,
             "#c51b7d"
            ],
            [
             0.2,
             "#de77ae"
            ],
            [
             0.3,
             "#f1b6da"
            ],
            [
             0.4,
             "#fde0ef"
            ],
            [
             0.5,
             "#f7f7f7"
            ],
            [
             0.6,
             "#e6f5d0"
            ],
            [
             0.7,
             "#b8e186"
            ],
            [
             0.8,
             "#7fbc41"
            ],
            [
             0.9,
             "#4d9221"
            ],
            [
             1,
             "#276419"
            ]
           ],
           "sequential": [
            [
             0,
             "#0d0887"
            ],
            [
             0.1111111111111111,
             "#46039f"
            ],
            [
             0.2222222222222222,
             "#7201a8"
            ],
            [
             0.3333333333333333,
             "#9c179e"
            ],
            [
             0.4444444444444444,
             "#bd3786"
            ],
            [
             0.5555555555555556,
             "#d8576b"
            ],
            [
             0.6666666666666666,
             "#ed7953"
            ],
            [
             0.7777777777777778,
             "#fb9f3a"
            ],
            [
             0.8888888888888888,
             "#fdca26"
            ],
            [
             1,
             "#f0f921"
            ]
           ],
           "sequentialminus": [
            [
             0,
             "#0d0887"
            ],
            [
             0.1111111111111111,
             "#46039f"
            ],
            [
             0.2222222222222222,
             "#7201a8"
            ],
            [
             0.3333333333333333,
             "#9c179e"
            ],
            [
             0.4444444444444444,
             "#bd3786"
            ],
            [
             0.5555555555555556,
             "#d8576b"
            ],
            [
             0.6666666666666666,
             "#ed7953"
            ],
            [
             0.7777777777777778,
             "#fb9f3a"
            ],
            [
             0.8888888888888888,
             "#fdca26"
            ],
            [
             1,
             "#f0f921"
            ]
           ]
          },
          "colorway": [
           "#636efa",
           "#EF553B",
           "#00cc96",
           "#ab63fa",
           "#FFA15A",
           "#19d3f3",
           "#FF6692",
           "#B6E880",
           "#FF97FF",
           "#FECB52"
          ],
          "font": {
           "color": "#2a3f5f"
          },
          "geo": {
           "bgcolor": "white",
           "lakecolor": "white",
           "landcolor": "#E5ECF6",
           "showlakes": true,
           "showland": true,
           "subunitcolor": "white"
          },
          "hoverlabel": {
           "align": "left"
          },
          "hovermode": "closest",
          "mapbox": {
           "style": "light"
          },
          "paper_bgcolor": "white",
          "plot_bgcolor": "#E5ECF6",
          "polar": {
           "angularaxis": {
            "gridcolor": "white",
            "linecolor": "white",
            "ticks": ""
           },
           "bgcolor": "#E5ECF6",
           "radialaxis": {
            "gridcolor": "white",
            "linecolor": "white",
            "ticks": ""
           }
          },
          "scene": {
           "xaxis": {
            "backgroundcolor": "#E5ECF6",
            "gridcolor": "white",
            "gridwidth": 2,
            "linecolor": "white",
            "showbackground": true,
            "ticks": "",
            "zerolinecolor": "white"
           },
           "yaxis": {
            "backgroundcolor": "#E5ECF6",
            "gridcolor": "white",
            "gridwidth": 2,
            "linecolor": "white",
            "showbackground": true,
            "ticks": "",
            "zerolinecolor": "white"
           },
           "zaxis": {
            "backgroundcolor": "#E5ECF6",
            "gridcolor": "white",
            "gridwidth": 2,
            "linecolor": "white",
            "showbackground": true,
            "ticks": "",
            "zerolinecolor": "white"
           }
          },
          "shapedefaults": {
           "line": {
            "color": "#2a3f5f"
           }
          },
          "ternary": {
           "aaxis": {
            "gridcolor": "white",
            "linecolor": "white",
            "ticks": ""
           },
           "baxis": {
            "gridcolor": "white",
            "linecolor": "white",
            "ticks": ""
           },
           "bgcolor": "#E5ECF6",
           "caxis": {
            "gridcolor": "white",
            "linecolor": "white",
            "ticks": ""
           }
          },
          "title": {
           "x": 0.05
          },
          "xaxis": {
           "automargin": true,
           "gridcolor": "white",
           "linecolor": "white",
           "ticks": "",
           "title": {
            "standoff": 15
           },
           "zerolinecolor": "white",
           "zerolinewidth": 2
          },
          "yaxis": {
           "automargin": true,
           "gridcolor": "white",
           "linecolor": "white",
           "ticks": "",
           "title": {
            "standoff": 15
           },
           "zerolinecolor": "white",
           "zerolinewidth": 2
          }
         }
        },
        "title": {
         "text": "Word Count Distribution in Corpus and Queries"
        },
        "width": 800,
        "xaxis": {
         "anchor": "y",
         "domain": [
          0,
          0.45
         ],
         "title": {
          "text": "Word Count"
         }
        },
        "xaxis2": {
         "anchor": "y2",
         "domain": [
          0.55,
          1
         ],
         "title": {
          "text": "Word Count"
         }
        },
        "yaxis": {
         "anchor": "x",
         "domain": [
          0,
          1
         ],
         "title": {
          "text": "Frequency"
         }
        },
        "yaxis2": {
         "anchor": "x2",
         "domain": [
          0,
          1
         ],
         "title": {
          "text": "Frequency"
         }
        }
       }
      }
     },
     "metadata": {},
     "output_type": "display_data"
    },
    {
     "name": "stdout",
     "output_type": "stream",
     "text": [
      "========= DATASET: MultiHeritt  =========\n",
      "\n",
      "Starting number of documents: 10475 and number of queries: 974\n",
      "After reducing: number of documents: 876 and number of queries: 292\n",
      "\n",
      "Max word count: 2654\n",
      "Average word count: 474.03\n",
      "Max word count in queries: 46\n",
      "Average word count in queries: 17.97\n"
     ]
    },
    {
     "data": {
      "application/vnd.plotly.v1+json": {
       "config": {
        "plotlyServerURL": "https://plot.ly"
       },
       "data": [
        {
         "marker": {
          "color": "blue"
         },
         "name": "Corpus Word Count",
         "nbinsx": 50,
         "type": "histogram",
         "x": {
          "bdata": "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",
          "dtype": "i2"
         },
         "xaxis": "x",
         "yaxis": "y"
        },
        {
         "marker": {
          "color": "green"
         },
         "name": "Queries Word Count",
         "nbinsx": 50,
         "type": "histogram",
         "x": {
          "bdata": "EhAMExANExQRFhcJGQwXFRYWCxgODRAWEg8RCgwUFxQXCxIaDxcRDhUQEBUKGRMMEhISFhUVERITChcPGBEKDxQREAwREQ4WDxgTChcPCgoVEAkdGBgPDw4VFQ0QDBQPExYZDh0TDg0bCxcMFAkVLhYZEhQWDRcSEh0SCx0OCg0KEgoVDQ4WGRAXCxUSDBUMEh0VEhYbFBIYFBkbDBATDg0QFA0RFxAdCQkYEBUaGREPFRIREhIRGxESEBYOFg0PDRMTDRwVCwsSEg4TEBUJFBYUHBcXGAwNFRAVEBcVChsOCQ8WFg8RGhsSEwwKDA4SFxkSEw0TCggQEA0LGhcRDQ4VEwkUFhQOFxIKFA0SEhMTEQ0SEhUWDxILExYUDBwJEhMPEA==",
          "dtype": "i1"
         },
         "xaxis": "x2",
         "yaxis": "y2"
        }
       ],
       "layout": {
        "annotations": [
         {
          "font": {
           "size": 16
          },
          "showarrow": false,
          "text": "Corpus Word Count Distribution",
          "x": 0.225,
          "xanchor": "center",
          "xref": "paper",
          "y": 1,
          "yanchor": "bottom",
          "yref": "paper"
         },
         {
          "font": {
           "size": 16
          },
          "showarrow": false,
          "text": "Queries Word Count Distribution",
          "x": 0.775,
          "xanchor": "center",
          "xref": "paper",
          "y": 1,
          "yanchor": "bottom",
          "yref": "paper"
         }
        ],
        "height": 400,
        "showlegend": false,
        "template": {
         "data": {
          "bar": [
           {
            "error_x": {
             "color": "#2a3f5f"
            },
            "error_y": {
             "color": "#2a3f5f"
            },
            "marker": {
             "line": {
              "color": "#E5ECF6",
              "width": 0.5
             },
             "pattern": {
              "fillmode": "overlay",
              "size": 10,
              "solidity": 0.2
             }
            },
            "type": "bar"
           }
          ],
          "barpolar": [
           {
            "marker": {
             "line": {
              "color": "#E5ECF6",
              "width": 0.5
             },
             "pattern": {
              "fillmode": "overlay",
              "size": 10,
              "solidity": 0.2
             }
            },
            "type": "barpolar"
           }
          ],
          "carpet": [
           {
            "aaxis": {
             "endlinecolor": "#2a3f5f",
             "gridcolor": "white",
             "linecolor": "white",
             "minorgridcolor": "white",
             "startlinecolor": "#2a3f5f"
            },
            "baxis": {
             "endlinecolor": "#2a3f5f",
             "gridcolor": "white",
             "linecolor": "white",
             "minorgridcolor": "white",
             "startlinecolor": "#2a3f5f"
            },
            "type": "carpet"
           }
          ],
          "choropleth": [
           {
            "colorbar": {
             "outlinewidth": 0,
             "ticks": ""
            },
            "type": "choropleth"
           }
          ],
          "contour": [
           {
            "colorbar": {
             "outlinewidth": 0,
             "ticks": ""
            },
            "colorscale": [
             [
              0,
              "#0d0887"
             ],
             [
              0.1111111111111111,
              "#46039f"
             ],
             [
              0.2222222222222222,
              "#7201a8"
             ],
             [
              0.3333333333333333,
              "#9c179e"
             ],
             [
              0.4444444444444444,
              "#bd3786"
             ],
             [
              0.5555555555555556,
              "#d8576b"
             ],
             [
              0.6666666666666666,
              "#ed7953"
             ],
             [
              0.7777777777777778,
              "#fb9f3a"
             ],
             [
              0.8888888888888888,
              "#fdca26"
             ],
             [
              1,
              "#f0f921"
             ]
            ],
            "type": "contour"
           }
          ],
          "contourcarpet": [
           {
            "colorbar": {
             "outlinewidth": 0,
             "ticks": ""
            },
            "type": "contourcarpet"
           }
          ],
          "heatmap": [
           {
            "colorbar": {
             "outlinewidth": 0,
             "ticks": ""
            },
            "colorscale": [
             [
              0,
              "#0d0887"
             ],
             [
              0.1111111111111111,
              "#46039f"
             ],
             [
              0.2222222222222222,
              "#7201a8"
             ],
             [
              0.3333333333333333,
              "#9c179e"
             ],
             [
              0.4444444444444444,
              "#bd3786"
             ],
             [
              0.5555555555555556,
              "#d8576b"
             ],
             [
              0.6666666666666666,
              "#ed7953"
             ],
             [
              0.7777777777777778,
              "#fb9f3a"
             ],
             [
              0.8888888888888888,
              "#fdca26"
             ],
             [
              1,
              "#f0f921"
             ]
            ],
            "type": "heatmap"
           }
          ],
          "histogram": [
           {
            "marker": {
             "pattern": {
              "fillmode": "overlay",
              "size": 10,
              "solidity": 0.2
             }
            },
            "type": "histogram"
           }
          ],
          "histogram2d": [
           {
            "colorbar": {
             "outlinewidth": 0,
             "ticks": ""
            },
            "colorscale": [
             [
              0,
              "#0d0887"
             ],
             [
              0.1111111111111111,
              "#46039f"
             ],
             [
              0.2222222222222222,
              "#7201a8"
             ],
             [
              0.3333333333333333,
              "#9c179e"
             ],
             [
              0.4444444444444444,
              "#bd3786"
             ],
             [
              0.5555555555555556,
              "#d8576b"
             ],
             [
              0.6666666666666666,
              "#ed7953"
             ],
             [
              0.7777777777777778,
              "#fb9f3a"
             ],
             [
              0.8888888888888888,
              "#fdca26"
             ],
             [
              1,
              "#f0f921"
             ]
            ],
            "type": "histogram2d"
           }
          ],
          "histogram2dcontour": [
           {
            "colorbar": {
             "outlinewidth": 0,
             "ticks": ""
            },
            "colorscale": [
             [
              0,
              "#0d0887"
             ],
             [
              0.1111111111111111,
              "#46039f"
             ],
             [
              0.2222222222222222,
              "#7201a8"
             ],
             [
              0.3333333333333333,
              "#9c179e"
             ],
             [
              0.4444444444444444,
              "#bd3786"
             ],
             [
              0.5555555555555556,
              "#d8576b"
             ],
             [
              0.6666666666666666,
              "#ed7953"
             ],
             [
              0.7777777777777778,
              "#fb9f3a"
             ],
             [
              0.8888888888888888,
              "#fdca26"
             ],
             [
              1,
              "#f0f921"
             ]
            ],
            "type": "histogram2dcontour"
           }
          ],
          "mesh3d": [
           {
            "colorbar": {
             "outlinewidth": 0,
             "ticks": ""
            },
            "type": "mesh3d"
           }
          ],
          "parcoords": [
           {
            "line": {
             "colorbar": {
              "outlinewidth": 0,
              "ticks": ""
             }
            },
            "type": "parcoords"
           }
          ],
          "pie": [
           {
            "automargin": true,
            "type": "pie"
           }
          ],
          "scatter": [
           {
            "fillpattern": {
             "fillmode": "overlay",
             "size": 10,
             "solidity": 0.2
            },
            "type": "scatter"
           }
          ],
          "scatter3d": [
           {
            "line": {
             "colorbar": {
              "outlinewidth": 0,
              "ticks": ""
             }
            },
            "marker": {
             "colorbar": {
              "outlinewidth": 0,
              "ticks": ""
             }
            },
            "type": "scatter3d"
           }
          ],
          "scattercarpet": [
           {
            "marker": {
             "colorbar": {
              "outlinewidth": 0,
              "ticks": ""
             }
            },
            "type": "scattercarpet"
           }
          ],
          "scattergeo": [
           {
            "marker": {
             "colorbar": {
              "outlinewidth": 0,
              "ticks": ""
             }
            },
            "type": "scattergeo"
           }
          ],
          "scattergl": [
           {
            "marker": {
             "colorbar": {
              "outlinewidth": 0,
              "ticks": ""
             }
            },
            "type": "scattergl"
           }
          ],
          "scattermap": [
           {
            "marker": {
             "colorbar": {
              "outlinewidth": 0,
              "ticks": ""
             }
            },
            "type": "scattermap"
           }
          ],
          "scattermapbox": [
           {
            "marker": {
             "colorbar": {
              "outlinewidth": 0,
              "ticks": ""
             }
            },
            "type": "scattermapbox"
           }
          ],
          "scatterpolar": [
           {
            "marker": {
             "colorbar": {
              "outlinewidth": 0,
              "ticks": ""
             }
            },
            "type": "scatterpolar"
           }
          ],
          "scatterpolargl": [
           {
            "marker": {
             "colorbar": {
              "outlinewidth": 0,
              "ticks": ""
             }
            },
            "type": "scatterpolargl"
           }
          ],
          "scatterternary": [
           {
            "marker": {
             "colorbar": {
              "outlinewidth": 0,
              "ticks": ""
             }
            },
            "type": "scatterternary"
           }
          ],
          "surface": [
           {
            "colorbar": {
             "outlinewidth": 0,
             "ticks": ""
            },
            "colorscale": [
             [
              0,
              "#0d0887"
             ],
             [
              0.1111111111111111,
              "#46039f"
             ],
             [
              0.2222222222222222,
              "#7201a8"
             ],
             [
              0.3333333333333333,
              "#9c179e"
             ],
             [
              0.4444444444444444,
              "#bd3786"
             ],
             [
              0.5555555555555556,
              "#d8576b"
             ],
             [
              0.6666666666666666,
              "#ed7953"
             ],
             [
              0.7777777777777778,
              "#fb9f3a"
             ],
             [
              0.8888888888888888,
              "#fdca26"
             ],
             [
              1,
              "#f0f921"
             ]
            ],
            "type": "surface"
           }
          ],
          "table": [
           {
            "cells": {
             "fill": {
              "color": "#EBF0F8"
             },
             "line": {
              "color": "white"
             }
            },
            "header": {
             "fill": {
              "color": "#C8D4E3"
             },
             "line": {
              "color": "white"
             }
            },
            "type": "table"
           }
          ]
         },
         "layout": {
          "annotationdefaults": {
           "arrowcolor": "#2a3f5f",
           "arrowhead": 0,
           "arrowwidth": 1
          },
          "autotypenumbers": "strict",
          "coloraxis": {
           "colorbar": {
            "outlinewidth": 0,
            "ticks": ""
           }
          },
          "colorscale": {
           "diverging": [
            [
             0,
             "#8e0152"
            ],
            [
             0.1,
             "#c51b7d"
            ],
            [
             0.2,
             "#de77ae"
            ],
            [
             0.3,
             "#f1b6da"
            ],
            [
             0.4,
             "#fde0ef"
            ],
            [
             0.5,
             "#f7f7f7"
            ],
            [
             0.6,
             "#e6f5d0"
            ],
            [
             0.7,
             "#b8e186"
            ],
            [
             0.8,
             "#7fbc41"
            ],
            [
             0.9,
             "#4d9221"
            ],
            [
             1,
             "#276419"
            ]
           ],
           "sequential": [
            [
             0,
             "#0d0887"
            ],
            [
             0.1111111111111111,
             "#46039f"
            ],
            [
             0.2222222222222222,
             "#7201a8"
            ],
            [
             0.3333333333333333,
             "#9c179e"
            ],
            [
             0.4444444444444444,
             "#bd3786"
            ],
            [
             0.5555555555555556,
             "#d8576b"
            ],
            [
             0.6666666666666666,
             "#ed7953"
            ],
            [
             0.7777777777777778,
             "#fb9f3a"
            ],
            [
             0.8888888888888888,
             "#fdca26"
            ],
            [
             1,
             "#f0f921"
            ]
           ],
           "sequentialminus": [
            [
             0,
             "#0d0887"
            ],
            [
             0.1111111111111111,
             "#46039f"
            ],
            [
             0.2222222222222222,
             "#7201a8"
            ],
            [
             0.3333333333333333,
             "#9c179e"
            ],
            [
             0.4444444444444444,
             "#bd3786"
            ],
            [
             0.5555555555555556,
             "#d8576b"
            ],
            [
             0.6666666666666666,
             "#ed7953"
            ],
            [
             0.7777777777777778,
             "#fb9f3a"
            ],
            [
             0.8888888888888888,
             "#fdca26"
            ],
            [
             1,
             "#f0f921"
            ]
           ]
          },
          "colorway": [
           "#636efa",
           "#EF553B",
           "#00cc96",
           "#ab63fa",
           "#FFA15A",
           "#19d3f3",
           "#FF6692",
           "#B6E880",
           "#FF97FF",
           "#FECB52"
          ],
          "font": {
           "color": "#2a3f5f"
          },
          "geo": {
           "bgcolor": "white",
           "lakecolor": "white",
           "landcolor": "#E5ECF6",
           "showlakes": true,
           "showland": true,
           "subunitcolor": "white"
          },
          "hoverlabel": {
           "align": "left"
          },
          "hovermode": "closest",
          "mapbox": {
           "style": "light"
          },
          "paper_bgcolor": "white",
          "plot_bgcolor": "#E5ECF6",
          "polar": {
           "angularaxis": {
            "gridcolor": "white",
            "linecolor": "white",
            "ticks": ""
           },
           "bgcolor": "#E5ECF6",
           "radialaxis": {
            "gridcolor": "white",
            "linecolor": "white",
            "ticks": ""
           }
          },
          "scene": {
           "xaxis": {
            "backgroundcolor": "#E5ECF6",
            "gridcolor": "white",
            "gridwidth": 2,
            "linecolor": "white",
            "showbackground": true,
            "ticks": "",
            "zerolinecolor": "white"
           },
           "yaxis": {
            "backgroundcolor": "#E5ECF6",
            "gridcolor": "white",
            "gridwidth": 2,
            "linecolor": "white",
            "showbackground": true,
            "ticks": "",
            "zerolinecolor": "white"
           },
           "zaxis": {
            "backgroundcolor": "#E5ECF6",
            "gridcolor": "white",
            "gridwidth": 2,
            "linecolor": "white",
            "showbackground": true,
            "ticks": "",
            "zerolinecolor": "white"
           }
          },
          "shapedefaults": {
           "line": {
            "color": "#2a3f5f"
           }
          },
          "ternary": {
           "aaxis": {
            "gridcolor": "white",
            "linecolor": "white",
            "ticks": ""
           },
           "baxis": {
            "gridcolor": "white",
            "linecolor": "white",
            "ticks": ""
           },
           "bgcolor": "#E5ECF6",
           "caxis": {
            "gridcolor": "white",
            "linecolor": "white",
            "ticks": ""
           }
          },
          "title": {
           "x": 0.05
          },
          "xaxis": {
           "automargin": true,
           "gridcolor": "white",
           "linecolor": "white",
           "ticks": "",
           "title": {
            "standoff": 15
           },
           "zerolinecolor": "white",
           "zerolinewidth": 2
          },
          "yaxis": {
           "automargin": true,
           "gridcolor": "white",
           "linecolor": "white",
           "ticks": "",
           "title": {
            "standoff": 15
           },
           "zerolinecolor": "white",
           "zerolinewidth": 2
          }
         }
        },
        "title": {
         "text": "Word Count Distribution in Corpus and Queries"
        },
        "width": 800,
        "xaxis": {
         "anchor": "y",
         "domain": [
          0,
          0.45
         ],
         "title": {
          "text": "Word Count"
         }
        },
        "xaxis2": {
         "anchor": "y2",
         "domain": [
          0.55,
          1
         ],
         "title": {
          "text": "Word Count"
         }
        },
        "yaxis": {
         "anchor": "x",
         "domain": [
          0,
          1
         ],
         "title": {
          "text": "Frequency"
         }
        },
        "yaxis2": {
         "anchor": "x2",
         "domain": [
          0,
          1
         ],
         "title": {
          "text": "Frequency"
         }
        }
       }
      }
     },
     "metadata": {},
     "output_type": "display_data"
    },
    {
     "name": "stdout",
     "output_type": "stream",
     "text": [
      "========= DATASET: TATQA  =========\n",
      "\n",
      "Starting number of documents: 2756 and number of queries: 1663\n",
      "After reducing: number of documents: 248 and number of queries: 498\n",
      "\n",
      "Max word count: 1100\n",
      "Average word count: 287.44\n",
      "Max word count in queries: 32\n",
      "Average word count in queries: 12.35\n"
     ]
    },
    {
     "data": {
      "application/vnd.plotly.v1+json": {
       "config": {
        "plotlyServerURL": "https://plot.ly"
       },
       "data": [
        {
         "marker": {
          "color": "blue"
         },
         "name": "Corpus Word Count",
         "nbinsx": 50,
         "type": "histogram",
         "x": {
          "bdata": "wgD7ANgB1wBmAIEApwBqAKkAQwJfAYoA9wClAAoBtABvAIsABQHFAH4AagB9AFMBZQDRANIB7gC0AFoB8gEFAksBTABpAYAAlQDuA5UBpgC1AaMAhAKLAIwAhgDGAHEAegKxAO8A4wA5ADcBnwHAAPcArwCdAV8AwwEeAR4BrgD4AX8BhQAEAUIBDAMjAfgAxwFBANoB8gCuAWgAbABkAb4AsAPEACkDUwL+A8sAmgC8AJUAsgHfAGQAWAH+AYoA8gEgAdIA+wFwAVMARACmACkBZQDwALMAVgCjAWoBqQDKADIDXACMAAkBoABgAsAAkwCmAEoAVQCOAFQA0wB4AHQBqwDrAVAC8wDSACcBbwDmAOgA/ABjAPkApwAiAYEAPwAtAHsAhwDlAFkBpAAAATkAOgGEAVkAKgFJARgBEAHCAYsAHQH5AXUBmAAFAjABiADBAPoAugEnAVcBewBqAIYBggA0BCkBRAJ+AEEAgwHWAKQCZgDvAVACRgGiAOgBDwFYAnwAIAHOANMAyADcABMBrQDoAKgADAF8AEoAsgDXAAsCygFwAScBGQFlAYcBdgDkANgAbQFjAUEBLAGgAsMB9QCkAucAagCFAcgAOQH0AUwEhwH+AeoAiwC4AJQAAgLFAO4A6gIJAdEA1wDTAA==",
          "dtype": "i2"
         },
         "xaxis": "x",
         "yaxis": "y"
        },
        {
         "marker": {
          "color": "green"
         },
         "name": "Queries Word Count",
         "nbinsx": 50,
         "type": "histogram",
         "x": {
          "bdata": "DhAQDA0KCgoRBg8JCgkGDw4KDBEOCwwOBQsXCBANBw8ODAkNCCAODAsKCxAMCg8HHw4QCwgLBg0KEA8RDgsLCBcPCQ4IDBEHCwoSBgcLEgoJCAkJCwsMCgYTCAsLDAsOEQ0LChAHBgsMDAsNBgsNBQ8IDA0JCQ8MEAoPDRIIFQcMDwsNDRAMBhQMDAkSCQ0MCBANEAoGCwwWCQ4KCQYFCxIIDhQLFhIKCQoKDg0QDxAKDg0MEgcNCQYLCw8IChYLDQkHCxELDxQNCwcNGAoFCBQKCxEMHA4NCw8JCAwKCQkPDBELEA0JEQwREhMHCAwKCggIEQwKDBALDQsHDwgLCRANBQsMCwgJDwwMChsKCQ8LCw4KDAoLEBYFEQgMCQkMEwUPDhMKCgsNCQ4UCQUcCQ8QDxEeCggKBRAPDgcLDRYKCAsQDQkJDQgNDg8JCwoLDg0KCgkNEAsJCw0JDAUQCA4HDA8GDBgNCgkODw0QDQwJCwYSCgkMChEWFAcICggXDA4PCgkPGg4XBgsODQkIDwkKDgoMBwsMEQoJDQwMCg8ODhAODBINCw0KCwsVGhQOCwkNEw4RBw0OCA4LCAgOCQoHBw0VCQoSEggJDQ4MCQgJCwgMEggJDQ8MFg0JChQTCwkIBQ4GCQgQCg8PCQwQDw4U",
          "dtype": "i1"
         },
         "xaxis": "x2",
         "yaxis": "y2"
        }
       ],
       "layout": {
        "annotations": [
         {
          "font": {
           "size": 16
          },
          "showarrow": false,
          "text": "Corpus Word Count Distribution",
          "x": 0.225,
          "xanchor": "center",
          "xref": "paper",
          "y": 1,
          "yanchor": "bottom",
          "yref": "paper"
         },
         {
          "font": {
           "size": 16
          },
          "showarrow": false,
          "text": "Queries Word Count Distribution",
          "x": 0.775,
          "xanchor": "center",
          "xref": "paper",
          "y": 1,
          "yanchor": "bottom",
          "yref": "paper"
         }
        ],
        "height": 400,
        "showlegend": false,
        "template": {
         "data": {
          "bar": [
           {
            "error_x": {
             "color": "#2a3f5f"
            },
            "error_y": {
             "color": "#2a3f5f"
            },
            "marker": {
             "line": {
              "color": "#E5ECF6",
              "width": 0.5
             },
             "pattern": {
              "fillmode": "overlay",
              "size": 10,
              "solidity": 0.2
             }
            },
            "type": "bar"
           }
          ],
          "barpolar": [
           {
            "marker": {
             "line": {
              "color": "#E5ECF6",
              "width": 0.5
             },
             "pattern": {
              "fillmode": "overlay",
              "size": 10,
              "solidity": 0.2
             }
            },
            "type": "barpolar"
           }
          ],
          "carpet": [
           {
            "aaxis": {
             "endlinecolor": "#2a3f5f",
             "gridcolor": "white",
             "linecolor": "white",
             "minorgridcolor": "white",
             "startlinecolor": "#2a3f5f"
            },
            "baxis": {
             "endlinecolor": "#2a3f5f",
             "gridcolor": "white",
             "linecolor": "white",
             "minorgridcolor": "white",
             "startlinecolor": "#2a3f5f"
            },
            "type": "carpet"
           }
          ],
          "choropleth": [
           {
            "colorbar": {
             "outlinewidth": 0,
             "ticks": ""
            },
            "type": "choropleth"
           }
          ],
          "contour": [
           {
            "colorbar": {
             "outlinewidth": 0,
             "ticks": ""
            },
            "colorscale": [
             [
              0,
              "#0d0887"
             ],
             [
              0.1111111111111111,
              "#46039f"
             ],
             [
              0.2222222222222222,
              "#7201a8"
             ],
             [
              0.3333333333333333,
              "#9c179e"
             ],
             [
              0.4444444444444444,
              "#bd3786"
             ],
             [
              0.5555555555555556,
              "#d8576b"
             ],
             [
              0.6666666666666666,
              "#ed7953"
             ],
             [
              0.7777777777777778,
              "#fb9f3a"
             ],
             [
              0.8888888888888888,
              "#fdca26"
             ],
             [
              1,
              "#f0f921"
             ]
            ],
            "type": "contour"
           }
          ],
          "contourcarpet": [
           {
            "colorbar": {
             "outlinewidth": 0,
             "ticks": ""
            },
            "type": "contourcarpet"
           }
          ],
          "heatmap": [
           {
            "colorbar": {
             "outlinewidth": 0,
             "ticks": ""
            },
            "colorscale": [
             [
              0,
              "#0d0887"
             ],
             [
              0.1111111111111111,
              "#46039f"
             ],
             [
              0.2222222222222222,
              "#7201a8"
             ],
             [
              0.3333333333333333,
              "#9c179e"
             ],
             [
              0.4444444444444444,
              "#bd3786"
             ],
             [
              0.5555555555555556,
              "#d8576b"
             ],
             [
              0.6666666666666666,
              "#ed7953"
             ],
             [
              0.7777777777777778,
              "#fb9f3a"
             ],
             [
              0.8888888888888888,
              "#fdca26"
             ],
             [
              1,
              "#f0f921"
             ]
            ],
            "type": "heatmap"
           }
          ],
          "histogram": [
           {
            "marker": {
             "pattern": {
              "fillmode": "overlay",
              "size": 10,
              "solidity": 0.2
             }
            },
            "type": "histogram"
           }
          ],
          "histogram2d": [
           {
            "colorbar": {
             "outlinewidth": 0,
             "ticks": ""
            },
            "colorscale": [
             [
              0,
              "#0d0887"
             ],
             [
              0.1111111111111111,
              "#46039f"
             ],
             [
              0.2222222222222222,
              "#7201a8"
             ],
             [
              0.3333333333333333,
              "#9c179e"
             ],
             [
              0.4444444444444444,
              "#bd3786"
             ],
             [
              0.5555555555555556,
              "#d8576b"
             ],
             [
              0.6666666666666666,
              "#ed7953"
             ],
             [
              0.7777777777777778,
              "#fb9f3a"
             ],
             [
              0.8888888888888888,
              "#fdca26"
             ],
             [
              1,
              "#f0f921"
             ]
            ],
            "type": "histogram2d"
           }
          ],
          "histogram2dcontour": [
           {
            "colorbar": {
             "outlinewidth": 0,
             "ticks": ""
            },
            "colorscale": [
             [
              0,
              "#0d0887"
             ],
             [
              0.1111111111111111,
              "#46039f"
             ],
             [
              0.2222222222222222,
              "#7201a8"
             ],
             [
              0.3333333333333333,
              "#9c179e"
             ],
             [
              0.4444444444444444,
              "#bd3786"
             ],
             [
              0.5555555555555556,
              "#d8576b"
             ],
             [
              0.6666666666666666,
              "#ed7953"
             ],
             [
              0.7777777777777778,
              "#fb9f3a"
             ],
             [
              0.8888888888888888,
              "#fdca26"
             ],
             [
              1,
              "#f0f921"
             ]
            ],
            "type": "histogram2dcontour"
           }
          ],
          "mesh3d": [
           {
            "colorbar": {
             "outlinewidth": 0,
             "ticks": ""
            },
            "type": "mesh3d"
           }
          ],
          "parcoords": [
           {
            "line": {
             "colorbar": {
              "outlinewidth": 0,
              "ticks": ""
             }
            },
            "type": "parcoords"
           }
          ],
          "pie": [
           {
            "automargin": true,
            "type": "pie"
           }
          ],
          "scatter": [
           {
            "fillpattern": {
             "fillmode": "overlay",
             "size": 10,
             "solidity": 0.2
            },
            "type": "scatter"
           }
          ],
          "scatter3d": [
           {
            "line": {
             "colorbar": {
              "outlinewidth": 0,
              "ticks": ""
             }
            },
            "marker": {
             "colorbar": {
              "outlinewidth": 0,
              "ticks": ""
             }
            },
            "type": "scatter3d"
           }
          ],
          "scattercarpet": [
           {
            "marker": {
             "colorbar": {
              "outlinewidth": 0,
              "ticks": ""
             }
            },
            "type": "scattercarpet"
           }
          ],
          "scattergeo": [
           {
            "marker": {
             "colorbar": {
              "outlinewidth": 0,
              "ticks": ""
             }
            },
            "type": "scattergeo"
           }
          ],
          "scattergl": [
           {
            "marker": {
             "colorbar": {
              "outlinewidth": 0,
              "ticks": ""
             }
            },
            "type": "scattergl"
           }
          ],
          "scattermap": [
           {
            "marker": {
             "colorbar": {
              "outlinewidth": 0,
              "ticks": ""
             }
            },
            "type": "scattermap"
           }
          ],
          "scattermapbox": [
           {
            "marker": {
             "colorbar": {
              "outlinewidth": 0,
              "ticks": ""
             }
            },
            "type": "scattermapbox"
           }
          ],
          "scatterpolar": [
           {
            "marker": {
             "colorbar": {
              "outlinewidth": 0,
              "ticks": ""
             }
            },
            "type": "scatterpolar"
           }
          ],
          "scatterpolargl": [
           {
            "marker": {
             "colorbar": {
              "outlinewidth": 0,
              "ticks": ""
             }
            },
            "type": "scatterpolargl"
           }
          ],
          "scatterternary": [
           {
            "marker": {
             "colorbar": {
              "outlinewidth": 0,
              "ticks": ""
             }
            },
            "type": "scatterternary"
           }
          ],
          "surface": [
           {
            "colorbar": {
             "outlinewidth": 0,
             "ticks": ""
            },
            "colorscale": [
             [
              0,
              "#0d0887"
             ],
             [
              0.1111111111111111,
              "#46039f"
             ],
             [
              0.2222222222222222,
              "#7201a8"
             ],
             [
              0.3333333333333333,
              "#9c179e"
             ],
             [
              0.4444444444444444,
              "#bd3786"
             ],
             [
              0.5555555555555556,
              "#d8576b"
             ],
             [
              0.6666666666666666,
              "#ed7953"
             ],
             [
              0.7777777777777778,
              "#fb9f3a"
             ],
             [
              0.8888888888888888,
              "#fdca26"
             ],
             [
              1,
              "#f0f921"
             ]
            ],
            "type": "surface"
           }
          ],
          "table": [
           {
            "cells": {
             "fill": {
              "color": "#EBF0F8"
             },
             "line": {
              "color": "white"
             }
            },
            "header": {
             "fill": {
              "color": "#C8D4E3"
             },
             "line": {
              "color": "white"
             }
            },
            "type": "table"
           }
          ]
         },
         "layout": {
          "annotationdefaults": {
           "arrowcolor": "#2a3f5f",
           "arrowhead": 0,
           "arrowwidth": 1
          },
          "autotypenumbers": "strict",
          "coloraxis": {
           "colorbar": {
            "outlinewidth": 0,
            "ticks": ""
           }
          },
          "colorscale": {
           "diverging": [
            [
             0,
             "#8e0152"
            ],
            [
             0.1,
             "#c51b7d"
            ],
            [
             0.2,
             "#de77ae"
            ],
            [
             0.3,
             "#f1b6da"
            ],
            [
             0.4,
             "#fde0ef"
            ],
            [
             0.5,
             "#f7f7f7"
            ],
            [
             0.6,
             "#e6f5d0"
            ],
            [
             0.7,
             "#b8e186"
            ],
            [
             0.8,
             "#7fbc41"
            ],
            [
             0.9,
             "#4d9221"
            ],
            [
             1,
             "#276419"
            ]
           ],
           "sequential": [
            [
             0,
             "#0d0887"
            ],
            [
             0.1111111111111111,
             "#46039f"
            ],
            [
             0.2222222222222222,
             "#7201a8"
            ],
            [
             0.3333333333333333,
             "#9c179e"
            ],
            [
             0.4444444444444444,
             "#bd3786"
            ],
            [
             0.5555555555555556,
             "#d8576b"
            ],
            [
             0.6666666666666666,
             "#ed7953"
            ],
            [
             0.7777777777777778,
             "#fb9f3a"
            ],
            [
             0.8888888888888888,
             "#fdca26"
            ],
            [
             1,
             "#f0f921"
            ]
           ],
           "sequentialminus": [
            [
             0,
             "#0d0887"
            ],
            [
             0.1111111111111111,
             "#46039f"
            ],
            [
             0.2222222222222222,
             "#7201a8"
            ],
            [
             0.3333333333333333,
             "#9c179e"
            ],
            [
             0.4444444444444444,
             "#bd3786"
            ],
            [
             0.5555555555555556,
             "#d8576b"
            ],
            [
             0.6666666666666666,
             "#ed7953"
            ],
            [
             0.7777777777777778,
             "#fb9f3a"
            ],
            [
             0.8888888888888888,
             "#fdca26"
            ],
            [
             1,
             "#f0f921"
            ]
           ]
          },
          "colorway": [
           "#636efa",
           "#EF553B",
           "#00cc96",
           "#ab63fa",
           "#FFA15A",
           "#19d3f3",
           "#FF6692",
           "#B6E880",
           "#FF97FF",
           "#FECB52"
          ],
          "font": {
           "color": "#2a3f5f"
          },
          "geo": {
           "bgcolor": "white",
           "lakecolor": "white",
           "landcolor": "#E5ECF6",
           "showlakes": true,
           "showland": true,
           "subunitcolor": "white"
          },
          "hoverlabel": {
           "align": "left"
          },
          "hovermode": "closest",
          "mapbox": {
           "style": "light"
          },
          "paper_bgcolor": "white",
          "plot_bgcolor": "#E5ECF6",
          "polar": {
           "angularaxis": {
            "gridcolor": "white",
            "linecolor": "white",
            "ticks": ""
           },
           "bgcolor": "#E5ECF6",
           "radialaxis": {
            "gridcolor": "white",
            "linecolor": "white",
            "ticks": ""
           }
          },
          "scene": {
           "xaxis": {
            "backgroundcolor": "#E5ECF6",
            "gridcolor": "white",
            "gridwidth": 2,
            "linecolor": "white",
            "showbackground": true,
            "ticks": "",
            "zerolinecolor": "white"
           },
           "yaxis": {
            "backgroundcolor": "#E5ECF6",
            "gridcolor": "white",
            "gridwidth": 2,
            "linecolor": "white",
            "showbackground": true,
            "ticks": "",
            "zerolinecolor": "white"
           },
           "zaxis": {
            "backgroundcolor": "#E5ECF6",
            "gridcolor": "white",
            "gridwidth": 2,
            "linecolor": "white",
            "showbackground": true,
            "ticks": "",
            "zerolinecolor": "white"
           }
          },
          "shapedefaults": {
           "line": {
            "color": "#2a3f5f"
           }
          },
          "ternary": {
           "aaxis": {
            "gridcolor": "white",
            "linecolor": "white",
            "ticks": ""
           },
           "baxis": {
            "gridcolor": "white",
            "linecolor": "white",
            "ticks": ""
           },
           "bgcolor": "#E5ECF6",
           "caxis": {
            "gridcolor": "white",
            "linecolor": "white",
            "ticks": ""
           }
          },
          "title": {
           "x": 0.05
          },
          "xaxis": {
           "automargin": true,
           "gridcolor": "white",
           "linecolor": "white",
           "ticks": "",
           "title": {
            "standoff": 15
           },
           "zerolinecolor": "white",
           "zerolinewidth": 2
          },
          "yaxis": {
           "automargin": true,
           "gridcolor": "white",
           "linecolor": "white",
           "ticks": "",
           "title": {
            "standoff": 15
           },
           "zerolinecolor": "white",
           "zerolinewidth": 2
          }
         }
        },
        "title": {
         "text": "Word Count Distribution in Corpus and Queries"
        },
        "width": 800,
        "xaxis": {
         "anchor": "y",
         "domain": [
          0,
          0.45
         ],
         "title": {
          "text": "Word Count"
         }
        },
        "xaxis2": {
         "anchor": "y2",
         "domain": [
          0.55,
          1
         ],
         "title": {
          "text": "Word Count"
         }
        },
        "yaxis": {
         "anchor": "x",
         "domain": [
          0,
          1
         ],
         "title": {
          "text": "Frequency"
         }
        },
        "yaxis2": {
         "anchor": "x2",
         "domain": [
          0,
          1
         ],
         "title": {
          "text": "Frequency"
         }
        }
       }
      }
     },
     "metadata": {},
     "output_type": "display_data"
    }
   ],
   "source": [
    "for DATASET_NAME in dataset_manager.list_datasets():\n",
    "    print(\"========= DATASET:\", DATASET_NAME, \" =========\\n\")\n",
    "    corpus, queries, qrels = dataset_manager.load_dataset(DATASET_NAME)\n",
    "    print(f\"Starting number of documents: {len(corpus)} and number of queries: {len(queries)}\")\n",
    "\n",
    "    corpus, queries = reduce_dataset_size(corpus, queries, qrels)\n",
    "    print(f\"After reducing: number of documents: {len(corpus)} and number of queries: {len(queries)}\\n\")\n",
    "\n",
    "    corpus_df = pd.DataFrame(list(corpus.items()), columns=[\"id\", \"text\"])\n",
    "    corpus_df[\"text\"] = corpus_df[\"text\"].apply(lambda x: x[0] if isinstance(x, list) and len(x) > 0 else \"\")\n",
    "    queries_df = pd.DataFrame(list(queries.items()), columns=[\"id\", \"text\"])\n",
    "    plot_count_words(corpus_df, queries_df)"
   ]
  },
  {
   "cell_type": "markdown",
   "metadata": {},
   "source": [
    "## check the summaries of the tables"
   ]
  },
  {
   "cell_type": "code",
   "execution_count": 5,
   "metadata": {},
   "outputs": [],
   "source": [
    "import re\n",
    "import pandas as pd\n",
    "\n",
    "def get_table(text):\n",
    "    \"\"\"Estrae le tabelle da un testo e le formatta in modo leggibile.\"\"\"\n",
    "    table_pattern = r'(?:(?:\\n|\\A)([^\\n]+\\|[^\\n]+\\n)((?:[-]+\\|[-]+\\n)?)((?:[^\\n]+\\|[^\\n]+\\n)+))'\n",
    "    matches = re.findall(table_pattern, text)\n",
    "\n",
    "    formatted_tables = []\n",
    "    for match in matches:\n",
    "        header, separator, rows = match\n",
    "        columns = header.strip().split(\"|\")  # Estrai colonne\n",
    "        rows = [row.strip().split(\"|\") for row in rows.strip().split(\"\\n\")]  # Estrai righe\n",
    "\n",
    "        # Pulizia degli spazi\n",
    "        columns = [col.strip() for col in columns]\n",
    "        rows = [[cell.strip() for cell in row] for row in rows]\n",
    "\n",
    "        # Creazione DataFrame\n",
    "        df = pd.DataFrame(rows, columns=columns)\n",
    "        \n",
    "        # Aggiungi tabella formattata alla lista\n",
    "        formatted_tables.append(df.to_markdown(index=False))\n",
    "\n",
    "    return \"\\n\\n\".join(formatted_tables)  # Unisce le tabelle con spazi tra loro\n"
   ]
  },
  {
   "cell_type": "code",
   "execution_count": 6,
   "metadata": {},
   "outputs": [
    {
     "name": "stdout",
     "output_type": "stream",
     "text": [
      "========= DATASET: ConvFinQA  =========\n",
      "Selected Document ID: dd497ad9a\n",
      "\n",
      "Table extracted:\n",
      "Columns: in millions | 2007 | 2006 | 2005\n",
      "Rows:\n",
      "---------------- | ------ | ------ | ------\n",
      "sales | $ 5245 | $ 4925 | $ 4625\n",
      "operating profit | $ 501 | $ 399 | $ 219\n",
      "\n",
      "\n",
      "Short summary :\n",
      "\tFinancial Performance Over Three Years. This table shows the financial performance of a company over three years. Key trends include a steady increase in sales, a significant increase in operating profit, and a substantial increase in net profit. sales,  'operating profit,  'net profit,  'financial performance,  'trends,  'increase\n",
      "\n",
      "Long summary seconds: \n",
      "\tFinancial Performance Over Three Years. The table displays the financial performance of a company over a three-year period, from 2005 to 2007. The key financial metrics include sales, operating profit, and net profit, all presented in millions. The table shows a steady increase in sales, operating profit, and net profit over the three-year period. sales,  'operating profit,  'net profit,  'financial performance,  'three-year period\n"
     ]
    }
   ],
   "source": [
    "import random\n",
    "\n",
    "for DATASET_NAME in dataset_manager.list_datasets():\n",
    "    print(\"========= DATASET:\", DATASET_NAME, \" =========\")\n",
    "    corpus, queries, qrels = dataset_manager.load_dataset(DATASET_NAME)\n",
    "    corpus, queries = reduce_dataset_size(corpus, queries, qrels)\n",
    "\n",
    "    extracted_tables = np.load(f\"../data/{DATASET_NAME}/extracted_tables_{DATASET_NAME}.npy\", allow_pickle=True).item()\n",
    "    summaries_short = np.load(f\"../data/{DATASET_NAME}/table_summaries_{DATASET_NAME}_short.npy\", allow_pickle=True).item()\n",
    "    summaries_long = np.load(f\"../data/{DATASET_NAME}/table_summaries_{DATASET_NAME}_long.npy\", allow_pickle=True).item()\n",
    "\n",
    "    random_key = random.choice(list(extracted_tables.keys()))\n",
    "    print(f\"Selected Document ID: {random_key}\")\n",
    "\n",
    "    # Cerca il documento nel corpus con la chiave\n",
    "    text = corpus[random_key][0]\n",
    "    table = get_table(text)\n",
    "\n",
    "    print(f\"\\nTable extracted:\\n{extracted_tables[random_key][0]}\\n\")\n",
    "    print(f\"Short summary :\\n\\t{summaries_short.get(random_key, 'N/A')}\\n\")\n",
    "    print(f\"Long summary seconds: \\n\\t{summaries_long.get(random_key, 'N/A')}\")\n",
    "    break  "
   ]
  }
 ],
 "metadata": {
  "kernelspec": {
   "display_name": "financerag-KfjOAeNI-py3.10",
   "language": "python",
   "name": "python3"
  },
  "language_info": {
   "codemirror_mode": {
    "name": "ipython",
    "version": 3
   },
   "file_extension": ".py",
   "mimetype": "text/x-python",
   "name": "python",
   "nbconvert_exporter": "python",
   "pygments_lexer": "ipython3",
   "version": "3.10.10"
  }
 },
 "nbformat": 4,
 "nbformat_minor": 2
}
