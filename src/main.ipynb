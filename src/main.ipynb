{
 "cells": [
  {
   "cell_type": "markdown",
   "metadata": {},
   "source": [
    "# Project Work in NLP\n",
    "\n",
    "Alessio Conti alessio.conti3@studio.unibo.it\n",
    "\n",
    "Alice Turrini alice.turrini@studio.unibo.it"
   ]
  },
  {
   "cell_type": "code",
   "execution_count": 41,
   "metadata": {},
   "outputs": [
    {
     "name": "stdout",
     "output_type": "stream",
     "text": [
      "The autoreload extension is already loaded. To reload it, use:\n",
      "  %reload_ext autoreload\n"
     ]
    }
   ],
   "source": [
    "%load_ext autoreload\n",
    "%autoreload 2\n",
    "import pandas as pd\n",
    "import numpy as np\n",
    "from transformers import AutoTokenizer, AutoModel\n",
    "from sentence_transformers import SentenceTransformer\n",
    "import torch\n",
    "from lib.dataset import *   \n",
    "from lib.data_handler import *\n",
    "from lib.embeddings import *\n",
    "from lib.vector_store import *\n",
    "from lib.RAG_pipeline import *\n",
    "from lib.utils import *"
   ]
  },
  {
   "cell_type": "markdown",
   "metadata": {},
   "source": [
    "## Load the dataset"
   ]
  },
  {
   "cell_type": "code",
   "execution_count": 2,
   "metadata": {},
   "outputs": [
    {
     "name": "stdout",
     "output_type": "stream",
     "text": [
      "Available datasets: ['ConvFinQA', 'FinQA', 'MultiHeritt', 'TATQA']\n"
     ]
    }
   ],
   "source": [
    "dataset_manager = FinanceRAGDataset(\"../data\")\n",
    "# List available datasets\n",
    "print(\"Available datasets:\", dataset_manager.list_datasets())\n",
    "\n",
    "# Load corpus and queries from a specific dataset\n",
    "# DATASET_NAME = \"ConvFinQA\"\n",
    "# corpus, queries, qrels = dataset_manager.load_dataset(DATASET_NAME)"
   ]
  },
  {
   "cell_type": "markdown",
   "metadata": {},
   "source": [
    "#### Dataset exploration"
   ]
  },
  {
   "cell_type": "markdown",
   "metadata": {},
   "source": [
    "Check words in the datasets"
   ]
  },
  {
   "cell_type": "code",
   "execution_count": 3,
   "metadata": {},
   "outputs": [
    {
     "name": "stdout",
     "output_type": "stream",
     "text": [
      "========= DATASET: ConvFinQA  =========\n",
      "\n",
      "Starting number of documents: 2066 and number of queries: 421\n",
      "After reducing: number of documents: 101 and number of queries: 126\n",
      "\n",
      "Max word count: 1586\n",
      "Average word count: 685.39\n",
      "Max word count in queries: 35\n",
      "Average word count in queries: 13.89\n"
     ]
    },
    {
     "data": {
      "application/vnd.plotly.v1+json": {
       "config": {
        "plotlyServerURL": "https://plot.ly"
       },
       "data": [
        {
         "marker": {
          "color": "blue"
         },
         "name": "Corpus Word Count",
         "nbinsx": 50,
         "type": "histogram",
         "x": {
          "bdata": "0wRtAsgDAwOGAwgCggN4AngD/QKXAgYBVgHEBfsC5QGFBFYDiwMpA7wA3AK5AjIG+QO0AUYDAwQlA4EDUQI3A7ICwwJbA9EBgQLTA0QBqwHZArgDBAPlA8UCxALyAmECcQEKBecD9gKTA+MB6AB/AwYDYQIIAvwDOgGJAukBDwIpAXUC4QN8AfMANgISA10BuwIyAUQDlwBbAaEChgItAQMDagF3ApcBawI0AbcCBgF1ASgEKwOFAjQBnAHtAtoCRAP6AywCqwMkAw==",
          "dtype": "i2"
         },
         "xaxis": "x",
         "yaxis": "y"
        },
        {
         "marker": {
          "color": "green"
         },
         "name": "Queries Word Count",
         "nbinsx": 50,
         "type": "histogram",
         "x": {
          "bdata": "CggMCgwIDg4KDwkRCwoLDRAJDAwPGRkQCRILCBILDQ0NEAYIDxAKDAsTHhcFDAgYDA4OCw4JBggNEBAKCxYJERAJEg0HDxoLDw4KDCAPBwcOEA8PFBAOGRAQDxEPChEMDA4PDA4FFBQKEBAODA0UCgwMBhISCAcQEQ4RIxAG",
          "dtype": "i1"
         },
         "xaxis": "x2",
         "yaxis": "y2"
        }
       ],
       "layout": {
        "annotations": [
         {
          "font": {
           "size": 16
          },
          "showarrow": false,
          "text": "Corpus Word Count Distribution",
          "x": 0.225,
          "xanchor": "center",
          "xref": "paper",
          "y": 1,
          "yanchor": "bottom",
          "yref": "paper"
         },
         {
          "font": {
           "size": 16
          },
          "showarrow": false,
          "text": "Queries Word Count Distribution",
          "x": 0.775,
          "xanchor": "center",
          "xref": "paper",
          "y": 1,
          "yanchor": "bottom",
          "yref": "paper"
         }
        ],
        "height": 400,
        "showlegend": false,
        "template": {
         "data": {
          "bar": [
           {
            "error_x": {
             "color": "#2a3f5f"
            },
            "error_y": {
             "color": "#2a3f5f"
            },
            "marker": {
             "line": {
              "color": "#E5ECF6",
              "width": 0.5
             },
             "pattern": {
              "fillmode": "overlay",
              "size": 10,
              "solidity": 0.2
             }
            },
            "type": "bar"
           }
          ],
          "barpolar": [
           {
            "marker": {
             "line": {
              "color": "#E5ECF6",
              "width": 0.5
             },
             "pattern": {
              "fillmode": "overlay",
              "size": 10,
              "solidity": 0.2
             }
            },
            "type": "barpolar"
           }
          ],
          "carpet": [
           {
            "aaxis": {
             "endlinecolor": "#2a3f5f",
             "gridcolor": "white",
             "linecolor": "white",
             "minorgridcolor": "white",
             "startlinecolor": "#2a3f5f"
            },
            "baxis": {
             "endlinecolor": "#2a3f5f",
             "gridcolor": "white",
             "linecolor": "white",
             "minorgridcolor": "white",
             "startlinecolor": "#2a3f5f"
            },
            "type": "carpet"
           }
          ],
          "choropleth": [
           {
            "colorbar": {
             "outlinewidth": 0,
             "ticks": ""
            },
            "type": "choropleth"
           }
          ],
          "contour": [
           {
            "colorbar": {
             "outlinewidth": 0,
             "ticks": ""
            },
            "colorscale": [
             [
              0,
              "#0d0887"
             ],
             [
              0.1111111111111111,
              "#46039f"
             ],
             [
              0.2222222222222222,
              "#7201a8"
             ],
             [
              0.3333333333333333,
              "#9c179e"
             ],
             [
              0.4444444444444444,
              "#bd3786"
             ],
             [
              0.5555555555555556,
              "#d8576b"
             ],
             [
              0.6666666666666666,
              "#ed7953"
             ],
             [
              0.7777777777777778,
              "#fb9f3a"
             ],
             [
              0.8888888888888888,
              "#fdca26"
             ],
             [
              1,
              "#f0f921"
             ]
            ],
            "type": "contour"
           }
          ],
          "contourcarpet": [
           {
            "colorbar": {
             "outlinewidth": 0,
             "ticks": ""
            },
            "type": "contourcarpet"
           }
          ],
          "heatmap": [
           {
            "colorbar": {
             "outlinewidth": 0,
             "ticks": ""
            },
            "colorscale": [
             [
              0,
              "#0d0887"
             ],
             [
              0.1111111111111111,
              "#46039f"
             ],
             [
              0.2222222222222222,
              "#7201a8"
             ],
             [
              0.3333333333333333,
              "#9c179e"
             ],
             [
              0.4444444444444444,
              "#bd3786"
             ],
             [
              0.5555555555555556,
              "#d8576b"
             ],
             [
              0.6666666666666666,
              "#ed7953"
             ],
             [
              0.7777777777777778,
              "#fb9f3a"
             ],
             [
              0.8888888888888888,
              "#fdca26"
             ],
             [
              1,
              "#f0f921"
             ]
            ],
            "type": "heatmap"
           }
          ],
          "histogram": [
           {
            "marker": {
             "pattern": {
              "fillmode": "overlay",
              "size": 10,
              "solidity": 0.2
             }
            },
            "type": "histogram"
           }
          ],
          "histogram2d": [
           {
            "colorbar": {
             "outlinewidth": 0,
             "ticks": ""
            },
            "colorscale": [
             [
              0,
              "#0d0887"
             ],
             [
              0.1111111111111111,
              "#46039f"
             ],
             [
              0.2222222222222222,
              "#7201a8"
             ],
             [
              0.3333333333333333,
              "#9c179e"
             ],
             [
              0.4444444444444444,
              "#bd3786"
             ],
             [
              0.5555555555555556,
              "#d8576b"
             ],
             [
              0.6666666666666666,
              "#ed7953"
             ],
             [
              0.7777777777777778,
              "#fb9f3a"
             ],
             [
              0.8888888888888888,
              "#fdca26"
             ],
             [
              1,
              "#f0f921"
             ]
            ],
            "type": "histogram2d"
           }
          ],
          "histogram2dcontour": [
           {
            "colorbar": {
             "outlinewidth": 0,
             "ticks": ""
            },
            "colorscale": [
             [
              0,
              "#0d0887"
             ],
             [
              0.1111111111111111,
              "#46039f"
             ],
             [
              0.2222222222222222,
              "#7201a8"
             ],
             [
              0.3333333333333333,
              "#9c179e"
             ],
             [
              0.4444444444444444,
              "#bd3786"
             ],
             [
              0.5555555555555556,
              "#d8576b"
             ],
             [
              0.6666666666666666,
              "#ed7953"
             ],
             [
              0.7777777777777778,
              "#fb9f3a"
             ],
             [
              0.8888888888888888,
              "#fdca26"
             ],
             [
              1,
              "#f0f921"
             ]
            ],
            "type": "histogram2dcontour"
           }
          ],
          "mesh3d": [
           {
            "colorbar": {
             "outlinewidth": 0,
             "ticks": ""
            },
            "type": "mesh3d"
           }
          ],
          "parcoords": [
           {
            "line": {
             "colorbar": {
              "outlinewidth": 0,
              "ticks": ""
             }
            },
            "type": "parcoords"
           }
          ],
          "pie": [
           {
            "automargin": true,
            "type": "pie"
           }
          ],
          "scatter": [
           {
            "fillpattern": {
             "fillmode": "overlay",
             "size": 10,
             "solidity": 0.2
            },
            "type": "scatter"
           }
          ],
          "scatter3d": [
           {
            "line": {
             "colorbar": {
              "outlinewidth": 0,
              "ticks": ""
             }
            },
            "marker": {
             "colorbar": {
              "outlinewidth": 0,
              "ticks": ""
             }
            },
            "type": "scatter3d"
           }
          ],
          "scattercarpet": [
           {
            "marker": {
             "colorbar": {
              "outlinewidth": 0,
              "ticks": ""
             }
            },
            "type": "scattercarpet"
           }
          ],
          "scattergeo": [
           {
            "marker": {
             "colorbar": {
              "outlinewidth": 0,
              "ticks": ""
             }
            },
            "type": "scattergeo"
           }
          ],
          "scattergl": [
           {
            "marker": {
             "colorbar": {
              "outlinewidth": 0,
              "ticks": ""
             }
            },
            "type": "scattergl"
           }
          ],
          "scattermap": [
           {
            "marker": {
             "colorbar": {
              "outlinewidth": 0,
              "ticks": ""
             }
            },
            "type": "scattermap"
           }
          ],
          "scattermapbox": [
           {
            "marker": {
             "colorbar": {
              "outlinewidth": 0,
              "ticks": ""
             }
            },
            "type": "scattermapbox"
           }
          ],
          "scatterpolar": [
           {
            "marker": {
             "colorbar": {
              "outlinewidth": 0,
              "ticks": ""
             }
            },
            "type": "scatterpolar"
           }
          ],
          "scatterpolargl": [
           {
            "marker": {
             "colorbar": {
              "outlinewidth": 0,
              "ticks": ""
             }
            },
            "type": "scatterpolargl"
           }
          ],
          "scatterternary": [
           {
            "marker": {
             "colorbar": {
              "outlinewidth": 0,
              "ticks": ""
             }
            },
            "type": "scatterternary"
           }
          ],
          "surface": [
           {
            "colorbar": {
             "outlinewidth": 0,
             "ticks": ""
            },
            "colorscale": [
             [
              0,
              "#0d0887"
             ],
             [
              0.1111111111111111,
              "#46039f"
             ],
             [
              0.2222222222222222,
              "#7201a8"
             ],
             [
              0.3333333333333333,
              "#9c179e"
             ],
             [
              0.4444444444444444,
              "#bd3786"
             ],
             [
              0.5555555555555556,
              "#d8576b"
             ],
             [
              0.6666666666666666,
              "#ed7953"
             ],
             [
              0.7777777777777778,
              "#fb9f3a"
             ],
             [
              0.8888888888888888,
              "#fdca26"
             ],
             [
              1,
              "#f0f921"
             ]
            ],
            "type": "surface"
           }
          ],
          "table": [
           {
            "cells": {
             "fill": {
              "color": "#EBF0F8"
             },
             "line": {
              "color": "white"
             }
            },
            "header": {
             "fill": {
              "color": "#C8D4E3"
             },
             "line": {
              "color": "white"
             }
            },
            "type": "table"
           }
          ]
         },
         "layout": {
          "annotationdefaults": {
           "arrowcolor": "#2a3f5f",
           "arrowhead": 0,
           "arrowwidth": 1
          },
          "autotypenumbers": "strict",
          "coloraxis": {
           "colorbar": {
            "outlinewidth": 0,
            "ticks": ""
           }
          },
          "colorscale": {
           "diverging": [
            [
             0,
             "#8e0152"
            ],
            [
             0.1,
             "#c51b7d"
            ],
            [
             0.2,
             "#de77ae"
            ],
            [
             0.3,
             "#f1b6da"
            ],
            [
             0.4,
             "#fde0ef"
            ],
            [
             0.5,
             "#f7f7f7"
            ],
            [
             0.6,
             "#e6f5d0"
            ],
            [
             0.7,
             "#b8e186"
            ],
            [
             0.8,
             "#7fbc41"
            ],
            [
             0.9,
             "#4d9221"
            ],
            [
             1,
             "#276419"
            ]
           ],
           "sequential": [
            [
             0,
             "#0d0887"
            ],
            [
             0.1111111111111111,
             "#46039f"
            ],
            [
             0.2222222222222222,
             "#7201a8"
            ],
            [
             0.3333333333333333,
             "#9c179e"
            ],
            [
             0.4444444444444444,
             "#bd3786"
            ],
            [
             0.5555555555555556,
             "#d8576b"
            ],
            [
             0.6666666666666666,
             "#ed7953"
            ],
            [
             0.7777777777777778,
             "#fb9f3a"
            ],
            [
             0.8888888888888888,
             "#fdca26"
            ],
            [
             1,
             "#f0f921"
            ]
           ],
           "sequentialminus": [
            [
             0,
             "#0d0887"
            ],
            [
             0.1111111111111111,
             "#46039f"
            ],
            [
             0.2222222222222222,
             "#7201a8"
            ],
            [
             0.3333333333333333,
             "#9c179e"
            ],
            [
             0.4444444444444444,
             "#bd3786"
            ],
            [
             0.5555555555555556,
             "#d8576b"
            ],
            [
             0.6666666666666666,
             "#ed7953"
            ],
            [
             0.7777777777777778,
             "#fb9f3a"
            ],
            [
             0.8888888888888888,
             "#fdca26"
            ],
            [
             1,
             "#f0f921"
            ]
           ]
          },
          "colorway": [
           "#636efa",
           "#EF553B",
           "#00cc96",
           "#ab63fa",
           "#FFA15A",
           "#19d3f3",
           "#FF6692",
           "#B6E880",
           "#FF97FF",
           "#FECB52"
          ],
          "font": {
           "color": "#2a3f5f"
          },
          "geo": {
           "bgcolor": "white",
           "lakecolor": "white",
           "landcolor": "#E5ECF6",
           "showlakes": true,
           "showland": true,
           "subunitcolor": "white"
          },
          "hoverlabel": {
           "align": "left"
          },
          "hovermode": "closest",
          "mapbox": {
           "style": "light"
          },
          "paper_bgcolor": "white",
          "plot_bgcolor": "#E5ECF6",
          "polar": {
           "angularaxis": {
            "gridcolor": "white",
            "linecolor": "white",
            "ticks": ""
           },
           "bgcolor": "#E5ECF6",
           "radialaxis": {
            "gridcolor": "white",
            "linecolor": "white",
            "ticks": ""
           }
          },
          "scene": {
           "xaxis": {
            "backgroundcolor": "#E5ECF6",
            "gridcolor": "white",
            "gridwidth": 2,
            "linecolor": "white",
            "showbackground": true,
            "ticks": "",
            "zerolinecolor": "white"
           },
           "yaxis": {
            "backgroundcolor": "#E5ECF6",
            "gridcolor": "white",
            "gridwidth": 2,
            "linecolor": "white",
            "showbackground": true,
            "ticks": "",
            "zerolinecolor": "white"
           },
           "zaxis": {
            "backgroundcolor": "#E5ECF6",
            "gridcolor": "white",
            "gridwidth": 2,
            "linecolor": "white",
            "showbackground": true,
            "ticks": "",
            "zerolinecolor": "white"
           }
          },
          "shapedefaults": {
           "line": {
            "color": "#2a3f5f"
           }
          },
          "ternary": {
           "aaxis": {
            "gridcolor": "white",
            "linecolor": "white",
            "ticks": ""
           },
           "baxis": {
            "gridcolor": "white",
            "linecolor": "white",
            "ticks": ""
           },
           "bgcolor": "#E5ECF6",
           "caxis": {
            "gridcolor": "white",
            "linecolor": "white",
            "ticks": ""
           }
          },
          "title": {
           "x": 0.05
          },
          "xaxis": {
           "automargin": true,
           "gridcolor": "white",
           "linecolor": "white",
           "ticks": "",
           "title": {
            "standoff": 15
           },
           "zerolinecolor": "white",
           "zerolinewidth": 2
          },
          "yaxis": {
           "automargin": true,
           "gridcolor": "white",
           "linecolor": "white",
           "ticks": "",
           "title": {
            "standoff": 15
           },
           "zerolinecolor": "white",
           "zerolinewidth": 2
          }
         }
        },
        "title": {
         "text": "Word Count Distribution in Corpus and Queries"
        },
        "width": 800,
        "xaxis": {
         "anchor": "y",
         "domain": [
          0,
          0.45
         ],
         "title": {
          "text": "Word Count"
         }
        },
        "xaxis2": {
         "anchor": "y2",
         "domain": [
          0.55,
          1
         ],
         "title": {
          "text": "Word Count"
         }
        },
        "yaxis": {
         "anchor": "x",
         "domain": [
          0,
          1
         ],
         "title": {
          "text": "Frequency"
         }
        },
        "yaxis2": {
         "anchor": "x2",
         "domain": [
          0,
          1
         ],
         "title": {
          "text": "Frequency"
         }
        }
       }
      }
     },
     "metadata": {},
     "output_type": "display_data"
    },
    {
     "name": "stdout",
     "output_type": "stream",
     "text": [
      "========= DATASET: FinQA  =========\n",
      "\n",
      "Starting number of documents: 2789 and number of queries: 1147\n",
      "After reducing: number of documents: 247 and number of queries: 344\n",
      "\n",
      "Max word count: 1661\n",
      "Average word count: 685.09\n",
      "Max word count in queries: 43\n",
      "Average word count in queries: 16.71\n"
     ]
    },
    {
     "data": {
      "application/vnd.plotly.v1+json": {
       "config": {
        "plotlyServerURL": "https://plot.ly"
       },
       "data": [
        {
         "marker": {
          "color": "blue"
         },
         "name": "Corpus Word Count",
         "nbinsx": 50,
         "type": "histogram",
         "x": {
          "bdata": "WQAUA4IB+AORAKUCnQIUAwgCDQPFAgoESgKTAxMBSgShARoC6AL3AkoDfwN5AgUBDQNeAocBTQFwA5AD0QEcA/EDrASwA0UCjQIsAp8E3QLqAf8BRwIvAX8DBwKxAUcDagLDAkYD+wN5AzUC8wKYBKwCswPAAqECzwFGBKUCJALfAqgB7QJNAnME7AJHAnkC7QIwAT4D/wMvAlIC7QKjApACEwKKAgcEnQNNAvEC6gE4A9sDqgJHAikDWAOaARQDAQO7AmQCZgT3AncDHgKdAd0BNAGIBHkDewIhAoUBmANnAxkCAQJ8AvED8gICBIsCvwJiAX8ClwM1AisD8gMBA4cDdAXLAfkBcAGTAoADIgKJAiUD7AI8AqIChwLQAm4CogI+A6kB3ABmAscACQF5AiUDFARLAsMBKwNhAKcCbgPTAiwCzgLVA0wDngJ9Bl4EowPiA9gCvQI5A4kC3QIeBDADOwNnBH4CvwIFAmYCYAPVA0gC+wFZA+MCLANoA/UCbALpAXwA4gFfA/ICSwMhAaADFALwAgwCLgEcAaAD/QG4ApgDOwNAA5UCRQMXA8oBxwBRAfQAKgJ6ApUBAwKYAsgDlwMAAiUBZAL2AtMBhgKEAp8DTQHlAvkAOANbAG8BBwN+AisC/wFjArQC7AI=",
          "dtype": "i2"
         },
         "xaxis": "x",
         "yaxis": "y"
        },
        {
         "marker": {
          "color": "green"
         },
         "name": "Queries Word Count",
         "nbinsx": 50,
         "type": "histogram",
         "x": {
          "bdata": "DQkSDBYVDwsgCRodEQsSGhEUFAsQEhAaGg8LDgwQGAwfERseGRMPFRkZDREOEQwPCisRDRAQERIJJg8JERYRFhgQEBEOERINEQ0QDBIJDwsYFAwNFRAKCg4PChIXDhAWDxAJDhgSDw0jBg4WECASDhUmDREODw8NDBQSEQwTEQ0ODA8UDQofEAoQDhEUCxEQERETGhQPDw4PEA4XER4LDgwQEQwRCA8WDh4NKQ8RFA4QDAwTCgoUDA0ODxYPCRIVDwoTEwwKHRsLFxEZEA4KDRQUDBEPGhEOGBEMEAwGDxMPDRIJDw4aEw0MDQwWFhEODBkbDhoVEg4TEhIMEAoTDQwRCxwPEgwPFgkMDxUUEBQJDw0OFRANDQkPFA8ODQsiCQ8UDhYPDg0cEBQUEhgOEw0KCw0YEQ4VFw4RDgsKDQ8UFA8MDBITDg0OERMNCwoRERYNCggODgo=",
          "dtype": "i1"
         },
         "xaxis": "x2",
         "yaxis": "y2"
        }
       ],
       "layout": {
        "annotations": [
         {
          "font": {
           "size": 16
          },
          "showarrow": false,
          "text": "Corpus Word Count Distribution",
          "x": 0.225,
          "xanchor": "center",
          "xref": "paper",
          "y": 1,
          "yanchor": "bottom",
          "yref": "paper"
         },
         {
          "font": {
           "size": 16
          },
          "showarrow": false,
          "text": "Queries Word Count Distribution",
          "x": 0.775,
          "xanchor": "center",
          "xref": "paper",
          "y": 1,
          "yanchor": "bottom",
          "yref": "paper"
         }
        ],
        "height": 400,
        "showlegend": false,
        "template": {
         "data": {
          "bar": [
           {
            "error_x": {
             "color": "#2a3f5f"
            },
            "error_y": {
             "color": "#2a3f5f"
            },
            "marker": {
             "line": {
              "color": "#E5ECF6",
              "width": 0.5
             },
             "pattern": {
              "fillmode": "overlay",
              "size": 10,
              "solidity": 0.2
             }
            },
            "type": "bar"
           }
          ],
          "barpolar": [
           {
            "marker": {
             "line": {
              "color": "#E5ECF6",
              "width": 0.5
             },
             "pattern": {
              "fillmode": "overlay",
              "size": 10,
              "solidity": 0.2
             }
            },
            "type": "barpolar"
           }
          ],
          "carpet": [
           {
            "aaxis": {
             "endlinecolor": "#2a3f5f",
             "gridcolor": "white",
             "linecolor": "white",
             "minorgridcolor": "white",
             "startlinecolor": "#2a3f5f"
            },
            "baxis": {
             "endlinecolor": "#2a3f5f",
             "gridcolor": "white",
             "linecolor": "white",
             "minorgridcolor": "white",
             "startlinecolor": "#2a3f5f"
            },
            "type": "carpet"
           }
          ],
          "choropleth": [
           {
            "colorbar": {
             "outlinewidth": 0,
             "ticks": ""
            },
            "type": "choropleth"
           }
          ],
          "contour": [
           {
            "colorbar": {
             "outlinewidth": 0,
             "ticks": ""
            },
            "colorscale": [
             [
              0,
              "#0d0887"
             ],
             [
              0.1111111111111111,
              "#46039f"
             ],
             [
              0.2222222222222222,
              "#7201a8"
             ],
             [
              0.3333333333333333,
              "#9c179e"
             ],
             [
              0.4444444444444444,
              "#bd3786"
             ],
             [
              0.5555555555555556,
              "#d8576b"
             ],
             [
              0.6666666666666666,
              "#ed7953"
             ],
             [
              0.7777777777777778,
              "#fb9f3a"
             ],
             [
              0.8888888888888888,
              "#fdca26"
             ],
             [
              1,
              "#f0f921"
             ]
            ],
            "type": "contour"
           }
          ],
          "contourcarpet": [
           {
            "colorbar": {
             "outlinewidth": 0,
             "ticks": ""
            },
            "type": "contourcarpet"
           }
          ],
          "heatmap": [
           {
            "colorbar": {
             "outlinewidth": 0,
             "ticks": ""
            },
            "colorscale": [
             [
              0,
              "#0d0887"
             ],
             [
              0.1111111111111111,
              "#46039f"
             ],
             [
              0.2222222222222222,
              "#7201a8"
             ],
             [
              0.3333333333333333,
              "#9c179e"
             ],
             [
              0.4444444444444444,
              "#bd3786"
             ],
             [
              0.5555555555555556,
              "#d8576b"
             ],
             [
              0.6666666666666666,
              "#ed7953"
             ],
             [
              0.7777777777777778,
              "#fb9f3a"
             ],
             [
              0.8888888888888888,
              "#fdca26"
             ],
             [
              1,
              "#f0f921"
             ]
            ],
            "type": "heatmap"
           }
          ],
          "histogram": [
           {
            "marker": {
             "pattern": {
              "fillmode": "overlay",
              "size": 10,
              "solidity": 0.2
             }
            },
            "type": "histogram"
           }
          ],
          "histogram2d": [
           {
            "colorbar": {
             "outlinewidth": 0,
             "ticks": ""
            },
            "colorscale": [
             [
              0,
              "#0d0887"
             ],
             [
              0.1111111111111111,
              "#46039f"
             ],
             [
              0.2222222222222222,
              "#7201a8"
             ],
             [
              0.3333333333333333,
              "#9c179e"
             ],
             [
              0.4444444444444444,
              "#bd3786"
             ],
             [
              0.5555555555555556,
              "#d8576b"
             ],
             [
              0.6666666666666666,
              "#ed7953"
             ],
             [
              0.7777777777777778,
              "#fb9f3a"
             ],
             [
              0.8888888888888888,
              "#fdca26"
             ],
             [
              1,
              "#f0f921"
             ]
            ],
            "type": "histogram2d"
           }
          ],
          "histogram2dcontour": [
           {
            "colorbar": {
             "outlinewidth": 0,
             "ticks": ""
            },
            "colorscale": [
             [
              0,
              "#0d0887"
             ],
             [
              0.1111111111111111,
              "#46039f"
             ],
             [
              0.2222222222222222,
              "#7201a8"
             ],
             [
              0.3333333333333333,
              "#9c179e"
             ],
             [
              0.4444444444444444,
              "#bd3786"
             ],
             [
              0.5555555555555556,
              "#d8576b"
             ],
             [
              0.6666666666666666,
              "#ed7953"
             ],
             [
              0.7777777777777778,
              "#fb9f3a"
             ],
             [
              0.8888888888888888,
              "#fdca26"
             ],
             [
              1,
              "#f0f921"
             ]
            ],
            "type": "histogram2dcontour"
           }
          ],
          "mesh3d": [
           {
            "colorbar": {
             "outlinewidth": 0,
             "ticks": ""
            },
            "type": "mesh3d"
           }
          ],
          "parcoords": [
           {
            "line": {
             "colorbar": {
              "outlinewidth": 0,
              "ticks": ""
             }
            },
            "type": "parcoords"
           }
          ],
          "pie": [
           {
            "automargin": true,
            "type": "pie"
           }
          ],
          "scatter": [
           {
            "fillpattern": {
             "fillmode": "overlay",
             "size": 10,
             "solidity": 0.2
            },
            "type": "scatter"
           }
          ],
          "scatter3d": [
           {
            "line": {
             "colorbar": {
              "outlinewidth": 0,
              "ticks": ""
             }
            },
            "marker": {
             "colorbar": {
              "outlinewidth": 0,
              "ticks": ""
             }
            },
            "type": "scatter3d"
           }
          ],
          "scattercarpet": [
           {
            "marker": {
             "colorbar": {
              "outlinewidth": 0,
              "ticks": ""
             }
            },
            "type": "scattercarpet"
           }
          ],
          "scattergeo": [
           {
            "marker": {
             "colorbar": {
              "outlinewidth": 0,
              "ticks": ""
             }
            },
            "type": "scattergeo"
           }
          ],
          "scattergl": [
           {
            "marker": {
             "colorbar": {
              "outlinewidth": 0,
              "ticks": ""
             }
            },
            "type": "scattergl"
           }
          ],
          "scattermap": [
           {
            "marker": {
             "colorbar": {
              "outlinewidth": 0,
              "ticks": ""
             }
            },
            "type": "scattermap"
           }
          ],
          "scattermapbox": [
           {
            "marker": {
             "colorbar": {
              "outlinewidth": 0,
              "ticks": ""
             }
            },
            "type": "scattermapbox"
           }
          ],
          "scatterpolar": [
           {
            "marker": {
             "colorbar": {
              "outlinewidth": 0,
              "ticks": ""
             }
            },
            "type": "scatterpolar"
           }
          ],
          "scatterpolargl": [
           {
            "marker": {
             "colorbar": {
              "outlinewidth": 0,
              "ticks": ""
             }
            },
            "type": "scatterpolargl"
           }
          ],
          "scatterternary": [
           {
            "marker": {
             "colorbar": {
              "outlinewidth": 0,
              "ticks": ""
             }
            },
            "type": "scatterternary"
           }
          ],
          "surface": [
           {
            "colorbar": {
             "outlinewidth": 0,
             "ticks": ""
            },
            "colorscale": [
             [
              0,
              "#0d0887"
             ],
             [
              0.1111111111111111,
              "#46039f"
             ],
             [
              0.2222222222222222,
              "#7201a8"
             ],
             [
              0.3333333333333333,
              "#9c179e"
             ],
             [
              0.4444444444444444,
              "#bd3786"
             ],
             [
              0.5555555555555556,
              "#d8576b"
             ],
             [
              0.6666666666666666,
              "#ed7953"
             ],
             [
              0.7777777777777778,
              "#fb9f3a"
             ],
             [
              0.8888888888888888,
              "#fdca26"
             ],
             [
              1,
              "#f0f921"
             ]
            ],
            "type": "surface"
           }
          ],
          "table": [
           {
            "cells": {
             "fill": {
              "color": "#EBF0F8"
             },
             "line": {
              "color": "white"
             }
            },
            "header": {
             "fill": {
              "color": "#C8D4E3"
             },
             "line": {
              "color": "white"
             }
            },
            "type": "table"
           }
          ]
         },
         "layout": {
          "annotationdefaults": {
           "arrowcolor": "#2a3f5f",
           "arrowhead": 0,
           "arrowwidth": 1
          },
          "autotypenumbers": "strict",
          "coloraxis": {
           "colorbar": {
            "outlinewidth": 0,
            "ticks": ""
           }
          },
          "colorscale": {
           "diverging": [
            [
             0,
             "#8e0152"
            ],
            [
             0.1,
             "#c51b7d"
            ],
            [
             0.2,
             "#de77ae"
            ],
            [
             0.3,
             "#f1b6da"
            ],
            [
             0.4,
             "#fde0ef"
            ],
            [
             0.5,
             "#f7f7f7"
            ],
            [
             0.6,
             "#e6f5d0"
            ],
            [
             0.7,
             "#b8e186"
            ],
            [
             0.8,
             "#7fbc41"
            ],
            [
             0.9,
             "#4d9221"
            ],
            [
             1,
             "#276419"
            ]
           ],
           "sequential": [
            [
             0,
             "#0d0887"
            ],
            [
             0.1111111111111111,
             "#46039f"
            ],
            [
             0.2222222222222222,
             "#7201a8"
            ],
            [
             0.3333333333333333,
             "#9c179e"
            ],
            [
             0.4444444444444444,
             "#bd3786"
            ],
            [
             0.5555555555555556,
             "#d8576b"
            ],
            [
             0.6666666666666666,
             "#ed7953"
            ],
            [
             0.7777777777777778,
             "#fb9f3a"
            ],
            [
             0.8888888888888888,
             "#fdca26"
            ],
            [
             1,
             "#f0f921"
            ]
           ],
           "sequentialminus": [
            [
             0,
             "#0d0887"
            ],
            [
             0.1111111111111111,
             "#46039f"
            ],
            [
             0.2222222222222222,
             "#7201a8"
            ],
            [
             0.3333333333333333,
             "#9c179e"
            ],
            [
             0.4444444444444444,
             "#bd3786"
            ],
            [
             0.5555555555555556,
             "#d8576b"
            ],
            [
             0.6666666666666666,
             "#ed7953"
            ],
            [
             0.7777777777777778,
             "#fb9f3a"
            ],
            [
             0.8888888888888888,
             "#fdca26"
            ],
            [
             1,
             "#f0f921"
            ]
           ]
          },
          "colorway": [
           "#636efa",
           "#EF553B",
           "#00cc96",
           "#ab63fa",
           "#FFA15A",
           "#19d3f3",
           "#FF6692",
           "#B6E880",
           "#FF97FF",
           "#FECB52"
          ],
          "font": {
           "color": "#2a3f5f"
          },
          "geo": {
           "bgcolor": "white",
           "lakecolor": "white",
           "landcolor": "#E5ECF6",
           "showlakes": true,
           "showland": true,
           "subunitcolor": "white"
          },
          "hoverlabel": {
           "align": "left"
          },
          "hovermode": "closest",
          "mapbox": {
           "style": "light"
          },
          "paper_bgcolor": "white",
          "plot_bgcolor": "#E5ECF6",
          "polar": {
           "angularaxis": {
            "gridcolor": "white",
            "linecolor": "white",
            "ticks": ""
           },
           "bgcolor": "#E5ECF6",
           "radialaxis": {
            "gridcolor": "white",
            "linecolor": "white",
            "ticks": ""
           }
          },
          "scene": {
           "xaxis": {
            "backgroundcolor": "#E5ECF6",
            "gridcolor": "white",
            "gridwidth": 2,
            "linecolor": "white",
            "showbackground": true,
            "ticks": "",
            "zerolinecolor": "white"
           },
           "yaxis": {
            "backgroundcolor": "#E5ECF6",
            "gridcolor": "white",
            "gridwidth": 2,
            "linecolor": "white",
            "showbackground": true,
            "ticks": "",
            "zerolinecolor": "white"
           },
           "zaxis": {
            "backgroundcolor": "#E5ECF6",
            "gridcolor": "white",
            "gridwidth": 2,
            "linecolor": "white",
            "showbackground": true,
            "ticks": "",
            "zerolinecolor": "white"
           }
          },
          "shapedefaults": {
           "line": {
            "color": "#2a3f5f"
           }
          },
          "ternary": {
           "aaxis": {
            "gridcolor": "white",
            "linecolor": "white",
            "ticks": ""
           },
           "baxis": {
            "gridcolor": "white",
            "linecolor": "white",
            "ticks": ""
           },
           "bgcolor": "#E5ECF6",
           "caxis": {
            "gridcolor": "white",
            "linecolor": "white",
            "ticks": ""
           }
          },
          "title": {
           "x": 0.05
          },
          "xaxis": {
           "automargin": true,
           "gridcolor": "white",
           "linecolor": "white",
           "ticks": "",
           "title": {
            "standoff": 15
           },
           "zerolinecolor": "white",
           "zerolinewidth": 2
          },
          "yaxis": {
           "automargin": true,
           "gridcolor": "white",
           "linecolor": "white",
           "ticks": "",
           "title": {
            "standoff": 15
           },
           "zerolinecolor": "white",
           "zerolinewidth": 2
          }
         }
        },
        "title": {
         "text": "Word Count Distribution in Corpus and Queries"
        },
        "width": 800,
        "xaxis": {
         "anchor": "y",
         "domain": [
          0,
          0.45
         ],
         "title": {
          "text": "Word Count"
         }
        },
        "xaxis2": {
         "anchor": "y2",
         "domain": [
          0.55,
          1
         ],
         "title": {
          "text": "Word Count"
         }
        },
        "yaxis": {
         "anchor": "x",
         "domain": [
          0,
          1
         ],
         "title": {
          "text": "Frequency"
         }
        },
        "yaxis2": {
         "anchor": "x2",
         "domain": [
          0,
          1
         ],
         "title": {
          "text": "Frequency"
         }
        }
       }
      }
     },
     "metadata": {},
     "output_type": "display_data"
    },
    {
     "name": "stdout",
     "output_type": "stream",
     "text": [
      "========= DATASET: MultiHeritt  =========\n",
      "\n",
      "Starting number of documents: 10475 and number of queries: 974\n",
      "After reducing: number of documents: 876 and number of queries: 292\n",
      "\n",
      "Max word count: 2654\n",
      "Average word count: 474.03\n",
      "Max word count in queries: 46\n",
      "Average word count in queries: 17.97\n"
     ]
    },
    {
     "data": {
      "application/vnd.plotly.v1+json": {
       "config": {
        "plotlyServerURL": "https://plot.ly"
       },
       "data": [
        {
         "marker": {
          "color": "blue"
         },
         "name": "Corpus Word Count",
         "nbinsx": 50,
         "type": "histogram",
         "x": {
          "bdata": "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",
          "dtype": "i2"
         },
         "xaxis": "x",
         "yaxis": "y"
        },
        {
         "marker": {
          "color": "green"
         },
         "name": "Queries Word Count",
         "nbinsx": 50,
         "type": "histogram",
         "x": {
          "bdata": "EhAMExANExQRFhcJGQwXFRYWCxgODRAWEg8RCgwUFxQXCxIaDxcRDhUQEBUKGRMMEhISFhUVERITChcPGBEKDxQREAwREQ4WDxgTChcPCgoVEAkdGBgPDw4VFQ0QDBQPExYZDh0TDg0bCxcMFAkVLhYZEhQWDRcSEh0SCx0OCg0KEgoVDQ4WGRAXCxUSDBUMEh0VEhYbFBIYFBkbDBATDg0QFA0RFxAdCQkYEBUaGREPFRIREhIRGxESEBYOFg0PDRMTDRwVCwsSEg4TEBUJFBYUHBcXGAwNFRAVEBcVChsOCQ8WFg8RGhsSEwwKDA4SFxkSEw0TCggQEA0LGhcRDQ4VEwkUFhQOFxIKFA0SEhMTEQ0SEhUWDxILExYUDBwJEhMPEA==",
          "dtype": "i1"
         },
         "xaxis": "x2",
         "yaxis": "y2"
        }
       ],
       "layout": {
        "annotations": [
         {
          "font": {
           "size": 16
          },
          "showarrow": false,
          "text": "Corpus Word Count Distribution",
          "x": 0.225,
          "xanchor": "center",
          "xref": "paper",
          "y": 1,
          "yanchor": "bottom",
          "yref": "paper"
         },
         {
          "font": {
           "size": 16
          },
          "showarrow": false,
          "text": "Queries Word Count Distribution",
          "x": 0.775,
          "xanchor": "center",
          "xref": "paper",
          "y": 1,
          "yanchor": "bottom",
          "yref": "paper"
         }
        ],
        "height": 400,
        "showlegend": false,
        "template": {
         "data": {
          "bar": [
           {
            "error_x": {
             "color": "#2a3f5f"
            },
            "error_y": {
             "color": "#2a3f5f"
            },
            "marker": {
             "line": {
              "color": "#E5ECF6",
              "width": 0.5
             },
             "pattern": {
              "fillmode": "overlay",
              "size": 10,
              "solidity": 0.2
             }
            },
            "type": "bar"
           }
          ],
          "barpolar": [
           {
            "marker": {
             "line": {
              "color": "#E5ECF6",
              "width": 0.5
             },
             "pattern": {
              "fillmode": "overlay",
              "size": 10,
              "solidity": 0.2
             }
            },
            "type": "barpolar"
           }
          ],
          "carpet": [
           {
            "aaxis": {
             "endlinecolor": "#2a3f5f",
             "gridcolor": "white",
             "linecolor": "white",
             "minorgridcolor": "white",
             "startlinecolor": "#2a3f5f"
            },
            "baxis": {
             "endlinecolor": "#2a3f5f",
             "gridcolor": "white",
             "linecolor": "white",
             "minorgridcolor": "white",
             "startlinecolor": "#2a3f5f"
            },
            "type": "carpet"
           }
          ],
          "choropleth": [
           {
            "colorbar": {
             "outlinewidth": 0,
             "ticks": ""
            },
            "type": "choropleth"
           }
          ],
          "contour": [
           {
            "colorbar": {
             "outlinewidth": 0,
             "ticks": ""
            },
            "colorscale": [
             [
              0,
              "#0d0887"
             ],
             [
              0.1111111111111111,
              "#46039f"
             ],
             [
              0.2222222222222222,
              "#7201a8"
             ],
             [
              0.3333333333333333,
              "#9c179e"
             ],
             [
              0.4444444444444444,
              "#bd3786"
             ],
             [
              0.5555555555555556,
              "#d8576b"
             ],
             [
              0.6666666666666666,
              "#ed7953"
             ],
             [
              0.7777777777777778,
              "#fb9f3a"
             ],
             [
              0.8888888888888888,
              "#fdca26"
             ],
             [
              1,
              "#f0f921"
             ]
            ],
            "type": "contour"
           }
          ],
          "contourcarpet": [
           {
            "colorbar": {
             "outlinewidth": 0,
             "ticks": ""
            },
            "type": "contourcarpet"
           }
          ],
          "heatmap": [
           {
            "colorbar": {
             "outlinewidth": 0,
             "ticks": ""
            },
            "colorscale": [
             [
              0,
              "#0d0887"
             ],
             [
              0.1111111111111111,
              "#46039f"
             ],
             [
              0.2222222222222222,
              "#7201a8"
             ],
             [
              0.3333333333333333,
              "#9c179e"
             ],
             [
              0.4444444444444444,
              "#bd3786"
             ],
             [
              0.5555555555555556,
              "#d8576b"
             ],
             [
              0.6666666666666666,
              "#ed7953"
             ],
             [
              0.7777777777777778,
              "#fb9f3a"
             ],
             [
              0.8888888888888888,
              "#fdca26"
             ],
             [
              1,
              "#f0f921"
             ]
            ],
            "type": "heatmap"
           }
          ],
          "histogram": [
           {
            "marker": {
             "pattern": {
              "fillmode": "overlay",
              "size": 10,
              "solidity": 0.2
             }
            },
            "type": "histogram"
           }
          ],
          "histogram2d": [
           {
            "colorbar": {
             "outlinewidth": 0,
             "ticks": ""
            },
            "colorscale": [
             [
              0,
              "#0d0887"
             ],
             [
              0.1111111111111111,
              "#46039f"
             ],
             [
              0.2222222222222222,
              "#7201a8"
             ],
             [
              0.3333333333333333,
              "#9c179e"
             ],
             [
              0.4444444444444444,
              "#bd3786"
             ],
             [
              0.5555555555555556,
              "#d8576b"
             ],
             [
              0.6666666666666666,
              "#ed7953"
             ],
             [
              0.7777777777777778,
              "#fb9f3a"
             ],
             [
              0.8888888888888888,
              "#fdca26"
             ],
             [
              1,
              "#f0f921"
             ]
            ],
            "type": "histogram2d"
           }
          ],
          "histogram2dcontour": [
           {
            "colorbar": {
             "outlinewidth": 0,
             "ticks": ""
            },
            "colorscale": [
             [
              0,
              "#0d0887"
             ],
             [
              0.1111111111111111,
              "#46039f"
             ],
             [
              0.2222222222222222,
              "#7201a8"
             ],
             [
              0.3333333333333333,
              "#9c179e"
             ],
             [
              0.4444444444444444,
              "#bd3786"
             ],
             [
              0.5555555555555556,
              "#d8576b"
             ],
             [
              0.6666666666666666,
              "#ed7953"
             ],
             [
              0.7777777777777778,
              "#fb9f3a"
             ],
             [
              0.8888888888888888,
              "#fdca26"
             ],
             [
              1,
              "#f0f921"
             ]
            ],
            "type": "histogram2dcontour"
           }
          ],
          "mesh3d": [
           {
            "colorbar": {
             "outlinewidth": 0,
             "ticks": ""
            },
            "type": "mesh3d"
           }
          ],
          "parcoords": [
           {
            "line": {
             "colorbar": {
              "outlinewidth": 0,
              "ticks": ""
             }
            },
            "type": "parcoords"
           }
          ],
          "pie": [
           {
            "automargin": true,
            "type": "pie"
           }
          ],
          "scatter": [
           {
            "fillpattern": {
             "fillmode": "overlay",
             "size": 10,
             "solidity": 0.2
            },
            "type": "scatter"
           }
          ],
          "scatter3d": [
           {
            "line": {
             "colorbar": {
              "outlinewidth": 0,
              "ticks": ""
             }
            },
            "marker": {
             "colorbar": {
              "outlinewidth": 0,
              "ticks": ""
             }
            },
            "type": "scatter3d"
           }
          ],
          "scattercarpet": [
           {
            "marker": {
             "colorbar": {
              "outlinewidth": 0,
              "ticks": ""
             }
            },
            "type": "scattercarpet"
           }
          ],
          "scattergeo": [
           {
            "marker": {
             "colorbar": {
              "outlinewidth": 0,
              "ticks": ""
             }
            },
            "type": "scattergeo"
           }
          ],
          "scattergl": [
           {
            "marker": {
             "colorbar": {
              "outlinewidth": 0,
              "ticks": ""
             }
            },
            "type": "scattergl"
           }
          ],
          "scattermap": [
           {
            "marker": {
             "colorbar": {
              "outlinewidth": 0,
              "ticks": ""
             }
            },
            "type": "scattermap"
           }
          ],
          "scattermapbox": [
           {
            "marker": {
             "colorbar": {
              "outlinewidth": 0,
              "ticks": ""
             }
            },
            "type": "scattermapbox"
           }
          ],
          "scatterpolar": [
           {
            "marker": {
             "colorbar": {
              "outlinewidth": 0,
              "ticks": ""
             }
            },
            "type": "scatterpolar"
           }
          ],
          "scatterpolargl": [
           {
            "marker": {
             "colorbar": {
              "outlinewidth": 0,
              "ticks": ""
             }
            },
            "type": "scatterpolargl"
           }
          ],
          "scatterternary": [
           {
            "marker": {
             "colorbar": {
              "outlinewidth": 0,
              "ticks": ""
             }
            },
            "type": "scatterternary"
           }
          ],
          "surface": [
           {
            "colorbar": {
             "outlinewidth": 0,
             "ticks": ""
            },
            "colorscale": [
             [
              0,
              "#0d0887"
             ],
             [
              0.1111111111111111,
              "#46039f"
             ],
             [
              0.2222222222222222,
              "#7201a8"
             ],
             [
              0.3333333333333333,
              "#9c179e"
             ],
             [
              0.4444444444444444,
              "#bd3786"
             ],
             [
              0.5555555555555556,
              "#d8576b"
             ],
             [
              0.6666666666666666,
              "#ed7953"
             ],
             [
              0.7777777777777778,
              "#fb9f3a"
             ],
             [
              0.8888888888888888,
              "#fdca26"
             ],
             [
              1,
              "#f0f921"
             ]
            ],
            "type": "surface"
           }
          ],
          "table": [
           {
            "cells": {
             "fill": {
              "color": "#EBF0F8"
             },
             "line": {
              "color": "white"
             }
            },
            "header": {
             "fill": {
              "color": "#C8D4E3"
             },
             "line": {
              "color": "white"
             }
            },
            "type": "table"
           }
          ]
         },
         "layout": {
          "annotationdefaults": {
           "arrowcolor": "#2a3f5f",
           "arrowhead": 0,
           "arrowwidth": 1
          },
          "autotypenumbers": "strict",
          "coloraxis": {
           "colorbar": {
            "outlinewidth": 0,
            "ticks": ""
           }
          },
          "colorscale": {
           "diverging": [
            [
             0,
             "#8e0152"
            ],
            [
             0.1,
             "#c51b7d"
            ],
            [
             0.2,
             "#de77ae"
            ],
            [
             0.3,
             "#f1b6da"
            ],
            [
             0.4,
             "#fde0ef"
            ],
            [
             0.5,
             "#f7f7f7"
            ],
            [
             0.6,
             "#e6f5d0"
            ],
            [
             0.7,
             "#b8e186"
            ],
            [
             0.8,
             "#7fbc41"
            ],
            [
             0.9,
             "#4d9221"
            ],
            [
             1,
             "#276419"
            ]
           ],
           "sequential": [
            [
             0,
             "#0d0887"
            ],
            [
             0.1111111111111111,
             "#46039f"
            ],
            [
             0.2222222222222222,
             "#7201a8"
            ],
            [
             0.3333333333333333,
             "#9c179e"
            ],
            [
             0.4444444444444444,
             "#bd3786"
            ],
            [
             0.5555555555555556,
             "#d8576b"
            ],
            [
             0.6666666666666666,
             "#ed7953"
            ],
            [
             0.7777777777777778,
             "#fb9f3a"
            ],
            [
             0.8888888888888888,
             "#fdca26"
            ],
            [
             1,
             "#f0f921"
            ]
           ],
           "sequentialminus": [
            [
             0,
             "#0d0887"
            ],
            [
             0.1111111111111111,
             "#46039f"
            ],
            [
             0.2222222222222222,
             "#7201a8"
            ],
            [
             0.3333333333333333,
             "#9c179e"
            ],
            [
             0.4444444444444444,
             "#bd3786"
            ],
            [
             0.5555555555555556,
             "#d8576b"
            ],
            [
             0.6666666666666666,
             "#ed7953"
            ],
            [
             0.7777777777777778,
             "#fb9f3a"
            ],
            [
             0.8888888888888888,
             "#fdca26"
            ],
            [
             1,
             "#f0f921"
            ]
           ]
          },
          "colorway": [
           "#636efa",
           "#EF553B",
           "#00cc96",
           "#ab63fa",
           "#FFA15A",
           "#19d3f3",
           "#FF6692",
           "#B6E880",
           "#FF97FF",
           "#FECB52"
          ],
          "font": {
           "color": "#2a3f5f"
          },
          "geo": {
           "bgcolor": "white",
           "lakecolor": "white",
           "landcolor": "#E5ECF6",
           "showlakes": true,
           "showland": true,
           "subunitcolor": "white"
          },
          "hoverlabel": {
           "align": "left"
          },
          "hovermode": "closest",
          "mapbox": {
           "style": "light"
          },
          "paper_bgcolor": "white",
          "plot_bgcolor": "#E5ECF6",
          "polar": {
           "angularaxis": {
            "gridcolor": "white",
            "linecolor": "white",
            "ticks": ""
           },
           "bgcolor": "#E5ECF6",
           "radialaxis": {
            "gridcolor": "white",
            "linecolor": "white",
            "ticks": ""
           }
          },
          "scene": {
           "xaxis": {
            "backgroundcolor": "#E5ECF6",
            "gridcolor": "white",
            "gridwidth": 2,
            "linecolor": "white",
            "showbackground": true,
            "ticks": "",
            "zerolinecolor": "white"
           },
           "yaxis": {
            "backgroundcolor": "#E5ECF6",
            "gridcolor": "white",
            "gridwidth": 2,
            "linecolor": "white",
            "showbackground": true,
            "ticks": "",
            "zerolinecolor": "white"
           },
           "zaxis": {
            "backgroundcolor": "#E5ECF6",
            "gridcolor": "white",
            "gridwidth": 2,
            "linecolor": "white",
            "showbackground": true,
            "ticks": "",
            "zerolinecolor": "white"
           }
          },
          "shapedefaults": {
           "line": {
            "color": "#2a3f5f"
           }
          },
          "ternary": {
           "aaxis": {
            "gridcolor": "white",
            "linecolor": "white",
            "ticks": ""
           },
           "baxis": {
            "gridcolor": "white",
            "linecolor": "white",
            "ticks": ""
           },
           "bgcolor": "#E5ECF6",
           "caxis": {
            "gridcolor": "white",
            "linecolor": "white",
            "ticks": ""
           }
          },
          "title": {
           "x": 0.05
          },
          "xaxis": {
           "automargin": true,
           "gridcolor": "white",
           "linecolor": "white",
           "ticks": "",
           "title": {
            "standoff": 15
           },
           "zerolinecolor": "white",
           "zerolinewidth": 2
          },
          "yaxis": {
           "automargin": true,
           "gridcolor": "white",
           "linecolor": "white",
           "ticks": "",
           "title": {
            "standoff": 15
           },
           "zerolinecolor": "white",
           "zerolinewidth": 2
          }
         }
        },
        "title": {
         "text": "Word Count Distribution in Corpus and Queries"
        },
        "width": 800,
        "xaxis": {
         "anchor": "y",
         "domain": [
          0,
          0.45
         ],
         "title": {
          "text": "Word Count"
         }
        },
        "xaxis2": {
         "anchor": "y2",
         "domain": [
          0.55,
          1
         ],
         "title": {
          "text": "Word Count"
         }
        },
        "yaxis": {
         "anchor": "x",
         "domain": [
          0,
          1
         ],
         "title": {
          "text": "Frequency"
         }
        },
        "yaxis2": {
         "anchor": "x2",
         "domain": [
          0,
          1
         ],
         "title": {
          "text": "Frequency"
         }
        }
       }
      }
     },
     "metadata": {},
     "output_type": "display_data"
    },
    {
     "name": "stdout",
     "output_type": "stream",
     "text": [
      "========= DATASET: TATQA  =========\n",
      "\n",
      "Starting number of documents: 2756 and number of queries: 1663\n",
      "After reducing: number of documents: 248 and number of queries: 498\n",
      "\n",
      "Max word count: 1100\n",
      "Average word count: 287.44\n",
      "Max word count in queries: 32\n",
      "Average word count in queries: 12.35\n"
     ]
    },
    {
     "data": {
      "application/vnd.plotly.v1+json": {
       "config": {
        "plotlyServerURL": "https://plot.ly"
       },
       "data": [
        {
         "marker": {
          "color": "blue"
         },
         "name": "Corpus Word Count",
         "nbinsx": 50,
         "type": "histogram",
         "x": {
          "bdata": "wgD7ANgB1wBmAIEApwBqAKkAQwJfAYoA9wClAAoBtABvAIsABQHFAH4AagB9AFMBZQDRANIB7gC0AFoB8gEFAksBTABpAYAAlQDuA5UBpgC1AaMAhAKLAIwAhgDGAHEAegKxAO8A4wA5ADcBnwHAAPcArwCdAV8AwwEeAR4BrgD4AX8BhQAEAUIBDAMjAfgAxwFBANoB8gCuAWgAbABkAb4AsAPEACkDUwL+A8sAmgC8AJUAsgHfAGQAWAH+AYoA8gEgAdIA+wFwAVMARACmACkBZQDwALMAVgCjAWoBqQDKADIDXACMAAkBoABgAsAAkwCmAEoAVQCOAFQA0wB4AHQBqwDrAVAC8wDSACcBbwDmAOgA/ABjAPkApwAiAYEAPwAtAHsAhwDlAFkBpAAAATkAOgGEAVkAKgFJARgBEAHCAYsAHQH5AXUBmAAFAjABiADBAPoAugEnAVcBewBqAIYBggA0BCkBRAJ+AEEAgwHWAKQCZgDvAVACRgGiAOgBDwFYAnwAIAHOANMAyADcABMBrQDoAKgADAF8AEoAsgDXAAsCygFwAScBGQFlAYcBdgDkANgAbQFjAUEBLAGgAsMB9QCkAucAagCFAcgAOQH0AUwEhwH+AeoAiwC4AJQAAgLFAO4A6gIJAdEA1wDTAA==",
          "dtype": "i2"
         },
         "xaxis": "x",
         "yaxis": "y"
        },
        {
         "marker": {
          "color": "green"
         },
         "name": "Queries Word Count",
         "nbinsx": 50,
         "type": "histogram",
         "x": {
          "bdata": "DhAQDA0KCgoRBg8JCgkGDw4KDBEOCwwOBQsXCBANBw8ODAkNCCAODAsKCxAMCg8HHw4QCwgLBg0KEA8RDgsLCBcPCQ4IDBEHCwoSBgcLEgoJCAkJCwsMCgYTCAsLDAsOEQ0LChAHBgsMDAsNBgsNBQ8IDA0JCQ8MEAoPDRIIFQcMDwsNDRAMBhQMDAkSCQ0MCBANEAoGCwwWCQ4KCQYFCxIIDhQLFhIKCQoKDg0QDxAKDg0MEgcNCQYLCw8IChYLDQkHCxELDxQNCwcNGAoFCBQKCxEMHA4NCw8JCAwKCQkPDBELEA0JEQwREhMHCAwKCggIEQwKDBALDQsHDwgLCRANBQsMCwgJDwwMChsKCQ8LCw4KDAoLEBYFEQgMCQkMEwUPDhMKCgsNCQ4UCQUcCQ8QDxEeCggKBRAPDgcLDRYKCAsQDQkJDQgNDg8JCwoLDg0KCgkNEAsJCw0JDAUQCA4HDA8GDBgNCgkODw0QDQwJCwYSCgkMChEWFAcICggXDA4PCgkPGg4XBgsODQkIDwkKDgoMBwsMEQoJDQwMCg8ODhAODBINCw0KCwsVGhQOCwkNEw4RBw0OCA4LCAgOCQoHBw0VCQoSEggJDQ4MCQgJCwgMEggJDQ8MFg0JChQTCwkIBQ4GCQgQCg8PCQwQDw4U",
          "dtype": "i1"
         },
         "xaxis": "x2",
         "yaxis": "y2"
        }
       ],
       "layout": {
        "annotations": [
         {
          "font": {
           "size": 16
          },
          "showarrow": false,
          "text": "Corpus Word Count Distribution",
          "x": 0.225,
          "xanchor": "center",
          "xref": "paper",
          "y": 1,
          "yanchor": "bottom",
          "yref": "paper"
         },
         {
          "font": {
           "size": 16
          },
          "showarrow": false,
          "text": "Queries Word Count Distribution",
          "x": 0.775,
          "xanchor": "center",
          "xref": "paper",
          "y": 1,
          "yanchor": "bottom",
          "yref": "paper"
         }
        ],
        "height": 400,
        "showlegend": false,
        "template": {
         "data": {
          "bar": [
           {
            "error_x": {
             "color": "#2a3f5f"
            },
            "error_y": {
             "color": "#2a3f5f"
            },
            "marker": {
             "line": {
              "color": "#E5ECF6",
              "width": 0.5
             },
             "pattern": {
              "fillmode": "overlay",
              "size": 10,
              "solidity": 0.2
             }
            },
            "type": "bar"
           }
          ],
          "barpolar": [
           {
            "marker": {
             "line": {
              "color": "#E5ECF6",
              "width": 0.5
             },
             "pattern": {
              "fillmode": "overlay",
              "size": 10,
              "solidity": 0.2
             }
            },
            "type": "barpolar"
           }
          ],
          "carpet": [
           {
            "aaxis": {
             "endlinecolor": "#2a3f5f",
             "gridcolor": "white",
             "linecolor": "white",
             "minorgridcolor": "white",
             "startlinecolor": "#2a3f5f"
            },
            "baxis": {
             "endlinecolor": "#2a3f5f",
             "gridcolor": "white",
             "linecolor": "white",
             "minorgridcolor": "white",
             "startlinecolor": "#2a3f5f"
            },
            "type": "carpet"
           }
          ],
          "choropleth": [
           {
            "colorbar": {
             "outlinewidth": 0,
             "ticks": ""
            },
            "type": "choropleth"
           }
          ],
          "contour": [
           {
            "colorbar": {
             "outlinewidth": 0,
             "ticks": ""
            },
            "colorscale": [
             [
              0,
              "#0d0887"
             ],
             [
              0.1111111111111111,
              "#46039f"
             ],
             [
              0.2222222222222222,
              "#7201a8"
             ],
             [
              0.3333333333333333,
              "#9c179e"
             ],
             [
              0.4444444444444444,
              "#bd3786"
             ],
             [
              0.5555555555555556,
              "#d8576b"
             ],
             [
              0.6666666666666666,
              "#ed7953"
             ],
             [
              0.7777777777777778,
              "#fb9f3a"
             ],
             [
              0.8888888888888888,
              "#fdca26"
             ],
             [
              1,
              "#f0f921"
             ]
            ],
            "type": "contour"
           }
          ],
          "contourcarpet": [
           {
            "colorbar": {
             "outlinewidth": 0,
             "ticks": ""
            },
            "type": "contourcarpet"
           }
          ],
          "heatmap": [
           {
            "colorbar": {
             "outlinewidth": 0,
             "ticks": ""
            },
            "colorscale": [
             [
              0,
              "#0d0887"
             ],
             [
              0.1111111111111111,
              "#46039f"
             ],
             [
              0.2222222222222222,
              "#7201a8"
             ],
             [
              0.3333333333333333,
              "#9c179e"
             ],
             [
              0.4444444444444444,
              "#bd3786"
             ],
             [
              0.5555555555555556,
              "#d8576b"
             ],
             [
              0.6666666666666666,
              "#ed7953"
             ],
             [
              0.7777777777777778,
              "#fb9f3a"
             ],
             [
              0.8888888888888888,
              "#fdca26"
             ],
             [
              1,
              "#f0f921"
             ]
            ],
            "type": "heatmap"
           }
          ],
          "histogram": [
           {
            "marker": {
             "pattern": {
              "fillmode": "overlay",
              "size": 10,
              "solidity": 0.2
             }
            },
            "type": "histogram"
           }
          ],
          "histogram2d": [
           {
            "colorbar": {
             "outlinewidth": 0,
             "ticks": ""
            },
            "colorscale": [
             [
              0,
              "#0d0887"
             ],
             [
              0.1111111111111111,
              "#46039f"
             ],
             [
              0.2222222222222222,
              "#7201a8"
             ],
             [
              0.3333333333333333,
              "#9c179e"
             ],
             [
              0.4444444444444444,
              "#bd3786"
             ],
             [
              0.5555555555555556,
              "#d8576b"
             ],
             [
              0.6666666666666666,
              "#ed7953"
             ],
             [
              0.7777777777777778,
              "#fb9f3a"
             ],
             [
              0.8888888888888888,
              "#fdca26"
             ],
             [
              1,
              "#f0f921"
             ]
            ],
            "type": "histogram2d"
           }
          ],
          "histogram2dcontour": [
           {
            "colorbar": {
             "outlinewidth": 0,
             "ticks": ""
            },
            "colorscale": [
             [
              0,
              "#0d0887"
             ],
             [
              0.1111111111111111,
              "#46039f"
             ],
             [
              0.2222222222222222,
              "#7201a8"
             ],
             [
              0.3333333333333333,
              "#9c179e"
             ],
             [
              0.4444444444444444,
              "#bd3786"
             ],
             [
              0.5555555555555556,
              "#d8576b"
             ],
             [
              0.6666666666666666,
              "#ed7953"
             ],
             [
              0.7777777777777778,
              "#fb9f3a"
             ],
             [
              0.8888888888888888,
              "#fdca26"
             ],
             [
              1,
              "#f0f921"
             ]
            ],
            "type": "histogram2dcontour"
           }
          ],
          "mesh3d": [
           {
            "colorbar": {
             "outlinewidth": 0,
             "ticks": ""
            },
            "type": "mesh3d"
           }
          ],
          "parcoords": [
           {
            "line": {
             "colorbar": {
              "outlinewidth": 0,
              "ticks": ""
             }
            },
            "type": "parcoords"
           }
          ],
          "pie": [
           {
            "automargin": true,
            "type": "pie"
           }
          ],
          "scatter": [
           {
            "fillpattern": {
             "fillmode": "overlay",
             "size": 10,
             "solidity": 0.2
            },
            "type": "scatter"
           }
          ],
          "scatter3d": [
           {
            "line": {
             "colorbar": {
              "outlinewidth": 0,
              "ticks": ""
             }
            },
            "marker": {
             "colorbar": {
              "outlinewidth": 0,
              "ticks": ""
             }
            },
            "type": "scatter3d"
           }
          ],
          "scattercarpet": [
           {
            "marker": {
             "colorbar": {
              "outlinewidth": 0,
              "ticks": ""
             }
            },
            "type": "scattercarpet"
           }
          ],
          "scattergeo": [
           {
            "marker": {
             "colorbar": {
              "outlinewidth": 0,
              "ticks": ""
             }
            },
            "type": "scattergeo"
           }
          ],
          "scattergl": [
           {
            "marker": {
             "colorbar": {
              "outlinewidth": 0,
              "ticks": ""
             }
            },
            "type": "scattergl"
           }
          ],
          "scattermap": [
           {
            "marker": {
             "colorbar": {
              "outlinewidth": 0,
              "ticks": ""
             }
            },
            "type": "scattermap"
           }
          ],
          "scattermapbox": [
           {
            "marker": {
             "colorbar": {
              "outlinewidth": 0,
              "ticks": ""
             }
            },
            "type": "scattermapbox"
           }
          ],
          "scatterpolar": [
           {
            "marker": {
             "colorbar": {
              "outlinewidth": 0,
              "ticks": ""
             }
            },
            "type": "scatterpolar"
           }
          ],
          "scatterpolargl": [
           {
            "marker": {
             "colorbar": {
              "outlinewidth": 0,
              "ticks": ""
             }
            },
            "type": "scatterpolargl"
           }
          ],
          "scatterternary": [
           {
            "marker": {
             "colorbar": {
              "outlinewidth": 0,
              "ticks": ""
             }
            },
            "type": "scatterternary"
           }
          ],
          "surface": [
           {
            "colorbar": {
             "outlinewidth": 0,
             "ticks": ""
            },
            "colorscale": [
             [
              0,
              "#0d0887"
             ],
             [
              0.1111111111111111,
              "#46039f"
             ],
             [
              0.2222222222222222,
              "#7201a8"
             ],
             [
              0.3333333333333333,
              "#9c179e"
             ],
             [
              0.4444444444444444,
              "#bd3786"
             ],
             [
              0.5555555555555556,
              "#d8576b"
             ],
             [
              0.6666666666666666,
              "#ed7953"
             ],
             [
              0.7777777777777778,
              "#fb9f3a"
             ],
             [
              0.8888888888888888,
              "#fdca26"
             ],
             [
              1,
              "#f0f921"
             ]
            ],
            "type": "surface"
           }
          ],
          "table": [
           {
            "cells": {
             "fill": {
              "color": "#EBF0F8"
             },
             "line": {
              "color": "white"
             }
            },
            "header": {
             "fill": {
              "color": "#C8D4E3"
             },
             "line": {
              "color": "white"
             }
            },
            "type": "table"
           }
          ]
         },
         "layout": {
          "annotationdefaults": {
           "arrowcolor": "#2a3f5f",
           "arrowhead": 0,
           "arrowwidth": 1
          },
          "autotypenumbers": "strict",
          "coloraxis": {
           "colorbar": {
            "outlinewidth": 0,
            "ticks": ""
           }
          },
          "colorscale": {
           "diverging": [
            [
             0,
             "#8e0152"
            ],
            [
             0.1,
             "#c51b7d"
            ],
            [
             0.2,
             "#de77ae"
            ],
            [
             0.3,
             "#f1b6da"
            ],
            [
             0.4,
             "#fde0ef"
            ],
            [
             0.5,
             "#f7f7f7"
            ],
            [
             0.6,
             "#e6f5d0"
            ],
            [
             0.7,
             "#b8e186"
            ],
            [
             0.8,
             "#7fbc41"
            ],
            [
             0.9,
             "#4d9221"
            ],
            [
             1,
             "#276419"
            ]
           ],
           "sequential": [
            [
             0,
             "#0d0887"
            ],
            [
             0.1111111111111111,
             "#46039f"
            ],
            [
             0.2222222222222222,
             "#7201a8"
            ],
            [
             0.3333333333333333,
             "#9c179e"
            ],
            [
             0.4444444444444444,
             "#bd3786"
            ],
            [
             0.5555555555555556,
             "#d8576b"
            ],
            [
             0.6666666666666666,
             "#ed7953"
            ],
            [
             0.7777777777777778,
             "#fb9f3a"
            ],
            [
             0.8888888888888888,
             "#fdca26"
            ],
            [
             1,
             "#f0f921"
            ]
           ],
           "sequentialminus": [
            [
             0,
             "#0d0887"
            ],
            [
             0.1111111111111111,
             "#46039f"
            ],
            [
             0.2222222222222222,
             "#7201a8"
            ],
            [
             0.3333333333333333,
             "#9c179e"
            ],
            [
             0.4444444444444444,
             "#bd3786"
            ],
            [
             0.5555555555555556,
             "#d8576b"
            ],
            [
             0.6666666666666666,
             "#ed7953"
            ],
            [
             0.7777777777777778,
             "#fb9f3a"
            ],
            [
             0.8888888888888888,
             "#fdca26"
            ],
            [
             1,
             "#f0f921"
            ]
           ]
          },
          "colorway": [
           "#636efa",
           "#EF553B",
           "#00cc96",
           "#ab63fa",
           "#FFA15A",
           "#19d3f3",
           "#FF6692",
           "#B6E880",
           "#FF97FF",
           "#FECB52"
          ],
          "font": {
           "color": "#2a3f5f"
          },
          "geo": {
           "bgcolor": "white",
           "lakecolor": "white",
           "landcolor": "#E5ECF6",
           "showlakes": true,
           "showland": true,
           "subunitcolor": "white"
          },
          "hoverlabel": {
           "align": "left"
          },
          "hovermode": "closest",
          "mapbox": {
           "style": "light"
          },
          "paper_bgcolor": "white",
          "plot_bgcolor": "#E5ECF6",
          "polar": {
           "angularaxis": {
            "gridcolor": "white",
            "linecolor": "white",
            "ticks": ""
           },
           "bgcolor": "#E5ECF6",
           "radialaxis": {
            "gridcolor": "white",
            "linecolor": "white",
            "ticks": ""
           }
          },
          "scene": {
           "xaxis": {
            "backgroundcolor": "#E5ECF6",
            "gridcolor": "white",
            "gridwidth": 2,
            "linecolor": "white",
            "showbackground": true,
            "ticks": "",
            "zerolinecolor": "white"
           },
           "yaxis": {
            "backgroundcolor": "#E5ECF6",
            "gridcolor": "white",
            "gridwidth": 2,
            "linecolor": "white",
            "showbackground": true,
            "ticks": "",
            "zerolinecolor": "white"
           },
           "zaxis": {
            "backgroundcolor": "#E5ECF6",
            "gridcolor": "white",
            "gridwidth": 2,
            "linecolor": "white",
            "showbackground": true,
            "ticks": "",
            "zerolinecolor": "white"
           }
          },
          "shapedefaults": {
           "line": {
            "color": "#2a3f5f"
           }
          },
          "ternary": {
           "aaxis": {
            "gridcolor": "white",
            "linecolor": "white",
            "ticks": ""
           },
           "baxis": {
            "gridcolor": "white",
            "linecolor": "white",
            "ticks": ""
           },
           "bgcolor": "#E5ECF6",
           "caxis": {
            "gridcolor": "white",
            "linecolor": "white",
            "ticks": ""
           }
          },
          "title": {
           "x": 0.05
          },
          "xaxis": {
           "automargin": true,
           "gridcolor": "white",
           "linecolor": "white",
           "ticks": "",
           "title": {
            "standoff": 15
           },
           "zerolinecolor": "white",
           "zerolinewidth": 2
          },
          "yaxis": {
           "automargin": true,
           "gridcolor": "white",
           "linecolor": "white",
           "ticks": "",
           "title": {
            "standoff": 15
           },
           "zerolinecolor": "white",
           "zerolinewidth": 2
          }
         }
        },
        "title": {
         "text": "Word Count Distribution in Corpus and Queries"
        },
        "width": 800,
        "xaxis": {
         "anchor": "y",
         "domain": [
          0,
          0.45
         ],
         "title": {
          "text": "Word Count"
         }
        },
        "xaxis2": {
         "anchor": "y2",
         "domain": [
          0.55,
          1
         ],
         "title": {
          "text": "Word Count"
         }
        },
        "yaxis": {
         "anchor": "x",
         "domain": [
          0,
          1
         ],
         "title": {
          "text": "Frequency"
         }
        },
        "yaxis2": {
         "anchor": "x2",
         "domain": [
          0,
          1
         ],
         "title": {
          "text": "Frequency"
         }
        }
       }
      }
     },
     "metadata": {},
     "output_type": "display_data"
    }
   ],
   "source": [
    "for DATASET_NAME in dataset_manager.list_datasets():\n",
    "    print(\"========= DATASET:\", DATASET_NAME, \" =========\\n\")\n",
    "    corpus, queries, qrels = dataset_manager.load_dataset(DATASET_NAME)\n",
    "    print(f\"Starting number of documents: {len(corpus)} and number of queries: {len(queries)}\")\n",
    "\n",
    "    corpus, queries = reduce_dataset_size(corpus, queries, qrels)\n",
    "    print(f\"After reducing: number of documents: {len(corpus)} and number of queries: {len(queries)}\\n\")\n",
    "\n",
    "    corpus_df = pd.DataFrame(list(corpus.items()), columns=[\"id\", \"text\"])\n",
    "    corpus_df[\"text\"] = corpus_df[\"text\"].apply(lambda x: x[0] if isinstance(x, list) and len(x) > 0 else \"\")\n",
    "    queries_df = pd.DataFrame(list(queries.items()), columns=[\"id\", \"text\"])\n",
    "    plot_count_words(corpus_df, queries_df)"
   ]
  },
  {
   "cell_type": "markdown",
   "metadata": {},
   "source": [
    "Check the table presence in the datasets"
   ]
  },
  {
   "cell_type": "code",
   "execution_count": 4,
   "metadata": {},
   "outputs": [
    {
     "name": "stdout",
     "output_type": "stream",
     "text": [
      "Dataset: ConvFinQA has 101 documents in corpus\n",
      "\t101 documents with 1 table\n",
      "            0 documents with 2 tables\n",
      "            0 documents with 3 tables\n",
      "            0 documents with 4 tables \n",
      "            0 documents with more than 4 tables\n",
      "\n",
      "Dataset: FinQA has 247 documents in corpus\n",
      "\t247 documents with 1 table\n",
      "            0 documents with 2 tables\n",
      "            0 documents with 3 tables\n",
      "            0 documents with 4 tables \n",
      "            0 documents with more than 4 tables\n",
      "\n",
      "Dataset: MultiHeritt has 876 documents in corpus\n",
      "\t491 documents with 1 table\n",
      "            46 documents with 2 tables\n",
      "            7 documents with 3 tables\n",
      "            6 documents with 4 tables \n",
      "            1 documents with more than 4 tables\n",
      "\n",
      "Dataset: TATQA has 248 documents in corpus\n",
      "\t248 documents with 1 table\n",
      "            0 documents with 2 tables\n",
      "            0 documents with 3 tables\n",
      "            0 documents with 4 tables \n",
      "            0 documents with more than 4 tables\n",
      "\n"
     ]
    }
   ],
   "source": [
    "check_table_presence(dataset_manager)"
   ]
  },
  {
   "cell_type": "markdown",
   "metadata": {},
   "source": [
    "## Load the sentence transformer all-MiniLM-L6-v2"
   ]
  },
  {
   "cell_type": "code",
   "execution_count": 5,
   "metadata": {},
   "outputs": [],
   "source": [
    "text_processor = DataHandler(Tokenizer(AutoTokenizer.from_pretrained(\"sentence-transformers/all-MiniLM-L6-v2\")),\n",
    "                             Embedder(AutoModel.from_pretrained(\"sentence-transformers/all-MiniLM-L6-v2\")))\n",
    "EMBEDDING_DIM = 384\n",
    "MODEL_INPUT_SIZE = 256"
   ]
  },
  {
   "cell_type": "code",
   "execution_count": 6,
   "metadata": {},
   "outputs": [],
   "source": [
    "results_folder = \"../results\""
   ]
  },
  {
   "cell_type": "markdown",
   "metadata": {},
   "source": [
    "## Table summaries"
   ]
  },
  {
   "cell_type": "markdown",
   "metadata": {},
   "source": [
    "### Experimental removing the tables from the text "
   ]
  },
  {
   "cell_type": "markdown",
   "metadata": {},
   "source": [
    "#### No summary (baseline)"
   ]
  },
  {
   "cell_type": "code",
   "execution_count": 7,
   "metadata": {},
   "outputs": [
    {
     "name": "stderr",
     "output_type": "stream",
     "text": [
      "Token indices sequence length is longer than the specified maximum sequence length for this model (837 > 512). Running this sequence through the model will result in indexing errors\n"
     ]
    },
    {
     "name": "stdout",
     "output_type": "stream",
     "text": [
      "Dataset: ConvFinQA \tNumber of queries: 126 and Number of documents: 101\n",
      "\tFinished evaluation!\n",
      "Dataset: FinQA \tNumber of queries: 344 and Number of documents: 247\n",
      "\tFinished evaluation!\n",
      "Dataset: MultiHeritt \tNumber of queries: 292 and Number of documents: 876\n",
      "\tFinished evaluation!\n",
      "Dataset: TATQA \tNumber of queries: 498 and Number of documents: 248\n",
      "\tFinished evaluation!\n"
     ]
    },
    {
     "data": {
      "text/html": [
       "<div>\n",
       "<style scoped>\n",
       "    .dataframe tbody tr th:only-of-type {\n",
       "        vertical-align: middle;\n",
       "    }\n",
       "\n",
       "    .dataframe tbody tr th {\n",
       "        vertical-align: top;\n",
       "    }\n",
       "\n",
       "    .dataframe thead th {\n",
       "        text-align: right;\n",
       "    }\n",
       "</style>\n",
       "<table border=\"1\" class=\"dataframe\">\n",
       "  <thead>\n",
       "    <tr style=\"text-align: right;\">\n",
       "      <th></th>\n",
       "      <th>dataset</th>\n",
       "      <th>ndcg_5</th>\n",
       "      <th>ndcg_10</th>\n",
       "      <th>recall_5</th>\n",
       "      <th>recall_10</th>\n",
       "      <th>mrr_5</th>\n",
       "      <th>mrr_10</th>\n",
       "    </tr>\n",
       "  </thead>\n",
       "  <tbody>\n",
       "    <tr>\n",
       "      <th>0</th>\n",
       "      <td>ConvFinQA</td>\n",
       "      <td>0.5113</td>\n",
       "      <td>0.5286</td>\n",
       "      <td>0.6429</td>\n",
       "      <td>0.6984</td>\n",
       "      <td>0.4676</td>\n",
       "      <td>0.4744</td>\n",
       "    </tr>\n",
       "    <tr>\n",
       "      <th>1</th>\n",
       "      <td>FinQA</td>\n",
       "      <td>0.4265</td>\n",
       "      <td>0.4579</td>\n",
       "      <td>0.5116</td>\n",
       "      <td>0.6105</td>\n",
       "      <td>0.3983</td>\n",
       "      <td>0.4109</td>\n",
       "    </tr>\n",
       "    <tr>\n",
       "      <th>2</th>\n",
       "      <td>MultiHeritt</td>\n",
       "      <td>0.2308</td>\n",
       "      <td>0.2585</td>\n",
       "      <td>0.0828</td>\n",
       "      <td>0.1178</td>\n",
       "      <td>0.0529</td>\n",
       "      <td>0.0576</td>\n",
       "    </tr>\n",
       "    <tr>\n",
       "      <th>3</th>\n",
       "      <td>TATQA</td>\n",
       "      <td>0.3594</td>\n",
       "      <td>0.3830</td>\n",
       "      <td>0.4438</td>\n",
       "      <td>0.5161</td>\n",
       "      <td>0.3312</td>\n",
       "      <td>0.3410</td>\n",
       "    </tr>\n",
       "  </tbody>\n",
       "</table>\n",
       "</div>"
      ],
      "text/plain": [
       "       dataset  ndcg_5  ndcg_10  recall_5  recall_10   mrr_5  mrr_10\n",
       "0    ConvFinQA  0.5113   0.5286    0.6429     0.6984  0.4676  0.4744\n",
       "1        FinQA  0.4265   0.4579    0.5116     0.6105  0.3983  0.4109\n",
       "2  MultiHeritt  0.2308   0.2585    0.0828     0.1178  0.0529  0.0576\n",
       "3        TATQA  0.3594   0.3830    0.4438     0.5161  0.3312  0.3410"
      ]
     },
     "execution_count": 7,
     "metadata": {},
     "output_type": "execute_result"
    }
   ],
   "source": [
    "# Experiment without tables (and without summarization) (_nt_ns: df_results_nt_ns)\n",
    "experiment_results = {}\n",
    "for DATASET_NAME in dataset_manager.list_datasets():\n",
    "    corpus, queries, qrels = dataset_manager.load_dataset(DATASET_NAME)\n",
    "    corpus, queries = reduce_dataset_size(corpus, queries, qrels)\n",
    "    print(f\"Dataset: {DATASET_NAME} \\tNumber of queries: {len(queries)} and Number of documents: {len(corpus)}\")\n",
    "\n",
    "    pipeline = RAGPipeline(corpus, queries, qrels, text_processor)\n",
    "    pipeline.manage_corpus(chunk_size=MODEL_INPUT_SIZE, remove_tables=True)\n",
    "    pipeline.populate_vector_store(EMBEDDING_DIM)\n",
    "    pipeline.embed_queries(MODEL_INPUT_SIZE)\n",
    "\n",
    "    best_chunks_nt_ns = pipeline.retrieve()\n",
    "    evaluation = pipeline.evaluate(best_chunks_nt_ns)\n",
    "    experiment_results[DATASET_NAME] = evaluation\n",
    "    print(\"\\tFinished evaluation!\")\n",
    "df_results_nt_ns = pd.DataFrame(experiment_results).T\n",
    "df_results_nt_ns = split_column_metrics(df_results_nt_ns)\n",
    "df_results_nt_ns"
   ]
  },
  {
   "cell_type": "markdown",
   "metadata": {},
   "source": [
    "#### Short Summary"
   ]
  },
  {
   "cell_type": "code",
   "execution_count": 8,
   "metadata": {},
   "outputs": [
    {
     "name": "stdout",
     "output_type": "stream",
     "text": [
      "Dataset: ConvFinQA \tNumber of queries: 126 and Number of documents: 101\n",
      "\tFinished evaluation!\n",
      "Dataset: FinQA \tNumber of queries: 344 and Number of documents: 247\n",
      "\tFinished evaluation!\n",
      "Dataset: MultiHeritt \tNumber of queries: 292 and Number of documents: 876\n",
      "\tFinished evaluation!\n",
      "Dataset: TATQA \tNumber of queries: 498 and Number of documents: 248\n",
      "\tFinished evaluation!\n"
     ]
    },
    {
     "data": {
      "text/html": [
       "<div>\n",
       "<style scoped>\n",
       "    .dataframe tbody tr th:only-of-type {\n",
       "        vertical-align: middle;\n",
       "    }\n",
       "\n",
       "    .dataframe tbody tr th {\n",
       "        vertical-align: top;\n",
       "    }\n",
       "\n",
       "    .dataframe thead th {\n",
       "        text-align: right;\n",
       "    }\n",
       "</style>\n",
       "<table border=\"1\" class=\"dataframe\">\n",
       "  <thead>\n",
       "    <tr style=\"text-align: right;\">\n",
       "      <th></th>\n",
       "      <th>dataset</th>\n",
       "      <th>ndcg_5</th>\n",
       "      <th>ndcg_10</th>\n",
       "      <th>recall_5</th>\n",
       "      <th>recall_10</th>\n",
       "      <th>mrr_5</th>\n",
       "      <th>mrr_10</th>\n",
       "    </tr>\n",
       "  </thead>\n",
       "  <tbody>\n",
       "    <tr>\n",
       "      <th>0</th>\n",
       "      <td>ConvFinQA</td>\n",
       "      <td>0.6869</td>\n",
       "      <td>0.6997</td>\n",
       "      <td>0.8095</td>\n",
       "      <td>0.8492</td>\n",
       "      <td>0.6463</td>\n",
       "      <td>0.6516</td>\n",
       "    </tr>\n",
       "    <tr>\n",
       "      <th>1</th>\n",
       "      <td>FinQA</td>\n",
       "      <td>0.5857</td>\n",
       "      <td>0.6133</td>\n",
       "      <td>0.6744</td>\n",
       "      <td>0.7587</td>\n",
       "      <td>0.5558</td>\n",
       "      <td>0.5675</td>\n",
       "    </tr>\n",
       "    <tr>\n",
       "      <th>2</th>\n",
       "      <td>MultiHeritt</td>\n",
       "      <td>0.3201</td>\n",
       "      <td>0.3430</td>\n",
       "      <td>0.1113</td>\n",
       "      <td>0.1402</td>\n",
       "      <td>0.0739</td>\n",
       "      <td>0.0778</td>\n",
       "    </tr>\n",
       "    <tr>\n",
       "      <th>3</th>\n",
       "      <td>TATQA</td>\n",
       "      <td>0.4674</td>\n",
       "      <td>0.5036</td>\n",
       "      <td>0.5843</td>\n",
       "      <td>0.6968</td>\n",
       "      <td>0.4281</td>\n",
       "      <td>0.4430</td>\n",
       "    </tr>\n",
       "  </tbody>\n",
       "</table>\n",
       "</div>"
      ],
      "text/plain": [
       "       dataset  ndcg_5  ndcg_10  recall_5  recall_10   mrr_5  mrr_10\n",
       "0    ConvFinQA  0.6869   0.6997    0.8095     0.8492  0.6463  0.6516\n",
       "1        FinQA  0.5857   0.6133    0.6744     0.7587  0.5558  0.5675\n",
       "2  MultiHeritt  0.3201   0.3430    0.1113     0.1402  0.0739  0.0778\n",
       "3        TATQA  0.4674   0.5036    0.5843     0.6968  0.4281  0.4430"
      ]
     },
     "execution_count": 8,
     "metadata": {},
     "output_type": "execute_result"
    }
   ],
   "source": [
    "# Experiment with short table summary with LLM without table text (_nt_ss: no table short summary)\n",
    "experiment_results = {}\n",
    "for DATASET_NAME in dataset_manager.list_datasets():\n",
    "    corpus, queries, qrels = dataset_manager.load_dataset(DATASET_NAME)\n",
    "    corpus, queries = reduce_dataset_size(corpus, queries, qrels)\n",
    "    print(f\"Dataset: {DATASET_NAME} \\tNumber of queries: {len(queries)} and Number of documents: {len(corpus)}\")\n",
    "\n",
    "    pipeline = RAGPipeline(corpus, queries, qrels, text_processor)\n",
    "    pipeline.load_table_summaries(f'../data/{DATASET_NAME}/table_summaries_{DATASET_NAME}_short.npy')\n",
    "    pipeline.manage_corpus(MODEL_INPUT_SIZE, remove_tables=True)\n",
    "    pipeline.populate_vector_store(EMBEDDING_DIM)\n",
    "    pipeline.embed_queries(MODEL_INPUT_SIZE)\n",
    "\n",
    "    best_chunks_nt_ss = pipeline.retrieve()\n",
    "    evaluation = pipeline.evaluate(best_chunks_nt_ss)\n",
    "    experiment_results[DATASET_NAME] = evaluation\n",
    "    print(\"\\tFinished evaluation!\")\n",
    "df_results_nt_ss = pd.DataFrame(experiment_results).T\n",
    "df_results_nt_ss = split_column_metrics(df_results_nt_ss)\n",
    "df_results_nt_ss"
   ]
  },
  {
   "cell_type": "markdown",
   "metadata": {},
   "source": [
    "#### Long summary"
   ]
  },
  {
   "cell_type": "code",
   "execution_count": 9,
   "metadata": {},
   "outputs": [
    {
     "name": "stdout",
     "output_type": "stream",
     "text": [
      "Dataset: ConvFinQA \tNumber of queries: 126 and Number of documents: 101\n",
      "\tFinished evaluation!\n",
      "Dataset: FinQA \tNumber of queries: 344 and Number of documents: 247\n",
      "\tFinished evaluation!\n",
      "Dataset: MultiHeritt \tNumber of queries: 292 and Number of documents: 876\n",
      "\tFinished evaluation!\n",
      "Dataset: TATQA \tNumber of queries: 498 and Number of documents: 248\n",
      "\tFinished evaluation!\n"
     ]
    },
    {
     "data": {
      "text/html": [
       "<div>\n",
       "<style scoped>\n",
       "    .dataframe tbody tr th:only-of-type {\n",
       "        vertical-align: middle;\n",
       "    }\n",
       "\n",
       "    .dataframe tbody tr th {\n",
       "        vertical-align: top;\n",
       "    }\n",
       "\n",
       "    .dataframe thead th {\n",
       "        text-align: right;\n",
       "    }\n",
       "</style>\n",
       "<table border=\"1\" class=\"dataframe\">\n",
       "  <thead>\n",
       "    <tr style=\"text-align: right;\">\n",
       "      <th></th>\n",
       "      <th>dataset</th>\n",
       "      <th>ndcg_5</th>\n",
       "      <th>ndcg_10</th>\n",
       "      <th>recall_5</th>\n",
       "      <th>recall_10</th>\n",
       "      <th>mrr_5</th>\n",
       "      <th>mrr_10</th>\n",
       "    </tr>\n",
       "  </thead>\n",
       "  <tbody>\n",
       "    <tr>\n",
       "      <th>0</th>\n",
       "      <td>ConvFinQA</td>\n",
       "      <td>0.7139</td>\n",
       "      <td>0.7297</td>\n",
       "      <td>0.8333</td>\n",
       "      <td>0.8810</td>\n",
       "      <td>0.6741</td>\n",
       "      <td>0.6809</td>\n",
       "    </tr>\n",
       "    <tr>\n",
       "      <th>1</th>\n",
       "      <td>FinQA</td>\n",
       "      <td>0.5800</td>\n",
       "      <td>0.6093</td>\n",
       "      <td>0.6831</td>\n",
       "      <td>0.7762</td>\n",
       "      <td>0.5453</td>\n",
       "      <td>0.5569</td>\n",
       "    </tr>\n",
       "    <tr>\n",
       "      <th>2</th>\n",
       "      <td>MultiHeritt</td>\n",
       "      <td>0.3283</td>\n",
       "      <td>0.3585</td>\n",
       "      <td>0.1144</td>\n",
       "      <td>0.1524</td>\n",
       "      <td>0.0768</td>\n",
       "      <td>0.0820</td>\n",
       "    </tr>\n",
       "    <tr>\n",
       "      <th>3</th>\n",
       "      <td>TATQA</td>\n",
       "      <td>0.4789</td>\n",
       "      <td>0.5067</td>\n",
       "      <td>0.5763</td>\n",
       "      <td>0.6606</td>\n",
       "      <td>0.4463</td>\n",
       "      <td>0.4582</td>\n",
       "    </tr>\n",
       "  </tbody>\n",
       "</table>\n",
       "</div>"
      ],
      "text/plain": [
       "       dataset  ndcg_5  ndcg_10  recall_5  recall_10   mrr_5  mrr_10\n",
       "0    ConvFinQA  0.7139   0.7297    0.8333     0.8810  0.6741  0.6809\n",
       "1        FinQA  0.5800   0.6093    0.6831     0.7762  0.5453  0.5569\n",
       "2  MultiHeritt  0.3283   0.3585    0.1144     0.1524  0.0768  0.0820\n",
       "3        TATQA  0.4789   0.5067    0.5763     0.6606  0.4463  0.4582"
      ]
     },
     "execution_count": 9,
     "metadata": {},
     "output_type": "execute_result"
    }
   ],
   "source": [
    "# Experiment with long table summary with LLM (_nt_ls: no table long summary)\n",
    "experiment_results = {}\n",
    "for DATASET_NAME in dataset_manager.list_datasets():\n",
    "    corpus, queries, qrels = dataset_manager.load_dataset(DATASET_NAME)\n",
    "    corpus, queries = reduce_dataset_size(corpus, queries, qrels)\n",
    "    print(f\"Dataset: {DATASET_NAME} \\tNumber of queries: {len(queries)} and Number of documents: {len(corpus)}\")\n",
    "\n",
    "    pipeline = RAGPipeline(corpus, queries, qrels, text_processor)\n",
    "    pipeline.load_table_summaries(f'../data/{DATASET_NAME}/table_summaries_{DATASET_NAME}_long.npy')\n",
    "    pipeline.manage_corpus(MODEL_INPUT_SIZE, remove_tables=True)\n",
    "    pipeline.populate_vector_store(EMBEDDING_DIM)\n",
    "    pipeline.embed_queries(MODEL_INPUT_SIZE)\n",
    "\n",
    "    best_chunks_nt_ls = pipeline.retrieve()\n",
    "    evaluation = pipeline.evaluate(best_chunks_nt_ls)\n",
    "    experiment_results[DATASET_NAME] = evaluation\n",
    "    print(\"\\tFinished evaluation!\")\n",
    "df_results_nt_ls = pd.DataFrame(experiment_results).T\n",
    "df_results_nt_ls = split_column_metrics(df_results_nt_ls)\n",
    "df_results_nt_ls"
   ]
  },
  {
   "cell_type": "markdown",
   "metadata": {},
   "source": [
    "### Experimental keeping the tables in the text "
   ]
  },
  {
   "cell_type": "markdown",
   "metadata": {},
   "source": [
    "#### No summary (baseline)"
   ]
  },
  {
   "cell_type": "code",
   "execution_count": 11,
   "metadata": {},
   "outputs": [
    {
     "name": "stdout",
     "output_type": "stream",
     "text": [
      "Dataset: ConvFinQA\tNumber of queries: 126 and Number of documents: 101\n",
      "\tFinished evaluation!\n",
      "Dataset: FinQA\tNumber of queries: 344 and Number of documents: 247\n",
      "\tFinished evaluation!\n",
      "Dataset: MultiHeritt\tNumber of queries: 292 and Number of documents: 876\n",
      "\tFinished evaluation!\n",
      "Dataset: TATQA\tNumber of queries: 498 and Number of documents: 248\n",
      "\tFinished evaluation!\n"
     ]
    },
    {
     "data": {
      "text/html": [
       "<div>\n",
       "<style scoped>\n",
       "    .dataframe tbody tr th:only-of-type {\n",
       "        vertical-align: middle;\n",
       "    }\n",
       "\n",
       "    .dataframe tbody tr th {\n",
       "        vertical-align: top;\n",
       "    }\n",
       "\n",
       "    .dataframe thead th {\n",
       "        text-align: right;\n",
       "    }\n",
       "</style>\n",
       "<table border=\"1\" class=\"dataframe\">\n",
       "  <thead>\n",
       "    <tr style=\"text-align: right;\">\n",
       "      <th></th>\n",
       "      <th>dataset</th>\n",
       "      <th>ndcg_5</th>\n",
       "      <th>ndcg_10</th>\n",
       "      <th>recall_5</th>\n",
       "      <th>recall_10</th>\n",
       "      <th>mrr_5</th>\n",
       "      <th>mrr_10</th>\n",
       "    </tr>\n",
       "  </thead>\n",
       "  <tbody>\n",
       "    <tr>\n",
       "      <th>0</th>\n",
       "      <td>ConvFinQA</td>\n",
       "      <td>0.6203</td>\n",
       "      <td>0.6482</td>\n",
       "      <td>0.7540</td>\n",
       "      <td>0.8413</td>\n",
       "      <td>0.5761</td>\n",
       "      <td>0.5874</td>\n",
       "    </tr>\n",
       "    <tr>\n",
       "      <th>1</th>\n",
       "      <td>FinQA</td>\n",
       "      <td>0.5292</td>\n",
       "      <td>0.5650</td>\n",
       "      <td>0.6453</td>\n",
       "      <td>0.7587</td>\n",
       "      <td>0.4903</td>\n",
       "      <td>0.5046</td>\n",
       "    </tr>\n",
       "    <tr>\n",
       "      <th>2</th>\n",
       "      <td>MultiHeritt</td>\n",
       "      <td>0.3549</td>\n",
       "      <td>0.3808</td>\n",
       "      <td>0.1228</td>\n",
       "      <td>0.1602</td>\n",
       "      <td>0.0859</td>\n",
       "      <td>0.0908</td>\n",
       "    </tr>\n",
       "    <tr>\n",
       "      <th>3</th>\n",
       "      <td>TATQA</td>\n",
       "      <td>0.4767</td>\n",
       "      <td>0.5106</td>\n",
       "      <td>0.5904</td>\n",
       "      <td>0.6928</td>\n",
       "      <td>0.4394</td>\n",
       "      <td>0.4537</td>\n",
       "    </tr>\n",
       "  </tbody>\n",
       "</table>\n",
       "</div>"
      ],
      "text/plain": [
       "       dataset  ndcg_5  ndcg_10  recall_5  recall_10   mrr_5  mrr_10\n",
       "0    ConvFinQA  0.6203   0.6482    0.7540     0.8413  0.5761  0.5874\n",
       "1        FinQA  0.5292   0.5650    0.6453     0.7587  0.4903  0.5046\n",
       "2  MultiHeritt  0.3549   0.3808    0.1228     0.1602  0.0859  0.0908\n",
       "3        TATQA  0.4767   0.5106    0.5904     0.6928  0.4394  0.4537"
      ]
     },
     "execution_count": 11,
     "metadata": {},
     "output_type": "execute_result"
    }
   ],
   "source": [
    "# Experiment with text table but without table summaries with LLM (_ns: no summarization)\n",
    "experiment_results = {}\n",
    "for DATASET_NAME in dataset_manager.list_datasets():\n",
    "    corpus, queries, qrels = dataset_manager.load_dataset(DATASET_NAME)\n",
    "    corpus, queries = reduce_dataset_size(corpus, queries, qrels)\n",
    "    print(f\"Dataset: {DATASET_NAME}\\tNumber of queries: {len(queries)} and Number of documents: {len(corpus)}\")\n",
    "\n",
    "    pipeline = RAGPipeline(corpus, queries, qrels, text_processor)\n",
    "    pipeline.manage_corpus(chunk_size=MODEL_INPUT_SIZE)\n",
    "    pipeline.populate_vector_store(EMBEDDING_DIM)\n",
    "    pipeline.embed_queries(MODEL_INPUT_SIZE)\n",
    "\n",
    "    best_chunks_ns = pipeline.retrieve()\n",
    "    evaluation = pipeline.evaluate(best_chunks_ns)\n",
    "    experiment_results[DATASET_NAME] = evaluation\n",
    "    print(\"\\tFinished evaluation!\")\n",
    "df_results_ns = pd.DataFrame(experiment_results).T\n",
    "df_results_ns = split_column_metrics(df_results_ns)\n",
    "df_results_ns.to_excel(f\"{results_folder}/df_results_ns.xlsx\", index=False)\n",
    "df_results_ns"
   ]
  },
  {
   "cell_type": "markdown",
   "metadata": {},
   "source": [
    "#### Short Summary"
   ]
  },
  {
   "cell_type": "code",
   "execution_count": 12,
   "metadata": {},
   "outputs": [
    {
     "name": "stdout",
     "output_type": "stream",
     "text": [
      "Dataset: ConvFinQA \tNumber of queries: 126 and Number of documents: 101\n",
      "\tFinished evaluation!\n",
      "Dataset: FinQA \tNumber of queries: 344 and Number of documents: 247\n",
      "\tFinished evaluation!\n",
      "Dataset: MultiHeritt \tNumber of queries: 292 and Number of documents: 876\n",
      "\tFinished evaluation!\n",
      "Dataset: TATQA \tNumber of queries: 498 and Number of documents: 248\n",
      "\tFinished evaluation!\n"
     ]
    },
    {
     "data": {
      "text/html": [
       "<div>\n",
       "<style scoped>\n",
       "    .dataframe tbody tr th:only-of-type {\n",
       "        vertical-align: middle;\n",
       "    }\n",
       "\n",
       "    .dataframe tbody tr th {\n",
       "        vertical-align: top;\n",
       "    }\n",
       "\n",
       "    .dataframe thead th {\n",
       "        text-align: right;\n",
       "    }\n",
       "</style>\n",
       "<table border=\"1\" class=\"dataframe\">\n",
       "  <thead>\n",
       "    <tr style=\"text-align: right;\">\n",
       "      <th></th>\n",
       "      <th>dataset</th>\n",
       "      <th>ndcg_5</th>\n",
       "      <th>ndcg_10</th>\n",
       "      <th>recall_5</th>\n",
       "      <th>recall_10</th>\n",
       "      <th>mrr_5</th>\n",
       "      <th>mrr_10</th>\n",
       "    </tr>\n",
       "  </thead>\n",
       "  <tbody>\n",
       "    <tr>\n",
       "      <th>0</th>\n",
       "      <td>ConvFinQA</td>\n",
       "      <td>0.6936</td>\n",
       "      <td>0.7198</td>\n",
       "      <td>0.8175</td>\n",
       "      <td>0.8968</td>\n",
       "      <td>0.6520</td>\n",
       "      <td>0.6631</td>\n",
       "    </tr>\n",
       "    <tr>\n",
       "      <th>1</th>\n",
       "      <td>FinQA</td>\n",
       "      <td>0.6129</td>\n",
       "      <td>0.6418</td>\n",
       "      <td>0.7238</td>\n",
       "      <td>0.8140</td>\n",
       "      <td>0.5757</td>\n",
       "      <td>0.5876</td>\n",
       "    </tr>\n",
       "    <tr>\n",
       "      <th>2</th>\n",
       "      <td>MultiHeritt</td>\n",
       "      <td>0.3840</td>\n",
       "      <td>0.4109</td>\n",
       "      <td>0.1320</td>\n",
       "      <td>0.1677</td>\n",
       "      <td>0.0919</td>\n",
       "      <td>0.0966</td>\n",
       "    </tr>\n",
       "    <tr>\n",
       "      <th>3</th>\n",
       "      <td>TATQA</td>\n",
       "      <td>0.5032</td>\n",
       "      <td>0.5391</td>\n",
       "      <td>0.6225</td>\n",
       "      <td>0.7329</td>\n",
       "      <td>0.4633</td>\n",
       "      <td>0.4782</td>\n",
       "    </tr>\n",
       "  </tbody>\n",
       "</table>\n",
       "</div>"
      ],
      "text/plain": [
       "       dataset  ndcg_5  ndcg_10  recall_5  recall_10   mrr_5  mrr_10\n",
       "0    ConvFinQA  0.6936   0.7198    0.8175     0.8968  0.6520  0.6631\n",
       "1        FinQA  0.6129   0.6418    0.7238     0.8140  0.5757  0.5876\n",
       "2  MultiHeritt  0.3840   0.4109    0.1320     0.1677  0.0919  0.0966\n",
       "3        TATQA  0.5032   0.5391    0.6225     0.7329  0.4633  0.4782"
      ]
     },
     "execution_count": 12,
     "metadata": {},
     "output_type": "execute_result"
    }
   ],
   "source": [
    "# Experiment with short table summary with LLM (_ss: short summary)\n",
    "experiment_results = {}\n",
    "for DATASET_NAME in dataset_manager.list_datasets():\n",
    "    corpus, queries, qrels = dataset_manager.load_dataset(DATASET_NAME)\n",
    "    corpus, queries = reduce_dataset_size(corpus, queries, qrels)\n",
    "    print(f\"Dataset: {DATASET_NAME} \\tNumber of queries: {len(queries)} and Number of documents: {len(corpus)}\")\n",
    "\n",
    "    pipeline = RAGPipeline(corpus, queries, qrels, text_processor)\n",
    "    pipeline.load_table_summaries(f'../data/{DATASET_NAME}/table_summaries_{DATASET_NAME}_short.npy')\n",
    "    pipeline.manage_corpus(MODEL_INPUT_SIZE, remove_tables=False)\n",
    "    pipeline.populate_vector_store(EMBEDDING_DIM)\n",
    "    pipeline.embed_queries(MODEL_INPUT_SIZE)\n",
    "\n",
    "    best_chunks_ss = pipeline.retrieve()\n",
    "    evaluation = pipeline.evaluate(best_chunks_ss)\n",
    "    experiment_results[DATASET_NAME] = evaluation\n",
    "    print(\"\\tFinished evaluation!\")\n",
    "df_results_ss = pd.DataFrame(experiment_results).T\n",
    "df_results_ss = split_column_metrics(df_results_ss)\n",
    "df_results_ss.to_excel(f\"{results_folder}/df_results_ss.xlsx\", index=False)\n",
    "df_results_ss"
   ]
  },
  {
   "cell_type": "markdown",
   "metadata": {},
   "source": [
    "#### Long summary"
   ]
  },
  {
   "cell_type": "code",
   "execution_count": 13,
   "metadata": {},
   "outputs": [
    {
     "name": "stdout",
     "output_type": "stream",
     "text": [
      "Dataset: ConvFinQA \tNumber of queries: 126 and Number of documents: 101\n",
      "\tFinished evaluation!\n",
      "Dataset: FinQA \tNumber of queries: 344 and Number of documents: 247\n",
      "\tFinished evaluation!\n",
      "Dataset: MultiHeritt \tNumber of queries: 292 and Number of documents: 876\n",
      "\tFinished evaluation!\n",
      "Dataset: TATQA \tNumber of queries: 498 and Number of documents: 248\n",
      "\tFinished evaluation!\n"
     ]
    },
    {
     "data": {
      "text/html": [
       "<div>\n",
       "<style scoped>\n",
       "    .dataframe tbody tr th:only-of-type {\n",
       "        vertical-align: middle;\n",
       "    }\n",
       "\n",
       "    .dataframe tbody tr th {\n",
       "        vertical-align: top;\n",
       "    }\n",
       "\n",
       "    .dataframe thead th {\n",
       "        text-align: right;\n",
       "    }\n",
       "</style>\n",
       "<table border=\"1\" class=\"dataframe\">\n",
       "  <thead>\n",
       "    <tr style=\"text-align: right;\">\n",
       "      <th></th>\n",
       "      <th>dataset</th>\n",
       "      <th>ndcg_5</th>\n",
       "      <th>ndcg_10</th>\n",
       "      <th>recall_5</th>\n",
       "      <th>recall_10</th>\n",
       "      <th>mrr_5</th>\n",
       "      <th>mrr_10</th>\n",
       "    </tr>\n",
       "  </thead>\n",
       "  <tbody>\n",
       "    <tr>\n",
       "      <th>0</th>\n",
       "      <td>ConvFinQA</td>\n",
       "      <td>0.7110</td>\n",
       "      <td>0.7348</td>\n",
       "      <td>0.8333</td>\n",
       "      <td>0.9048</td>\n",
       "      <td>0.6698</td>\n",
       "      <td>0.6801</td>\n",
       "    </tr>\n",
       "    <tr>\n",
       "      <th>1</th>\n",
       "      <td>FinQA</td>\n",
       "      <td>0.6020</td>\n",
       "      <td>0.6324</td>\n",
       "      <td>0.7180</td>\n",
       "      <td>0.8140</td>\n",
       "      <td>0.5630</td>\n",
       "      <td>0.5752</td>\n",
       "    </tr>\n",
       "    <tr>\n",
       "      <th>2</th>\n",
       "      <td>MultiHeritt</td>\n",
       "      <td>0.3976</td>\n",
       "      <td>0.4234</td>\n",
       "      <td>0.1348</td>\n",
       "      <td>0.1748</td>\n",
       "      <td>0.0965</td>\n",
       "      <td>0.1017</td>\n",
       "    </tr>\n",
       "    <tr>\n",
       "      <th>3</th>\n",
       "      <td>TATQA</td>\n",
       "      <td>0.5124</td>\n",
       "      <td>0.5489</td>\n",
       "      <td>0.6225</td>\n",
       "      <td>0.7369</td>\n",
       "      <td>0.4758</td>\n",
       "      <td>0.4906</td>\n",
       "    </tr>\n",
       "  </tbody>\n",
       "</table>\n",
       "</div>"
      ],
      "text/plain": [
       "       dataset  ndcg_5  ndcg_10  recall_5  recall_10   mrr_5  mrr_10\n",
       "0    ConvFinQA  0.7110   0.7348    0.8333     0.9048  0.6698  0.6801\n",
       "1        FinQA  0.6020   0.6324    0.7180     0.8140  0.5630  0.5752\n",
       "2  MultiHeritt  0.3976   0.4234    0.1348     0.1748  0.0965  0.1017\n",
       "3        TATQA  0.5124   0.5489    0.6225     0.7369  0.4758  0.4906"
      ]
     },
     "execution_count": 13,
     "metadata": {},
     "output_type": "execute_result"
    }
   ],
   "source": [
    "# Experiment with long table summary with LLM (_ls: long summary)\n",
    "experiment_results = {}\n",
    "for DATASET_NAME in dataset_manager.list_datasets():\n",
    "    corpus, queries, qrels = dataset_manager.load_dataset(DATASET_NAME)\n",
    "    corpus, queries = reduce_dataset_size(corpus, queries, qrels)\n",
    "    print(f\"Dataset: {DATASET_NAME} \\tNumber of queries: {len(queries)} and Number of documents: {len(corpus)}\")\n",
    "\n",
    "    pipeline = RAGPipeline(corpus, queries, qrels, text_processor)\n",
    "    pipeline.load_table_summaries(f'../data/{DATASET_NAME}/table_summaries_{DATASET_NAME}_long.npy')\n",
    "    pipeline.manage_corpus(MODEL_INPUT_SIZE, remove_tables=False)\n",
    "    pipeline.populate_vector_store(EMBEDDING_DIM)\n",
    "    pipeline.embed_queries(MODEL_INPUT_SIZE)\n",
    "\n",
    "    best_chunks_ls = pipeline.retrieve()\n",
    "    evaluation = pipeline.evaluate(best_chunks_ls)\n",
    "    experiment_results[DATASET_NAME] = evaluation\n",
    "    print(\"\\tFinished evaluation!\")\n",
    "df_results_ls = pd.DataFrame(experiment_results).T\n",
    "df_results_ls = split_column_metrics(df_results_ls)\n",
    "df_results_ls.to_excel(f\"{results_folder}/df_results_ls.xlsx\", index=False)\n",
    "df_results_ls"
   ]
  },
  {
   "cell_type": "markdown",
   "metadata": {},
   "source": [
    "## Query expansion\n",
    "All done with the best settings discovered above: long summary, with the original table left in the text  "
   ]
  },
  {
   "cell_type": "markdown",
   "metadata": {},
   "source": [
    "#### Rephrase the original query"
   ]
  },
  {
   "cell_type": "code",
   "execution_count": 14,
   "metadata": {},
   "outputs": [
    {
     "name": "stdout",
     "output_type": "stream",
     "text": [
      "Dataset: ConvFinQA \tNumber of queries: 126 and Number of documents: 101\n",
      "\tFinished evaluation!\n",
      "Dataset: FinQA \tNumber of queries: 344 and Number of documents: 247\n",
      "\tFinished evaluation!\n",
      "Dataset: MultiHeritt \tNumber of queries: 292 and Number of documents: 876\n",
      "\tFinished evaluation!\n",
      "Dataset: TATQA \tNumber of queries: 498 and Number of documents: 248\n",
      "\tFinished evaluation!\n"
     ]
    },
    {
     "data": {
      "text/html": [
       "<div>\n",
       "<style scoped>\n",
       "    .dataframe tbody tr th:only-of-type {\n",
       "        vertical-align: middle;\n",
       "    }\n",
       "\n",
       "    .dataframe tbody tr th {\n",
       "        vertical-align: top;\n",
       "    }\n",
       "\n",
       "    .dataframe thead th {\n",
       "        text-align: right;\n",
       "    }\n",
       "</style>\n",
       "<table border=\"1\" class=\"dataframe\">\n",
       "  <thead>\n",
       "    <tr style=\"text-align: right;\">\n",
       "      <th></th>\n",
       "      <th>dataset</th>\n",
       "      <th>ndcg_5</th>\n",
       "      <th>ndcg_10</th>\n",
       "      <th>recall_5</th>\n",
       "      <th>recall_10</th>\n",
       "      <th>mrr_5</th>\n",
       "      <th>mrr_10</th>\n",
       "    </tr>\n",
       "  </thead>\n",
       "  <tbody>\n",
       "    <tr>\n",
       "      <th>0</th>\n",
       "      <td>ConvFinQA</td>\n",
       "      <td>0.7445</td>\n",
       "      <td>0.7554</td>\n",
       "      <td>0.8492</td>\n",
       "      <td>0.8810</td>\n",
       "      <td>0.7086</td>\n",
       "      <td>0.7134</td>\n",
       "    </tr>\n",
       "    <tr>\n",
       "      <th>1</th>\n",
       "      <td>FinQA</td>\n",
       "      <td>0.5760</td>\n",
       "      <td>0.6088</td>\n",
       "      <td>0.6919</td>\n",
       "      <td>0.7936</td>\n",
       "      <td>0.5374</td>\n",
       "      <td>0.5509</td>\n",
       "    </tr>\n",
       "    <tr>\n",
       "      <th>2</th>\n",
       "      <td>MultiHeritt</td>\n",
       "      <td>0.4067</td>\n",
       "      <td>0.4259</td>\n",
       "      <td>0.1384</td>\n",
       "      <td>0.1696</td>\n",
       "      <td>0.0987</td>\n",
       "      <td>0.1030</td>\n",
       "    </tr>\n",
       "    <tr>\n",
       "      <th>3</th>\n",
       "      <td>TATQA</td>\n",
       "      <td>0.4935</td>\n",
       "      <td>0.5302</td>\n",
       "      <td>0.6004</td>\n",
       "      <td>0.7149</td>\n",
       "      <td>0.4582</td>\n",
       "      <td>0.4731</td>\n",
       "    </tr>\n",
       "  </tbody>\n",
       "</table>\n",
       "</div>"
      ],
      "text/plain": [
       "       dataset  ndcg_5  ndcg_10  recall_5  recall_10   mrr_5  mrr_10\n",
       "0    ConvFinQA  0.7445   0.7554    0.8492     0.8810  0.7086  0.7134\n",
       "1        FinQA  0.5760   0.6088    0.6919     0.7936  0.5374  0.5509\n",
       "2  MultiHeritt  0.4067   0.4259    0.1384     0.1696  0.0987  0.1030\n",
       "3        TATQA  0.4935   0.5302    0.6004     0.7149  0.4582  0.4731"
      ]
     },
     "execution_count": 14,
     "metadata": {},
     "output_type": "execute_result"
    }
   ],
   "source": [
    "# Experiment with query expansion rephrase and long table summary with LLM (qer_ls: long summary)\n",
    "experiment_results = {}\n",
    "for DATASET_NAME in dataset_manager.list_datasets():\n",
    "    corpus, queries, qrels = dataset_manager.load_dataset(DATASET_NAME)\n",
    "    corpus, queries = reduce_dataset_size(corpus, queries, qrels)\n",
    "    print(f\"Dataset: {DATASET_NAME} \\tNumber of queries: {len(queries)} and Number of documents: {len(corpus)}\")\n",
    "\n",
    "    pipeline = RAGPipeline(corpus, queries, qrels, text_processor)\n",
    "    pipeline.load_table_summaries(f'../data/{DATASET_NAME}/table_summaries_{DATASET_NAME}_long.npy')\n",
    "    pipeline.load_query_expansion(f'../data/{DATASET_NAME}/queries_expanded_{DATASET_NAME}_rephrase.npy', 10)\n",
    "    pipeline.manage_corpus(MODEL_INPUT_SIZE, remove_tables=False)\n",
    "    pipeline.populate_vector_store(EMBEDDING_DIM)\n",
    "    pipeline.embed_queries(MODEL_INPUT_SIZE, mode='trunk')\n",
    "\n",
    "    best_chunks_ls = pipeline.retrieve()\n",
    "    evaluation = pipeline.evaluate(best_chunks_ls)\n",
    "    experiment_results[DATASET_NAME] = evaluation\n",
    "    print(\"\\tFinished evaluation!\")\n",
    "df_results_ls = pd.DataFrame(experiment_results).T\n",
    "df_results_ls = split_column_metrics(df_results_ls)\n",
    "df_results_ls.to_excel(f\"{results_folder}/df_results_qr.xlsx\", index=False)\n",
    "df_results_ls"
   ]
  },
  {
   "cell_type": "markdown",
   "metadata": {},
   "source": [
    "#### Q2D: give a pseudo document answer"
   ]
  },
  {
   "cell_type": "code",
   "execution_count": 15,
   "metadata": {},
   "outputs": [
    {
     "name": "stdout",
     "output_type": "stream",
     "text": [
      "Dataset: ConvFinQA \tNumber of queries: 126 and Number of documents: 101\n",
      "\tFinished evaluation!\n",
      "Dataset: FinQA \tNumber of queries: 344 and Number of documents: 247\n",
      "\tFinished evaluation!\n",
      "Dataset: MultiHeritt \tNumber of queries: 292 and Number of documents: 876\n",
      "\tFinished evaluation!\n",
      "Dataset: TATQA \tNumber of queries: 498 and Number of documents: 248\n",
      "\tFinished evaluation!\n"
     ]
    },
    {
     "data": {
      "text/html": [
       "<div>\n",
       "<style scoped>\n",
       "    .dataframe tbody tr th:only-of-type {\n",
       "        vertical-align: middle;\n",
       "    }\n",
       "\n",
       "    .dataframe tbody tr th {\n",
       "        vertical-align: top;\n",
       "    }\n",
       "\n",
       "    .dataframe thead th {\n",
       "        text-align: right;\n",
       "    }\n",
       "</style>\n",
       "<table border=\"1\" class=\"dataframe\">\n",
       "  <thead>\n",
       "    <tr style=\"text-align: right;\">\n",
       "      <th></th>\n",
       "      <th>dataset</th>\n",
       "      <th>ndcg_5</th>\n",
       "      <th>ndcg_10</th>\n",
       "      <th>recall_5</th>\n",
       "      <th>recall_10</th>\n",
       "      <th>mrr_5</th>\n",
       "      <th>mrr_10</th>\n",
       "    </tr>\n",
       "  </thead>\n",
       "  <tbody>\n",
       "    <tr>\n",
       "      <th>0</th>\n",
       "      <td>ConvFinQA</td>\n",
       "      <td>0.7226</td>\n",
       "      <td>0.7412</td>\n",
       "      <td>0.8175</td>\n",
       "      <td>0.8730</td>\n",
       "      <td>0.6901</td>\n",
       "      <td>0.6982</td>\n",
       "    </tr>\n",
       "    <tr>\n",
       "      <th>1</th>\n",
       "      <td>FinQA</td>\n",
       "      <td>0.5666</td>\n",
       "      <td>0.5989</td>\n",
       "      <td>0.6744</td>\n",
       "      <td>0.7762</td>\n",
       "      <td>0.5308</td>\n",
       "      <td>0.5437</td>\n",
       "    </tr>\n",
       "    <tr>\n",
       "      <th>2</th>\n",
       "      <td>MultiHeritt</td>\n",
       "      <td>0.3864</td>\n",
       "      <td>0.4142</td>\n",
       "      <td>0.1331</td>\n",
       "      <td>0.1733</td>\n",
       "      <td>0.0942</td>\n",
       "      <td>0.0996</td>\n",
       "    </tr>\n",
       "    <tr>\n",
       "      <th>3</th>\n",
       "      <td>TATQA</td>\n",
       "      <td>0.4746</td>\n",
       "      <td>0.5099</td>\n",
       "      <td>0.5944</td>\n",
       "      <td>0.7048</td>\n",
       "      <td>0.4350</td>\n",
       "      <td>0.4494</td>\n",
       "    </tr>\n",
       "  </tbody>\n",
       "</table>\n",
       "</div>"
      ],
      "text/plain": [
       "       dataset  ndcg_5  ndcg_10  recall_5  recall_10   mrr_5  mrr_10\n",
       "0    ConvFinQA  0.7226   0.7412    0.8175     0.8730  0.6901  0.6982\n",
       "1        FinQA  0.5666   0.5989    0.6744     0.7762  0.5308  0.5437\n",
       "2  MultiHeritt  0.3864   0.4142    0.1331     0.1733  0.0942  0.0996\n",
       "3        TATQA  0.4746   0.5099    0.5944     0.7048  0.4350  0.4494"
      ]
     },
     "execution_count": 15,
     "metadata": {},
     "output_type": "execute_result"
    }
   ],
   "source": [
    "# Experiment with query expansion rephrase and long table summary with LLM (qer_ls: long summary)\n",
    "experiment_results = {}\n",
    "for DATASET_NAME in dataset_manager.list_datasets():\n",
    "    corpus, queries, qrels = dataset_manager.load_dataset(DATASET_NAME)\n",
    "    corpus, queries = reduce_dataset_size(corpus, queries, qrels)\n",
    "    print(f\"Dataset: {DATASET_NAME} \\tNumber of queries: {len(queries)} and Number of documents: {len(corpus)}\")\n",
    "\n",
    "    pipeline = RAGPipeline(corpus, queries, qrels, text_processor)\n",
    "    pipeline.load_table_summaries(f'../data/{DATASET_NAME}/table_summaries_{DATASET_NAME}_long.npy')\n",
    "    pipeline.load_query_expansion(f'../data/{DATASET_NAME}/queries_expanded_{DATASET_NAME}_Q2D.npy', 10)\n",
    "    pipeline.manage_corpus(MODEL_INPUT_SIZE, remove_tables=False)\n",
    "    pipeline.populate_vector_store(EMBEDDING_DIM)\n",
    "    pipeline.embed_queries(MODEL_INPUT_SIZE, mode='trunk')\n",
    "\n",
    "    best_chunks_ls = pipeline.retrieve()\n",
    "    evaluation = pipeline.evaluate(best_chunks_ls)\n",
    "    experiment_results[DATASET_NAME] = evaluation\n",
    "    print(\"\\tFinished evaluation!\")\n",
    "df_results_ls = pd.DataFrame(experiment_results).T\n",
    "df_results_ls = split_column_metrics(df_results_ls)\n",
    "df_results_ls.to_excel(f\"{results_folder}/df_results_q2d.xlsx\", index=False)\n",
    "df_results_ls"
   ]
  },
  {
   "cell_type": "markdown",
   "metadata": {},
   "source": [
    "## Final results"
   ]
  },
  {
   "cell_type": "code",
   "execution_count": null,
   "metadata": {},
   "outputs": [],
   "source": [
    "df_results_ns = pd.read_excel(f\"{results_folder}/df_results_ns.xlsx\")\n",
    "df_results_ss = pd.read_excel(f\"{results_folder}/df_results_ss.xlsx\")\n",
    "df_results_ls = pd.read_excel(f\"{results_folder}/df_results_ls.xlsx\")\n",
    "df_results_qr = pd.read_excel(f\"{results_folder}/df_results_qr.xlsx\")\n",
    "df_results_q2d = pd.read_excel(f\"{results_folder}/df_results_q2d.xlsx\")"
   ]
  },
  {
   "cell_type": "code",
   "execution_count": 49,
   "metadata": {},
   "outputs": [
    {
     "data": {
      "text/html": [
       "<div>\n",
       "<style scoped>\n",
       "    .dataframe tbody tr th:only-of-type {\n",
       "        vertical-align: middle;\n",
       "    }\n",
       "\n",
       "    .dataframe tbody tr th {\n",
       "        vertical-align: top;\n",
       "    }\n",
       "\n",
       "    .dataframe thead th {\n",
       "        text-align: right;\n",
       "    }\n",
       "</style>\n",
       "<table border=\"1\" class=\"dataframe\">\n",
       "  <thead>\n",
       "    <tr style=\"text-align: right;\">\n",
       "      <th></th>\n",
       "      <th>dataset</th>\n",
       "      <th>ndcg_5</th>\n",
       "      <th>ndcg_10</th>\n",
       "      <th>recall_5</th>\n",
       "      <th>recall_10</th>\n",
       "      <th>mrr_5</th>\n",
       "      <th>mrr_10</th>\n",
       "    </tr>\n",
       "  </thead>\n",
       "  <tbody>\n",
       "    <tr>\n",
       "      <th>0</th>\n",
       "      <td>ConvFinQA</td>\n",
       "      <td>0.6203</td>\n",
       "      <td>0.6482</td>\n",
       "      <td>0.7540</td>\n",
       "      <td>0.8413</td>\n",
       "      <td>0.5761</td>\n",
       "      <td>0.5874</td>\n",
       "    </tr>\n",
       "    <tr>\n",
       "      <th>1</th>\n",
       "      <td>FinQA</td>\n",
       "      <td>0.5292</td>\n",
       "      <td>0.5650</td>\n",
       "      <td>0.6453</td>\n",
       "      <td>0.7587</td>\n",
       "      <td>0.4903</td>\n",
       "      <td>0.5046</td>\n",
       "    </tr>\n",
       "    <tr>\n",
       "      <th>2</th>\n",
       "      <td>MultiHeritt</td>\n",
       "      <td>0.3549</td>\n",
       "      <td>0.3808</td>\n",
       "      <td>0.1228</td>\n",
       "      <td>0.1602</td>\n",
       "      <td>0.0859</td>\n",
       "      <td>0.0908</td>\n",
       "    </tr>\n",
       "    <tr>\n",
       "      <th>3</th>\n",
       "      <td>TATQA</td>\n",
       "      <td>0.4767</td>\n",
       "      <td>0.5106</td>\n",
       "      <td>0.5904</td>\n",
       "      <td>0.6928</td>\n",
       "      <td>0.4394</td>\n",
       "      <td>0.4537</td>\n",
       "    </tr>\n",
       "  </tbody>\n",
       "</table>\n",
       "</div>"
      ],
      "text/plain": [
       "       dataset  ndcg_5  ndcg_10  recall_5  recall_10   mrr_5  mrr_10\n",
       "0    ConvFinQA  0.6203   0.6482    0.7540     0.8413  0.5761  0.5874\n",
       "1        FinQA  0.5292   0.5650    0.6453     0.7587  0.4903  0.5046\n",
       "2  MultiHeritt  0.3549   0.3808    0.1228     0.1602  0.0859  0.0908\n",
       "3        TATQA  0.4767   0.5106    0.5904     0.6928  0.4394  0.4537"
      ]
     },
     "execution_count": 49,
     "metadata": {},
     "output_type": "execute_result"
    }
   ],
   "source": [
    "df_results_ns"
   ]
  },
  {
   "cell_type": "markdown",
   "metadata": {},
   "source": [
    "Let's see the table handling approaches"
   ]
  },
  {
   "cell_type": "code",
   "execution_count": 46,
   "metadata": {},
   "outputs": [
    {
     "data": {
      "application/vnd.plotly.v1+json": {
       "config": {
        "plotlyServerURL": "https://plot.ly"
       },
       "data": [
        {
         "marker": {
          "color": "#fc6a03"
         },
         "name": "NDCG @5",
         "opacity": 0.6,
         "textposition": "outside",
         "type": "bar",
         "x": [
          "NS"
         ],
         "xaxis": "x",
         "y": [
          0.6203
         ],
         "yaxis": "y"
        },
        {
         "marker": {
          "color": "#fc6a03"
         },
         "name": "NDCG @5",
         "opacity": 0.6,
         "textposition": "outside",
         "type": "bar",
         "x": [
          "NS"
         ],
         "xaxis": "x2",
         "y": [
          0.5292
         ],
         "yaxis": "y2"
        },
        {
         "marker": {
          "color": "#fc6a03"
         },
         "name": "NDCG @5",
         "opacity": 0.6,
         "textposition": "outside",
         "type": "bar",
         "x": [
          "NS"
         ],
         "xaxis": "x3",
         "y": [
          0.3549
         ],
         "yaxis": "y3"
        },
        {
         "marker": {
          "color": "#fc6a03"
         },
         "name": "NDCG @5",
         "opacity": 0.6,
         "textposition": "outside",
         "type": "bar",
         "x": [
          "NS"
         ],
         "xaxis": "x4",
         "y": [
          0.4767
         ],
         "yaxis": "y4"
        },
        {
         "marker": {
          "color": "#fc6a03"
         },
         "name": "NDCG @10",
         "opacity": 0.6,
         "text": [
          "0.6482"
         ],
         "textposition": "outside",
         "type": "bar",
         "x": [
          "NS"
         ],
         "xaxis": "x",
         "y": [
          0.6482
         ],
         "yaxis": "y"
        },
        {
         "marker": {
          "color": "#fc6a03"
         },
         "name": "NDCG @10",
         "opacity": 0.6,
         "text": [
          "0.565"
         ],
         "textposition": "outside",
         "type": "bar",
         "x": [
          "NS"
         ],
         "xaxis": "x2",
         "y": [
          0.565
         ],
         "yaxis": "y2"
        },
        {
         "marker": {
          "color": "#fc6a03"
         },
         "name": "NDCG @10",
         "opacity": 0.6,
         "text": [
          "0.3808"
         ],
         "textposition": "outside",
         "type": "bar",
         "x": [
          "NS"
         ],
         "xaxis": "x3",
         "y": [
          0.3808
         ],
         "yaxis": "y3"
        },
        {
         "marker": {
          "color": "#fc6a03"
         },
         "name": "NDCG @10",
         "opacity": 0.6,
         "text": [
          "0.5106"
         ],
         "textposition": "outside",
         "type": "bar",
         "x": [
          "NS"
         ],
         "xaxis": "x4",
         "y": [
          0.5106
         ],
         "yaxis": "y4"
        },
        {
         "marker": {
          "color": "#fc6a03"
         },
         "name": "RECALL @5",
         "opacity": 0.6,
         "textposition": "outside",
         "type": "bar",
         "x": [
          "NS"
         ],
         "xaxis": "x5",
         "y": [
          0.754
         ],
         "yaxis": "y5"
        },
        {
         "marker": {
          "color": "#fc6a03"
         },
         "name": "RECALL @5",
         "opacity": 0.6,
         "textposition": "outside",
         "type": "bar",
         "x": [
          "NS"
         ],
         "xaxis": "x6",
         "y": [
          0.6453
         ],
         "yaxis": "y6"
        },
        {
         "marker": {
          "color": "#fc6a03"
         },
         "name": "RECALL @5",
         "opacity": 0.6,
         "textposition": "outside",
         "type": "bar",
         "x": [
          "NS"
         ],
         "xaxis": "x7",
         "y": [
          0.1228
         ],
         "yaxis": "y7"
        },
        {
         "marker": {
          "color": "#fc6a03"
         },
         "name": "RECALL @5",
         "opacity": 0.6,
         "textposition": "outside",
         "type": "bar",
         "x": [
          "NS"
         ],
         "xaxis": "x8",
         "y": [
          0.5904
         ],
         "yaxis": "y8"
        },
        {
         "marker": {
          "color": "#fc6a03"
         },
         "name": "RECALL @10",
         "opacity": 0.6,
         "text": [
          "0.8413"
         ],
         "textposition": "outside",
         "type": "bar",
         "x": [
          "NS"
         ],
         "xaxis": "x5",
         "y": [
          0.8413
         ],
         "yaxis": "y5"
        },
        {
         "marker": {
          "color": "#fc6a03"
         },
         "name": "RECALL @10",
         "opacity": 0.6,
         "text": [
          "0.7587"
         ],
         "textposition": "outside",
         "type": "bar",
         "x": [
          "NS"
         ],
         "xaxis": "x6",
         "y": [
          0.7587
         ],
         "yaxis": "y6"
        },
        {
         "marker": {
          "color": "#fc6a03"
         },
         "name": "RECALL @10",
         "opacity": 0.6,
         "text": [
          "0.1602"
         ],
         "textposition": "outside",
         "type": "bar",
         "x": [
          "NS"
         ],
         "xaxis": "x7",
         "y": [
          0.1602
         ],
         "yaxis": "y7"
        },
        {
         "marker": {
          "color": "#fc6a03"
         },
         "name": "RECALL @10",
         "opacity": 0.6,
         "text": [
          "0.6928"
         ],
         "textposition": "outside",
         "type": "bar",
         "x": [
          "NS"
         ],
         "xaxis": "x8",
         "y": [
          0.6928
         ],
         "yaxis": "y8"
        },
        {
         "marker": {
          "color": "#fc6a03"
         },
         "name": "MRR @5",
         "opacity": 0.6,
         "textposition": "outside",
         "type": "bar",
         "x": [
          "NS"
         ],
         "xaxis": "x9",
         "y": [
          0.5761
         ],
         "yaxis": "y9"
        },
        {
         "marker": {
          "color": "#fc6a03"
         },
         "name": "MRR @5",
         "opacity": 0.6,
         "textposition": "outside",
         "type": "bar",
         "x": [
          "NS"
         ],
         "xaxis": "x10",
         "y": [
          0.4903
         ],
         "yaxis": "y10"
        },
        {
         "marker": {
          "color": "#fc6a03"
         },
         "name": "MRR @5",
         "opacity": 0.6,
         "textposition": "outside",
         "type": "bar",
         "x": [
          "NS"
         ],
         "xaxis": "x11",
         "y": [
          0.0859
         ],
         "yaxis": "y11"
        },
        {
         "marker": {
          "color": "#fc6a03"
         },
         "name": "MRR @5",
         "opacity": 0.6,
         "textposition": "outside",
         "type": "bar",
         "x": [
          "NS"
         ],
         "xaxis": "x12",
         "y": [
          0.4394
         ],
         "yaxis": "y12"
        },
        {
         "marker": {
          "color": "#fc6a03"
         },
         "name": "MRR @10",
         "opacity": 0.6,
         "text": [
          "0.5874"
         ],
         "textposition": "outside",
         "type": "bar",
         "x": [
          "NS"
         ],
         "xaxis": "x9",
         "y": [
          0.5874
         ],
         "yaxis": "y9"
        },
        {
         "marker": {
          "color": "#fc6a03"
         },
         "name": "MRR @10",
         "opacity": 0.6,
         "text": [
          "0.5046"
         ],
         "textposition": "outside",
         "type": "bar",
         "x": [
          "NS"
         ],
         "xaxis": "x10",
         "y": [
          0.5046
         ],
         "yaxis": "y10"
        },
        {
         "marker": {
          "color": "#fc6a03"
         },
         "name": "MRR @10",
         "opacity": 0.6,
         "text": [
          "0.0908"
         ],
         "textposition": "outside",
         "type": "bar",
         "x": [
          "NS"
         ],
         "xaxis": "x11",
         "y": [
          0.0908
         ],
         "yaxis": "y11"
        },
        {
         "marker": {
          "color": "#fc6a03"
         },
         "name": "MRR @10",
         "opacity": 0.6,
         "text": [
          "0.4537"
         ],
         "textposition": "outside",
         "type": "bar",
         "x": [
          "NS"
         ],
         "xaxis": "x12",
         "y": [
          0.4537
         ],
         "yaxis": "y12"
        },
        {
         "marker": {
          "color": "#55bebd "
         },
         "name": "NDCG @5",
         "opacity": 0.6,
         "textposition": "outside",
         "type": "bar",
         "x": [
          "SS"
         ],
         "xaxis": "x",
         "y": [
          0.6936
         ],
         "yaxis": "y"
        },
        {
         "marker": {
          "color": "#55bebd "
         },
         "name": "NDCG @5",
         "opacity": 0.6,
         "textposition": "outside",
         "type": "bar",
         "x": [
          "SS"
         ],
         "xaxis": "x2",
         "y": [
          0.6129
         ],
         "yaxis": "y2"
        },
        {
         "marker": {
          "color": "#55bebd "
         },
         "name": "NDCG @5",
         "opacity": 0.6,
         "textposition": "outside",
         "type": "bar",
         "x": [
          "SS"
         ],
         "xaxis": "x3",
         "y": [
          0.384
         ],
         "yaxis": "y3"
        },
        {
         "marker": {
          "color": "#55bebd "
         },
         "name": "NDCG @5",
         "opacity": 0.6,
         "textposition": "outside",
         "type": "bar",
         "x": [
          "SS"
         ],
         "xaxis": "x4",
         "y": [
          0.5032
         ],
         "yaxis": "y4"
        },
        {
         "marker": {
          "color": "#55bebd "
         },
         "name": "NDCG @10",
         "opacity": 0.6,
         "text": [
          "0.7198"
         ],
         "textposition": "outside",
         "type": "bar",
         "x": [
          "SS"
         ],
         "xaxis": "x",
         "y": [
          0.7198
         ],
         "yaxis": "y"
        },
        {
         "marker": {
          "color": "#55bebd "
         },
         "name": "NDCG @10",
         "opacity": 0.6,
         "text": [
          "0.6418"
         ],
         "textposition": "outside",
         "type": "bar",
         "x": [
          "SS"
         ],
         "xaxis": "x2",
         "y": [
          0.6418
         ],
         "yaxis": "y2"
        },
        {
         "marker": {
          "color": "#55bebd "
         },
         "name": "NDCG @10",
         "opacity": 0.6,
         "text": [
          "0.4109"
         ],
         "textposition": "outside",
         "type": "bar",
         "x": [
          "SS"
         ],
         "xaxis": "x3",
         "y": [
          0.4109
         ],
         "yaxis": "y3"
        },
        {
         "marker": {
          "color": "#55bebd "
         },
         "name": "NDCG @10",
         "opacity": 0.6,
         "text": [
          "0.5391"
         ],
         "textposition": "outside",
         "type": "bar",
         "x": [
          "SS"
         ],
         "xaxis": "x4",
         "y": [
          0.5391
         ],
         "yaxis": "y4"
        },
        {
         "marker": {
          "color": "#55bebd "
         },
         "name": "RECALL @5",
         "opacity": 0.6,
         "textposition": "outside",
         "type": "bar",
         "x": [
          "SS"
         ],
         "xaxis": "x5",
         "y": [
          0.8175
         ],
         "yaxis": "y5"
        },
        {
         "marker": {
          "color": "#55bebd "
         },
         "name": "RECALL @5",
         "opacity": 0.6,
         "textposition": "outside",
         "type": "bar",
         "x": [
          "SS"
         ],
         "xaxis": "x6",
         "y": [
          0.7238
         ],
         "yaxis": "y6"
        },
        {
         "marker": {
          "color": "#55bebd "
         },
         "name": "RECALL @5",
         "opacity": 0.6,
         "textposition": "outside",
         "type": "bar",
         "x": [
          "SS"
         ],
         "xaxis": "x7",
         "y": [
          0.132
         ],
         "yaxis": "y7"
        },
        {
         "marker": {
          "color": "#55bebd "
         },
         "name": "RECALL @5",
         "opacity": 0.6,
         "textposition": "outside",
         "type": "bar",
         "x": [
          "SS"
         ],
         "xaxis": "x8",
         "y": [
          0.6225
         ],
         "yaxis": "y8"
        },
        {
         "marker": {
          "color": "#55bebd "
         },
         "name": "RECALL @10",
         "opacity": 0.6,
         "text": [
          "0.8968"
         ],
         "textposition": "outside",
         "type": "bar",
         "x": [
          "SS"
         ],
         "xaxis": "x5",
         "y": [
          0.8968
         ],
         "yaxis": "y5"
        },
        {
         "marker": {
          "color": "#55bebd "
         },
         "name": "RECALL @10",
         "opacity": 0.6,
         "text": [
          "0.814"
         ],
         "textposition": "outside",
         "type": "bar",
         "x": [
          "SS"
         ],
         "xaxis": "x6",
         "y": [
          0.814
         ],
         "yaxis": "y6"
        },
        {
         "marker": {
          "color": "#55bebd "
         },
         "name": "RECALL @10",
         "opacity": 0.6,
         "text": [
          "0.1677"
         ],
         "textposition": "outside",
         "type": "bar",
         "x": [
          "SS"
         ],
         "xaxis": "x7",
         "y": [
          0.1677
         ],
         "yaxis": "y7"
        },
        {
         "marker": {
          "color": "#55bebd "
         },
         "name": "RECALL @10",
         "opacity": 0.6,
         "text": [
          "0.7329"
         ],
         "textposition": "outside",
         "type": "bar",
         "x": [
          "SS"
         ],
         "xaxis": "x8",
         "y": [
          0.7329
         ],
         "yaxis": "y8"
        },
        {
         "marker": {
          "color": "#55bebd "
         },
         "name": "MRR @5",
         "opacity": 0.6,
         "textposition": "outside",
         "type": "bar",
         "x": [
          "SS"
         ],
         "xaxis": "x9",
         "y": [
          0.652
         ],
         "yaxis": "y9"
        },
        {
         "marker": {
          "color": "#55bebd "
         },
         "name": "MRR @5",
         "opacity": 0.6,
         "textposition": "outside",
         "type": "bar",
         "x": [
          "SS"
         ],
         "xaxis": "x10",
         "y": [
          0.5757
         ],
         "yaxis": "y10"
        },
        {
         "marker": {
          "color": "#55bebd "
         },
         "name": "MRR @5",
         "opacity": 0.6,
         "textposition": "outside",
         "type": "bar",
         "x": [
          "SS"
         ],
         "xaxis": "x11",
         "y": [
          0.0919
         ],
         "yaxis": "y11"
        },
        {
         "marker": {
          "color": "#55bebd "
         },
         "name": "MRR @5",
         "opacity": 0.6,
         "textposition": "outside",
         "type": "bar",
         "x": [
          "SS"
         ],
         "xaxis": "x12",
         "y": [
          0.4633
         ],
         "yaxis": "y12"
        },
        {
         "marker": {
          "color": "#55bebd "
         },
         "name": "MRR @10",
         "opacity": 0.6,
         "text": [
          "0.6631"
         ],
         "textposition": "outside",
         "type": "bar",
         "x": [
          "SS"
         ],
         "xaxis": "x9",
         "y": [
          0.6631
         ],
         "yaxis": "y9"
        },
        {
         "marker": {
          "color": "#55bebd "
         },
         "name": "MRR @10",
         "opacity": 0.6,
         "text": [
          "0.5876"
         ],
         "textposition": "outside",
         "type": "bar",
         "x": [
          "SS"
         ],
         "xaxis": "x10",
         "y": [
          0.5876
         ],
         "yaxis": "y10"
        },
        {
         "marker": {
          "color": "#55bebd "
         },
         "name": "MRR @10",
         "opacity": 0.6,
         "text": [
          "0.0966"
         ],
         "textposition": "outside",
         "type": "bar",
         "x": [
          "SS"
         ],
         "xaxis": "x11",
         "y": [
          0.0966
         ],
         "yaxis": "y11"
        },
        {
         "marker": {
          "color": "#55bebd "
         },
         "name": "MRR @10",
         "opacity": 0.6,
         "text": [
          "0.4782"
         ],
         "textposition": "outside",
         "type": "bar",
         "x": [
          "SS"
         ],
         "xaxis": "x12",
         "y": [
          0.4782
         ],
         "yaxis": "y12"
        },
        {
         "marker": {
          "color": "#e377c2"
         },
         "name": "NDCG @5",
         "opacity": 0.6,
         "textposition": "outside",
         "type": "bar",
         "x": [
          "LS"
         ],
         "xaxis": "x",
         "y": [
          0.711
         ],
         "yaxis": "y"
        },
        {
         "marker": {
          "color": "#e377c2"
         },
         "name": "NDCG @5",
         "opacity": 0.6,
         "textposition": "outside",
         "type": "bar",
         "x": [
          "LS"
         ],
         "xaxis": "x2",
         "y": [
          0.602
         ],
         "yaxis": "y2"
        },
        {
         "marker": {
          "color": "#e377c2"
         },
         "name": "NDCG @5",
         "opacity": 0.6,
         "textposition": "outside",
         "type": "bar",
         "x": [
          "LS"
         ],
         "xaxis": "x3",
         "y": [
          0.3976
         ],
         "yaxis": "y3"
        },
        {
         "marker": {
          "color": "#e377c2"
         },
         "name": "NDCG @5",
         "opacity": 0.6,
         "textposition": "outside",
         "type": "bar",
         "x": [
          "LS"
         ],
         "xaxis": "x4",
         "y": [
          0.5124
         ],
         "yaxis": "y4"
        },
        {
         "marker": {
          "color": "#e377c2"
         },
         "name": "NDCG @10",
         "opacity": 0.6,
         "text": [
          "0.7348"
         ],
         "textposition": "outside",
         "type": "bar",
         "x": [
          "LS"
         ],
         "xaxis": "x",
         "y": [
          0.7348
         ],
         "yaxis": "y"
        },
        {
         "marker": {
          "color": "#e377c2"
         },
         "name": "NDCG @10",
         "opacity": 0.6,
         "text": [
          "0.6324"
         ],
         "textposition": "outside",
         "type": "bar",
         "x": [
          "LS"
         ],
         "xaxis": "x2",
         "y": [
          0.6324
         ],
         "yaxis": "y2"
        },
        {
         "marker": {
          "color": "#e377c2"
         },
         "name": "NDCG @10",
         "opacity": 0.6,
         "text": [
          "0.4234"
         ],
         "textposition": "outside",
         "type": "bar",
         "x": [
          "LS"
         ],
         "xaxis": "x3",
         "y": [
          0.4234
         ],
         "yaxis": "y3"
        },
        {
         "marker": {
          "color": "#e377c2"
         },
         "name": "NDCG @10",
         "opacity": 0.6,
         "text": [
          "0.5489"
         ],
         "textposition": "outside",
         "type": "bar",
         "x": [
          "LS"
         ],
         "xaxis": "x4",
         "y": [
          0.5489
         ],
         "yaxis": "y4"
        },
        {
         "marker": {
          "color": "#e377c2"
         },
         "name": "RECALL @5",
         "opacity": 0.6,
         "textposition": "outside",
         "type": "bar",
         "x": [
          "LS"
         ],
         "xaxis": "x5",
         "y": [
          0.8333
         ],
         "yaxis": "y5"
        },
        {
         "marker": {
          "color": "#e377c2"
         },
         "name": "RECALL @5",
         "opacity": 0.6,
         "textposition": "outside",
         "type": "bar",
         "x": [
          "LS"
         ],
         "xaxis": "x6",
         "y": [
          0.718
         ],
         "yaxis": "y6"
        },
        {
         "marker": {
          "color": "#e377c2"
         },
         "name": "RECALL @5",
         "opacity": 0.6,
         "textposition": "outside",
         "type": "bar",
         "x": [
          "LS"
         ],
         "xaxis": "x7",
         "y": [
          0.1348
         ],
         "yaxis": "y7"
        },
        {
         "marker": {
          "color": "#e377c2"
         },
         "name": "RECALL @5",
         "opacity": 0.6,
         "textposition": "outside",
         "type": "bar",
         "x": [
          "LS"
         ],
         "xaxis": "x8",
         "y": [
          0.6225
         ],
         "yaxis": "y8"
        },
        {
         "marker": {
          "color": "#e377c2"
         },
         "name": "RECALL @10",
         "opacity": 0.6,
         "text": [
          "0.9048"
         ],
         "textposition": "outside",
         "type": "bar",
         "x": [
          "LS"
         ],
         "xaxis": "x5",
         "y": [
          0.9048
         ],
         "yaxis": "y5"
        },
        {
         "marker": {
          "color": "#e377c2"
         },
         "name": "RECALL @10",
         "opacity": 0.6,
         "text": [
          "0.814"
         ],
         "textposition": "outside",
         "type": "bar",
         "x": [
          "LS"
         ],
         "xaxis": "x6",
         "y": [
          0.814
         ],
         "yaxis": "y6"
        },
        {
         "marker": {
          "color": "#e377c2"
         },
         "name": "RECALL @10",
         "opacity": 0.6,
         "text": [
          "0.1748"
         ],
         "textposition": "outside",
         "type": "bar",
         "x": [
          "LS"
         ],
         "xaxis": "x7",
         "y": [
          0.1748
         ],
         "yaxis": "y7"
        },
        {
         "marker": {
          "color": "#e377c2"
         },
         "name": "RECALL @10",
         "opacity": 0.6,
         "text": [
          "0.7369"
         ],
         "textposition": "outside",
         "type": "bar",
         "x": [
          "LS"
         ],
         "xaxis": "x8",
         "y": [
          0.7369
         ],
         "yaxis": "y8"
        },
        {
         "marker": {
          "color": "#e377c2"
         },
         "name": "MRR @5",
         "opacity": 0.6,
         "textposition": "outside",
         "type": "bar",
         "x": [
          "LS"
         ],
         "xaxis": "x9",
         "y": [
          0.6698
         ],
         "yaxis": "y9"
        },
        {
         "marker": {
          "color": "#e377c2"
         },
         "name": "MRR @5",
         "opacity": 0.6,
         "textposition": "outside",
         "type": "bar",
         "x": [
          "LS"
         ],
         "xaxis": "x10",
         "y": [
          0.563
         ],
         "yaxis": "y10"
        },
        {
         "marker": {
          "color": "#e377c2"
         },
         "name": "MRR @5",
         "opacity": 0.6,
         "textposition": "outside",
         "type": "bar",
         "x": [
          "LS"
         ],
         "xaxis": "x11",
         "y": [
          0.0965
         ],
         "yaxis": "y11"
        },
        {
         "marker": {
          "color": "#e377c2"
         },
         "name": "MRR @5",
         "opacity": 0.6,
         "textposition": "outside",
         "type": "bar",
         "x": [
          "LS"
         ],
         "xaxis": "x12",
         "y": [
          0.4758
         ],
         "yaxis": "y12"
        },
        {
         "marker": {
          "color": "#e377c2"
         },
         "name": "MRR @10",
         "opacity": 0.6,
         "text": [
          "0.6801"
         ],
         "textposition": "outside",
         "type": "bar",
         "x": [
          "LS"
         ],
         "xaxis": "x9",
         "y": [
          0.6801
         ],
         "yaxis": "y9"
        },
        {
         "marker": {
          "color": "#e377c2"
         },
         "name": "MRR @10",
         "opacity": 0.6,
         "text": [
          "0.5752"
         ],
         "textposition": "outside",
         "type": "bar",
         "x": [
          "LS"
         ],
         "xaxis": "x10",
         "y": [
          0.5752
         ],
         "yaxis": "y10"
        },
        {
         "marker": {
          "color": "#e377c2"
         },
         "name": "MRR @10",
         "opacity": 0.6,
         "text": [
          "0.1017"
         ],
         "textposition": "outside",
         "type": "bar",
         "x": [
          "LS"
         ],
         "xaxis": "x11",
         "y": [
          0.1017
         ],
         "yaxis": "y11"
        },
        {
         "marker": {
          "color": "#e377c2"
         },
         "name": "MRR @10",
         "opacity": 0.6,
         "text": [
          "0.4906"
         ],
         "textposition": "outside",
         "type": "bar",
         "x": [
          "LS"
         ],
         "xaxis": "x12",
         "y": [
          0.4906
         ],
         "yaxis": "y12"
        }
       ],
       "layout": {
        "annotations": [
         {
          "font": {
           "size": 16
          },
          "showarrow": false,
          "text": "ConvFinQA",
          "x": 0.10625,
          "xanchor": "center",
          "xref": "paper",
          "y": 1,
          "yanchor": "bottom",
          "yref": "paper"
         },
         {
          "font": {
           "size": 16
          },
          "showarrow": false,
          "text": "FinQA",
          "x": 0.36875,
          "xanchor": "center",
          "xref": "paper",
          "y": 1,
          "yanchor": "bottom",
          "yref": "paper"
         },
         {
          "font": {
           "size": 16
          },
          "showarrow": false,
          "text": "MultiHeritt",
          "x": 0.6312500000000001,
          "xanchor": "center",
          "xref": "paper",
          "y": 1,
          "yanchor": "bottom",
          "yref": "paper"
         },
         {
          "font": {
           "size": 16
          },
          "showarrow": false,
          "text": "TATQA",
          "x": 0.89375,
          "xanchor": "center",
          "xref": "paper",
          "y": 1,
          "yanchor": "bottom",
          "yref": "paper"
         },
         {
          "font": {
           "size": 16
          },
          "showarrow": false,
          "text": "ConvFinQA",
          "x": 0.10625,
          "xanchor": "center",
          "xref": "paper",
          "y": 0.6111111111111112,
          "yanchor": "bottom",
          "yref": "paper"
         },
         {
          "font": {
           "size": 16
          },
          "showarrow": false,
          "text": "FinQA",
          "x": 0.36875,
          "xanchor": "center",
          "xref": "paper",
          "y": 0.6111111111111112,
          "yanchor": "bottom",
          "yref": "paper"
         },
         {
          "font": {
           "size": 16
          },
          "showarrow": false,
          "text": "MultiHeritt",
          "x": 0.6312500000000001,
          "xanchor": "center",
          "xref": "paper",
          "y": 0.6111111111111112,
          "yanchor": "bottom",
          "yref": "paper"
         },
         {
          "font": {
           "size": 16
          },
          "showarrow": false,
          "text": "TATQA",
          "x": 0.89375,
          "xanchor": "center",
          "xref": "paper",
          "y": 0.6111111111111112,
          "yanchor": "bottom",
          "yref": "paper"
         },
         {
          "font": {
           "size": 16
          },
          "showarrow": false,
          "text": "ConvFinQA",
          "x": 0.10625,
          "xanchor": "center",
          "xref": "paper",
          "y": 0.22222222222222224,
          "yanchor": "bottom",
          "yref": "paper"
         },
         {
          "font": {
           "size": 16
          },
          "showarrow": false,
          "text": "FinQA",
          "x": 0.36875,
          "xanchor": "center",
          "xref": "paper",
          "y": 0.22222222222222224,
          "yanchor": "bottom",
          "yref": "paper"
         },
         {
          "font": {
           "size": 16
          },
          "showarrow": false,
          "text": "MultiHeritt",
          "x": 0.6312500000000001,
          "xanchor": "center",
          "xref": "paper",
          "y": 0.22222222222222224,
          "yanchor": "bottom",
          "yref": "paper"
         },
         {
          "font": {
           "size": 16
          },
          "showarrow": false,
          "text": "TATQA",
          "x": 0.89375,
          "xanchor": "center",
          "xref": "paper",
          "y": 0.22222222222222224,
          "yanchor": "bottom",
          "yref": "paper"
         }
        ],
        "bargap": 0.1,
        "barmode": "overlay",
        "height": 1400,
        "showlegend": false,
        "template": {
         "data": {
          "bar": [
           {
            "error_x": {
             "color": "#2a3f5f"
            },
            "error_y": {
             "color": "#2a3f5f"
            },
            "marker": {
             "line": {
              "color": "#E5ECF6",
              "width": 0.5
             },
             "pattern": {
              "fillmode": "overlay",
              "size": 10,
              "solidity": 0.2
             }
            },
            "type": "bar"
           }
          ],
          "barpolar": [
           {
            "marker": {
             "line": {
              "color": "#E5ECF6",
              "width": 0.5
             },
             "pattern": {
              "fillmode": "overlay",
              "size": 10,
              "solidity": 0.2
             }
            },
            "type": "barpolar"
           }
          ],
          "carpet": [
           {
            "aaxis": {
             "endlinecolor": "#2a3f5f",
             "gridcolor": "white",
             "linecolor": "white",
             "minorgridcolor": "white",
             "startlinecolor": "#2a3f5f"
            },
            "baxis": {
             "endlinecolor": "#2a3f5f",
             "gridcolor": "white",
             "linecolor": "white",
             "minorgridcolor": "white",
             "startlinecolor": "#2a3f5f"
            },
            "type": "carpet"
           }
          ],
          "choropleth": [
           {
            "colorbar": {
             "outlinewidth": 0,
             "ticks": ""
            },
            "type": "choropleth"
           }
          ],
          "contour": [
           {
            "colorbar": {
             "outlinewidth": 0,
             "ticks": ""
            },
            "colorscale": [
             [
              0,
              "#0d0887"
             ],
             [
              0.1111111111111111,
              "#46039f"
             ],
             [
              0.2222222222222222,
              "#7201a8"
             ],
             [
              0.3333333333333333,
              "#9c179e"
             ],
             [
              0.4444444444444444,
              "#bd3786"
             ],
             [
              0.5555555555555556,
              "#d8576b"
             ],
             [
              0.6666666666666666,
              "#ed7953"
             ],
             [
              0.7777777777777778,
              "#fb9f3a"
             ],
             [
              0.8888888888888888,
              "#fdca26"
             ],
             [
              1,
              "#f0f921"
             ]
            ],
            "type": "contour"
           }
          ],
          "contourcarpet": [
           {
            "colorbar": {
             "outlinewidth": 0,
             "ticks": ""
            },
            "type": "contourcarpet"
           }
          ],
          "heatmap": [
           {
            "colorbar": {
             "outlinewidth": 0,
             "ticks": ""
            },
            "colorscale": [
             [
              0,
              "#0d0887"
             ],
             [
              0.1111111111111111,
              "#46039f"
             ],
             [
              0.2222222222222222,
              "#7201a8"
             ],
             [
              0.3333333333333333,
              "#9c179e"
             ],
             [
              0.4444444444444444,
              "#bd3786"
             ],
             [
              0.5555555555555556,
              "#d8576b"
             ],
             [
              0.6666666666666666,
              "#ed7953"
             ],
             [
              0.7777777777777778,
              "#fb9f3a"
             ],
             [
              0.8888888888888888,
              "#fdca26"
             ],
             [
              1,
              "#f0f921"
             ]
            ],
            "type": "heatmap"
           }
          ],
          "histogram": [
           {
            "marker": {
             "pattern": {
              "fillmode": "overlay",
              "size": 10,
              "solidity": 0.2
             }
            },
            "type": "histogram"
           }
          ],
          "histogram2d": [
           {
            "colorbar": {
             "outlinewidth": 0,
             "ticks": ""
            },
            "colorscale": [
             [
              0,
              "#0d0887"
             ],
             [
              0.1111111111111111,
              "#46039f"
             ],
             [
              0.2222222222222222,
              "#7201a8"
             ],
             [
              0.3333333333333333,
              "#9c179e"
             ],
             [
              0.4444444444444444,
              "#bd3786"
             ],
             [
              0.5555555555555556,
              "#d8576b"
             ],
             [
              0.6666666666666666,
              "#ed7953"
             ],
             [
              0.7777777777777778,
              "#fb9f3a"
             ],
             [
              0.8888888888888888,
              "#fdca26"
             ],
             [
              1,
              "#f0f921"
             ]
            ],
            "type": "histogram2d"
           }
          ],
          "histogram2dcontour": [
           {
            "colorbar": {
             "outlinewidth": 0,
             "ticks": ""
            },
            "colorscale": [
             [
              0,
              "#0d0887"
             ],
             [
              0.1111111111111111,
              "#46039f"
             ],
             [
              0.2222222222222222,
              "#7201a8"
             ],
             [
              0.3333333333333333,
              "#9c179e"
             ],
             [
              0.4444444444444444,
              "#bd3786"
             ],
             [
              0.5555555555555556,
              "#d8576b"
             ],
             [
              0.6666666666666666,
              "#ed7953"
             ],
             [
              0.7777777777777778,
              "#fb9f3a"
             ],
             [
              0.8888888888888888,
              "#fdca26"
             ],
             [
              1,
              "#f0f921"
             ]
            ],
            "type": "histogram2dcontour"
           }
          ],
          "mesh3d": [
           {
            "colorbar": {
             "outlinewidth": 0,
             "ticks": ""
            },
            "type": "mesh3d"
           }
          ],
          "parcoords": [
           {
            "line": {
             "colorbar": {
              "outlinewidth": 0,
              "ticks": ""
             }
            },
            "type": "parcoords"
           }
          ],
          "pie": [
           {
            "automargin": true,
            "type": "pie"
           }
          ],
          "scatter": [
           {
            "fillpattern": {
             "fillmode": "overlay",
             "size": 10,
             "solidity": 0.2
            },
            "type": "scatter"
           }
          ],
          "scatter3d": [
           {
            "line": {
             "colorbar": {
              "outlinewidth": 0,
              "ticks": ""
             }
            },
            "marker": {
             "colorbar": {
              "outlinewidth": 0,
              "ticks": ""
             }
            },
            "type": "scatter3d"
           }
          ],
          "scattercarpet": [
           {
            "marker": {
             "colorbar": {
              "outlinewidth": 0,
              "ticks": ""
             }
            },
            "type": "scattercarpet"
           }
          ],
          "scattergeo": [
           {
            "marker": {
             "colorbar": {
              "outlinewidth": 0,
              "ticks": ""
             }
            },
            "type": "scattergeo"
           }
          ],
          "scattergl": [
           {
            "marker": {
             "colorbar": {
              "outlinewidth": 0,
              "ticks": ""
             }
            },
            "type": "scattergl"
           }
          ],
          "scattermap": [
           {
            "marker": {
             "colorbar": {
              "outlinewidth": 0,
              "ticks": ""
             }
            },
            "type": "scattermap"
           }
          ],
          "scattermapbox": [
           {
            "marker": {
             "colorbar": {
              "outlinewidth": 0,
              "ticks": ""
             }
            },
            "type": "scattermapbox"
           }
          ],
          "scatterpolar": [
           {
            "marker": {
             "colorbar": {
              "outlinewidth": 0,
              "ticks": ""
             }
            },
            "type": "scatterpolar"
           }
          ],
          "scatterpolargl": [
           {
            "marker": {
             "colorbar": {
              "outlinewidth": 0,
              "ticks": ""
             }
            },
            "type": "scatterpolargl"
           }
          ],
          "scatterternary": [
           {
            "marker": {
             "colorbar": {
              "outlinewidth": 0,
              "ticks": ""
             }
            },
            "type": "scatterternary"
           }
          ],
          "surface": [
           {
            "colorbar": {
             "outlinewidth": 0,
             "ticks": ""
            },
            "colorscale": [
             [
              0,
              "#0d0887"
             ],
             [
              0.1111111111111111,
              "#46039f"
             ],
             [
              0.2222222222222222,
              "#7201a8"
             ],
             [
              0.3333333333333333,
              "#9c179e"
             ],
             [
              0.4444444444444444,
              "#bd3786"
             ],
             [
              0.5555555555555556,
              "#d8576b"
             ],
             [
              0.6666666666666666,
              "#ed7953"
             ],
             [
              0.7777777777777778,
              "#fb9f3a"
             ],
             [
              0.8888888888888888,
              "#fdca26"
             ],
             [
              1,
              "#f0f921"
             ]
            ],
            "type": "surface"
           }
          ],
          "table": [
           {
            "cells": {
             "fill": {
              "color": "#EBF0F8"
             },
             "line": {
              "color": "white"
             }
            },
            "header": {
             "fill": {
              "color": "#C8D4E3"
             },
             "line": {
              "color": "white"
             }
            },
            "type": "table"
           }
          ]
         },
         "layout": {
          "annotationdefaults": {
           "arrowcolor": "#2a3f5f",
           "arrowhead": 0,
           "arrowwidth": 1
          },
          "autotypenumbers": "strict",
          "coloraxis": {
           "colorbar": {
            "outlinewidth": 0,
            "ticks": ""
           }
          },
          "colorscale": {
           "diverging": [
            [
             0,
             "#8e0152"
            ],
            [
             0.1,
             "#c51b7d"
            ],
            [
             0.2,
             "#de77ae"
            ],
            [
             0.3,
             "#f1b6da"
            ],
            [
             0.4,
             "#fde0ef"
            ],
            [
             0.5,
             "#f7f7f7"
            ],
            [
             0.6,
             "#e6f5d0"
            ],
            [
             0.7,
             "#b8e186"
            ],
            [
             0.8,
             "#7fbc41"
            ],
            [
             0.9,
             "#4d9221"
            ],
            [
             1,
             "#276419"
            ]
           ],
           "sequential": [
            [
             0,
             "#0d0887"
            ],
            [
             0.1111111111111111,
             "#46039f"
            ],
            [
             0.2222222222222222,
             "#7201a8"
            ],
            [
             0.3333333333333333,
             "#9c179e"
            ],
            [
             0.4444444444444444,
             "#bd3786"
            ],
            [
             0.5555555555555556,
             "#d8576b"
            ],
            [
             0.6666666666666666,
             "#ed7953"
            ],
            [
             0.7777777777777778,
             "#fb9f3a"
            ],
            [
             0.8888888888888888,
             "#fdca26"
            ],
            [
             1,
             "#f0f921"
            ]
           ],
           "sequentialminus": [
            [
             0,
             "#0d0887"
            ],
            [
             0.1111111111111111,
             "#46039f"
            ],
            [
             0.2222222222222222,
             "#7201a8"
            ],
            [
             0.3333333333333333,
             "#9c179e"
            ],
            [
             0.4444444444444444,
             "#bd3786"
            ],
            [
             0.5555555555555556,
             "#d8576b"
            ],
            [
             0.6666666666666666,
             "#ed7953"
            ],
            [
             0.7777777777777778,
             "#fb9f3a"
            ],
            [
             0.8888888888888888,
             "#fdca26"
            ],
            [
             1,
             "#f0f921"
            ]
           ]
          },
          "colorway": [
           "#636efa",
           "#EF553B",
           "#00cc96",
           "#ab63fa",
           "#FFA15A",
           "#19d3f3",
           "#FF6692",
           "#B6E880",
           "#FF97FF",
           "#FECB52"
          ],
          "font": {
           "color": "#2a3f5f"
          },
          "geo": {
           "bgcolor": "white",
           "lakecolor": "white",
           "landcolor": "#E5ECF6",
           "showlakes": true,
           "showland": true,
           "subunitcolor": "white"
          },
          "hoverlabel": {
           "align": "left"
          },
          "hovermode": "closest",
          "mapbox": {
           "style": "light"
          },
          "paper_bgcolor": "white",
          "plot_bgcolor": "#E5ECF6",
          "polar": {
           "angularaxis": {
            "gridcolor": "white",
            "linecolor": "white",
            "ticks": ""
           },
           "bgcolor": "#E5ECF6",
           "radialaxis": {
            "gridcolor": "white",
            "linecolor": "white",
            "ticks": ""
           }
          },
          "scene": {
           "xaxis": {
            "backgroundcolor": "#E5ECF6",
            "gridcolor": "white",
            "gridwidth": 2,
            "linecolor": "white",
            "showbackground": true,
            "ticks": "",
            "zerolinecolor": "white"
           },
           "yaxis": {
            "backgroundcolor": "#E5ECF6",
            "gridcolor": "white",
            "gridwidth": 2,
            "linecolor": "white",
            "showbackground": true,
            "ticks": "",
            "zerolinecolor": "white"
           },
           "zaxis": {
            "backgroundcolor": "#E5ECF6",
            "gridcolor": "white",
            "gridwidth": 2,
            "linecolor": "white",
            "showbackground": true,
            "ticks": "",
            "zerolinecolor": "white"
           }
          },
          "shapedefaults": {
           "line": {
            "color": "#2a3f5f"
           }
          },
          "ternary": {
           "aaxis": {
            "gridcolor": "white",
            "linecolor": "white",
            "ticks": ""
           },
           "baxis": {
            "gridcolor": "white",
            "linecolor": "white",
            "ticks": ""
           },
           "bgcolor": "#E5ECF6",
           "caxis": {
            "gridcolor": "white",
            "linecolor": "white",
            "ticks": ""
           }
          },
          "title": {
           "x": 0.05
          },
          "xaxis": {
           "automargin": true,
           "gridcolor": "white",
           "linecolor": "white",
           "ticks": "",
           "title": {
            "standoff": 15
           },
           "zerolinecolor": "white",
           "zerolinewidth": 2
          },
          "yaxis": {
           "automargin": true,
           "gridcolor": "white",
           "linecolor": "white",
           "ticks": "",
           "title": {
            "standoff": 15
           },
           "zerolinecolor": "white",
           "zerolinewidth": 2
          }
         }
        },
        "title": {
         "text": "Comparison of Approaches per Dataset and Metric"
        },
        "width": 1400,
        "xaxis": {
         "anchor": "y",
         "domain": [
          0,
          0.2125
         ],
         "title": {
          "text": "Approaches"
         }
        },
        "xaxis10": {
         "anchor": "y10",
         "domain": [
          0.2625,
          0.475
         ],
         "title": {
          "text": "Approaches"
         }
        },
        "xaxis11": {
         "anchor": "y11",
         "domain": [
          0.525,
          0.7375
         ],
         "title": {
          "text": "Approaches"
         }
        },
        "xaxis12": {
         "anchor": "y12",
         "domain": [
          0.7875,
          1
         ],
         "title": {
          "text": "Approaches"
         }
        },
        "xaxis2": {
         "anchor": "y2",
         "domain": [
          0.2625,
          0.475
         ],
         "title": {
          "text": "Approaches"
         }
        },
        "xaxis3": {
         "anchor": "y3",
         "domain": [
          0.525,
          0.7375
         ],
         "title": {
          "text": "Approaches"
         }
        },
        "xaxis4": {
         "anchor": "y4",
         "domain": [
          0.7875,
          1
         ],
         "title": {
          "text": "Approaches"
         }
        },
        "xaxis5": {
         "anchor": "y5",
         "domain": [
          0,
          0.2125
         ],
         "title": {
          "text": "Approaches"
         }
        },
        "xaxis6": {
         "anchor": "y6",
         "domain": [
          0.2625,
          0.475
         ],
         "title": {
          "text": "Approaches"
         }
        },
        "xaxis7": {
         "anchor": "y7",
         "domain": [
          0.525,
          0.7375
         ],
         "title": {
          "text": "Approaches"
         }
        },
        "xaxis8": {
         "anchor": "y8",
         "domain": [
          0.7875,
          1
         ],
         "title": {
          "text": "Approaches"
         }
        },
        "xaxis9": {
         "anchor": "y9",
         "domain": [
          0,
          0.2125
         ],
         "title": {
          "text": "Approaches"
         }
        },
        "yaxis": {
         "anchor": "x",
         "domain": [
          0.7777777777777778,
          1
         ],
         "range": [
          0,
          0.9
         ],
         "title": {
          "text": "NDCG Score"
         }
        },
        "yaxis10": {
         "anchor": "x10",
         "domain": [
          0,
          0.22222222222222224
         ],
         "range": [
          0,
          0.8
         ]
        },
        "yaxis11": {
         "anchor": "x11",
         "domain": [
          0,
          0.22222222222222224
         ],
         "range": [
          0,
          0.6
         ]
        },
        "yaxis12": {
         "anchor": "x12",
         "domain": [
          0,
          0.22222222222222224
         ],
         "range": [
          0,
          0.8
         ]
        },
        "yaxis2": {
         "anchor": "x2",
         "domain": [
          0.7777777777777778,
          1
         ],
         "range": [
          0,
          0.9
         ]
        },
        "yaxis3": {
         "anchor": "x3",
         "domain": [
          0.7777777777777778,
          1
         ],
         "range": [
          0,
          0.6
         ]
        },
        "yaxis4": {
         "anchor": "x4",
         "domain": [
          0.7777777777777778,
          1
         ],
         "range": [
          0,
          0.9
         ]
        },
        "yaxis5": {
         "anchor": "x5",
         "domain": [
          0.3888888888888889,
          0.6111111111111112
         ],
         "range": [
          0,
          1
         ],
         "title": {
          "text": "RECALL Score"
         }
        },
        "yaxis6": {
         "anchor": "x6",
         "domain": [
          0.3888888888888889,
          0.6111111111111112
         ],
         "range": [
          0,
          1
         ]
        },
        "yaxis7": {
         "anchor": "x7",
         "domain": [
          0.3888888888888889,
          0.6111111111111112
         ],
         "range": [
          0,
          0.6
         ]
        },
        "yaxis8": {
         "anchor": "x8",
         "domain": [
          0.3888888888888889,
          0.6111111111111112
         ],
         "range": [
          0,
          1
         ]
        },
        "yaxis9": {
         "anchor": "x9",
         "domain": [
          0,
          0.22222222222222224
         ],
         "range": [
          0,
          0.8
         ],
         "title": {
          "text": "MRR Score"
         }
        }
       }
      }
     },
     "metadata": {},
     "output_type": "display_data"
    }
   ],
   "source": [
    "plot_table_results(df_results_ns, df_results_ss, df_results_ls)"
   ]
  },
  {
   "cell_type": "markdown",
   "metadata": {},
   "source": [
    "The Long sumamry is the best approach!\n",
    "Only the FinQA prefer the short summaries"
   ]
  },
  {
   "cell_type": "code",
   "execution_count": null,
   "metadata": {},
   "outputs": [
    {
     "data": {
      "application/vnd.plotly.v1+json": {
       "config": {
        "plotlyServerURL": "https://plot.ly"
       },
       "data": [
        {
         "marker": {
          "color": "#fc6a03"
         },
         "name": "NDCG @5",
         "opacity": 0.6,
         "textposition": "outside",
         "type": "bar",
         "x": [
          "NS"
         ],
         "xaxis": "x",
         "y": [
          0.6203
         ],
         "yaxis": "y"
        },
        {
         "marker": {
          "color": "#fc6a03"
         },
         "name": "NDCG @5",
         "opacity": 0.6,
         "textposition": "outside",
         "type": "bar",
         "x": [
          "NS"
         ],
         "xaxis": "x2",
         "y": [
          0.5292
         ],
         "yaxis": "y2"
        },
        {
         "marker": {
          "color": "#fc6a03"
         },
         "name": "NDCG @5",
         "opacity": 0.6,
         "textposition": "outside",
         "type": "bar",
         "x": [
          "NS"
         ],
         "xaxis": "x3",
         "y": [
          0.3549
         ],
         "yaxis": "y3"
        },
        {
         "marker": {
          "color": "#fc6a03"
         },
         "name": "NDCG @5",
         "opacity": 0.6,
         "textposition": "outside",
         "type": "bar",
         "x": [
          "NS"
         ],
         "xaxis": "x4",
         "y": [
          0.4767
         ],
         "yaxis": "y4"
        },
        {
         "marker": {
          "color": "#fc6a03"
         },
         "name": "NDCG @10",
         "opacity": 0.6,
         "text": [
          "0.6482"
         ],
         "textposition": "outside",
         "type": "bar",
         "x": [
          "NS"
         ],
         "xaxis": "x",
         "y": [
          0.6482
         ],
         "yaxis": "y"
        },
        {
         "marker": {
          "color": "#fc6a03"
         },
         "name": "NDCG @10",
         "opacity": 0.6,
         "text": [
          "0.565"
         ],
         "textposition": "outside",
         "type": "bar",
         "x": [
          "NS"
         ],
         "xaxis": "x2",
         "y": [
          0.565
         ],
         "yaxis": "y2"
        },
        {
         "marker": {
          "color": "#fc6a03"
         },
         "name": "NDCG @10",
         "opacity": 0.6,
         "text": [
          "0.3808"
         ],
         "textposition": "outside",
         "type": "bar",
         "x": [
          "NS"
         ],
         "xaxis": "x3",
         "y": [
          0.3808
         ],
         "yaxis": "y3"
        },
        {
         "marker": {
          "color": "#fc6a03"
         },
         "name": "NDCG @10",
         "opacity": 0.6,
         "text": [
          "0.5106"
         ],
         "textposition": "outside",
         "type": "bar",
         "x": [
          "NS"
         ],
         "xaxis": "x4",
         "y": [
          0.5106
         ],
         "yaxis": "y4"
        },
        {
         "marker": {
          "color": "#fc6a03"
         },
         "name": "RECALL @5",
         "opacity": 0.6,
         "textposition": "outside",
         "type": "bar",
         "x": [
          "NS"
         ],
         "xaxis": "x5",
         "y": [
          0.754
         ],
         "yaxis": "y5"
        },
        {
         "marker": {
          "color": "#fc6a03"
         },
         "name": "RECALL @5",
         "opacity": 0.6,
         "textposition": "outside",
         "type": "bar",
         "x": [
          "NS"
         ],
         "xaxis": "x6",
         "y": [
          0.6453
         ],
         "yaxis": "y6"
        },
        {
         "marker": {
          "color": "#fc6a03"
         },
         "name": "RECALL @5",
         "opacity": 0.6,
         "textposition": "outside",
         "type": "bar",
         "x": [
          "NS"
         ],
         "xaxis": "x7",
         "y": [
          0.1228
         ],
         "yaxis": "y7"
        },
        {
         "marker": {
          "color": "#fc6a03"
         },
         "name": "RECALL @5",
         "opacity": 0.6,
         "textposition": "outside",
         "type": "bar",
         "x": [
          "NS"
         ],
         "xaxis": "x8",
         "y": [
          0.5904
         ],
         "yaxis": "y8"
        },
        {
         "marker": {
          "color": "#fc6a03"
         },
         "name": "RECALL @10",
         "opacity": 0.6,
         "text": [
          "0.8413"
         ],
         "textposition": "outside",
         "type": "bar",
         "x": [
          "NS"
         ],
         "xaxis": "x5",
         "y": [
          0.8413
         ],
         "yaxis": "y5"
        },
        {
         "marker": {
          "color": "#fc6a03"
         },
         "name": "RECALL @10",
         "opacity": 0.6,
         "text": [
          "0.7587"
         ],
         "textposition": "outside",
         "type": "bar",
         "x": [
          "NS"
         ],
         "xaxis": "x6",
         "y": [
          0.7587
         ],
         "yaxis": "y6"
        },
        {
         "marker": {
          "color": "#fc6a03"
         },
         "name": "RECALL @10",
         "opacity": 0.6,
         "text": [
          "0.1602"
         ],
         "textposition": "outside",
         "type": "bar",
         "x": [
          "NS"
         ],
         "xaxis": "x7",
         "y": [
          0.1602
         ],
         "yaxis": "y7"
        },
        {
         "marker": {
          "color": "#fc6a03"
         },
         "name": "RECALL @10",
         "opacity": 0.6,
         "text": [
          "0.6928"
         ],
         "textposition": "outside",
         "type": "bar",
         "x": [
          "NS"
         ],
         "xaxis": "x8",
         "y": [
          0.6928
         ],
         "yaxis": "y8"
        },
        {
         "marker": {
          "color": "#fc6a03"
         },
         "name": "MRR @5",
         "opacity": 0.6,
         "textposition": "outside",
         "type": "bar",
         "x": [
          "NS"
         ],
         "xaxis": "x9",
         "y": [
          0.5761
         ],
         "yaxis": "y9"
        },
        {
         "marker": {
          "color": "#fc6a03"
         },
         "name": "MRR @5",
         "opacity": 0.6,
         "textposition": "outside",
         "type": "bar",
         "x": [
          "NS"
         ],
         "xaxis": "x10",
         "y": [
          0.4903
         ],
         "yaxis": "y10"
        },
        {
         "marker": {
          "color": "#fc6a03"
         },
         "name": "MRR @5",
         "opacity": 0.6,
         "textposition": "outside",
         "type": "bar",
         "x": [
          "NS"
         ],
         "xaxis": "x11",
         "y": [
          0.0859
         ],
         "yaxis": "y11"
        },
        {
         "marker": {
          "color": "#fc6a03"
         },
         "name": "MRR @5",
         "opacity": 0.6,
         "textposition": "outside",
         "type": "bar",
         "x": [
          "NS"
         ],
         "xaxis": "x12",
         "y": [
          0.4394
         ],
         "yaxis": "y12"
        },
        {
         "marker": {
          "color": "#fc6a03"
         },
         "name": "MRR @10",
         "opacity": 0.6,
         "text": [
          "0.5874"
         ],
         "textposition": "outside",
         "type": "bar",
         "x": [
          "NS"
         ],
         "xaxis": "x9",
         "y": [
          0.5874
         ],
         "yaxis": "y9"
        },
        {
         "marker": {
          "color": "#fc6a03"
         },
         "name": "MRR @10",
         "opacity": 0.6,
         "text": [
          "0.5046"
         ],
         "textposition": "outside",
         "type": "bar",
         "x": [
          "NS"
         ],
         "xaxis": "x10",
         "y": [
          0.5046
         ],
         "yaxis": "y10"
        },
        {
         "marker": {
          "color": "#fc6a03"
         },
         "name": "MRR @10",
         "opacity": 0.6,
         "text": [
          "0.0908"
         ],
         "textposition": "outside",
         "type": "bar",
         "x": [
          "NS"
         ],
         "xaxis": "x11",
         "y": [
          0.0908
         ],
         "yaxis": "y11"
        },
        {
         "marker": {
          "color": "#fc6a03"
         },
         "name": "MRR @10",
         "opacity": 0.6,
         "text": [
          "0.4537"
         ],
         "textposition": "outside",
         "type": "bar",
         "x": [
          "NS"
         ],
         "xaxis": "x12",
         "y": [
          0.4537
         ],
         "yaxis": "y12"
        },
        {
         "marker": {
          "color": "#55bebd "
         },
         "name": "NDCG @5",
         "opacity": 0.6,
         "textposition": "outside",
         "type": "bar",
         "x": [
          "SS"
         ],
         "xaxis": "x",
         "y": [
          0.6936
         ],
         "yaxis": "y"
        },
        {
         "marker": {
          "color": "#55bebd "
         },
         "name": "NDCG @5",
         "opacity": 0.6,
         "textposition": "outside",
         "type": "bar",
         "x": [
          "SS"
         ],
         "xaxis": "x2",
         "y": [
          0.6129
         ],
         "yaxis": "y2"
        },
        {
         "marker": {
          "color": "#55bebd "
         },
         "name": "NDCG @5",
         "opacity": 0.6,
         "textposition": "outside",
         "type": "bar",
         "x": [
          "SS"
         ],
         "xaxis": "x3",
         "y": [
          0.384
         ],
         "yaxis": "y3"
        },
        {
         "marker": {
          "color": "#55bebd "
         },
         "name": "NDCG @5",
         "opacity": 0.6,
         "textposition": "outside",
         "type": "bar",
         "x": [
          "SS"
         ],
         "xaxis": "x4",
         "y": [
          0.5032
         ],
         "yaxis": "y4"
        },
        {
         "marker": {
          "color": "#55bebd "
         },
         "name": "NDCG @10",
         "opacity": 0.6,
         "text": [
          "0.7198"
         ],
         "textposition": "outside",
         "type": "bar",
         "x": [
          "SS"
         ],
         "xaxis": "x",
         "y": [
          0.7198
         ],
         "yaxis": "y"
        },
        {
         "marker": {
          "color": "#55bebd "
         },
         "name": "NDCG @10",
         "opacity": 0.6,
         "text": [
          "0.6418"
         ],
         "textposition": "outside",
         "type": "bar",
         "x": [
          "SS"
         ],
         "xaxis": "x2",
         "y": [
          0.6418
         ],
         "yaxis": "y2"
        },
        {
         "marker": {
          "color": "#55bebd "
         },
         "name": "NDCG @10",
         "opacity": 0.6,
         "text": [
          "0.4109"
         ],
         "textposition": "outside",
         "type": "bar",
         "x": [
          "SS"
         ],
         "xaxis": "x3",
         "y": [
          0.4109
         ],
         "yaxis": "y3"
        },
        {
         "marker": {
          "color": "#55bebd "
         },
         "name": "NDCG @10",
         "opacity": 0.6,
         "text": [
          "0.5391"
         ],
         "textposition": "outside",
         "type": "bar",
         "x": [
          "SS"
         ],
         "xaxis": "x4",
         "y": [
          0.5391
         ],
         "yaxis": "y4"
        },
        {
         "marker": {
          "color": "#55bebd "
         },
         "name": "RECALL @5",
         "opacity": 0.6,
         "textposition": "outside",
         "type": "bar",
         "x": [
          "SS"
         ],
         "xaxis": "x5",
         "y": [
          0.8175
         ],
         "yaxis": "y5"
        },
        {
         "marker": {
          "color": "#55bebd "
         },
         "name": "RECALL @5",
         "opacity": 0.6,
         "textposition": "outside",
         "type": "bar",
         "x": [
          "SS"
         ],
         "xaxis": "x6",
         "y": [
          0.7238
         ],
         "yaxis": "y6"
        },
        {
         "marker": {
          "color": "#55bebd "
         },
         "name": "RECALL @5",
         "opacity": 0.6,
         "textposition": "outside",
         "type": "bar",
         "x": [
          "SS"
         ],
         "xaxis": "x7",
         "y": [
          0.132
         ],
         "yaxis": "y7"
        },
        {
         "marker": {
          "color": "#55bebd "
         },
         "name": "RECALL @5",
         "opacity": 0.6,
         "textposition": "outside",
         "type": "bar",
         "x": [
          "SS"
         ],
         "xaxis": "x8",
         "y": [
          0.6225
         ],
         "yaxis": "y8"
        },
        {
         "marker": {
          "color": "#55bebd "
         },
         "name": "RECALL @10",
         "opacity": 0.6,
         "text": [
          "0.8968"
         ],
         "textposition": "outside",
         "type": "bar",
         "x": [
          "SS"
         ],
         "xaxis": "x5",
         "y": [
          0.8968
         ],
         "yaxis": "y5"
        },
        {
         "marker": {
          "color": "#55bebd "
         },
         "name": "RECALL @10",
         "opacity": 0.6,
         "text": [
          "0.814"
         ],
         "textposition": "outside",
         "type": "bar",
         "x": [
          "SS"
         ],
         "xaxis": "x6",
         "y": [
          0.814
         ],
         "yaxis": "y6"
        },
        {
         "marker": {
          "color": "#55bebd "
         },
         "name": "RECALL @10",
         "opacity": 0.6,
         "text": [
          "0.1677"
         ],
         "textposition": "outside",
         "type": "bar",
         "x": [
          "SS"
         ],
         "xaxis": "x7",
         "y": [
          0.1677
         ],
         "yaxis": "y7"
        },
        {
         "marker": {
          "color": "#55bebd "
         },
         "name": "RECALL @10",
         "opacity": 0.6,
         "text": [
          "0.7329"
         ],
         "textposition": "outside",
         "type": "bar",
         "x": [
          "SS"
         ],
         "xaxis": "x8",
         "y": [
          0.7329
         ],
         "yaxis": "y8"
        },
        {
         "marker": {
          "color": "#55bebd "
         },
         "name": "MRR @5",
         "opacity": 0.6,
         "textposition": "outside",
         "type": "bar",
         "x": [
          "SS"
         ],
         "xaxis": "x9",
         "y": [
          0.652
         ],
         "yaxis": "y9"
        },
        {
         "marker": {
          "color": "#55bebd "
         },
         "name": "MRR @5",
         "opacity": 0.6,
         "textposition": "outside",
         "type": "bar",
         "x": [
          "SS"
         ],
         "xaxis": "x10",
         "y": [
          0.5757
         ],
         "yaxis": "y10"
        },
        {
         "marker": {
          "color": "#55bebd "
         },
         "name": "MRR @5",
         "opacity": 0.6,
         "textposition": "outside",
         "type": "bar",
         "x": [
          "SS"
         ],
         "xaxis": "x11",
         "y": [
          0.0919
         ],
         "yaxis": "y11"
        },
        {
         "marker": {
          "color": "#55bebd "
         },
         "name": "MRR @5",
         "opacity": 0.6,
         "textposition": "outside",
         "type": "bar",
         "x": [
          "SS"
         ],
         "xaxis": "x12",
         "y": [
          0.4633
         ],
         "yaxis": "y12"
        },
        {
         "marker": {
          "color": "#55bebd "
         },
         "name": "MRR @10",
         "opacity": 0.6,
         "text": [
          "0.6631"
         ],
         "textposition": "outside",
         "type": "bar",
         "x": [
          "SS"
         ],
         "xaxis": "x9",
         "y": [
          0.6631
         ],
         "yaxis": "y9"
        },
        {
         "marker": {
          "color": "#55bebd "
         },
         "name": "MRR @10",
         "opacity": 0.6,
         "text": [
          "0.5876"
         ],
         "textposition": "outside",
         "type": "bar",
         "x": [
          "SS"
         ],
         "xaxis": "x10",
         "y": [
          0.5876
         ],
         "yaxis": "y10"
        },
        {
         "marker": {
          "color": "#55bebd "
         },
         "name": "MRR @10",
         "opacity": 0.6,
         "text": [
          "0.0966"
         ],
         "textposition": "outside",
         "type": "bar",
         "x": [
          "SS"
         ],
         "xaxis": "x11",
         "y": [
          0.0966
         ],
         "yaxis": "y11"
        },
        {
         "marker": {
          "color": "#55bebd "
         },
         "name": "MRR @10",
         "opacity": 0.6,
         "text": [
          "0.4782"
         ],
         "textposition": "outside",
         "type": "bar",
         "x": [
          "SS"
         ],
         "xaxis": "x12",
         "y": [
          0.4782
         ],
         "yaxis": "y12"
        },
        {
         "marker": {
          "color": "#e377c2"
         },
         "name": "NDCG @5",
         "opacity": 0.6,
         "textposition": "outside",
         "type": "bar",
         "x": [
          "LS"
         ],
         "xaxis": "x",
         "y": [
          0.711
         ],
         "yaxis": "y"
        },
        {
         "marker": {
          "color": "#e377c2"
         },
         "name": "NDCG @5",
         "opacity": 0.6,
         "textposition": "outside",
         "type": "bar",
         "x": [
          "LS"
         ],
         "xaxis": "x2",
         "y": [
          0.602
         ],
         "yaxis": "y2"
        },
        {
         "marker": {
          "color": "#e377c2"
         },
         "name": "NDCG @5",
         "opacity": 0.6,
         "textposition": "outside",
         "type": "bar",
         "x": [
          "LS"
         ],
         "xaxis": "x3",
         "y": [
          0.3976
         ],
         "yaxis": "y3"
        },
        {
         "marker": {
          "color": "#e377c2"
         },
         "name": "NDCG @5",
         "opacity": 0.6,
         "textposition": "outside",
         "type": "bar",
         "x": [
          "LS"
         ],
         "xaxis": "x4",
         "y": [
          0.5124
         ],
         "yaxis": "y4"
        },
        {
         "marker": {
          "color": "#e377c2"
         },
         "name": "NDCG @10",
         "opacity": 0.6,
         "text": [
          "0.7348"
         ],
         "textposition": "outside",
         "type": "bar",
         "x": [
          "LS"
         ],
         "xaxis": "x",
         "y": [
          0.7348
         ],
         "yaxis": "y"
        },
        {
         "marker": {
          "color": "#e377c2"
         },
         "name": "NDCG @10",
         "opacity": 0.6,
         "text": [
          "0.6324"
         ],
         "textposition": "outside",
         "type": "bar",
         "x": [
          "LS"
         ],
         "xaxis": "x2",
         "y": [
          0.6324
         ],
         "yaxis": "y2"
        },
        {
         "marker": {
          "color": "#e377c2"
         },
         "name": "NDCG @10",
         "opacity": 0.6,
         "text": [
          "0.4234"
         ],
         "textposition": "outside",
         "type": "bar",
         "x": [
          "LS"
         ],
         "xaxis": "x3",
         "y": [
          0.4234
         ],
         "yaxis": "y3"
        },
        {
         "marker": {
          "color": "#e377c2"
         },
         "name": "NDCG @10",
         "opacity": 0.6,
         "text": [
          "0.5489"
         ],
         "textposition": "outside",
         "type": "bar",
         "x": [
          "LS"
         ],
         "xaxis": "x4",
         "y": [
          0.5489
         ],
         "yaxis": "y4"
        },
        {
         "marker": {
          "color": "#e377c2"
         },
         "name": "RECALL @5",
         "opacity": 0.6,
         "textposition": "outside",
         "type": "bar",
         "x": [
          "LS"
         ],
         "xaxis": "x5",
         "y": [
          0.8333
         ],
         "yaxis": "y5"
        },
        {
         "marker": {
          "color": "#e377c2"
         },
         "name": "RECALL @5",
         "opacity": 0.6,
         "textposition": "outside",
         "type": "bar",
         "x": [
          "LS"
         ],
         "xaxis": "x6",
         "y": [
          0.718
         ],
         "yaxis": "y6"
        },
        {
         "marker": {
          "color": "#e377c2"
         },
         "name": "RECALL @5",
         "opacity": 0.6,
         "textposition": "outside",
         "type": "bar",
         "x": [
          "LS"
         ],
         "xaxis": "x7",
         "y": [
          0.1348
         ],
         "yaxis": "y7"
        },
        {
         "marker": {
          "color": "#e377c2"
         },
         "name": "RECALL @5",
         "opacity": 0.6,
         "textposition": "outside",
         "type": "bar",
         "x": [
          "LS"
         ],
         "xaxis": "x8",
         "y": [
          0.6225
         ],
         "yaxis": "y8"
        },
        {
         "marker": {
          "color": "#e377c2"
         },
         "name": "RECALL @10",
         "opacity": 0.6,
         "text": [
          "0.9048"
         ],
         "textposition": "outside",
         "type": "bar",
         "x": [
          "LS"
         ],
         "xaxis": "x5",
         "y": [
          0.9048
         ],
         "yaxis": "y5"
        },
        {
         "marker": {
          "color": "#e377c2"
         },
         "name": "RECALL @10",
         "opacity": 0.6,
         "text": [
          "0.814"
         ],
         "textposition": "outside",
         "type": "bar",
         "x": [
          "LS"
         ],
         "xaxis": "x6",
         "y": [
          0.814
         ],
         "yaxis": "y6"
        },
        {
         "marker": {
          "color": "#e377c2"
         },
         "name": "RECALL @10",
         "opacity": 0.6,
         "text": [
          "0.1748"
         ],
         "textposition": "outside",
         "type": "bar",
         "x": [
          "LS"
         ],
         "xaxis": "x7",
         "y": [
          0.1748
         ],
         "yaxis": "y7"
        },
        {
         "marker": {
          "color": "#e377c2"
         },
         "name": "RECALL @10",
         "opacity": 0.6,
         "text": [
          "0.7369"
         ],
         "textposition": "outside",
         "type": "bar",
         "x": [
          "LS"
         ],
         "xaxis": "x8",
         "y": [
          0.7369
         ],
         "yaxis": "y8"
        },
        {
         "marker": {
          "color": "#e377c2"
         },
         "name": "MRR @5",
         "opacity": 0.6,
         "textposition": "outside",
         "type": "bar",
         "x": [
          "LS"
         ],
         "xaxis": "x9",
         "y": [
          0.6698
         ],
         "yaxis": "y9"
        },
        {
         "marker": {
          "color": "#e377c2"
         },
         "name": "MRR @5",
         "opacity": 0.6,
         "textposition": "outside",
         "type": "bar",
         "x": [
          "LS"
         ],
         "xaxis": "x10",
         "y": [
          0.563
         ],
         "yaxis": "y10"
        },
        {
         "marker": {
          "color": "#e377c2"
         },
         "name": "MRR @5",
         "opacity": 0.6,
         "textposition": "outside",
         "type": "bar",
         "x": [
          "LS"
         ],
         "xaxis": "x11",
         "y": [
          0.0965
         ],
         "yaxis": "y11"
        },
        {
         "marker": {
          "color": "#e377c2"
         },
         "name": "MRR @5",
         "opacity": 0.6,
         "textposition": "outside",
         "type": "bar",
         "x": [
          "LS"
         ],
         "xaxis": "x12",
         "y": [
          0.4758
         ],
         "yaxis": "y12"
        },
        {
         "marker": {
          "color": "#e377c2"
         },
         "name": "MRR @10",
         "opacity": 0.6,
         "text": [
          "0.6801"
         ],
         "textposition": "outside",
         "type": "bar",
         "x": [
          "LS"
         ],
         "xaxis": "x9",
         "y": [
          0.6801
         ],
         "yaxis": "y9"
        },
        {
         "marker": {
          "color": "#e377c2"
         },
         "name": "MRR @10",
         "opacity": 0.6,
         "text": [
          "0.5752"
         ],
         "textposition": "outside",
         "type": "bar",
         "x": [
          "LS"
         ],
         "xaxis": "x10",
         "y": [
          0.5752
         ],
         "yaxis": "y10"
        },
        {
         "marker": {
          "color": "#e377c2"
         },
         "name": "MRR @10",
         "opacity": 0.6,
         "text": [
          "0.1017"
         ],
         "textposition": "outside",
         "type": "bar",
         "x": [
          "LS"
         ],
         "xaxis": "x11",
         "y": [
          0.1017
         ],
         "yaxis": "y11"
        },
        {
         "marker": {
          "color": "#e377c2"
         },
         "name": "MRR @10",
         "opacity": 0.6,
         "text": [
          "0.4906"
         ],
         "textposition": "outside",
         "type": "bar",
         "x": [
          "LS"
         ],
         "xaxis": "x12",
         "y": [
          0.4906
         ],
         "yaxis": "y12"
        },
        {
         "marker": {
          "color": "#2ca02c"
         },
         "name": "NDCG @5",
         "opacity": 0.6,
         "textposition": "outside",
         "type": "bar",
         "x": [
          "QR"
         ],
         "xaxis": "x",
         "y": [
          0.7445
         ],
         "yaxis": "y"
        },
        {
         "marker": {
          "color": "#2ca02c"
         },
         "name": "NDCG @5",
         "opacity": 0.6,
         "textposition": "outside",
         "type": "bar",
         "x": [
          "QR"
         ],
         "xaxis": "x2",
         "y": [
          0.576
         ],
         "yaxis": "y2"
        },
        {
         "marker": {
          "color": "#2ca02c"
         },
         "name": "NDCG @5",
         "opacity": 0.6,
         "textposition": "outside",
         "type": "bar",
         "x": [
          "QR"
         ],
         "xaxis": "x3",
         "y": [
          0.4067
         ],
         "yaxis": "y3"
        },
        {
         "marker": {
          "color": "#2ca02c"
         },
         "name": "NDCG @5",
         "opacity": 0.6,
         "textposition": "outside",
         "type": "bar",
         "x": [
          "QR"
         ],
         "xaxis": "x4",
         "y": [
          0.4935
         ],
         "yaxis": "y4"
        },
        {
         "marker": {
          "color": "#2ca02c"
         },
         "name": "NDCG @10",
         "opacity": 0.6,
         "text": [
          "0.7554"
         ],
         "textposition": "outside",
         "type": "bar",
         "x": [
          "QR"
         ],
         "xaxis": "x",
         "y": [
          0.7554
         ],
         "yaxis": "y"
        },
        {
         "marker": {
          "color": "#2ca02c"
         },
         "name": "NDCG @10",
         "opacity": 0.6,
         "text": [
          "0.6088"
         ],
         "textposition": "outside",
         "type": "bar",
         "x": [
          "QR"
         ],
         "xaxis": "x2",
         "y": [
          0.6088
         ],
         "yaxis": "y2"
        },
        {
         "marker": {
          "color": "#2ca02c"
         },
         "name": "NDCG @10",
         "opacity": 0.6,
         "text": [
          "0.4259"
         ],
         "textposition": "outside",
         "type": "bar",
         "x": [
          "QR"
         ],
         "xaxis": "x3",
         "y": [
          0.4259
         ],
         "yaxis": "y3"
        },
        {
         "marker": {
          "color": "#2ca02c"
         },
         "name": "NDCG @10",
         "opacity": 0.6,
         "text": [
          "0.5302"
         ],
         "textposition": "outside",
         "type": "bar",
         "x": [
          "QR"
         ],
         "xaxis": "x4",
         "y": [
          0.5302
         ],
         "yaxis": "y4"
        },
        {
         "marker": {
          "color": "#2ca02c"
         },
         "name": "RECALL @5",
         "opacity": 0.6,
         "textposition": "outside",
         "type": "bar",
         "x": [
          "QR"
         ],
         "xaxis": "x5",
         "y": [
          0.8492
         ],
         "yaxis": "y5"
        },
        {
         "marker": {
          "color": "#2ca02c"
         },
         "name": "RECALL @5",
         "opacity": 0.6,
         "textposition": "outside",
         "type": "bar",
         "x": [
          "QR"
         ],
         "xaxis": "x6",
         "y": [
          0.6919
         ],
         "yaxis": "y6"
        },
        {
         "marker": {
          "color": "#2ca02c"
         },
         "name": "RECALL @5",
         "opacity": 0.6,
         "textposition": "outside",
         "type": "bar",
         "x": [
          "QR"
         ],
         "xaxis": "x7",
         "y": [
          0.1384
         ],
         "yaxis": "y7"
        },
        {
         "marker": {
          "color": "#2ca02c"
         },
         "name": "RECALL @5",
         "opacity": 0.6,
         "textposition": "outside",
         "type": "bar",
         "x": [
          "QR"
         ],
         "xaxis": "x8",
         "y": [
          0.6004
         ],
         "yaxis": "y8"
        },
        {
         "marker": {
          "color": "#2ca02c"
         },
         "name": "RECALL @10",
         "opacity": 0.6,
         "text": [
          "0.881"
         ],
         "textposition": "outside",
         "type": "bar",
         "x": [
          "QR"
         ],
         "xaxis": "x5",
         "y": [
          0.881
         ],
         "yaxis": "y5"
        },
        {
         "marker": {
          "color": "#2ca02c"
         },
         "name": "RECALL @10",
         "opacity": 0.6,
         "text": [
          "0.7936"
         ],
         "textposition": "outside",
         "type": "bar",
         "x": [
          "QR"
         ],
         "xaxis": "x6",
         "y": [
          0.7936
         ],
         "yaxis": "y6"
        },
        {
         "marker": {
          "color": "#2ca02c"
         },
         "name": "RECALL @10",
         "opacity": 0.6,
         "text": [
          "0.1696"
         ],
         "textposition": "outside",
         "type": "bar",
         "x": [
          "QR"
         ],
         "xaxis": "x7",
         "y": [
          0.1696
         ],
         "yaxis": "y7"
        },
        {
         "marker": {
          "color": "#2ca02c"
         },
         "name": "RECALL @10",
         "opacity": 0.6,
         "text": [
          "0.7149"
         ],
         "textposition": "outside",
         "type": "bar",
         "x": [
          "QR"
         ],
         "xaxis": "x8",
         "y": [
          0.7149
         ],
         "yaxis": "y8"
        },
        {
         "marker": {
          "color": "#2ca02c"
         },
         "name": "MRR @5",
         "opacity": 0.6,
         "textposition": "outside",
         "type": "bar",
         "x": [
          "QR"
         ],
         "xaxis": "x9",
         "y": [
          0.7086
         ],
         "yaxis": "y9"
        },
        {
         "marker": {
          "color": "#2ca02c"
         },
         "name": "MRR @5",
         "opacity": 0.6,
         "textposition": "outside",
         "type": "bar",
         "x": [
          "QR"
         ],
         "xaxis": "x10",
         "y": [
          0.5374
         ],
         "yaxis": "y10"
        },
        {
         "marker": {
          "color": "#2ca02c"
         },
         "name": "MRR @5",
         "opacity": 0.6,
         "textposition": "outside",
         "type": "bar",
         "x": [
          "QR"
         ],
         "xaxis": "x11",
         "y": [
          0.0987
         ],
         "yaxis": "y11"
        },
        {
         "marker": {
          "color": "#2ca02c"
         },
         "name": "MRR @5",
         "opacity": 0.6,
         "textposition": "outside",
         "type": "bar",
         "x": [
          "QR"
         ],
         "xaxis": "x12",
         "y": [
          0.4582
         ],
         "yaxis": "y12"
        },
        {
         "marker": {
          "color": "#2ca02c"
         },
         "name": "MRR @10",
         "opacity": 0.6,
         "text": [
          "0.7134"
         ],
         "textposition": "outside",
         "type": "bar",
         "x": [
          "QR"
         ],
         "xaxis": "x9",
         "y": [
          0.7134
         ],
         "yaxis": "y9"
        },
        {
         "marker": {
          "color": "#2ca02c"
         },
         "name": "MRR @10",
         "opacity": 0.6,
         "text": [
          "0.5509"
         ],
         "textposition": "outside",
         "type": "bar",
         "x": [
          "QR"
         ],
         "xaxis": "x10",
         "y": [
          0.5509
         ],
         "yaxis": "y10"
        },
        {
         "marker": {
          "color": "#2ca02c"
         },
         "name": "MRR @10",
         "opacity": 0.6,
         "text": [
          "0.103"
         ],
         "textposition": "outside",
         "type": "bar",
         "x": [
          "QR"
         ],
         "xaxis": "x11",
         "y": [
          0.103
         ],
         "yaxis": "y11"
        },
        {
         "marker": {
          "color": "#2ca02c"
         },
         "name": "MRR @10",
         "opacity": 0.6,
         "text": [
          "0.4731"
         ],
         "textposition": "outside",
         "type": "bar",
         "x": [
          "QR"
         ],
         "xaxis": "x12",
         "y": [
          0.4731
         ],
         "yaxis": "y12"
        },
        {
         "marker": {
          "color": "#9467bd"
         },
         "name": "NDCG @5",
         "opacity": 0.6,
         "textposition": "outside",
         "type": "bar",
         "x": [
          "Q2D"
         ],
         "xaxis": "x",
         "y": [
          0.7226
         ],
         "yaxis": "y"
        },
        {
         "marker": {
          "color": "#9467bd"
         },
         "name": "NDCG @5",
         "opacity": 0.6,
         "textposition": "outside",
         "type": "bar",
         "x": [
          "Q2D"
         ],
         "xaxis": "x2",
         "y": [
          0.5666
         ],
         "yaxis": "y2"
        },
        {
         "marker": {
          "color": "#9467bd"
         },
         "name": "NDCG @5",
         "opacity": 0.6,
         "textposition": "outside",
         "type": "bar",
         "x": [
          "Q2D"
         ],
         "xaxis": "x3",
         "y": [
          0.3864
         ],
         "yaxis": "y3"
        },
        {
         "marker": {
          "color": "#9467bd"
         },
         "name": "NDCG @5",
         "opacity": 0.6,
         "textposition": "outside",
         "type": "bar",
         "x": [
          "Q2D"
         ],
         "xaxis": "x4",
         "y": [
          0.4746
         ],
         "yaxis": "y4"
        },
        {
         "marker": {
          "color": "#9467bd"
         },
         "name": "NDCG @10",
         "opacity": 0.6,
         "text": [
          "0.7412"
         ],
         "textposition": "outside",
         "type": "bar",
         "x": [
          "Q2D"
         ],
         "xaxis": "x",
         "y": [
          0.7412
         ],
         "yaxis": "y"
        },
        {
         "marker": {
          "color": "#9467bd"
         },
         "name": "NDCG @10",
         "opacity": 0.6,
         "text": [
          "0.5989"
         ],
         "textposition": "outside",
         "type": "bar",
         "x": [
          "Q2D"
         ],
         "xaxis": "x2",
         "y": [
          0.5989
         ],
         "yaxis": "y2"
        },
        {
         "marker": {
          "color": "#9467bd"
         },
         "name": "NDCG @10",
         "opacity": 0.6,
         "text": [
          "0.4142"
         ],
         "textposition": "outside",
         "type": "bar",
         "x": [
          "Q2D"
         ],
         "xaxis": "x3",
         "y": [
          0.4142
         ],
         "yaxis": "y3"
        },
        {
         "marker": {
          "color": "#9467bd"
         },
         "name": "NDCG @10",
         "opacity": 0.6,
         "text": [
          "0.5099"
         ],
         "textposition": "outside",
         "type": "bar",
         "x": [
          "Q2D"
         ],
         "xaxis": "x4",
         "y": [
          0.5099
         ],
         "yaxis": "y4"
        },
        {
         "marker": {
          "color": "#9467bd"
         },
         "name": "RECALL @5",
         "opacity": 0.6,
         "textposition": "outside",
         "type": "bar",
         "x": [
          "Q2D"
         ],
         "xaxis": "x5",
         "y": [
          0.8175
         ],
         "yaxis": "y5"
        },
        {
         "marker": {
          "color": "#9467bd"
         },
         "name": "RECALL @5",
         "opacity": 0.6,
         "textposition": "outside",
         "type": "bar",
         "x": [
          "Q2D"
         ],
         "xaxis": "x6",
         "y": [
          0.6744
         ],
         "yaxis": "y6"
        },
        {
         "marker": {
          "color": "#9467bd"
         },
         "name": "RECALL @5",
         "opacity": 0.6,
         "textposition": "outside",
         "type": "bar",
         "x": [
          "Q2D"
         ],
         "xaxis": "x7",
         "y": [
          0.1331
         ],
         "yaxis": "y7"
        },
        {
         "marker": {
          "color": "#9467bd"
         },
         "name": "RECALL @5",
         "opacity": 0.6,
         "textposition": "outside",
         "type": "bar",
         "x": [
          "Q2D"
         ],
         "xaxis": "x8",
         "y": [
          0.5944
         ],
         "yaxis": "y8"
        },
        {
         "marker": {
          "color": "#9467bd"
         },
         "name": "RECALL @10",
         "opacity": 0.6,
         "text": [
          "0.873"
         ],
         "textposition": "outside",
         "type": "bar",
         "x": [
          "Q2D"
         ],
         "xaxis": "x5",
         "y": [
          0.873
         ],
         "yaxis": "y5"
        },
        {
         "marker": {
          "color": "#9467bd"
         },
         "name": "RECALL @10",
         "opacity": 0.6,
         "text": [
          "0.7762"
         ],
         "textposition": "outside",
         "type": "bar",
         "x": [
          "Q2D"
         ],
         "xaxis": "x6",
         "y": [
          0.7762
         ],
         "yaxis": "y6"
        },
        {
         "marker": {
          "color": "#9467bd"
         },
         "name": "RECALL @10",
         "opacity": 0.6,
         "text": [
          "0.1733"
         ],
         "textposition": "outside",
         "type": "bar",
         "x": [
          "Q2D"
         ],
         "xaxis": "x7",
         "y": [
          0.1733
         ],
         "yaxis": "y7"
        },
        {
         "marker": {
          "color": "#9467bd"
         },
         "name": "RECALL @10",
         "opacity": 0.6,
         "text": [
          "0.7048"
         ],
         "textposition": "outside",
         "type": "bar",
         "x": [
          "Q2D"
         ],
         "xaxis": "x8",
         "y": [
          0.7048
         ],
         "yaxis": "y8"
        },
        {
         "marker": {
          "color": "#9467bd"
         },
         "name": "MRR @5",
         "opacity": 0.6,
         "textposition": "outside",
         "type": "bar",
         "x": [
          "Q2D"
         ],
         "xaxis": "x9",
         "y": [
          0.6901
         ],
         "yaxis": "y9"
        },
        {
         "marker": {
          "color": "#9467bd"
         },
         "name": "MRR @5",
         "opacity": 0.6,
         "textposition": "outside",
         "type": "bar",
         "x": [
          "Q2D"
         ],
         "xaxis": "x10",
         "y": [
          0.5308
         ],
         "yaxis": "y10"
        },
        {
         "marker": {
          "color": "#9467bd"
         },
         "name": "MRR @5",
         "opacity": 0.6,
         "textposition": "outside",
         "type": "bar",
         "x": [
          "Q2D"
         ],
         "xaxis": "x11",
         "y": [
          0.0942
         ],
         "yaxis": "y11"
        },
        {
         "marker": {
          "color": "#9467bd"
         },
         "name": "MRR @5",
         "opacity": 0.6,
         "textposition": "outside",
         "type": "bar",
         "x": [
          "Q2D"
         ],
         "xaxis": "x12",
         "y": [
          0.435
         ],
         "yaxis": "y12"
        },
        {
         "marker": {
          "color": "#9467bd"
         },
         "name": "MRR @10",
         "opacity": 0.6,
         "text": [
          "0.6982"
         ],
         "textposition": "outside",
         "type": "bar",
         "x": [
          "Q2D"
         ],
         "xaxis": "x9",
         "y": [
          0.6982
         ],
         "yaxis": "y9"
        },
        {
         "marker": {
          "color": "#9467bd"
         },
         "name": "MRR @10",
         "opacity": 0.6,
         "text": [
          "0.5437"
         ],
         "textposition": "outside",
         "type": "bar",
         "x": [
          "Q2D"
         ],
         "xaxis": "x10",
         "y": [
          0.5437
         ],
         "yaxis": "y10"
        },
        {
         "marker": {
          "color": "#9467bd"
         },
         "name": "MRR @10",
         "opacity": 0.6,
         "text": [
          "0.0996"
         ],
         "textposition": "outside",
         "type": "bar",
         "x": [
          "Q2D"
         ],
         "xaxis": "x11",
         "y": [
          0.0996
         ],
         "yaxis": "y11"
        },
        {
         "marker": {
          "color": "#9467bd"
         },
         "name": "MRR @10",
         "opacity": 0.6,
         "text": [
          "0.4494"
         ],
         "textposition": "outside",
         "type": "bar",
         "x": [
          "Q2D"
         ],
         "xaxis": "x12",
         "y": [
          0.4494
         ],
         "yaxis": "y12"
        }
       ],
       "layout": {
        "annotations": [
         {
          "font": {
           "size": 16
          },
          "showarrow": false,
          "text": "ConvFinQA",
          "x": 0.10625,
          "xanchor": "center",
          "xref": "paper",
          "y": 1,
          "yanchor": "bottom",
          "yref": "paper"
         },
         {
          "font": {
           "size": 16
          },
          "showarrow": false,
          "text": "FinQA",
          "x": 0.36875,
          "xanchor": "center",
          "xref": "paper",
          "y": 1,
          "yanchor": "bottom",
          "yref": "paper"
         },
         {
          "font": {
           "size": 16
          },
          "showarrow": false,
          "text": "MultiHeritt",
          "x": 0.6312500000000001,
          "xanchor": "center",
          "xref": "paper",
          "y": 1,
          "yanchor": "bottom",
          "yref": "paper"
         },
         {
          "font": {
           "size": 16
          },
          "showarrow": false,
          "text": "TATQA",
          "x": 0.89375,
          "xanchor": "center",
          "xref": "paper",
          "y": 1,
          "yanchor": "bottom",
          "yref": "paper"
         },
         {
          "font": {
           "size": 16
          },
          "showarrow": false,
          "text": "ConvFinQA",
          "x": 0.10625,
          "xanchor": "center",
          "xref": "paper",
          "y": 0.6111111111111112,
          "yanchor": "bottom",
          "yref": "paper"
         },
         {
          "font": {
           "size": 16
          },
          "showarrow": false,
          "text": "FinQA",
          "x": 0.36875,
          "xanchor": "center",
          "xref": "paper",
          "y": 0.6111111111111112,
          "yanchor": "bottom",
          "yref": "paper"
         },
         {
          "font": {
           "size": 16
          },
          "showarrow": false,
          "text": "MultiHeritt",
          "x": 0.6312500000000001,
          "xanchor": "center",
          "xref": "paper",
          "y": 0.6111111111111112,
          "yanchor": "bottom",
          "yref": "paper"
         },
         {
          "font": {
           "size": 16
          },
          "showarrow": false,
          "text": "TATQA",
          "x": 0.89375,
          "xanchor": "center",
          "xref": "paper",
          "y": 0.6111111111111112,
          "yanchor": "bottom",
          "yref": "paper"
         },
         {
          "font": {
           "size": 16
          },
          "showarrow": false,
          "text": "ConvFinQA",
          "x": 0.10625,
          "xanchor": "center",
          "xref": "paper",
          "y": 0.22222222222222224,
          "yanchor": "bottom",
          "yref": "paper"
         },
         {
          "font": {
           "size": 16
          },
          "showarrow": false,
          "text": "FinQA",
          "x": 0.36875,
          "xanchor": "center",
          "xref": "paper",
          "y": 0.22222222222222224,
          "yanchor": "bottom",
          "yref": "paper"
         },
         {
          "font": {
           "size": 16
          },
          "showarrow": false,
          "text": "MultiHeritt",
          "x": 0.6312500000000001,
          "xanchor": "center",
          "xref": "paper",
          "y": 0.22222222222222224,
          "yanchor": "bottom",
          "yref": "paper"
         },
         {
          "font": {
           "size": 16
          },
          "showarrow": false,
          "text": "TATQA",
          "x": 0.89375,
          "xanchor": "center",
          "xref": "paper",
          "y": 0.22222222222222224,
          "yanchor": "bottom",
          "yref": "paper"
         }
        ],
        "bargap": 0.1,
        "barmode": "overlay",
        "height": 1400,
        "showlegend": false,
        "template": {
         "data": {
          "bar": [
           {
            "error_x": {
             "color": "#2a3f5f"
            },
            "error_y": {
             "color": "#2a3f5f"
            },
            "marker": {
             "line": {
              "color": "#E5ECF6",
              "width": 0.5
             },
             "pattern": {
              "fillmode": "overlay",
              "size": 10,
              "solidity": 0.2
             }
            },
            "type": "bar"
           }
          ],
          "barpolar": [
           {
            "marker": {
             "line": {
              "color": "#E5ECF6",
              "width": 0.5
             },
             "pattern": {
              "fillmode": "overlay",
              "size": 10,
              "solidity": 0.2
             }
            },
            "type": "barpolar"
           }
          ],
          "carpet": [
           {
            "aaxis": {
             "endlinecolor": "#2a3f5f",
             "gridcolor": "white",
             "linecolor": "white",
             "minorgridcolor": "white",
             "startlinecolor": "#2a3f5f"
            },
            "baxis": {
             "endlinecolor": "#2a3f5f",
             "gridcolor": "white",
             "linecolor": "white",
             "minorgridcolor": "white",
             "startlinecolor": "#2a3f5f"
            },
            "type": "carpet"
           }
          ],
          "choropleth": [
           {
            "colorbar": {
             "outlinewidth": 0,
             "ticks": ""
            },
            "type": "choropleth"
           }
          ],
          "contour": [
           {
            "colorbar": {
             "outlinewidth": 0,
             "ticks": ""
            },
            "colorscale": [
             [
              0,
              "#0d0887"
             ],
             [
              0.1111111111111111,
              "#46039f"
             ],
             [
              0.2222222222222222,
              "#7201a8"
             ],
             [
              0.3333333333333333,
              "#9c179e"
             ],
             [
              0.4444444444444444,
              "#bd3786"
             ],
             [
              0.5555555555555556,
              "#d8576b"
             ],
             [
              0.6666666666666666,
              "#ed7953"
             ],
             [
              0.7777777777777778,
              "#fb9f3a"
             ],
             [
              0.8888888888888888,
              "#fdca26"
             ],
             [
              1,
              "#f0f921"
             ]
            ],
            "type": "contour"
           }
          ],
          "contourcarpet": [
           {
            "colorbar": {
             "outlinewidth": 0,
             "ticks": ""
            },
            "type": "contourcarpet"
           }
          ],
          "heatmap": [
           {
            "colorbar": {
             "outlinewidth": 0,
             "ticks": ""
            },
            "colorscale": [
             [
              0,
              "#0d0887"
             ],
             [
              0.1111111111111111,
              "#46039f"
             ],
             [
              0.2222222222222222,
              "#7201a8"
             ],
             [
              0.3333333333333333,
              "#9c179e"
             ],
             [
              0.4444444444444444,
              "#bd3786"
             ],
             [
              0.5555555555555556,
              "#d8576b"
             ],
             [
              0.6666666666666666,
              "#ed7953"
             ],
             [
              0.7777777777777778,
              "#fb9f3a"
             ],
             [
              0.8888888888888888,
              "#fdca26"
             ],
             [
              1,
              "#f0f921"
             ]
            ],
            "type": "heatmap"
           }
          ],
          "histogram": [
           {
            "marker": {
             "pattern": {
              "fillmode": "overlay",
              "size": 10,
              "solidity": 0.2
             }
            },
            "type": "histogram"
           }
          ],
          "histogram2d": [
           {
            "colorbar": {
             "outlinewidth": 0,
             "ticks": ""
            },
            "colorscale": [
             [
              0,
              "#0d0887"
             ],
             [
              0.1111111111111111,
              "#46039f"
             ],
             [
              0.2222222222222222,
              "#7201a8"
             ],
             [
              0.3333333333333333,
              "#9c179e"
             ],
             [
              0.4444444444444444,
              "#bd3786"
             ],
             [
              0.5555555555555556,
              "#d8576b"
             ],
             [
              0.6666666666666666,
              "#ed7953"
             ],
             [
              0.7777777777777778,
              "#fb9f3a"
             ],
             [
              0.8888888888888888,
              "#fdca26"
             ],
             [
              1,
              "#f0f921"
             ]
            ],
            "type": "histogram2d"
           }
          ],
          "histogram2dcontour": [
           {
            "colorbar": {
             "outlinewidth": 0,
             "ticks": ""
            },
            "colorscale": [
             [
              0,
              "#0d0887"
             ],
             [
              0.1111111111111111,
              "#46039f"
             ],
             [
              0.2222222222222222,
              "#7201a8"
             ],
             [
              0.3333333333333333,
              "#9c179e"
             ],
             [
              0.4444444444444444,
              "#bd3786"
             ],
             [
              0.5555555555555556,
              "#d8576b"
             ],
             [
              0.6666666666666666,
              "#ed7953"
             ],
             [
              0.7777777777777778,
              "#fb9f3a"
             ],
             [
              0.8888888888888888,
              "#fdca26"
             ],
             [
              1,
              "#f0f921"
             ]
            ],
            "type": "histogram2dcontour"
           }
          ],
          "mesh3d": [
           {
            "colorbar": {
             "outlinewidth": 0,
             "ticks": ""
            },
            "type": "mesh3d"
           }
          ],
          "parcoords": [
           {
            "line": {
             "colorbar": {
              "outlinewidth": 0,
              "ticks": ""
             }
            },
            "type": "parcoords"
           }
          ],
          "pie": [
           {
            "automargin": true,
            "type": "pie"
           }
          ],
          "scatter": [
           {
            "fillpattern": {
             "fillmode": "overlay",
             "size": 10,
             "solidity": 0.2
            },
            "type": "scatter"
           }
          ],
          "scatter3d": [
           {
            "line": {
             "colorbar": {
              "outlinewidth": 0,
              "ticks": ""
             }
            },
            "marker": {
             "colorbar": {
              "outlinewidth": 0,
              "ticks": ""
             }
            },
            "type": "scatter3d"
           }
          ],
          "scattercarpet": [
           {
            "marker": {
             "colorbar": {
              "outlinewidth": 0,
              "ticks": ""
             }
            },
            "type": "scattercarpet"
           }
          ],
          "scattergeo": [
           {
            "marker": {
             "colorbar": {
              "outlinewidth": 0,
              "ticks": ""
             }
            },
            "type": "scattergeo"
           }
          ],
          "scattergl": [
           {
            "marker": {
             "colorbar": {
              "outlinewidth": 0,
              "ticks": ""
             }
            },
            "type": "scattergl"
           }
          ],
          "scattermap": [
           {
            "marker": {
             "colorbar": {
              "outlinewidth": 0,
              "ticks": ""
             }
            },
            "type": "scattermap"
           }
          ],
          "scattermapbox": [
           {
            "marker": {
             "colorbar": {
              "outlinewidth": 0,
              "ticks": ""
             }
            },
            "type": "scattermapbox"
           }
          ],
          "scatterpolar": [
           {
            "marker": {
             "colorbar": {
              "outlinewidth": 0,
              "ticks": ""
             }
            },
            "type": "scatterpolar"
           }
          ],
          "scatterpolargl": [
           {
            "marker": {
             "colorbar": {
              "outlinewidth": 0,
              "ticks": ""
             }
            },
            "type": "scatterpolargl"
           }
          ],
          "scatterternary": [
           {
            "marker": {
             "colorbar": {
              "outlinewidth": 0,
              "ticks": ""
             }
            },
            "type": "scatterternary"
           }
          ],
          "surface": [
           {
            "colorbar": {
             "outlinewidth": 0,
             "ticks": ""
            },
            "colorscale": [
             [
              0,
              "#0d0887"
             ],
             [
              0.1111111111111111,
              "#46039f"
             ],
             [
              0.2222222222222222,
              "#7201a8"
             ],
             [
              0.3333333333333333,
              "#9c179e"
             ],
             [
              0.4444444444444444,
              "#bd3786"
             ],
             [
              0.5555555555555556,
              "#d8576b"
             ],
             [
              0.6666666666666666,
              "#ed7953"
             ],
             [
              0.7777777777777778,
              "#fb9f3a"
             ],
             [
              0.8888888888888888,
              "#fdca26"
             ],
             [
              1,
              "#f0f921"
             ]
            ],
            "type": "surface"
           }
          ],
          "table": [
           {
            "cells": {
             "fill": {
              "color": "#EBF0F8"
             },
             "line": {
              "color": "white"
             }
            },
            "header": {
             "fill": {
              "color": "#C8D4E3"
             },
             "line": {
              "color": "white"
             }
            },
            "type": "table"
           }
          ]
         },
         "layout": {
          "annotationdefaults": {
           "arrowcolor": "#2a3f5f",
           "arrowhead": 0,
           "arrowwidth": 1
          },
          "autotypenumbers": "strict",
          "coloraxis": {
           "colorbar": {
            "outlinewidth": 0,
            "ticks": ""
           }
          },
          "colorscale": {
           "diverging": [
            [
             0,
             "#8e0152"
            ],
            [
             0.1,
             "#c51b7d"
            ],
            [
             0.2,
             "#de77ae"
            ],
            [
             0.3,
             "#f1b6da"
            ],
            [
             0.4,
             "#fde0ef"
            ],
            [
             0.5,
             "#f7f7f7"
            ],
            [
             0.6,
             "#e6f5d0"
            ],
            [
             0.7,
             "#b8e186"
            ],
            [
             0.8,
             "#7fbc41"
            ],
            [
             0.9,
             "#4d9221"
            ],
            [
             1,
             "#276419"
            ]
           ],
           "sequential": [
            [
             0,
             "#0d0887"
            ],
            [
             0.1111111111111111,
             "#46039f"
            ],
            [
             0.2222222222222222,
             "#7201a8"
            ],
            [
             0.3333333333333333,
             "#9c179e"
            ],
            [
             0.4444444444444444,
             "#bd3786"
            ],
            [
             0.5555555555555556,
             "#d8576b"
            ],
            [
             0.6666666666666666,
             "#ed7953"
            ],
            [
             0.7777777777777778,
             "#fb9f3a"
            ],
            [
             0.8888888888888888,
             "#fdca26"
            ],
            [
             1,
             "#f0f921"
            ]
           ],
           "sequentialminus": [
            [
             0,
             "#0d0887"
            ],
            [
             0.1111111111111111,
             "#46039f"
            ],
            [
             0.2222222222222222,
             "#7201a8"
            ],
            [
             0.3333333333333333,
             "#9c179e"
            ],
            [
             0.4444444444444444,
             "#bd3786"
            ],
            [
             0.5555555555555556,
             "#d8576b"
            ],
            [
             0.6666666666666666,
             "#ed7953"
            ],
            [
             0.7777777777777778,
             "#fb9f3a"
            ],
            [
             0.8888888888888888,
             "#fdca26"
            ],
            [
             1,
             "#f0f921"
            ]
           ]
          },
          "colorway": [
           "#636efa",
           "#EF553B",
           "#00cc96",
           "#ab63fa",
           "#FFA15A",
           "#19d3f3",
           "#FF6692",
           "#B6E880",
           "#FF97FF",
           "#FECB52"
          ],
          "font": {
           "color": "#2a3f5f"
          },
          "geo": {
           "bgcolor": "white",
           "lakecolor": "white",
           "landcolor": "#E5ECF6",
           "showlakes": true,
           "showland": true,
           "subunitcolor": "white"
          },
          "hoverlabel": {
           "align": "left"
          },
          "hovermode": "closest",
          "mapbox": {
           "style": "light"
          },
          "paper_bgcolor": "white",
          "plot_bgcolor": "#E5ECF6",
          "polar": {
           "angularaxis": {
            "gridcolor": "white",
            "linecolor": "white",
            "ticks": ""
           },
           "bgcolor": "#E5ECF6",
           "radialaxis": {
            "gridcolor": "white",
            "linecolor": "white",
            "ticks": ""
           }
          },
          "scene": {
           "xaxis": {
            "backgroundcolor": "#E5ECF6",
            "gridcolor": "white",
            "gridwidth": 2,
            "linecolor": "white",
            "showbackground": true,
            "ticks": "",
            "zerolinecolor": "white"
           },
           "yaxis": {
            "backgroundcolor": "#E5ECF6",
            "gridcolor": "white",
            "gridwidth": 2,
            "linecolor": "white",
            "showbackground": true,
            "ticks": "",
            "zerolinecolor": "white"
           },
           "zaxis": {
            "backgroundcolor": "#E5ECF6",
            "gridcolor": "white",
            "gridwidth": 2,
            "linecolor": "white",
            "showbackground": true,
            "ticks": "",
            "zerolinecolor": "white"
           }
          },
          "shapedefaults": {
           "line": {
            "color": "#2a3f5f"
           }
          },
          "ternary": {
           "aaxis": {
            "gridcolor": "white",
            "linecolor": "white",
            "ticks": ""
           },
           "baxis": {
            "gridcolor": "white",
            "linecolor": "white",
            "ticks": ""
           },
           "bgcolor": "#E5ECF6",
           "caxis": {
            "gridcolor": "white",
            "linecolor": "white",
            "ticks": ""
           }
          },
          "title": {
           "x": 0.05
          },
          "xaxis": {
           "automargin": true,
           "gridcolor": "white",
           "linecolor": "white",
           "ticks": "",
           "title": {
            "standoff": 15
           },
           "zerolinecolor": "white",
           "zerolinewidth": 2
          },
          "yaxis": {
           "automargin": true,
           "gridcolor": "white",
           "linecolor": "white",
           "ticks": "",
           "title": {
            "standoff": 15
           },
           "zerolinecolor": "white",
           "zerolinewidth": 2
          }
         }
        },
        "title": {
         "text": "Comparison of Approaches per Dataset and Metric"
        },
        "width": 1400,
        "xaxis": {
         "anchor": "y",
         "domain": [
          0,
          0.2125
         ],
         "title": {
          "text": "Approaches"
         }
        },
        "xaxis10": {
         "anchor": "y10",
         "domain": [
          0.2625,
          0.475
         ],
         "title": {
          "text": "Approaches"
         }
        },
        "xaxis11": {
         "anchor": "y11",
         "domain": [
          0.525,
          0.7375
         ],
         "title": {
          "text": "Approaches"
         }
        },
        "xaxis12": {
         "anchor": "y12",
         "domain": [
          0.7875,
          1
         ],
         "title": {
          "text": "Approaches"
         }
        },
        "xaxis2": {
         "anchor": "y2",
         "domain": [
          0.2625,
          0.475
         ],
         "title": {
          "text": "Approaches"
         }
        },
        "xaxis3": {
         "anchor": "y3",
         "domain": [
          0.525,
          0.7375
         ],
         "title": {
          "text": "Approaches"
         }
        },
        "xaxis4": {
         "anchor": "y4",
         "domain": [
          0.7875,
          1
         ],
         "title": {
          "text": "Approaches"
         }
        },
        "xaxis5": {
         "anchor": "y5",
         "domain": [
          0,
          0.2125
         ],
         "title": {
          "text": "Approaches"
         }
        },
        "xaxis6": {
         "anchor": "y6",
         "domain": [
          0.2625,
          0.475
         ],
         "title": {
          "text": "Approaches"
         }
        },
        "xaxis7": {
         "anchor": "y7",
         "domain": [
          0.525,
          0.7375
         ],
         "title": {
          "text": "Approaches"
         }
        },
        "xaxis8": {
         "anchor": "y8",
         "domain": [
          0.7875,
          1
         ],
         "title": {
          "text": "Approaches"
         }
        },
        "xaxis9": {
         "anchor": "y9",
         "domain": [
          0,
          0.2125
         ],
         "title": {
          "text": "Approaches"
         }
        },
        "yaxis": {
         "anchor": "x",
         "domain": [
          0.7777777777777778,
          1
         ],
         "range": [
          0,
          0.9
         ],
         "title": {
          "text": "NDCG Score"
         }
        },
        "yaxis10": {
         "anchor": "x10",
         "domain": [
          0,
          0.22222222222222224
         ],
         "range": [
          0,
          0.8
         ]
        },
        "yaxis11": {
         "anchor": "x11",
         "domain": [
          0,
          0.22222222222222224
         ],
         "range": [
          0,
          0.6
         ]
        },
        "yaxis12": {
         "anchor": "x12",
         "domain": [
          0,
          0.22222222222222224
         ],
         "range": [
          0,
          0.8
         ]
        },
        "yaxis2": {
         "anchor": "x2",
         "domain": [
          0.7777777777777778,
          1
         ],
         "range": [
          0,
          0.9
         ]
        },
        "yaxis3": {
         "anchor": "x3",
         "domain": [
          0.7777777777777778,
          1
         ],
         "range": [
          0,
          0.6
         ]
        },
        "yaxis4": {
         "anchor": "x4",
         "domain": [
          0.7777777777777778,
          1
         ],
         "range": [
          0,
          0.9
         ]
        },
        "yaxis5": {
         "anchor": "x5",
         "domain": [
          0.3888888888888889,
          0.6111111111111112
         ],
         "range": [
          0,
          1
         ],
         "title": {
          "text": "RECALL Score"
         }
        },
        "yaxis6": {
         "anchor": "x6",
         "domain": [
          0.3888888888888889,
          0.6111111111111112
         ],
         "range": [
          0,
          1
         ]
        },
        "yaxis7": {
         "anchor": "x7",
         "domain": [
          0.3888888888888889,
          0.6111111111111112
         ],
         "range": [
          0,
          0.6
         ]
        },
        "yaxis8": {
         "anchor": "x8",
         "domain": [
          0.3888888888888889,
          0.6111111111111112
         ],
         "range": [
          0,
          1
         ]
        },
        "yaxis9": {
         "anchor": "x9",
         "domain": [
          0,
          0.22222222222222224
         ],
         "range": [
          0,
          0.8
         ],
         "title": {
          "text": "MRR Score"
         }
        }
       }
      }
     },
     "metadata": {},
     "output_type": "display_data"
    }
   ],
   "source": [
    "plot_table_results_all(df_results_ns, df_results_ss, df_results_ls, df_results_qr, df_results_q2d)"
   ]
  },
  {
   "cell_type": "markdown",
   "metadata": {},
   "source": [
    "Plot the best approach overall, that appears to be the long summary with the query rephrase, to see the comparison of performances over the datasets"
   ]
  },
  {
   "cell_type": "code",
   "execution_count": 51,
   "metadata": {},
   "outputs": [
    {
     "data": {
      "application/vnd.plotly.v1+json": {
       "config": {
        "plotlyServerURL": "https://plot.ly"
       },
       "data": [
        {
         "marker": {
          "color": "#fc6a03"
         },
         "opacity": 0.6,
         "type": "bar",
         "x": [
          "ndcg"
         ],
         "xaxis": "x",
         "y": [
          0.7445
         ],
         "yaxis": "y"
        },
        {
         "marker": {
          "color": "#fc6a03"
         },
         "opacity": 0.6,
         "type": "bar",
         "x": [
          "ndcg"
         ],
         "xaxis": "x2",
         "y": [
          0.576
         ],
         "yaxis": "y2"
        },
        {
         "marker": {
          "color": "#fc6a03"
         },
         "opacity": 0.6,
         "type": "bar",
         "x": [
          "ndcg"
         ],
         "xaxis": "x3",
         "y": [
          0.4067
         ],
         "yaxis": "y3"
        },
        {
         "marker": {
          "color": "#fc6a03"
         },
         "opacity": 0.6,
         "type": "bar",
         "x": [
          "ndcg"
         ],
         "xaxis": "x4",
         "y": [
          0.4935
         ],
         "yaxis": "y4"
        },
        {
         "marker": {
          "color": "#fc6a03"
         },
         "opacity": 0.4,
         "text": [
          "0.7554"
         ],
         "textposition": "outside",
         "type": "bar",
         "x": [
          "ndcg"
         ],
         "xaxis": "x",
         "y": [
          0.7554
         ],
         "yaxis": "y"
        },
        {
         "marker": {
          "color": "#fc6a03"
         },
         "opacity": 0.4,
         "text": [
          "0.6088"
         ],
         "textposition": "outside",
         "type": "bar",
         "x": [
          "ndcg"
         ],
         "xaxis": "x2",
         "y": [
          0.6088
         ],
         "yaxis": "y2"
        },
        {
         "marker": {
          "color": "#fc6a03"
         },
         "opacity": 0.4,
         "text": [
          "0.4259"
         ],
         "textposition": "outside",
         "type": "bar",
         "x": [
          "ndcg"
         ],
         "xaxis": "x3",
         "y": [
          0.4259
         ],
         "yaxis": "y3"
        },
        {
         "marker": {
          "color": "#fc6a03"
         },
         "opacity": 0.4,
         "text": [
          "0.5302"
         ],
         "textposition": "outside",
         "type": "bar",
         "x": [
          "ndcg"
         ],
         "xaxis": "x4",
         "y": [
          0.5302
         ],
         "yaxis": "y4"
        },
        {
         "marker": {
          "color": "#55bebd"
         },
         "opacity": 0.6,
         "type": "bar",
         "x": [
          "recall"
         ],
         "xaxis": "x",
         "y": [
          0.8492
         ],
         "yaxis": "y"
        },
        {
         "marker": {
          "color": "#55bebd"
         },
         "opacity": 0.6,
         "type": "bar",
         "x": [
          "recall"
         ],
         "xaxis": "x2",
         "y": [
          0.6919
         ],
         "yaxis": "y2"
        },
        {
         "marker": {
          "color": "#55bebd"
         },
         "opacity": 0.6,
         "type": "bar",
         "x": [
          "recall"
         ],
         "xaxis": "x3",
         "y": [
          0.1384
         ],
         "yaxis": "y3"
        },
        {
         "marker": {
          "color": "#55bebd"
         },
         "opacity": 0.6,
         "type": "bar",
         "x": [
          "recall"
         ],
         "xaxis": "x4",
         "y": [
          0.6004
         ],
         "yaxis": "y4"
        },
        {
         "marker": {
          "color": "#55bebd"
         },
         "opacity": 0.4,
         "text": [
          "0.881"
         ],
         "textposition": "outside",
         "type": "bar",
         "x": [
          "recall"
         ],
         "xaxis": "x",
         "y": [
          0.881
         ],
         "yaxis": "y"
        },
        {
         "marker": {
          "color": "#55bebd"
         },
         "opacity": 0.4,
         "text": [
          "0.7936"
         ],
         "textposition": "outside",
         "type": "bar",
         "x": [
          "recall"
         ],
         "xaxis": "x2",
         "y": [
          0.7936
         ],
         "yaxis": "y2"
        },
        {
         "marker": {
          "color": "#55bebd"
         },
         "opacity": 0.4,
         "text": [
          "0.1696"
         ],
         "textposition": "outside",
         "type": "bar",
         "x": [
          "recall"
         ],
         "xaxis": "x3",
         "y": [
          0.1696
         ],
         "yaxis": "y3"
        },
        {
         "marker": {
          "color": "#55bebd"
         },
         "opacity": 0.4,
         "text": [
          "0.7149"
         ],
         "textposition": "outside",
         "type": "bar",
         "x": [
          "recall"
         ],
         "xaxis": "x4",
         "y": [
          0.7149
         ],
         "yaxis": "y4"
        },
        {
         "marker": {
          "color": "#e377c2"
         },
         "opacity": 0.6,
         "type": "bar",
         "x": [
          "mrr"
         ],
         "xaxis": "x",
         "y": [
          0.7086
         ],
         "yaxis": "y"
        },
        {
         "marker": {
          "color": "#e377c2"
         },
         "opacity": 0.6,
         "type": "bar",
         "x": [
          "mrr"
         ],
         "xaxis": "x2",
         "y": [
          0.5374
         ],
         "yaxis": "y2"
        },
        {
         "marker": {
          "color": "#e377c2"
         },
         "opacity": 0.6,
         "type": "bar",
         "x": [
          "mrr"
         ],
         "xaxis": "x3",
         "y": [
          0.0987
         ],
         "yaxis": "y3"
        },
        {
         "marker": {
          "color": "#e377c2"
         },
         "opacity": 0.6,
         "type": "bar",
         "x": [
          "mrr"
         ],
         "xaxis": "x4",
         "y": [
          0.4582
         ],
         "yaxis": "y4"
        },
        {
         "marker": {
          "color": "#e377c2"
         },
         "opacity": 0.4,
         "text": [
          "0.7134"
         ],
         "textposition": "outside",
         "type": "bar",
         "x": [
          "mrr"
         ],
         "xaxis": "x",
         "y": [
          0.7134
         ],
         "yaxis": "y"
        },
        {
         "marker": {
          "color": "#e377c2"
         },
         "opacity": 0.4,
         "text": [
          "0.5509"
         ],
         "textposition": "outside",
         "type": "bar",
         "x": [
          "mrr"
         ],
         "xaxis": "x2",
         "y": [
          0.5509
         ],
         "yaxis": "y2"
        },
        {
         "marker": {
          "color": "#e377c2"
         },
         "opacity": 0.4,
         "text": [
          "0.103"
         ],
         "textposition": "outside",
         "type": "bar",
         "x": [
          "mrr"
         ],
         "xaxis": "x3",
         "y": [
          0.103
         ],
         "yaxis": "y3"
        },
        {
         "marker": {
          "color": "#e377c2"
         },
         "opacity": 0.4,
         "text": [
          "0.4731"
         ],
         "textposition": "outside",
         "type": "bar",
         "x": [
          "mrr"
         ],
         "xaxis": "x4",
         "y": [
          0.4731
         ],
         "yaxis": "y4"
        }
       ],
       "layout": {
        "annotations": [
         {
          "font": {
           "size": 16
          },
          "showarrow": false,
          "text": "ConvFinQA",
          "x": 0.10625,
          "xanchor": "center",
          "xref": "paper",
          "y": 1,
          "yanchor": "bottom",
          "yref": "paper"
         },
         {
          "font": {
           "size": 16
          },
          "showarrow": false,
          "text": "FinQA",
          "x": 0.36875,
          "xanchor": "center",
          "xref": "paper",
          "y": 1,
          "yanchor": "bottom",
          "yref": "paper"
         },
         {
          "font": {
           "size": 16
          },
          "showarrow": false,
          "text": "MultiHeritt",
          "x": 0.6312500000000001,
          "xanchor": "center",
          "xref": "paper",
          "y": 1,
          "yanchor": "bottom",
          "yref": "paper"
         },
         {
          "font": {
           "size": 16
          },
          "showarrow": false,
          "text": "TATQA",
          "x": 0.89375,
          "xanchor": "center",
          "xref": "paper",
          "y": 1,
          "yanchor": "bottom",
          "yref": "paper"
         }
        ],
        "barmode": "overlay",
        "height": 400,
        "showlegend": false,
        "template": {
         "data": {
          "bar": [
           {
            "error_x": {
             "color": "#2a3f5f"
            },
            "error_y": {
             "color": "#2a3f5f"
            },
            "marker": {
             "line": {
              "color": "#E5ECF6",
              "width": 0.5
             },
             "pattern": {
              "fillmode": "overlay",
              "size": 10,
              "solidity": 0.2
             }
            },
            "type": "bar"
           }
          ],
          "barpolar": [
           {
            "marker": {
             "line": {
              "color": "#E5ECF6",
              "width": 0.5
             },
             "pattern": {
              "fillmode": "overlay",
              "size": 10,
              "solidity": 0.2
             }
            },
            "type": "barpolar"
           }
          ],
          "carpet": [
           {
            "aaxis": {
             "endlinecolor": "#2a3f5f",
             "gridcolor": "white",
             "linecolor": "white",
             "minorgridcolor": "white",
             "startlinecolor": "#2a3f5f"
            },
            "baxis": {
             "endlinecolor": "#2a3f5f",
             "gridcolor": "white",
             "linecolor": "white",
             "minorgridcolor": "white",
             "startlinecolor": "#2a3f5f"
            },
            "type": "carpet"
           }
          ],
          "choropleth": [
           {
            "colorbar": {
             "outlinewidth": 0,
             "ticks": ""
            },
            "type": "choropleth"
           }
          ],
          "contour": [
           {
            "colorbar": {
             "outlinewidth": 0,
             "ticks": ""
            },
            "colorscale": [
             [
              0,
              "#0d0887"
             ],
             [
              0.1111111111111111,
              "#46039f"
             ],
             [
              0.2222222222222222,
              "#7201a8"
             ],
             [
              0.3333333333333333,
              "#9c179e"
             ],
             [
              0.4444444444444444,
              "#bd3786"
             ],
             [
              0.5555555555555556,
              "#d8576b"
             ],
             [
              0.6666666666666666,
              "#ed7953"
             ],
             [
              0.7777777777777778,
              "#fb9f3a"
             ],
             [
              0.8888888888888888,
              "#fdca26"
             ],
             [
              1,
              "#f0f921"
             ]
            ],
            "type": "contour"
           }
          ],
          "contourcarpet": [
           {
            "colorbar": {
             "outlinewidth": 0,
             "ticks": ""
            },
            "type": "contourcarpet"
           }
          ],
          "heatmap": [
           {
            "colorbar": {
             "outlinewidth": 0,
             "ticks": ""
            },
            "colorscale": [
             [
              0,
              "#0d0887"
             ],
             [
              0.1111111111111111,
              "#46039f"
             ],
             [
              0.2222222222222222,
              "#7201a8"
             ],
             [
              0.3333333333333333,
              "#9c179e"
             ],
             [
              0.4444444444444444,
              "#bd3786"
             ],
             [
              0.5555555555555556,
              "#d8576b"
             ],
             [
              0.6666666666666666,
              "#ed7953"
             ],
             [
              0.7777777777777778,
              "#fb9f3a"
             ],
             [
              0.8888888888888888,
              "#fdca26"
             ],
             [
              1,
              "#f0f921"
             ]
            ],
            "type": "heatmap"
           }
          ],
          "histogram": [
           {
            "marker": {
             "pattern": {
              "fillmode": "overlay",
              "size": 10,
              "solidity": 0.2
             }
            },
            "type": "histogram"
           }
          ],
          "histogram2d": [
           {
            "colorbar": {
             "outlinewidth": 0,
             "ticks": ""
            },
            "colorscale": [
             [
              0,
              "#0d0887"
             ],
             [
              0.1111111111111111,
              "#46039f"
             ],
             [
              0.2222222222222222,
              "#7201a8"
             ],
             [
              0.3333333333333333,
              "#9c179e"
             ],
             [
              0.4444444444444444,
              "#bd3786"
             ],
             [
              0.5555555555555556,
              "#d8576b"
             ],
             [
              0.6666666666666666,
              "#ed7953"
             ],
             [
              0.7777777777777778,
              "#fb9f3a"
             ],
             [
              0.8888888888888888,
              "#fdca26"
             ],
             [
              1,
              "#f0f921"
             ]
            ],
            "type": "histogram2d"
           }
          ],
          "histogram2dcontour": [
           {
            "colorbar": {
             "outlinewidth": 0,
             "ticks": ""
            },
            "colorscale": [
             [
              0,
              "#0d0887"
             ],
             [
              0.1111111111111111,
              "#46039f"
             ],
             [
              0.2222222222222222,
              "#7201a8"
             ],
             [
              0.3333333333333333,
              "#9c179e"
             ],
             [
              0.4444444444444444,
              "#bd3786"
             ],
             [
              0.5555555555555556,
              "#d8576b"
             ],
             [
              0.6666666666666666,
              "#ed7953"
             ],
             [
              0.7777777777777778,
              "#fb9f3a"
             ],
             [
              0.8888888888888888,
              "#fdca26"
             ],
             [
              1,
              "#f0f921"
             ]
            ],
            "type": "histogram2dcontour"
           }
          ],
          "mesh3d": [
           {
            "colorbar": {
             "outlinewidth": 0,
             "ticks": ""
            },
            "type": "mesh3d"
           }
          ],
          "parcoords": [
           {
            "line": {
             "colorbar": {
              "outlinewidth": 0,
              "ticks": ""
             }
            },
            "type": "parcoords"
           }
          ],
          "pie": [
           {
            "automargin": true,
            "type": "pie"
           }
          ],
          "scatter": [
           {
            "fillpattern": {
             "fillmode": "overlay",
             "size": 10,
             "solidity": 0.2
            },
            "type": "scatter"
           }
          ],
          "scatter3d": [
           {
            "line": {
             "colorbar": {
              "outlinewidth": 0,
              "ticks": ""
             }
            },
            "marker": {
             "colorbar": {
              "outlinewidth": 0,
              "ticks": ""
             }
            },
            "type": "scatter3d"
           }
          ],
          "scattercarpet": [
           {
            "marker": {
             "colorbar": {
              "outlinewidth": 0,
              "ticks": ""
             }
            },
            "type": "scattercarpet"
           }
          ],
          "scattergeo": [
           {
            "marker": {
             "colorbar": {
              "outlinewidth": 0,
              "ticks": ""
             }
            },
            "type": "scattergeo"
           }
          ],
          "scattergl": [
           {
            "marker": {
             "colorbar": {
              "outlinewidth": 0,
              "ticks": ""
             }
            },
            "type": "scattergl"
           }
          ],
          "scattermap": [
           {
            "marker": {
             "colorbar": {
              "outlinewidth": 0,
              "ticks": ""
             }
            },
            "type": "scattermap"
           }
          ],
          "scattermapbox": [
           {
            "marker": {
             "colorbar": {
              "outlinewidth": 0,
              "ticks": ""
             }
            },
            "type": "scattermapbox"
           }
          ],
          "scatterpolar": [
           {
            "marker": {
             "colorbar": {
              "outlinewidth": 0,
              "ticks": ""
             }
            },
            "type": "scatterpolar"
           }
          ],
          "scatterpolargl": [
           {
            "marker": {
             "colorbar": {
              "outlinewidth": 0,
              "ticks": ""
             }
            },
            "type": "scatterpolargl"
           }
          ],
          "scatterternary": [
           {
            "marker": {
             "colorbar": {
              "outlinewidth": 0,
              "ticks": ""
             }
            },
            "type": "scatterternary"
           }
          ],
          "surface": [
           {
            "colorbar": {
             "outlinewidth": 0,
             "ticks": ""
            },
            "colorscale": [
             [
              0,
              "#0d0887"
             ],
             [
              0.1111111111111111,
              "#46039f"
             ],
             [
              0.2222222222222222,
              "#7201a8"
             ],
             [
              0.3333333333333333,
              "#9c179e"
             ],
             [
              0.4444444444444444,
              "#bd3786"
             ],
             [
              0.5555555555555556,
              "#d8576b"
             ],
             [
              0.6666666666666666,
              "#ed7953"
             ],
             [
              0.7777777777777778,
              "#fb9f3a"
             ],
             [
              0.8888888888888888,
              "#fdca26"
             ],
             [
              1,
              "#f0f921"
             ]
            ],
            "type": "surface"
           }
          ],
          "table": [
           {
            "cells": {
             "fill": {
              "color": "#EBF0F8"
             },
             "line": {
              "color": "white"
             }
            },
            "header": {
             "fill": {
              "color": "#C8D4E3"
             },
             "line": {
              "color": "white"
             }
            },
            "type": "table"
           }
          ]
         },
         "layout": {
          "annotationdefaults": {
           "arrowcolor": "#2a3f5f",
           "arrowhead": 0,
           "arrowwidth": 1
          },
          "autotypenumbers": "strict",
          "coloraxis": {
           "colorbar": {
            "outlinewidth": 0,
            "ticks": ""
           }
          },
          "colorscale": {
           "diverging": [
            [
             0,
             "#8e0152"
            ],
            [
             0.1,
             "#c51b7d"
            ],
            [
             0.2,
             "#de77ae"
            ],
            [
             0.3,
             "#f1b6da"
            ],
            [
             0.4,
             "#fde0ef"
            ],
            [
             0.5,
             "#f7f7f7"
            ],
            [
             0.6,
             "#e6f5d0"
            ],
            [
             0.7,
             "#b8e186"
            ],
            [
             0.8,
             "#7fbc41"
            ],
            [
             0.9,
             "#4d9221"
            ],
            [
             1,
             "#276419"
            ]
           ],
           "sequential": [
            [
             0,
             "#0d0887"
            ],
            [
             0.1111111111111111,
             "#46039f"
            ],
            [
             0.2222222222222222,
             "#7201a8"
            ],
            [
             0.3333333333333333,
             "#9c179e"
            ],
            [
             0.4444444444444444,
             "#bd3786"
            ],
            [
             0.5555555555555556,
             "#d8576b"
            ],
            [
             0.6666666666666666,
             "#ed7953"
            ],
            [
             0.7777777777777778,
             "#fb9f3a"
            ],
            [
             0.8888888888888888,
             "#fdca26"
            ],
            [
             1,
             "#f0f921"
            ]
           ],
           "sequentialminus": [
            [
             0,
             "#0d0887"
            ],
            [
             0.1111111111111111,
             "#46039f"
            ],
            [
             0.2222222222222222,
             "#7201a8"
            ],
            [
             0.3333333333333333,
             "#9c179e"
            ],
            [
             0.4444444444444444,
             "#bd3786"
            ],
            [
             0.5555555555555556,
             "#d8576b"
            ],
            [
             0.6666666666666666,
             "#ed7953"
            ],
            [
             0.7777777777777778,
             "#fb9f3a"
            ],
            [
             0.8888888888888888,
             "#fdca26"
            ],
            [
             1,
             "#f0f921"
            ]
           ]
          },
          "colorway": [
           "#636efa",
           "#EF553B",
           "#00cc96",
           "#ab63fa",
           "#FFA15A",
           "#19d3f3",
           "#FF6692",
           "#B6E880",
           "#FF97FF",
           "#FECB52"
          ],
          "font": {
           "color": "#2a3f5f"
          },
          "geo": {
           "bgcolor": "white",
           "lakecolor": "white",
           "landcolor": "#E5ECF6",
           "showlakes": true,
           "showland": true,
           "subunitcolor": "white"
          },
          "hoverlabel": {
           "align": "left"
          },
          "hovermode": "closest",
          "mapbox": {
           "style": "light"
          },
          "paper_bgcolor": "white",
          "plot_bgcolor": "#E5ECF6",
          "polar": {
           "angularaxis": {
            "gridcolor": "white",
            "linecolor": "white",
            "ticks": ""
           },
           "bgcolor": "#E5ECF6",
           "radialaxis": {
            "gridcolor": "white",
            "linecolor": "white",
            "ticks": ""
           }
          },
          "scene": {
           "xaxis": {
            "backgroundcolor": "#E5ECF6",
            "gridcolor": "white",
            "gridwidth": 2,
            "linecolor": "white",
            "showbackground": true,
            "ticks": "",
            "zerolinecolor": "white"
           },
           "yaxis": {
            "backgroundcolor": "#E5ECF6",
            "gridcolor": "white",
            "gridwidth": 2,
            "linecolor": "white",
            "showbackground": true,
            "ticks": "",
            "zerolinecolor": "white"
           },
           "zaxis": {
            "backgroundcolor": "#E5ECF6",
            "gridcolor": "white",
            "gridwidth": 2,
            "linecolor": "white",
            "showbackground": true,
            "ticks": "",
            "zerolinecolor": "white"
           }
          },
          "shapedefaults": {
           "line": {
            "color": "#2a3f5f"
           }
          },
          "ternary": {
           "aaxis": {
            "gridcolor": "white",
            "linecolor": "white",
            "ticks": ""
           },
           "baxis": {
            "gridcolor": "white",
            "linecolor": "white",
            "ticks": ""
           },
           "bgcolor": "#E5ECF6",
           "caxis": {
            "gridcolor": "white",
            "linecolor": "white",
            "ticks": ""
           }
          },
          "title": {
           "x": 0.05
          },
          "xaxis": {
           "automargin": true,
           "gridcolor": "white",
           "linecolor": "white",
           "ticks": "",
           "title": {
            "standoff": 15
           },
           "zerolinecolor": "white",
           "zerolinewidth": 2
          },
          "yaxis": {
           "automargin": true,
           "gridcolor": "white",
           "linecolor": "white",
           "ticks": "",
           "title": {
            "standoff": 15
           },
           "zerolinecolor": "white",
           "zerolinewidth": 2
          }
         }
        },
        "title": {
         "text": "Metrics across Datasets for the Best Approach: LS + Query Rephrase"
        },
        "width": 1300,
        "xaxis": {
         "anchor": "y",
         "domain": [
          0,
          0.2125
         ],
         "title": {
          "text": "Metrics"
         }
        },
        "xaxis2": {
         "anchor": "y2",
         "domain": [
          0.2625,
          0.475
         ],
         "title": {
          "text": "Metrics"
         }
        },
        "xaxis3": {
         "anchor": "y3",
         "domain": [
          0.525,
          0.7375
         ],
         "title": {
          "text": "Metrics"
         }
        },
        "xaxis4": {
         "anchor": "y4",
         "domain": [
          0.7875,
          1
         ],
         "title": {
          "text": "Metrics"
         }
        },
        "yaxis": {
         "anchor": "x",
         "domain": [
          0,
          1
         ],
         "range": [
          0,
          1
         ],
         "showticklabels": true
        },
        "yaxis2": {
         "anchor": "x2",
         "domain": [
          0,
          1
         ],
         "matches": "y",
         "range": [
          0,
          1
         ],
         "showticklabels": true
        },
        "yaxis3": {
         "anchor": "x3",
         "domain": [
          0,
          1
         ],
         "matches": "y",
         "range": [
          0,
          1
         ],
         "showticklabels": true
        },
        "yaxis4": {
         "anchor": "x4",
         "domain": [
          0,
          1
         ],
         "matches": "y",
         "range": [
          0,
          1
         ],
         "showticklabels": true
        }
       }
      }
     },
     "metadata": {},
     "output_type": "display_data"
    }
   ],
   "source": [
    "plot_one_approach(df_results_qr, \"LS + Query Rephrase\")"
   ]
  }
 ],
 "metadata": {
  "kernelspec": {
   "display_name": "financerag-KfjOAeNI-py3.10",
   "language": "python",
   "name": "python3"
  },
  "language_info": {
   "codemirror_mode": {
    "name": "ipython",
    "version": 3
   },
   "file_extension": ".py",
   "mimetype": "text/x-python",
   "name": "python",
   "nbconvert_exporter": "python",
   "pygments_lexer": "ipython3",
   "version": "3.10.10"
  }
 },
 "nbformat": 4,
 "nbformat_minor": 2
}
