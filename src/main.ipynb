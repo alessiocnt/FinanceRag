{
 "cells": [
  {
   "cell_type": "code",
   "execution_count": 18,
   "metadata": {},
   "outputs": [],
   "source": [
    "%load_ext autoreload\n",
    "%autoreload 2\n",
    "import pandas as pd\n",
    "import numpy as np\n",
    "from dataset import *"
   ]
  },
  {
   "cell_type": "code",
   "execution_count": 28,
   "metadata": {},
   "outputs": [
    {
     "name": "stdout",
     "output_type": "stream",
     "text": [
      "Available datasets: ['ConvFinQA', 'FinQA', 'MultiHeritt', 'TATQA']\n",
      "Sample corpus entry: {'_id': 'dd4bff516', 'title': '', 'text': 'containerboard , kraft papers and saturating kraft .\\nkapstone also owns victory packaging , a packaging solutions distribution company with facilities in the u.s. , canada and mexico .\\nwe have included the financial results of kapstone in our corrugated packaging segment since the date of the acquisition .\\non september 4 , 2018 , we completed the acquisition ( the 201cschl fcter acquisition 201d ) of schl fcter print pharma packaging ( 201cschl fcter 201d ) .\\nschl fcter is a leading provider of differentiated paper and packaging solutions and a german-based supplier of a full range of leaflets and booklets .\\nthe schl fcter acquisition allowed us to further enhance our pharmaceutical and automotive platform and expand our geographical footprint in europe to better serve our customers .\\nwe have included the financial results of the acquired operations in our consumer packaging segment since the date of the acquisition .\\non january 5 , 2018 , we completed the acquisition ( the 201cplymouth packaging acquisition 201d ) of substantially all of the assets of plymouth packaging , inc .\\n( 201cplymouth 201d ) .\\nthe assets we acquired included plymouth 2019s 201cbox on demand 201d systems , which are manufactured by panotec , an italian manufacturer of packaging machines .\\nthe addition of the box on demand systems enhanced our platform , differentiation and innovation .\\nthese systems , which are located on customers 2019 sites under multi-year exclusive agreements , use fanfold corrugated to produce custom , on-demand corrugated packaging that is accurately sized for any product type according to the customer 2019s specifications .\\nfanfold corrugated is continuous corrugated board , folded periodically to form an accordion-like stack of corrugated material .\\nas part of the transaction , westrock acquired plymouth 2019s equity interest in panotec and plymouth 2019s exclusive right from panotec to distribute panotec 2019s equipment in the u.s .\\nand canada .\\nwe have fully integrated the approximately 60000 tons of containerboard used by plymouth annually .\\nwe have included the financial results of plymouth in our corrugated packaging segment since the date of the acquisition .\\nsee 201cnote 3 .\\nacquisitions and investment 201d of the notes to consolidated financial statements for additional information .\\nsee also item 1a .\\n201crisk factors 2014 we may be unsuccessful in making and integrating mergers , acquisitions and investments , and completing divestitures 201d .\\nbusiness .\\n\\n( in millions ) | year ended september 30 , 2019 | year ended september 30 , 2018\\n--------------- | ------------------------------ | ------------------------------\\nnet sales       | $ 18289.0                      | $ 16285.1                     \\nsegment income  | $ 1790.2                       | $ 1707.6                      \\n\\nin fiscal 2019 , we continued to pursue our strategy of offering differentiated paper and packaging solutions that help our customers win .\\nwe successfully executed this strategy in fiscal 2019 in a rapidly changing cost and price environment .\\nnet sales of $ 18289.0 million for fiscal 2019 increased $ 2003.9 million , or 12.3% ( 12.3 % ) , compared to fiscal 2018 .\\nthe increase was primarily due to the kapstone acquisition and higher selling price/mix in our corrugated packaging and consumer packaging segments .\\nthese increases were partially offset by the absence of recycling net sales in fiscal 2019 as a result of conducting the operations primarily as a procurement function beginning in the first quarter of fiscal 2019 , lower volumes , unfavorable foreign currency impacts across our segments compared to the prior year and decreased land and development net sales .\\nsegment income increased $ 82.6 million in fiscal 2019 compared to fiscal 2018 , primarily due to increased corrugated packaging segment income that was partially offset by lower consumer packaging and land and development segment income .\\nthe impact of the contribution from the acquired kapstone operations , higher selling price/mix across our segments and productivity improvements was largely offset by lower volumes across our segments , economic downtime , cost inflation , increased maintenance and scheduled strategic outage expense ( including projects at our mahrt , al and covington , va mills ) and lower land and development segment income due to the wind-down of sales .\\nwith respect to segment income , we experienced higher levels of cost inflation in both our corrugated packaging and consumer packaging segments during fiscal 2019 as compared to fiscal 2018 that were partially offset by recovered fiber deflation .\\nthe primary inflationary items were virgin fiber , freight , energy and wage and other costs .\\nwe generated $ 2310.2 million of net cash provided by operating activities in fiscal 2019 , compared to $ 1931.2 million in fiscal 2018 .\\nwe remained committed to our disciplined capital allocation strategy during fiscal '}\n",
      "Sample query entry: {'_id': 'qd4982518', 'title': '', 'text': 'what is the price of the s&p 500 index in 2015?'}\n",
      "Sample qrels entry:\n",
      "    query_id  corpus_id  score\n",
      "0  qd496cb6e  dd496cbc8      1\n",
      "1  qd496d118  dd496d15e      1\n",
      "2  qd496d2b2  dd496d30c      1\n",
      "3  qd496d8f2  dd496d938      1\n",
      "4  qd496dc08  dd496dc80      1\n"
     ]
    }
   ],
   "source": [
    "dataset_manager = FinanceRAGDataset(\"../data\")\n",
    "\n",
    "# List available datasets\n",
    "print(\"Available datasets:\", dataset_manager.list_datasets())\n",
    "\n",
    "# Load corpus and queries from a specific dataset\n",
    "convfinqa_corpus, convfinqa_queries, convfinqa_qrels = dataset_manager.load_dataset(\"ConvFinQA\")\n",
    "\n",
    "# Print sample entries\n",
    "print(\"Sample corpus entry:\", convfinqa_corpus[0])\n",
    "print(\"Sample query entry:\", convfinqa_queries[0])\n",
    "print(\"Sample qrels entry:\")\n",
    "print(convfinqa_qrels.head())"
   ]
  },
  {
   "cell_type": "code",
   "execution_count": 30,
   "metadata": {},
   "outputs": [
    {
     "name": "stdout",
     "output_type": "stream",
     "text": [
      "containerboard , kraft papers and saturating kraft .\n",
      "kapstone also owns victory packaging , a packaging solutions distribution company with facilities in the u.s. , canada and mexico .\n",
      "we have included the financial results of kapstone in our corrugated packaging segment since the date of the acquisition .\n",
      "on september 4 , 2018 , we completed the acquisition ( the 201cschl fcter acquisition 201d ) of schl fcter print pharma packaging ( 201cschl fcter 201d ) .\n",
      "schl fcter is a leading provider of differentiated paper and packaging solutions and a german-based supplier of a full range of leaflets and booklets .\n",
      "the schl fcter acquisition allowed us to further enhance our pharmaceutical and automotive platform and expand our geographical footprint in europe to better serve our customers .\n",
      "we have included the financial results of the acquired operations in our consumer packaging segment since the date of the acquisition .\n",
      "on january 5 , 2018 , we completed the acquisition ( the 201cplymouth packaging acquisition 201d ) of substantially all of the assets of plymouth packaging , inc .\n",
      "( 201cplymouth 201d ) .\n",
      "the assets we acquired included plymouth 2019s 201cbox on demand 201d systems , which are manufactured by panotec , an italian manufacturer of packaging machines .\n",
      "the addition of the box on demand systems enhanced our platform , differentiation and innovation .\n",
      "these systems , which are located on customers 2019 sites under multi-year exclusive agreements , use fanfold corrugated to produce custom , on-demand corrugated packaging that is accurately sized for any product type according to the customer 2019s specifications .\n",
      "fanfold corrugated is continuous corrugated board , folded periodically to form an accordion-like stack of corrugated material .\n",
      "as part of the transaction , westrock acquired plymouth 2019s equity interest in panotec and plymouth 2019s exclusive right from panotec to distribute panotec 2019s equipment in the u.s .\n",
      "and canada .\n",
      "we have fully integrated the approximately 60000 tons of containerboard used by plymouth annually .\n",
      "we have included the financial results of plymouth in our corrugated packaging segment since the date of the acquisition .\n",
      "see 201cnote 3 .\n",
      "acquisitions and investment 201d of the notes to consolidated financial statements for additional information .\n",
      "see also item 1a .\n",
      "201crisk factors 2014 we may be unsuccessful in making and integrating mergers , acquisitions and investments , and completing divestitures 201d .\n",
      "business .\n",
      "\n",
      "( in millions ) | year ended september 30 , 2019 | year ended september 30 , 2018\n",
      "--------------- | ------------------------------ | ------------------------------\n",
      "net sales       | $ 18289.0                      | $ 16285.1                     \n",
      "segment income  | $ 1790.2                       | $ 1707.6                      \n",
      "\n",
      "in fiscal 2019 , we continued to pursue our strategy of offering differentiated paper and packaging solutions that help our customers win .\n",
      "we successfully executed this strategy in fiscal 2019 in a rapidly changing cost and price environment .\n",
      "net sales of $ 18289.0 million for fiscal 2019 increased $ 2003.9 million , or 12.3% ( 12.3 % ) , compared to fiscal 2018 .\n",
      "the increase was primarily due to the kapstone acquisition and higher selling price/mix in our corrugated packaging and consumer packaging segments .\n",
      "these increases were partially offset by the absence of recycling net sales in fiscal 2019 as a result of conducting the operations primarily as a procurement function beginning in the first quarter of fiscal 2019 , lower volumes , unfavorable foreign currency impacts across our segments compared to the prior year and decreased land and development net sales .\n",
      "segment income increased $ 82.6 million in fiscal 2019 compared to fiscal 2018 , primarily due to increased corrugated packaging segment income that was partially offset by lower consumer packaging and land and development segment income .\n",
      "the impact of the contribution from the acquired kapstone operations , higher selling price/mix across our segments and productivity improvements was largely offset by lower volumes across our segments , economic downtime , cost inflation , increased maintenance and scheduled strategic outage expense ( including projects at our mahrt , al and covington , va mills ) and lower land and development segment income due to the wind-down of sales .\n",
      "with respect to segment income , we experienced higher levels of cost inflation in both our corrugated packaging and consumer packaging segments during fiscal 2019 as compared to fiscal 2018 that were partially offset by recovered fiber deflation .\n",
      "the primary inflationary items were virgin fiber , freight , energy and wage and other costs .\n",
      "we generated $ 2310.2 million of net cash provided by operating activities in fiscal 2019 , compared to $ 1931.2 million in fiscal 2018 .\n",
      "we remained committed to our disciplined capital allocation strategy during fiscal \n"
     ]
    }
   ],
   "source": [
    "print(convfinqa_corpus[0]['text'])"
   ]
  }
 ],
 "metadata": {
  "kernelspec": {
   "display_name": "tf_gpu",
   "language": "python",
   "name": "python3"
  },
  "language_info": {
   "codemirror_mode": {
    "name": "ipython",
    "version": 3
   },
   "file_extension": ".py",
   "mimetype": "text/x-python",
   "name": "python",
   "nbconvert_exporter": "python",
   "pygments_lexer": "ipython3",
   "version": "3.9.16"
  }
 },
 "nbformat": 4,
 "nbformat_minor": 2
}
